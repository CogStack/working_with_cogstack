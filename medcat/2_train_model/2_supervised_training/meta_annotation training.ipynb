{
 "cells": [
  {
   "cell_type": "code",
   "execution_count": 5,
   "metadata": {},
   "outputs": [],
   "source": [
    "import json\n",
    "from datetime import date\n",
    "from medcat.cat import CAT\n",
    "from medcat.vocab import Vocab\n",
    "from medcat.cdb import CDB\n",
    "from tokenizers import ByteLevelBPETokenizer\n",
    "import pandas as pd\n",
    "from medcat.meta_cat import MetaCAT\n",
    "import numpy as np\n"
   ]
  },
  {
   "cell_type": "code",
   "execution_count": null,
   "metadata": {},
   "outputs": [],
   "source": [
    "data_path = '/data/mct-exports/<mct_export>.json' # from where to get the data, mctrainer export\n",
    "\n",
    "\n",
    "# Meta paths to base\n",
    "base_dir_meta_models = 'models/meta_models/'\n",
    "vocab_file = ''\n",
    "merges_file = ''\n",
    "embeddings_file = ''\n",
    "\n",
    "# will be used to date the trained model\n",
    "today = str(date.today())\n",
    "today = today.replace(\"-\",\"\")\n",
    "save_dir = base_dir_meta_models + today+'_meta_models/' # Where to save the meta_models"
   ]
  },
  {
   "cell_type": "code",
   "execution_count": null,
   "metadata": {},
   "outputs": [],
   "source": [
    "tokenizer = ByteLevelBPETokenizer(vocab_file=vocab_file,\n",
    "                                merges_file=merges_file,\n",
    "                                lowercase=True)\n",
    "\n",
    "embeddings = np.load(open(embeddings_file, 'rb'))"
   ]
  },
  {
   "cell_type": "code",
   "execution_count": null,
   "metadata": {},
   "outputs": [],
   "source": [
    "NAMES = ['Experiencer', 'Presence', 'Time'] # These Meta_annotation tasks should correspond to the ones labelled in the mcttrainer export\n",
    "device = 'cuda' # or 'cpu' if you do not have GPU support"
   ]
  },
  {
   "attachments": {},
   "cell_type": "markdown",
   "metadata": {},
   "source": [
    "## Train Meta-Annotations"
   ]
  },
  {
   "cell_type": "code",
   "execution_count": null,
   "metadata": {},
   "outputs": [],
   "source": [
    "results = {}\n",
    "for NAME in NAMES:\n",
    "    mc = MetaCAT(tokenizer, embeddings, cntx_left=20, cntx_right=5, save_dir=save_dir + NAME, device=device)\n",
    "    result = mc.train(data_path, NAME, test_size=0.1, nepochs=40, lowercase=True, ignore_cpos=False, batch_size=1000,\n",
    "        model_config={'num_layers':2}, lr=0.001, replace_center='disease')\n",
    "    mc.save(full_save=True)\n",
    "\n",
    "    result['names'] = mc.category_values\n",
    "    results[NAME] = result\n"
   ]
  },
  {
   "cell_type": "code",
   "execution_count": null,
   "metadata": {},
   "outputs": [],
   "source": [
    "# Overall results\n",
    "\n",
    "json.dump(results, open(save_dir+'results.json', 'w'))"
   ]
  },
  {
   "cell_type": "code",
   "execution_count": null,
   "metadata": {},
   "outputs": [],
   "source": []
  }
 ],
 "metadata": {
  "kernelspec": {
   "display_name": "medcat",
   "language": "python",
   "name": "python3"
  },
  "language_info": {
   "codemirror_mode": {
    "name": "ipython",
    "version": 3
   },
   "file_extension": ".py",
   "mimetype": "text/x-python",
   "name": "python",
   "nbconvert_exporter": "python",
   "pygments_lexer": "ipython3",
   "version": "3.10.8"
  },
  "orig_nbformat": 4,
  "vscode": {
   "interpreter": {
    "hash": "4e4ccc64ca47f932c34194843713e175cf3a19af3798844e4190152d16ba61ca"
   }
  }
 },
 "nbformat": 4,
 "nbformat_minor": 2
}
