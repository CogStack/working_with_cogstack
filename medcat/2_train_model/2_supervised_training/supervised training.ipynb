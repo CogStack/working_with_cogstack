{
 "cells": [
  {
   "cell_type": "code",
   "execution_count": null,
   "metadata": {},
   "outputs": [],
   "source": [
    "import os\n",
    "import json\n",
    "import pandas as pd\n",
    "from datetime import date\n",
    "from medcat.cat import CAT\n",
    "from medcat.stats.stats import get_stats"
   ]
  },
  {
   "cell_type": "code",
   "execution_count": null,
   "metadata": {},
   "outputs": [],
   "source": [
    "# will be used to date the trained model\n",
    "today = str(date.today())\n",
    "today = today.replace(\"-\",\"\")"
   ]
  },
  {
   "cell_type": "code",
   "execution_count": null,
   "metadata": {},
   "outputs": [],
   "source": [
    "ann_dir = \"working_with_cogstack/data/annotated_docs/\"\n",
    "mctrainer_export_path = ann_dir + \"MedCAT_Export_With_Text_2021-08-25_19_55_45.json\"  # name of your mct export\n",
    "\n",
    "model_dir = 'working_with_cogstack/models/modelpack'\n",
    "\n",
    "modelpack = '' # name of modelpack\n",
    "model_pack_path = os.path.join(model_dir, modelpack)\n",
    "\n",
    "output_modelpack = model_dir + f\"{today}_trained_model\"\n",
    "\n",
    "# Add training filter if needed\n",
    "snomed_filter_path = None  # path to snomed filter"
   ]
  },
  {
   "cell_type": "code",
   "execution_count": null,
   "metadata": {},
   "outputs": [],
   "source": [
    "# Create CAT - the main class from medcat used for concept annotation\n",
    "cat = CAT.load_model_pack(model_pack_path)\n",
    "cat.config.components.linking.filters.cuis = set()  # To remove exisitng filters"
   ]
  },
  {
   "cell_type": "markdown",
   "metadata": {},
   "source": [
    "# Set filter\n",
    "\n",
    "This will speed up the training time. As you will only train a select number of concepts at once."
   ]
  },
  {
   "cell_type": "code",
   "execution_count": null,
   "metadata": {},
   "outputs": [],
   "source": [
    "# Add extra training filter if required.\n",
    "if snomed_filter_path:\n",
    "    snomed_filter = set(json.load(open(snomed_filter_path)))\n",
    "else:\n",
    "    snomed_filter = set(cat.cdb.cui2info.keys())\n"
   ]
  },
  {
   "cell_type": "markdown",
   "metadata": {},
   "source": [
    "# Train"
   ]
  },
  {
   "cell_type": "code",
   "execution_count": null,
   "metadata": {},
   "outputs": [],
   "source": [
    "import json\n",
    "with open(mctrainer_export_path) as f:\n",
    "    data = json.load(f)\n",
    "cat.trainer.train_supervised_raw(\n",
    "    data=data, \n",
    "    nepochs=3,\n",
    "    reset_cui_count=False,\n",
    "    print_stats=True,\n",
    "    use_filters=True,\n",
    "    extra_cui_filter=snomed_filter,  # If not filter is set remove this line\n",
    ")\n"
   ]
  },
  {
   "cell_type": "markdown",
   "metadata": {},
   "source": [
    "# Stats"
   ]
  },
  {
   "cell_type": "code",
   "execution_count": null,
   "metadata": {
    "scrolled": true
   },
   "outputs": [],
   "source": [
    "fps, fns, tps, cui_prec, cui_rec, cui_f1, cui_counts, examples = get_stats(cat, data, use_project_filters=True)"
   ]
  },
  {
   "cell_type": "code",
   "execution_count": null,
   "metadata": {},
   "outputs": [],
   "source": [
    "cui = \"22298006\" # Myocardial infarction\n",
    "print(cui_f1[cui], cui_prec[cui], cui_rec[cui])"
   ]
  },
  {
   "cell_type": "code",
   "execution_count": null,
   "metadata": {},
   "outputs": [],
   "source": []
  },
  {
   "cell_type": "markdown",
   "metadata": {},
   "source": [
    "# Save\n",
    "\n",
    "Also remember that you can save specific components within the modelpack. Rather than create a new one"
   ]
  },
  {
   "cell_type": "code",
   "execution_count": null,
   "metadata": {},
   "outputs": [],
   "source": [
    "# save modelpack\n",
    "cat.save_model_pack(os.path.join(model_dir, output_modelpack))"
   ]
  },
  {
   "cell_type": "markdown",
   "metadata": {},
   "source": [
    "# Test"
   ]
  },
  {
   "cell_type": "code",
   "execution_count": null,
   "metadata": {},
   "outputs": [],
   "source": [
    "text = \"The pateint has hypertension and an MI\"\n",
    "doc = cat.get_entities(text)"
   ]
  },
  {
   "cell_type": "code",
   "execution_count": null,
   "metadata": {},
   "outputs": [],
   "source": [
    "doc"
   ]
  },
  {
   "cell_type": "code",
   "execution_count": null,
   "metadata": {},
   "outputs": [],
   "source": []
  }
 ],
 "metadata": {
  "kernelspec": {
   "display_name": "venv_v2",
   "language": "python",
   "name": "python3"
  },
  "language_info": {
   "codemirror_mode": {
    "name": "ipython",
    "version": 3
   },
   "file_extension": ".py",
   "mimetype": "text/x-python",
   "name": "python",
   "nbconvert_exporter": "python",
   "pygments_lexer": "ipython3",
   "version": "3.10.13"
  }
 },
 "nbformat": 4,
 "nbformat_minor": 1
}
