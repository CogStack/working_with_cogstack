{
 "cells": [
  {
   "cell_type": "code",
   "execution_count": null,
   "id": "d58c720d",
   "metadata": {},
   "outputs": [],
   "source": [
    "import json\n",
    "import os\n",
    "from datetime import date\n",
    "from medcat.meta_cat import MetaCAT\n",
    "from medcat.config_meta_cat import ConfigMetaCAT\n",
    "from medcat.tokenizers.meta_cat_tokenizers import TokenizerWrapperBERT"
   ]
  },
  {
   "cell_type": "code",
   "execution_count": 2,
   "id": "ca80af0e",
   "metadata": {},
   "outputs": [],
   "source": [
    "# if you want to enable info level logging\n",
    "import logging\n",
    "logging.basicConfig(level=logging.INFO,force=True)"
   ]
  },
  {
   "cell_type": "markdown",
   "id": "5d0606ec",
   "metadata": {},
   "source": [
    "# Set parameters"
   ]
  },
  {
   "cell_type": "code",
   "execution_count": 3,
   "id": "dd7a2e97",
   "metadata": {},
   "outputs": [],
   "source": [
    "# relative path to working_with_cogstack folder\n",
    "_rel_path = os.path.join(\"..\", \"..\", \"..\")\n",
    "# absolute path to working_with_cogstack folder\n",
    "base_path = os.path.abspath(_rel_path)\n",
    "# Load mct export\n",
    "ann_dir = os.path.join(base_path, \"data\", \"medcattrainer_export\")\n",
    "\n",
    "mctrainer_export_path = ann_dir + \"\"  # name of your mct export\n",
    "\n",
    "# Load model\n",
    "model_dir = os.path.join(base_path, \"models\", \"modelpack\")\n",
    "modelpack = '' # name of modelpack\n",
    "model_pack_path = os.path.join(model_dir, modelpack)\n",
    "     #output_modelpack = model_dir + f\"{today}_trained_model\"\n",
    "\n",
    "# will be used to date the trained model\n",
    "today = str(date.today())\n",
    "today = today.replace(\"-\",\"\")\n",
    "\n",
    "# Initialise meta_ann models\n",
    "if model_pack_path[-4:] == '.zip':\n",
    "    base_dir_meta_models = model_pack_path[:-4]\n",
    "else:\n",
    "    base_dir_meta_models = model_pack_path\n",
    "\n",
    "# Iterate through the meta_models contained in the model\n",
    "meta_model_names = [] # These Meta_annotation tasks should correspond to the ones labelled in the mcttrainer export\n",
    "for dirpath, dirnames, filenames in os.walk(base_dir_meta_models):\n",
    "    for dirname in dirnames:\n",
    "        if dirname.startswith('meta_'):\n",
    "            meta_model_names.append(dirname[5:])"
   ]
  },
  {
   "cell_type": "code",
   "execution_count": null,
   "id": "2933f7e1",
   "metadata": {},
   "outputs": [],
   "source": [
    "for meta_model in meta_model_names:\n",
    "    config_file = os.path.join(base_dir_meta_models,\"meta_\"+meta_model,\"config.json\")\n",
    "    with open(config_file, 'r') as jfile:\n",
    "        config_dict = json.load(jfile)\n",
    "    print(f\"Model used for meta_{meta_model}:\",config_dict['model']['model_name'])"
   ]
  },
  {
   "cell_type": "markdown",
   "id": "3047b1d9",
   "metadata": {},
   "source": [
    "<b> NOTE: </b> \n",
    " The name for the classification task can vary. <br> E.g: Task name for 'Experiencer' can be 'Subject'.\n",
    " <br>To accomodate for this, we have a list that stores the variations for the alternate names. This attribute can be found under `mc.config.general.alternative_category_names`\n",
    "<br> E.g. for Experiencer, it will be pre-loaded as alternative_category_names = ['Experiencer','Subject']"
   ]
  },
  {
   "cell_type": "markdown",
   "id": "12e91f77",
   "metadata": {},
   "source": [
    "<b> NOTE: </b> \n",
    " The name for the classes can vary too. <br> E.g: For Presence task, the class name can be 'Not present (False)' or 'False'\n",
    " <br>To accomodate for this, we have a mapping that stores the variations for the alternate names. This attribute can be found under `mc.config.general.alternative_class_names`\n",
    "<br> E.g. for Presence, it will be pre-loaded as alternative_class_names = [[\"Hypothetical (N/A)\",\"Hypothetical\"],[\"Not present (False)\",\"False\"],[\"Present (True)\",\"True\"]]"
   ]
  },
  {
   "cell_type": "markdown",
   "id": "83701c19",
   "metadata": {},
   "source": [
    "# For LSTM and BERT model"
   ]
  },
  {
   "cell_type": "code",
   "execution_count": null,
   "id": "9e1720aa",
   "metadata": {},
   "outputs": [],
   "source": [
    "for meta_model in meta_model_names:\n",
    "    \n",
    "    # load the meta_model\n",
    "    mc = MetaCAT.load(save_dir_path=os.path.join(base_dir_meta_models,\"meta_\"+meta_model))\n",
    "\n",
    "    # changing parameters\n",
    "    mc.config.train['nepochs'] = 15\n",
    "    \n",
    "    # current model will be overwritten\n",
    "    save_dir_path = os.path.join(base_dir_meta_models,\"meta_\"+meta_model)\n",
    "    # to save the new model elsewhere, uncomment the below line\n",
    "    #save_dir_path= \"test_meta_\"+meta_model # Where to save the meta_model and results. \n",
    "\n",
    "    # train the meta_model\n",
    "    results = mc.train_from_json(mctrainer_export_path, save_dir_path=save_dir_path)\n",
    "    \n",
    "    # Save results\n",
    "    json.dump(results['report'], open(os.path.join(save_dir_path,'meta_'+meta_model+'_results.json'), 'w'))"
   ]
  },
  {
   "cell_type": "markdown",
   "id": "ab23e424",
   "metadata": {},
   "source": [
    "## If you dont have the model packs, and are training from scratch\n",
    "<b>This is very rare, it is recommended to always use the model packs and then fine-tune them</b>"
   ]
  },
  {
   "cell_type": "code",
   "execution_count": null,
   "id": "16231060",
   "metadata": {},
   "outputs": [],
   "source": [
    "config = ConfigMetaCAT()\n",
    "# make sure to change the following parameters:\n",
    "# config.model['nclasses']\n",
    "# config.general['category_name']\n",
    "\n",
    "# change model name if training BERT for the first time\n",
    "config.model['model_name'] = 'bert'\n",
    "\n",
    "tokenizer = TokenizerWrapperBERT.load(\"\", config.model['model_variant'])\n",
    "\n",
    "save_dir_path= \"test_meta_\"+meta_model # Where to save the meta_model and results. \n",
    "\n",
    "# Initialise and train meta_model\n",
    "mc = MetaCAT(tokenizer=tokenizer, embeddings=None, config=config)\n",
    "results = mc.train_from_json(mctrainer_export_path, save_dir_path=save_dir_path)\n",
    "\n",
    "# Save results\n",
    "json.dump(results['report'], open(os.path.join(save_dir_path,'meta_'+meta_model+'_results.json'), 'w'))"
   ]
  }
 ],
 "metadata": {
  "kernelspec": {
   "display_name": "Python 3",
   "language": "python",
   "name": "python3"
  },
  "language_info": {
   "codemirror_mode": {
    "name": "ipython",
    "version": 3
   },
   "file_extension": ".py",
   "mimetype": "text/x-python",
   "name": "python",
   "nbconvert_exporter": "python",
   "pygments_lexer": "ipython3",
   "version": "3.8.8"
  }
 },
 "nbformat": 4,
 "nbformat_minor": 5
}
