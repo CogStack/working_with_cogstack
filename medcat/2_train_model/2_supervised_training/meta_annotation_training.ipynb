{
 "cells": [
  {
   "cell_type": "code",
   "execution_count": 2,
   "id": "d58c720d",
   "metadata": {},
   "outputs": [
    {
     "name": "stderr",
     "output_type": "stream",
     "text": [
      "/Users/k1897038/projects/MedCAT/medcat/cat.py:17: TqdmExperimentalWarning: Using `tqdm.autonotebook.tqdm` in notebook mode. Use `tqdm.tqdm` instead to force console mode (e.g. in jupyter console)\n",
      "  from tqdm.autonotebook import tqdm, trange\n"
     ]
    }
   ],
   "source": [
    "import json\n",
    "import os\n",
    "from datetime import date\n",
    "from medcat.cat import CAT\n",
    "from medcat.meta_cat import MetaCAT\n",
    "from medcat.config_meta_cat import ConfigMetaCAT\n",
    "from medcat.tokenizers.meta_cat_tokenizers import TokenizerWrapperBERT"
   ]
  },
  {
   "cell_type": "code",
   "execution_count": 2,
   "id": "ca80af0e",
   "metadata": {},
   "outputs": [],
   "source": [
    "# if you want to enable info level logging\n",
    "import logging\n",
    "logging.basicConfig(level=logging.INFO,force=True)"
   ]
  },
  {
   "cell_type": "code",
   "execution_count": 3,
   "id": "9e2ca089",
   "metadata": {},
   "outputs": [
    {
     "name": "stderr",
     "output_type": "stream",
     "text": [
      "/Users/k1897038/miniconda3/envs/cattrainer/lib/python3.11/site-packages/spacy/util.py:910: UserWarning: [W095] Model 'en_core_web_md' (3.6.0) was trained with spaCy v3.6.0 and may not be 100% compatible with the current version (3.7.5). If you see errors or degraded performance, download a newer compatible model or retrain your custom model with the current spaCy version. For more details and available updates, run: python -m spacy validate\n",
      "  warnings.warn(warn_msg)\n"
     ]
    }
   ],
   "source": [
    "ner_model = '/Users/k1897038/Documents/cogstack_docs/medcat_models/Snomed2024-10_GSTT_KCH_2025-01-06_metacat_v1_4920d37f9bd575c4.zip'\n",
    "cat = CAT.load_model_pack(ner_model)"
   ]
  },
  {
   "cell_type": "markdown",
   "id": "f310cef3",
   "metadata": {},
   "source": [
    "### Load the model pack with MetaCATs\n"
   ]
  },
  {
   "cell_type": "code",
   "execution_count": 3,
   "id": "dd7a2e97",
   "metadata": {},
   "outputs": [],
   "source": [
    "model_pack = '<enter model pack location>' # .zip model pack location \n",
    "mctrainer_export = \"<enter mct export location>\"  # name of your mct export\n"
   ]
  },
  {
   "cell_type": "code",
   "execution_count": null,
   "id": "06d40b5c",
   "metadata": {},
   "outputs": [],
   "source": [
    "# Load model\n",
    "cat = CAT.load_model_pack(model_pack)"
   ]
  },
  {
   "cell_type": "code",
   "execution_count": 4,
   "id": "b205d51b",
   "metadata": {},
   "outputs": [
    {
     "name": "stdout",
     "output_type": "stream",
     "text": [
      "There are: 3 meta cat models in this model pack.\n"
     ]
    }
   ],
   "source": [
    "\n",
    "# Check what meta cat models are in this model pack.\n",
    "print(f'There are: {len(cat._meta_cats)} meta cat models in this model pack.')\n"
   ]
  },
  {
   "cell_type": "code",
   "execution_count": 6,
   "id": "31d7632a",
   "metadata": {},
   "outputs": [
    {
     "name": "stdout",
     "output_type": "stream",
     "text": [
      "{\n",
      "  \"Category Name\": \"Presence\",\n",
      "  \"Description\": \"No description\",\n",
      "  \"Classes\": {\n",
      "    \"False\": 2,\n",
      "    \"Hypothetical\": 1,\n",
      "    \"True\": 0\n",
      "  },\n",
      "  \"Model\": \"lstm\"\n",
      "}\n"
     ]
    }
   ],
   "source": [
    "print(cat._meta_cats[0])"
   ]
  },
  {
   "cell_type": "code",
   "execution_count": 7,
   "id": "e9180c4c",
   "metadata": {},
   "outputs": [
    {
     "name": "stdout",
     "output_type": "stream",
     "text": [
      "{\n",
      "  \"Category Name\": \"Subject\",\n",
      "  \"Description\": \"No description\",\n",
      "  \"Classes\": {\n",
      "    \"Other\": 0,\n",
      "    \"Patient\": 1\n",
      "  },\n",
      "  \"Model\": \"lstm\"\n",
      "}\n"
     ]
    }
   ],
   "source": [
    "print(cat._meta_cats[1])"
   ]
  },
  {
   "cell_type": "code",
   "execution_count": 8,
   "id": "275ca9ff",
   "metadata": {},
   "outputs": [
    {
     "name": "stdout",
     "output_type": "stream",
     "text": [
      "{\n",
      "  \"Category Name\": \"Time\",\n",
      "  \"Description\": \"No description\",\n",
      "  \"Classes\": {\n",
      "    \"Future\": 0,\n",
      "    \"Past\": 2,\n",
      "    \"Recent\": 1\n",
      "  },\n",
      "  \"Model\": \"lstm\"\n",
      "}\n"
     ]
    }
   ],
   "source": [
    "print(cat._meta_cats[2])"
   ]
  },
  {
   "cell_type": "markdown",
   "id": "3047b1d9",
   "metadata": {},
   "source": [
    "<b> NOTE: </b> \n",
    " The name for the classification task can vary. E.g: The Category Name for 'Experiencer' can be 'Subject', as it has been configured an annoated in MedCATTrainer this way, but the model expects 'Experiencer'\n",
    " \n",
    " To accomodate for this, we have a list that stores the variations for the alternate names. This attribute can be found under `mc.config.general.alternative_category_names`\n",
    "\n",
    "E.g. for Experiencer, it will be pre-loaded as alternative_category_names = ['Experiencer','Subject']\n",
    "\n",
    "Set this list to ensure during training / fine-tuning the model is aware of alternative names for classes."
   ]
  },
  {
   "cell_type": "code",
   "execution_count": 13,
   "id": "f657b7b0",
   "metadata": {},
   "outputs": [
    {
     "data": {
      "text/plain": [
       "[]"
      ]
     },
     "execution_count": 13,
     "metadata": {},
     "output_type": "execute_result"
    }
   ],
   "source": [
    "cat._meta_cats[0].config.general.alternative_category_names"
   ]
  },
  {
   "cell_type": "markdown",
   "id": "12e91f77",
   "metadata": {},
   "source": [
    "<b> NOTE: </b> \n",
    " The name for the classes can vary too. Some sites may have trained a MetaCAT model for the same task, but called a class value a slightly different name.\n",
    " \n",
    " E.g: For the Presence task, the class name can be 'Not present (False)' or 'False'\n",
    " \n",
    " To accomodate for this, we have a mapping that stores the variations for the alternate names. This attribute can be found under `mc.config.general.alternative_class_names`\n",
    "\n",
    " E.g. for Presence, it will be pre-loaded as alternative_class_names = [[\"Hypothetical (N/A)\",\"Hypothetical\"],[\"Not present (False)\",\"False\"],[\"Present (True)\",\"True\"]]"
   ]
  },
  {
   "cell_type": "markdown",
   "id": "83701c19",
   "metadata": {},
   "source": [
    "# For LSTM and BERT model"
   ]
  },
  {
   "cell_type": "code",
   "execution_count": null,
   "id": "9e1720aa",
   "metadata": {},
   "outputs": [],
   "source": [
    "# Train the first meta cat model - 'Prescence' Task.\n",
    "meta_cat = cat._meta_cats[0]\n",
    "# use this to map tasks that are equivalent. For example:\n",
    "meta_cat.config.general.alternative_category_names = ['Prescence', 'Negated']\n",
    "\n",
    "# use this to map classes that are equivalent. For example:\n",
    "meta_cat.config.general.alternative_class_names = [[\"Hypothetical (N/A)\",\"Hypothetical\"],[\"Not present (False)\",\"False\"],[\"Present (True)\",\"True\"]]\n",
    "\n",
    "# to overwrite the existing model, resave the fine-tuned model with the same model pack dir\n",
    "meta_cat_task = meta_cat.config.general.category_name\n",
    "save_dir_path = os.path.join('<model pack dir>',\"meta_\"+ meta_cat_task)\n",
    "# to save the new model elsewhere, uncomment the below line\n",
    "#save_dir_path= \"test_meta_\"+meta_model # Where to save the meta_model and results. \n",
    "\n",
    "# train the meta_model\n",
    "results = meta_cat.train_from_json(mctrainer_export, save_dir_path=save_dir_path)\n",
    "\n",
    "# Save results\n",
    "json.dump(results['report'], open(os.path.join(save_dir_path,'meta_'+meta_cat_task+'_results.json'), 'w'))"
   ]
  },
  {
   "cell_type": "markdown",
   "id": "ab23e424",
   "metadata": {},
   "source": [
    "## If you dont have the model packs, and are training from scratch\n",
    "<b>This is very rare, it is recommended to always use the model packs and then fine-tune them</b>"
   ]
  },
  {
   "cell_type": "code",
   "execution_count": null,
   "id": "16231060",
   "metadata": {},
   "outputs": [],
   "source": [
    "config = ConfigMetaCAT()\n",
    "# make sure to change the following parameters:\n",
    "# config.model['nclasses']\n",
    "# config.general['category_name']\n",
    "\n",
    "# change model name if training BERT for the first time\n",
    "config.model['model_name'] = 'bert'\n",
    "\n",
    "tokenizer = TokenizerWrapperBERT.load(\"\", config.model['model_variant'])\n",
    "\n",
    "save_dir_path= \"test_meta_\" + meta_cat_task # Where to save the meta_model and results. \n",
    "\n",
    "# Initialise and train meta_model\n",
    "mc = MetaCAT(tokenizer=tokenizer, embeddings=None, config=config)\n",
    "results = mc.train_from_json(mctrainer_export, save_dir_path=save_dir_path)\n",
    "\n",
    "# Save results\n",
    "json.dump(results['report'], open(os.path.join(save_dir_path,'meta_' + meta_cat_task+'_results.json'), 'w'))"
   ]
  }
 ],
 "metadata": {
  "kernelspec": {
   "display_name": "Python [conda env:cattrainer]",
   "language": "python",
   "name": "conda-env-cattrainer-py"
  },
  "language_info": {
   "codemirror_mode": {
    "name": "ipython",
    "version": 3
   },
   "file_extension": ".py",
   "mimetype": "text/x-python",
   "name": "python",
   "nbconvert_exporter": "python",
   "pygments_lexer": "ipython3",
   "version": "3.11.11"
  }
 },
 "nbformat": 4,
 "nbformat_minor": 5
}
