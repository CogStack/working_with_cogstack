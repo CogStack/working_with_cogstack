{
 "cells": [
  {
   "cell_type": "code",
   "execution_count": 1,
   "id": "d58c720d",
   "metadata": {},
   "outputs": [],
   "source": [
    "import json\n",
    "import os\n",
    "from datetime import date\n",
    "from medcat.cat import CAT\n",
    "from medcat.meta_cat import MetaCAT\n",
    "from medcat.config_meta_cat import ConfigMetaCAT\n",
    "from medcat.tokenizers.meta_cat_tokenizers import TokenizerWrapperBERT"
   ]
  },
  {
   "cell_type": "code",
   "execution_count": 2,
   "id": "ca80af0e",
   "metadata": {},
   "outputs": [],
   "source": [
    "# if you want to enable info level logging\n",
    "import logging\n",
    "logging.basicConfig(level=logging.INFO,force=True)"
   ]
  },
  {
   "cell_type": "markdown",
   "id": "f310cef3",
   "metadata": {},
   "source": [
    "### Load the model pack with MetaCATs\n"
   ]
  },
  {
   "cell_type": "code",
   "execution_count": null,
   "id": "dd7a2e97",
   "metadata": {},
   "outputs": [],
   "source": [
    "model_pack = '<enter path to the model pack>' # .zip model pack location \n",
    "mctrainer_export = \"<enter mct export location>\"  # name of your mct export"
   ]
  },
  {
   "cell_type": "code",
   "execution_count": 4,
   "id": "921d5e9e",
   "metadata": {},
   "outputs": [],
   "source": [
    "# Load model\n",
    "cat = CAT.load_model_pack(model_pack)"
   ]
  },
  {
   "cell_type": "code",
   "execution_count": 5,
   "id": "b205d51b",
   "metadata": {},
   "outputs": [
    {
     "name": "stdout",
     "output_type": "stream",
     "text": [
      "There are: 3 meta cat models in this model pack.\n"
     ]
    }
   ],
   "source": [
    "\n",
    "# Check what meta cat models are in this model pack.\n",
    "print(f'There are: {len(cat._meta_cats)} meta cat models in this model pack.')"
   ]
  },
  {
   "cell_type": "code",
   "execution_count": 6,
   "id": "31d7632a",
   "metadata": {},
   "outputs": [
    {
     "name": "stdout",
     "output_type": "stream",
     "text": [
      "{\n",
      "  \"Category Name\": \"Temporality\",\n",
      "  \"Description\": \"No description\",\n",
      "  \"Classes\": {\n",
      "    \"Past\": 0,\n",
      "    \"Recent\": 1,\n",
      "    \"Future\": 2\n",
      "  },\n",
      "  \"Model\": \"bert\"\n",
      "}\n"
     ]
    }
   ],
   "source": [
    "print(cat._meta_cats[0])"
   ]
  },
  {
   "cell_type": "code",
   "execution_count": 7,
   "id": "e9180c4c",
   "metadata": {},
   "outputs": [
    {
     "name": "stdout",
     "output_type": "stream",
     "text": [
      "{\n",
      "  \"Category Name\": \"Presence\",\n",
      "  \"Description\": \"No description\",\n",
      "  \"Classes\": {\n",
      "    \"Hypothetical (N/A)\": 1,\n",
      "    \"Not present (False)\": 0,\n",
      "    \"Present (True)\": 2\n",
      "  },\n",
      "  \"Model\": \"bert\"\n",
      "}\n"
     ]
    }
   ],
   "source": [
    "print(cat._meta_cats[1])"
   ]
  },
  {
   "cell_type": "code",
   "execution_count": 8,
   "id": "275ca9ff",
   "metadata": {},
   "outputs": [
    {
     "name": "stdout",
     "output_type": "stream",
     "text": [
      "{\n",
      "  \"Category Name\": \"Experiencer\",\n",
      "  \"Description\": \"No description\",\n",
      "  \"Classes\": {\n",
      "    \"Family\": 1,\n",
      "    \"Other\": 0,\n",
      "    \"Patient\": 2\n",
      "  },\n",
      "  \"Model\": \"bert\"\n",
      "}\n"
     ]
    }
   ],
   "source": [
    "print(cat._meta_cats[2])"
   ]
  },
  {
   "cell_type": "markdown",
   "id": "3047b1d9",
   "metadata": {},
   "source": [
    "<b> NOTE: </b> \n",
    " The name for the classification task can vary. E.g: The Category Name for 'Experiencer' can be 'Subject', as it has been configured an annoated in MedCATTrainer this way, but the model expects 'Experiencer'\n",
    " \n",
    " To accomodate for this, we have a list that stores the variations for the alternate names. This attribute can be found under `mc.config.general.alternative_category_names`\n",
    "\n",
    "E.g. for Experiencer, it will be pre-loaded as alternative_category_names = ['Experiencer','Subject']\n",
    "\n",
    "Set this list to ensure during training / fine-tuning the model is aware of alternative names for classes."
   ]
  },
  {
   "cell_type": "code",
   "execution_count": null,
   "id": "1ca00fb0",
   "metadata": {},
   "outputs": [],
   "source": [
    "print(cat._meta_cats[0].config.general.alternative_category_names)"
   ]
  },
  {
   "cell_type": "markdown",
   "id": "5dba296c",
   "metadata": {},
   "source": [
    "💡 In case you are using older modelpacks, the above field will be empty. In that case, "
   ]
  },
  {
   "cell_type": "code",
   "execution_count": null,
   "id": "92e41964",
   "metadata": {},
   "outputs": [],
   "source": [
    "# Only run in case the above output is an empty list\n",
    "category_name_mapping = [[\"Presence\"],[\"Temporality\",\"Time\"],[\"Experiencer\",\"Subject\"]]\n",
    "lookup = {item: group for group in category_name_mapping for item in group}\n",
    "\n",
    "for meta_model in range(len(cat._meta_cats)):\n",
    "    cat._meta_cats[meta_model].config.general.alternative_category_names = lookup.get(cat._meta_cats[meta_model].config.general.category_name)"
   ]
  },
  {
   "cell_type": "markdown",
   "id": "12e91f77",
   "metadata": {},
   "source": [
    "<b> NOTE: </b> \n",
    " The name for the classes can vary too. Some sites may have trained a MetaCAT model for the same task, but called a class value a slightly different name.\n",
    " \n",
    " E.g: For the Presence task, the class name can be 'Not present (False)' or 'False'\n",
    " \n",
    " To accomodate for this, we have a mapping that stores the variations for the alternate names. This attribute can be found under `mc.config.general.alternative_class_names`\n",
    "\n",
    " E.g. for Presence, it will be pre-loaded as alternative_class_names = [[\"Hypothetical (N/A)\",\"Hypothetical\"],[\"Not present (False)\",\"False\"],[\"Present (True)\",\"True\"]]"
   ]
  },
  {
   "cell_type": "code",
   "execution_count": null,
   "id": "5f6b06e2",
   "metadata": {},
   "outputs": [],
   "source": [
    "print(cat._meta_cats[0].config.general.alternative_class_names)"
   ]
  },
  {
   "cell_type": "markdown",
   "id": "3c97c986",
   "metadata": {},
   "source": [
    "💡 In case you are using older modelpacks, the above field will be empty. In that case, please run the following code:"
   ]
  },
  {
   "cell_type": "code",
   "execution_count": null,
   "id": "0fdfae70",
   "metadata": {},
   "outputs": [],
   "source": [
    "# Only run in case the above output is an empty list\n",
    "class_name_mapping =  {\n",
    "    \"Temporality\": [[\"Past\"], [\"Recent\", \"Present\"], [\"Future\"]],\n",
    "    \"Time\": [[\"Past\"], [\"Recent\", \"Present\"], [\"Future\"]],\n",
    "    \"Experiencer\": [[\"Family\"], [\"Other\"], [\"Patient\"]],\n",
    "    \"Subject\": [[\"Family\"], [\"Other\"], [\"Patient\"]],\n",
    "    \"Presence\": [[\"Hypothetical (N/A)\", \"Hypothetical\"], [\"Not present (False)\", \"False\"], [\"Present (True)\", \"True\"]]\n",
    "}\n",
    "\n",
    "for meta_model in range(len(cat._meta_cats)):\n",
    "    cat._meta_cats[meta_model].config.general.alternative_class_names = class_name_mapping[cat._meta_cats[meta_model].config.general.category_name]"
   ]
  },
  {
   "cell_type": "markdown",
   "id": "83701c19",
   "metadata": {},
   "source": [
    "# For LSTM and BERT model"
   ]
  },
  {
   "cell_type": "code",
   "execution_count": null,
   "id": "9e1720aa",
   "metadata": {},
   "outputs": [],
   "source": [
    "# Train the first meta cat model - 'Temporality' Task.\n",
    "meta_cat = cat._meta_cats[0]\n",
    "\n",
    "# to overwrite the existing model, resave the fine-tuned model with the same model pack dir\n",
    "meta_cat_task = meta_cat.config.general.category_name\n",
    "model_pack_dir = '<enter path to meta model pack>'\n",
    "save_dir_path = os.path.join(model_pack_dir,\"meta_\"+ meta_cat_task)\n",
    "\n",
    "# to save the new model elsewhere, uncomment the below line\n",
    "#save_dir_path= \"test_meta_\"+meta_cat_task # Where to save the meta_model and results. \n",
    "\n",
    "# train the meta_model\n",
    "results = meta_cat.train_from_json(mctrainer_export, save_dir_path=save_dir_path)\n",
    "\n",
    "# Save results\n",
    "json.dump(results['report'], open(os.path.join(save_dir_path,'meta_'+meta_cat_task+'_results.json'), 'w'))"
   ]
  },
  {
   "cell_type": "markdown",
   "id": "ab23e424",
   "metadata": {},
   "source": [
    "## If you dont have the model packs, and are training from scratch\n",
    "<b>⚠️This is very rare, it is recommended to always use the model packs and then fine-tune them</b>"
   ]
  },
  {
   "cell_type": "code",
   "execution_count": null,
   "id": "16231060",
   "metadata": {},
   "outputs": [],
   "source": [
    "config = ConfigMetaCAT()\n",
    "# make sure to change the following parameters:\n",
    "# config.model['nclasses']\n",
    "# config.general['category_name']\n",
    "\n",
    "# change model name if training BERT for the first time\n",
    "config.model['model_name'] = 'bert'\n",
    "\n",
    "tokenizer = TokenizerWrapperBERT.load(\"\", config.model['model_variant'])\n",
    "\n",
    "save_dir_path= \"test_meta_\" + meta_cat_task # Where to save the meta_model and results. \n",
    "\n",
    "# Initialise and train meta_model\n",
    "mc = MetaCAT(tokenizer=tokenizer, embeddings=None, config=config)\n",
    "results = mc.train_from_json(mctrainer_export, save_dir_path=save_dir_path)\n",
    "\n",
    "# Save results\n",
    "json.dump(results['report'], open(os.path.join(save_dir_path,'meta_' + meta_cat_task+'_results.json'), 'w'))"
   ]
  }
 ],
 "metadata": {
  "kernelspec": {
   "display_name": "Python [conda env:cattrainer]",
   "language": "python",
   "name": "conda-env-cattrainer-py"
  },
  "language_info": {
   "codemirror_mode": {
    "name": "ipython",
    "version": 3
   },
   "file_extension": ".py",
   "mimetype": "text/x-python",
   "name": "python",
   "nbconvert_exporter": "python",
   "pygments_lexer": "ipython3",
   "version": "3.11.11"
  }
 },
 "nbformat": 4,
 "nbformat_minor": 5
}
