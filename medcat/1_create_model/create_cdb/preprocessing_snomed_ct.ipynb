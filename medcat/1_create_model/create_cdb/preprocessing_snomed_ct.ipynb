{
 "cells": [
  {
   "cell_type": "markdown",
   "metadata": {
    "id": "bwcw90RnbHbq"
   },
   "source": [
    "# SNOMED\n",
    "\n",
    "SNOMED CT is a standarised clinical terminology consisting of >350,000 unique concepts. It is owned, maintained and distributed by SNOMED International.\n",
    "\n",
    "Please visit and explore https://www.snomed.org/ to find out further information about the various SNOMED CT products and services which they offer.\n",
    "\n",
    "--------\n",
    "\n",
    "All raw files from SNOMED can be found [here](data/snomed)"
   ]
  },
  {
   "cell_type": "markdown",
   "metadata": {
    "id": "MMAs7FlRXWuu"
   },
   "source": [
    "# Part 1: Preprocessing SNOMED CT for MedCAT\n",
    "\n",
    "Once you have downloaded a SNOMED release of interest. Store the zipped folder containing your respective SNOMED release in the current colab working directory.\n",
    "\n",
    "The folder name should look like: `SnomedCT_InternationalRF2_PRODUCTION_20210131T120000Z.zip\n",
    "`\n"
   ]
  },
  {
   "cell_type": "markdown",
   "metadata": {
    "id": "braN0yz7qXMu"
   },
   "source": [
    "### Import required packages"
   ]
  },
  {
   "cell_type": "code",
   "execution_count": null,
   "metadata": {
    "id": "E5NQ-vaa2D89"
   },
   "outputs": [],
   "source": [
    "from medcat.utils.preprocess_snomed import Snomed"
   ]
  },
  {
   "cell_type": "markdown",
   "metadata": {
    "id": "KTGrQPLf1u6s"
   },
   "source": [
    "### Load the data\n",
    "Please see the section: [Access to SNOMED CT release files](#access_to_snomed_ct) for how to retrieve the zipped SNOMED CT release."
   ]
  },
  {
   "cell_type": "code",
   "execution_count": null,
   "metadata": {
    "id": "7EDR9ysfqx0X"
   },
   "outputs": [],
   "source": [
    "# Assign a path to the zipped SNOMED CT release download. (skip this step if the folder is not zipped)\n",
    "snomed_path = \"SnomedCT_InternationalRF2_PRODUCTION_20210131T120000Z.zip\"  # Enter your zipped Snomed folder here\n"
   ]
  },
  {
   "cell_type": "code",
   "execution_count": null,
   "metadata": {
    "id": "EWRQDnDiqe3c"
   },
   "outputs": [],
   "source": [
    "!unzip snomed_path"
   ]
  },
  {
   "cell_type": "markdown",
   "metadata": {
    "id": "npcye6KV14xT"
   },
   "source": [
    "### Preprocess the release for MedCAT"
   ]
  },
  {
   "cell_type": "code",
   "execution_count": null,
   "metadata": {
    "id": "CqUmB-ZH13zB"
   },
   "outputs": [],
   "source": [
    "# Initialise\n",
    "snomed_filename = \"SnomedCT_InternationalRF2_PRODUCTION_20210131T120000Z\"  # The unzippedSNOMED CT folder\n",
    "snomed = Snomed(snomed_filename)"
   ]
  },
  {
   "cell_type": "code",
   "execution_count": null,
   "metadata": {
    "id": "A7NGM-6xwt8p"
   },
   "outputs": [],
   "source": [
    "### Skip this step if your version of snomed is not the UK extension released >2021.\n",
    "### Note: this step will only work with MedCAT v1.2.7+\n",
    "\n",
    "# snomed.uk_ext = True"
   ]
  },
  {
   "cell_type": "markdown",
   "metadata": {
    "id": "rGgAJ0Cn6SrW"
   },
   "source": [
    "#### Create a SNOMED DataFrame\n",
    "\n",
    "We first preprocess SNOMED to fit the following format:\n",
    "\n",
    "\n",
    "|cui|name|ontologies|name_status|description_type_ids|type_ids|\n",
    "|--|--|--|:--:|:--:|--|\n",
    "|101009|Quilonia ethiopica (organism)|SNOMED|P|organism|81102976|\n",
    ".\n",
    ".\n",
    ".\n",
    "\n",
    "`cui` - The concept unique identifier, this is simply the `SCTID`.\n",
    "\n",
    "`name` - This include the name of the concept. The status of the name is given in `name_status`\n",
    "\n",
    "`ontologies` - Always SNOMED. Alternatively you can change it to your specific edition.\n",
    "\n",
    "`name_status` - The Fully specified name or FSN is denoted with a `P` - Primary Name. Each concept must be assigned only one Primary Name. These should be unique across all SCTID/cui to avoid confusion. A synonym or other description type is represented as a `A` - Alternative Name. This can be enriched with all possible names and abbreviations for a concept of interest.\n",
    "\n",
    "`description_type_ids` - These are processed to be the Semantic Tags of the concept.\n",
    "\n",
    "`type_ids` - This is simply a 10 digit Hash of the Semantic Tags\n",
    "\n",
    "\n"
   ]
  },
  {
   "cell_type": "code",
   "execution_count": null,
   "metadata": {
    "id": "1GyTnm4-132D"
   },
   "outputs": [],
   "source": [
    "# Create SNOMED DataFrame \n",
    "df = snomed.to_concept_df()"
   ]
  },
  {
   "cell_type": "code",
   "execution_count": null,
   "metadata": {
    "colab": {
     "base_uri": "https://localhost:8080/",
     "height": 204
    },
    "id": "90MrBSbC41b_",
    "outputId": "769df727-fce9-485e-fa79-eaefdd36468c"
   },
   "outputs": [],
   "source": [
    "df.head()"
   ]
  },
  {
   "cell_type": "code",
   "execution_count": null,
   "metadata": {
    "colab": {
     "base_uri": "https://localhost:8080/",
     "height": 111
    },
    "id": "JnOEep66_zzz",
    "outputId": "25d9f9ef-2991-409b-ab25-b337af4d2f36"
   },
   "outputs": [],
   "source": [
    "# inspect\n",
    "df[df['cui'] == '101009']"
   ]
  },
  {
   "cell_type": "code",
   "execution_count": null,
   "metadata": {
    "id": "Kkl4Ng6s6Q4R"
   },
   "outputs": [],
   "source": [
    "# Optional - Create a SCTID to FSN dictionary\n",
    "primary_names_only = df[df[\"name_status\"] == 'P']\n",
    "sctid2name = dict(zip(primary_names_only['cui'], primary_names_only['name']))\n",
    "del primary_names_only"
   ]
  },
  {
   "cell_type": "code",
   "execution_count": null,
   "metadata": {
    "colab": {
     "base_uri": "https://localhost:8080/",
     "height": 35
    },
    "id": "W-TFxoaC6Q7a",
    "outputId": "37789a2b-91c3-4bcb-8a25-bc8c909e86b7"
   },
   "outputs": [],
   "source": [
    "sctid2name['101009']"
   ]
  },
  {
   "cell_type": "markdown",
   "metadata": {
    "id": "v_tZ5FG19V-V"
   },
   "source": [
    "#### SNOMED Relationships"
   ]
  },
  {
   "cell_type": "code",
   "execution_count": null,
   "metadata": {
    "id": "o-TxIJ4N9T4Q"
   },
   "outputs": [],
   "source": [
    "all_snomed_relationships = snomed.list_all_relationships()"
   ]
  },
  {
   "cell_type": "code",
   "execution_count": null,
   "metadata": {
    "id": "CL2GlkR0-Hwz"
   },
   "outputs": [],
   "source": [
    "# List of the SCTID of all snomed relationships\n",
    "all_snomed_relationships"
   ]
  },
  {
   "cell_type": "code",
   "execution_count": null,
   "metadata": {
    "id": "HTE8R6akD1nP"
   },
   "outputs": [],
   "source": [
    "# Using the SCTID to name to inspect what the FSN (fully specified names) are:\n",
    "for sctid in all_snomed_relationships:\n",
    "    print(sctid2name[sctid])"
   ]
  },
  {
   "cell_type": "code",
   "execution_count": null,
   "metadata": {
    "id": "vmK7YEy49T8T"
   },
   "outputs": [],
   "source": [
    "# save a specific relationship to json\n",
    "# In the example we save the \"IS a (attribute)\" hierarchical relationship.\n",
    "snomed.relationship2json(\"116680003\", \"ISA_relationship.json\")"
   ]
  },
  {
   "cell_type": "markdown",
   "metadata": {
    "id": "mSKWrO7L9f4Z"
   },
   "source": [
    "#### Mappings to inbuilt external terminologies \n",
    "\n",
    "Create a dictionary map to add to the medcat concept database additional information"
   ]
  },
  {
   "cell_type": "markdown",
   "metadata": {
    "id": "f3C3JaRbvhsw"
   },
   "source": [
    "##### ICD-10\n",
    "For SNOMED to ICD-10 mapping read more on:\n",
    "Map Blocks, Map Groups and Map Priorities, for correct official mapping methodology."
   ]
  },
  {
   "cell_type": "code",
   "execution_count": null,
   "metadata": {
    "id": "UAdHeWRe9c9J"
   },
   "outputs": [],
   "source": [
    "# ICD-10\n",
    "icd_df = snomed.map_snomed2icd10()"
   ]
  },
  {
   "cell_type": "code",
   "execution_count": null,
   "metadata": {
    "colab": {
     "base_uri": "https://localhost:8080/",
     "height": 496
    },
    "id": "SynBfXCi-Zpb",
    "outputId": "f3cde34a-c5f9-428c-874a-01516832f4a1"
   },
   "outputs": [],
   "source": [
    "icd_df.head()"
   ]
  },
  {
   "cell_type": "code",
   "execution_count": null,
   "metadata": {
    "id": "WU7POE3iOOTB"
   },
   "outputs": [],
   "source": [
    "sctid2icd10 = {k: g[\"mapTarget\"].tolist() for k,g in icd_df[['referencedComponentId',\n",
    "                                                              'mapTarget']].groupby(\"referencedComponentId\")}"
   ]
  },
  {
   "cell_type": "code",
   "execution_count": null,
   "metadata": {
    "colab": {
     "base_uri": "https://localhost:8080/"
    },
    "id": "pOMDPJEKoC3r",
    "outputId": "7d0f1876-8410-46a1-b42d-913dc2ce22e0"
   },
   "outputs": [],
   "source": [
    "# To view the SNOMED to ICD-10 Map structure\n",
    "sctid2icd10"
   ]
  },
  {
   "cell_type": "markdown",
   "metadata": {
    "id": "Sa9yVsTwvolS"
   },
   "source": [
    "##### OPCS\n",
    "Office of Population Censuses and Surveys\n",
    "\n",
    "\n",
    "__Note:__ only the SNOMED UK extension edition contains this information\n",
    "Skip if your version is not a UK extension"
   ]
  },
  {
   "cell_type": "code",
   "execution_count": null,
   "metadata": {
    "id": "EJFu0lTq9c6u"
   },
   "outputs": [],
   "source": [
    "opcs_df = snomed.map_snomed2opcs4()"
   ]
  },
  {
   "cell_type": "code",
   "execution_count": null,
   "metadata": {
    "id": "nINW3byN-dd5"
   },
   "outputs": [],
   "source": [
    "opcs_df.head()"
   ]
  },
  {
   "cell_type": "markdown",
   "metadata": {
    "id": "f1fK6WTqKw4_"
   },
   "source": [
    "### Save for MedCAT"
   ]
  },
  {
   "cell_type": "code",
   "execution_count": null,
   "metadata": {
    "id": "VgYR_xxAK0ws"
   },
   "outputs": [],
   "source": [
    "# Save to CSV for medcat CDB creation\n",
    "df.to_csv(\"preprocessed_snomed.csv\", index=False)"
   ]
  },
  {
   "cell_type": "markdown",
   "metadata": {
    "id": "SVVJLuSEU4FS"
   },
   "source": [
    "--------"
   ]
  },
  {
   "cell_type": "markdown",
   "metadata": {
    "id": "8TTgKmDCx2R7"
   },
   "source": [
    "# Part 2: Create a MedCAT CDB using SNOMED CT release files\n",
    "\n",
    "\n",
    "These steps are also in the [create_cdb.py](medcat/1_create_model/create_cdb/create_cdb.py)"
   ]
  },
  {
   "cell_type": "code",
   "execution_count": null,
   "metadata": {
    "id": "3xE_gUDQXw3o"
   },
   "outputs": [],
   "source": [
    "# Import required packages\n",
    "from medcat.cdb import CDB\n",
    "from medcat.config import Config\n",
    "from medcat.cdb_maker import CDBMaker"
   ]
  },
  {
   "cell_type": "markdown",
   "metadata": {
    "id": "E7d1mvyzLBXo"
   },
   "source": [
    "#### Create concept database (cdb)"
   ]
  },
  {
   "cell_type": "code",
   "execution_count": null,
   "metadata": {
    "id": "BOJqQnzYoku6"
   },
   "outputs": [],
   "source": [
    "# First initialise the default configuration\n",
    "config = Config()\n",
    "config.general['spacy_model'] = 'en_core_web_md'\n",
    "maker = CDBMaker(config)"
   ]
  },
  {
   "cell_type": "code",
   "execution_count": null,
   "metadata": {
    "colab": {
     "base_uri": "https://localhost:8080/"
    },
    "id": "6B4eOk-F-3F_",
    "outputId": "ea2b87f8-7b46-4fe6-cb93-ae565be6f9ce"
   },
   "outputs": [],
   "source": [
    "# Create an array containing CSV files that will be used to build our CDB\n",
    "csv_path = ['preprocessed_snomed.csv']\n",
    "\n",
    "# Create your CDB\n",
    "cdb = maker.prepare_csvs(csv_path, full_build=True)"
   ]
  },
  {
   "cell_type": "markdown",
   "metadata": {
    "id": "XbHFpPVK_OWD"
   },
   "source": [
    "### Inspect your cdb"
   ]
  },
  {
   "cell_type": "code",
   "execution_count": null,
   "metadata": {
    "colab": {
     "base_uri": "https://localhost:8080/"
    },
    "id": "QLXUdQc6_Lj1",
    "outputId": "d9a768d1-7f08-4790-adfe-3d3005315e29"
   },
   "outputs": [],
   "source": [
    "print(cdb.name2cuis['epilepsy'])"
   ]
  },
  {
   "cell_type": "code",
   "execution_count": null,
   "metadata": {
    "colab": {
     "base_uri": "https://localhost:8080/"
    },
    "id": "sNT_y2FK_fpF",
    "outputId": "dbd6cdf2-aa8f-40b1-d073-3e99733e8749"
   },
   "outputs": [],
   "source": [
    "print(cdb.cui2preferred_name['84757009'])"
   ]
  },
  {
   "cell_type": "code",
   "execution_count": null,
   "metadata": {
    "colab": {
     "base_uri": "https://localhost:8080/"
    },
    "id": "DGVBBaVRa_ov",
    "outputId": "d00ba1db-55fc-4fbd-a588-c8d937c31d7c"
   },
   "outputs": [],
   "source": [
    "print(cdb.cui2names['84757009'])"
   ]
  },
  {
   "cell_type": "markdown",
   "metadata": {
    "id": "_gBLnMVjNfo1"
   },
   "source": [
    "#### Enrich with extra information and mapping\n",
    "\n",
    "Mapping was created in [Mappings to inbuilt external terminologies](https://colab.research.google.com/drive/1yesqjMQwQH20Kl9w7siRGVaSWU0uI84W#scrollTo=Mappings_to_inbuilt_external_terminologies).\n",
    "Here we use [ICD-10](https://colab.research.google.com/drive/1yesqjMQwQH20Kl9w7siRGVaSWU0uI84W#scrollTo=ICD_10) as an example."
   ]
  },
  {
   "cell_type": "code",
   "execution_count": null,
   "metadata": {
    "id": "bYWF15_MNldA"
   },
   "outputs": [],
   "source": [
    "cdb.addl_info['cui2icd10'] = sctid2icd10"
   ]
  },
  {
   "cell_type": "markdown",
   "metadata": {
    "id": "Z8tL87pW_RGq"
   },
   "source": [
    "### Save your new SNOMED cdb\n",
    "\n",
    "__tip:__ good practise to include the snomed release edition file name"
   ]
  },
  {
   "cell_type": "code",
   "execution_count": null,
   "metadata": {
    "id": "wWYFAaPNvTea"
   },
   "outputs": [],
   "source": [
    "cdb.save(\"SNOMED_cdb.dat\")"
   ]
  }
 ],
 "metadata": {
  "colab": {
   "collapsed_sections": [],
   "name": "Preprocessing SNOMED CT.ipynb",
   "provenance": [],
   "toc_visible": true
  },
  "kernelspec": {
   "display_name": "Python 3 (ipykernel)",
   "language": "python",
   "name": "python3"
  },
  "language_info": {
   "codemirror_mode": {
    "name": "ipython",
    "version": 3
   },
   "file_extension": ".py",
   "mimetype": "text/x-python",
   "name": "python",
   "nbconvert_exporter": "python",
   "pygments_lexer": "ipython3",
   "version": "3.7.3"
  }
 },
 "nbformat": 4,
 "nbformat_minor": 4
}
