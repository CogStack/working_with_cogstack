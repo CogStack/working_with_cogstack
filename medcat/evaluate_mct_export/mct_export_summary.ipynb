{
 "cells": [
  {
   "cell_type": "markdown",
   "id": "5a70f837",
   "metadata": {},
   "source": [
    "# Evaluate a MedCATtrainer project export"
   ]
  },
  {
   "cell_type": "code",
   "execution_count": null,
   "id": "a9f3804a",
   "metadata": {},
   "outputs": [],
   "source": [
    "from mct_analysis import MedcatTrainer_export"
   ]
  },
  {
   "cell_type": "code",
   "execution_count": null,
   "id": "46cbcecb",
   "metadata": {},
   "outputs": [],
   "source": [
    "mct_export = '../../data/medcattrainer_export/'+''  # mct_export .json here\n",
    "mct_model = \"\"\n",
    "mct = MedcatTrainer_export([mct_export+''], model_pack_path= mct_model)"
   ]
  },
  {
   "cell_type": "code",
   "execution_count": null,
   "id": "198a48da",
   "metadata": {
    "scrolled": true
   },
   "outputs": [],
   "source": [
    "# annotations\n",
    "anns_df = mct.annotation_df()\n",
    "anns_df"
   ]
  },
  {
   "cell_type": "code",
   "execution_count": null,
   "id": "94b19228",
   "metadata": {},
   "outputs": [],
   "source": [
    "# Meta_annotation summary\n",
    "for col in anns_df.loc[:,'acc':].iloc[:,1:]:\n",
    "    print(anns_df[col].value_counts())"
   ]
  },
  {
   "cell_type": "code",
   "execution_count": null,
   "id": "f9a0c875",
   "metadata": {},
   "outputs": [],
   "source": [
    "# meta_annotation summary of combinations\n",
    "for k,v in anns_df.loc[:,'acc':].iloc[:,1:].value_counts().iteritems():\n",
    "    print(k,v)"
   ]
  },
  {
   "cell_type": "code",
   "execution_count": null,
   "id": "d6cc54e3",
   "metadata": {
    "scrolled": true
   },
   "outputs": [],
   "source": [
    "# projects\n",
    "anns_df['project'].unique()"
   ]
  },
  {
   "cell_type": "code",
   "execution_count": null,
   "id": "6f8fe7ec",
   "metadata": {},
   "outputs": [],
   "source": [
    "# documents\n",
    "anns_df['document_name'].unique()"
   ]
  },
  {
   "cell_type": "markdown",
   "id": "145b4b14",
   "metadata": {},
   "source": [
    "# Annotation Summary"
   ]
  },
  {
   "cell_type": "code",
   "execution_count": null,
   "id": "eac05267",
   "metadata": {},
   "outputs": [],
   "source": [
    "mct.concept_summary()"
   ]
  },
  {
   "cell_type": "markdown",
   "id": "0972b7f8",
   "metadata": {},
   "source": [
    "# Annotator stats"
   ]
  },
  {
   "cell_type": "code",
   "execution_count": null,
   "id": "0b8b30ba",
   "metadata": {},
   "outputs": [],
   "source": [
    "# User Stats\n",
    "mct.user_stats()"
   ]
  },
  {
   "cell_type": "code",
   "execution_count": null,
   "id": "3b528874",
   "metadata": {},
   "outputs": [],
   "source": [
    "mct.plot_user_stats()"
   ]
  },
  {
   "cell_type": "code",
   "execution_count": null,
   "id": "b9c890e9",
   "metadata": {},
   "outputs": [],
   "source": []
  },
  {
   "cell_type": "markdown",
   "id": "9a9eade6",
   "metadata": {},
   "source": [
    "# Meta annotation summary"
   ]
  },
  {
   "cell_type": "code",
   "execution_count": null,
   "id": "6fe1c08e",
   "metadata": {},
   "outputs": [],
   "source": [
    "anns_df"
   ]
  },
  {
   "cell_type": "code",
   "execution_count": null,
   "id": "7e1e2809",
   "metadata": {},
   "outputs": [],
   "source": []
  },
  {
   "cell_type": "code",
   "execution_count": null,
   "id": "6757e85b",
   "metadata": {},
   "outputs": [],
   "source": []
  }
 ],
 "metadata": {
  "kernelspec": {
   "display_name": "Python 3 (ipykernel)",
   "language": "python",
   "name": "python3"
  },
  "language_info": {
   "codemirror_mode": {
    "name": "ipython",
    "version": 3
   },
   "file_extension": ".py",
   "mimetype": "text/x-python",
   "name": "python",
   "nbconvert_exporter": "python",
   "pygments_lexer": "ipython3",
   "version": "3.7.3"
  }
 },
 "nbformat": 4,
 "nbformat_minor": 5
}
