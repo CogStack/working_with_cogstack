{
 "cells": [
  {
   "cell_type": "markdown",
   "metadata": {},
   "source": [
    "# This notebook will attempt to show how to compare two models\n",
    "\n",
    "We often arrive in a situation where we've got multiple different models. Yet we're note sure which one we should focus on or start from for a particular task.\n",
    "This notebook aims to introduce some tools that (hopefully) help us do that."
   ]
  },
  {
   "cell_type": "markdown",
   "metadata": {},
   "source": [
    "## Initial input - models and data\n",
    "\n",
    "There are two different workflows this notebook can handle:\n",
    "1. Compare two different model packs\n",
    "  - Provide 2 model pack paths\n",
    "  - Provide a documents file\n",
    "2. Compare model pack with and without supervised training\n",
    "  - Provide 1 model pack path\n",
    "  - Provide a file path to a MedCATtrainer (MCT) export\n",
    "  - Provide a document file\n",
    "\n",
    "The model packs can be either the `.zip` file (which will be automatically unzipped) or the folder.\n",
    "\n",
    "The documents file is expected in a `.csv` format with two columns (`id`, and `text`).\n",
    "\n",
    "The MCT export is expected in the format given by MedCATtrainer.\n",
    "\n",
    "For the two approaches, there is a slightly different internal workflow.\n",
    "But other than ticking the checkbox, the process should be identical to the user."
   ]
  },
  {
   "cell_type": "markdown",
   "metadata": {},
   "source": [
    "### CUI filter settings\n",
    "\n",
    "These are optional.\n",
    "\n",
    "If you wish to filter based on CUIs (i.e only run the comparison for some CUIs), you can do so.\n",
    "You can either list the CUIs (separated by comma) or provide a file that lists them (separated by comma).\n",
    "\n",
    "You can also include the children of the selected CUIs.The default is not to do so.\n",
    "But you can opt to include children of a certain order (i.e `1` means direct children only, `2` means children of children as well, and so on)."
   ]
  },
  {
   "cell_type": "code",
   "execution_count": 1,
   "metadata": {},
   "outputs": [
    {
     "name": "stderr",
     "output_type": "stream",
     "text": [
      "/Users/martratas/Documents/CogStack/.MedCAT.nosync/working_with_cogstack/venv310/lib/python3.10/site-packages/medcat/cat.py:17: TqdmExperimentalWarning: Using `tqdm.autonotebook.tqdm` in notebook mode. Use `tqdm.tqdm` instead to force console mode (e.g. in jupyter console)\n",
      "  from tqdm.autonotebook import tqdm, trange\n"
     ]
    },
    {
     "data": {
      "application/vnd.jupyter.widget-view+json": {
       "model_id": "c9394e14578445b2b7073aedf3f7bf20",
       "version_major": 2,
       "version_minor": 0
      },
      "text/plain": [
       "VBox(children=(VBox(children=(HTML(value='<h2>Models</h2>'), VBox(children=(Label(value='Choose model 1'), Fil…"
      ]
     },
     "metadata": {},
     "output_type": "display_data"
    }
   ],
   "source": [
    "from comp_nbhelper import NBInputter\n",
    "inputs = NBInputter()\n",
    "inputs.show_all()"
   ]
  },
  {
   "cell_type": "markdown",
   "metadata": {},
   "source": [
    "### Running the difference finder\n",
    "\n",
    "Now that we've got the input data, we need to figure out how they work and what their differences are.\n",
    "We use the `get_comparison` method that loads both models, runs `CAT.get_entities` on each document for either model, and then returns some results.\n",
    "\n",
    "These results show describe the difference in the raw CDB (i.e the number of concepts (join and unique), amount of training, and so on), the total differences in the entities extracted (i.e the number of recognitions and forms per CUI) as well as per document differences (i.e the number of identical as well as different entity recognitions found).\n",
    "\n",
    "We will look into the details later."
   ]
  },
  {
   "cell_type": "code",
   "execution_count": 2,
   "metadata": {},
   "outputs": [
    {
     "name": "stdout",
     "output_type": "stream",
     "text": [
      "For models, selected:\n",
      "Model1: /Users/martratas/Documents/CogStack/.MedCAT.nosync/MedCAT/models/20230227__kch_gstt_trained_model_494c3717f637bb89.zip\n",
      "Model2: /Users/martratas/Documents/CogStack/.MedCAT.nosync/MedCAT/models/snomed2024-06-mimic-iv.zip\n",
      "Documents: /Users/martratas/Documents/CogStack/.MedCAT.nosync/working_with_cogstack/medcat/compare_models/data/intechopen_2cols_3.csv\n",
      "For CUI filter, selected:\n",
      "Filter: None\n",
      "Children: None\n",
      "Loading [1] /Users/martratas/Documents/CogStack/.MedCAT.nosync/MedCAT/models/20230227__kch_gstt_trained_model_494c3717f637bb89.zip\n"
     ]
    },
    {
     "name": "stderr",
     "output_type": "stream",
     "text": [
      "/Users/martratas/Documents/CogStack/.MedCAT.nosync/working_with_cogstack/venv310/lib/python3.10/site-packages/spacy/util.py:910: UserWarning: [W095] Model 'en_core_web_md' (3.1.0) was trained with spaCy v3.1.0 and may not be 100% compatible with the current version (3.7.5). If you see errors or degraded performance, download a newer compatible model or retrain your custom model with the current spaCy version. For more details and available updates, run: python -m spacy validate\n",
      "  warnings.warn(warn_msg)\n"
     ]
    },
    {
     "name": "stdout",
     "output_type": "stream",
     "text": [
      "Loading [2] /Users/martratas/Documents/CogStack/.MedCAT.nosync/MedCAT/models/snomed2024-06-mimic-iv.zip\n"
     ]
    },
    {
     "name": "stderr",
     "output_type": "stream",
     "text": [
      "/Users/martratas/Documents/CogStack/.MedCAT.nosync/working_with_cogstack/venv310/lib/python3.10/site-packages/spacy/util.py:910: UserWarning: [W095] Model 'en_core_web_md' (3.6.0) was trained with spaCy v3.6.0 and may not be 100% compatible with the current version (3.7.5). If you see errors or degraded performance, download a newer compatible model or retrain your custom model with the current spaCy version. For more details and available updates, run: python -m spacy validate\n",
      "  warnings.warn(warn_msg)\n"
     ]
    },
    {
     "name": "stdout",
     "output_type": "stream",
     "text": [
      "Per annotations diff finding\n"
     ]
    },
    {
     "name": "stderr",
     "output_type": "stream",
     "text": [
      "14370it [6:47:45,  1.70s/it]\n"
     ]
    },
    {
     "name": "stdout",
     "output_type": "stream",
     "text": [
      "Counting [1&2]\n"
     ]
    },
    {
     "name": "stderr",
     "output_type": "stream",
     "text": [
      "100%|██████████| 14362/14362 [02:52<00:00, 83.23it/s] \n"
     ]
    },
    {
     "name": "stdout",
     "output_type": "stream",
     "text": [
      "CDB compare\n"
     ]
    },
    {
     "name": "stderr",
     "output_type": "stream",
     "text": [
      "keys: 100%|██████████| 804513/804513 [00:01<00:00, 574852.99it/s]\n",
      "keys: 100%|██████████| 804513/804513 [00:03<00:00, 259249.78it/s]\n"
     ]
    }
   ],
   "source": [
    "comparison = inputs.get_comparison()"
   ]
  },
  {
   "cell_type": "markdown",
   "metadata": {},
   "source": [
    "For now, we'll use the common parser/display method to display an overview of the results.\n",
    "We can later look at more granual details as well."
   ]
  },
  {
   "cell_type": "code",
   "execution_count": 3,
   "metadata": {},
   "outputs": [
    {
     "name": "stdout",
     "output_type": "stream",
     "text": [
      "CDB overall differences:\n"
     ]
    },
    {
     "data": {
      "text/markdown": [
       "| Path | Value | [Optional] Comparison |\n",
       "| ----- | ----- | ----- |\n",
       "| names.keys.joint                         | 750494                                   |                                          |\n",
       "| names.keys.not_in_                       | 44230                                    | 9789                                     |\n",
       "| names.keys.total                         | 760283                                   | 794724                                   |\n",
       "| names.values.joint                       | 2659786                                  |                                          |\n",
       "| names.values.unique_in_                  | 421061                                   | 251871                                   |\n",
       "| names.values.not_in_                     | 375036                                   | 457386                                   |\n",
       "| names.values.total                       | 3149859                                  | 3067509                                  |\n",
       "| snames.keys.joint                        | 750494                                   |                                          |\n",
       "| snames.keys.not_in_                      | 44230                                    | 9789                                     |\n",
       "| snames.keys.total                        | 760283                                   | 794724                                   |\n",
       "| snames.values.joint                      | 5697138                                  |                                          |\n",
       "| snames.values.unique_in_                 | 962832                                   | 552795                                   |\n",
       "| snames.values.not_in_                    | 1273285                                  | 1291058                                  |\n",
       "| snames.values.total                      | 13486640                                 | 13468867                                 |"
      ],
      "text/plain": [
       "<IPython.core.display.Markdown object>"
      ]
     },
     "metadata": {},
     "output_type": "display_data"
    },
    {
     "name": "stdout",
     "output_type": "stream",
     "text": [
      "Now tally differences\n"
     ]
    },
    {
     "data": {
      "text/markdown": [
       "| Path | First | Second |\n",
       "| ----- | ----- | ----- |\n",
       "| pt2ch (Dict[str, Set])                   | 352226 keys (mean 2.0 values per key)    | 372046 keys (mean 2.0 values per key)    |\n",
       "| cat_data                                 | {'Number of concepts': 760283, 'Number of names': 3080845, 'Number of concepts that received training': 38460, 'Number of seen training examples in total': 153875883, 'Average training examples per concept': 4000.932995319813} | {'Number of concepts': 794724, 'Number of names': 2911657, 'Number of concepts that received training': 62855, 'Number of seen training examples in total': 253418075, 'Average training examples per concept': 4031.788640521836} |\n",
       "| per_cui_count (Dict[str, int])           | 45670 keys (total 5838291 in value)      | 42846 keys (total 5433652 in value)      |\n",
       "| per_cui_acc (Dict[str, float])           | 45670 keys (mean 0.9514984470889257 in value) | 42846 keys (mean 0.9727027021541499 in value) |\n",
       "| per_cui_forms (Dict[str, Set])           | 45670 keys (mean 2.0 values per key)     | 42846 keys (mean 2.0 values per key)     |\n",
       "| per_type_counts (Dict[str, int])         | 51 keys (total 5838259 in value)         | 51 keys (total 5433863 in value)         |\n",
       "| total_count                              | 5838291                                  | 5433652                                  |"
      ],
      "text/plain": [
       "<IPython.core.display.Markdown object>"
      ]
     },
     "metadata": {},
     "output_type": "display_data"
    },
    {
     "name": "stdout",
     "output_type": "stream",
     "text": [
      "Now per-annotation differences:\n"
     ]
    },
    {
     "data": {
      "text/markdown": [
       "| Path | Value | [Optional] Comparison |\n",
       "| ----- | ----- | ----- |\n",
       "| IDENTICAL                                | 4325640                                  |                                          |\n",
       "| SAME_SPAN_DIFF_CONCEPT                   | 498167                                   |                                          |\n",
       "| SECOND_HAS                               | 318069                                   |                                          |\n",
       "| FIRST_HAS                                | 722708                                   |                                          |\n",
       "| OVERLAPP_2ND_LARGER_DIFF_CONCEPT         | 33939                                    |                                          |\n",
       "| OVERLAPP_1ST_LARGER_DIFF_CONCEPT         | 48401                                    |                                          |\n",
       "| SAME_PARENT                              | 124810                                   |                                          |\n",
       "| SAME_SPAN_CONCEPT_NOT_IN_2ND             | 66826                                    |                                          |\n",
       "| SAME_GRANDPARENT                         | 7939                                     |                                          |\n",
       "| SAME_SPAN_CONCEPT_NOT_IN_1ST             | 6256                                     |                                          |\n",
       "| OVERLAPP_1ST_LARGER_SAME_CONCEPT         | 2125                                     |                                          |\n",
       "| OVERLAPP_2ND_LARGER_SAME_CONCEPT         | 1386                                     |                                          |\n",
       "| PARTIAL_OVERLAP_DIFF_CONCEPT             | 72                                       |                                          |\n",
       "| PARTIAL_OVERLAP_SAME_CONCEPT             | 22                                       |                                          |"
      ],
      "text/plain": [
       "<IPython.core.display.Markdown object>"
      ]
     },
     "metadata": {},
     "output_type": "display_data"
    }
   ],
   "source": [
    "comparison.show_all()"
   ]
  },
  {
   "cell_type": "markdown",
   "metadata": {},
   "source": [
    "## More granual details (per document view)\n",
    "\n",
    "The above does not give us all the information we need.\n",
    "For instance, we may also want to compare the performance accross some documents.\n",
    "We can do so as follows."
   ]
  },
  {
   "cell_type": "code",
   "execution_count": 4,
   "metadata": {},
   "outputs": [
    {
     "name": "stdout",
     "output_type": "stream",
     "text": [
      "==================== \n",
      "Chemokines Updates_1. Chemokines Effective on Platelet Functions \n",
      "====================\n"
     ]
    },
    {
     "data": {
      "text/markdown": [
       "| Path | Value | [Optional] Comparison |\n",
       "| ----- | ----- | ----- |\n",
       "| IDENTICAL                                | 416                                      |                                          |\n",
       "| SAME_SPAN_DIFF_CONCEPT                   | 38                                       |                                          |\n",
       "| SECOND_HAS                               | 21                                       |                                          |\n",
       "| FIRST_HAS                                | 38                                       |                                          |\n",
       "| OVERLAPP_2ND_LARGER_DIFF_CONCEPT         | 4                                        |                                          |\n",
       "| OVERLAPP_1ST_LARGER_DIFF_CONCEPT         | 5                                        |                                          |\n",
       "| SAME_PARENT                              | 12                                       |                                          |\n",
       "| SAME_SPAN_CONCEPT_NOT_IN_2ND             | 2                                        |                                          |\n",
       "| SAME_GRANDPARENT                         | 2                                        |                                          |"
      ],
      "text/plain": [
       "<IPython.core.display.Markdown object>"
      ]
     },
     "metadata": {},
     "output_type": "display_data"
    },
    {
     "name": "stdout",
     "output_type": "stream",
     "text": [
      "==================== \n",
      "Chemokines Updates_2. Alteration of Cytokines Level and Oxidative Stress Parameters in COVID-19 \n",
      "====================\n"
     ]
    },
    {
     "data": {
      "text/markdown": [
       "| Path | Value | [Optional] Comparison |\n",
       "| ----- | ----- | ----- |\n",
       "| IDENTICAL                                | 194                                      |                                          |\n",
       "| SAME_SPAN_DIFF_CONCEPT                   | 27                                       |                                          |\n",
       "| FIRST_HAS                                | 27                                       |                                          |\n",
       "| SAME_PARENT                              | 3                                        |                                          |\n",
       "| OVERLAPP_1ST_LARGER_DIFF_CONCEPT         | 3                                        |                                          |\n",
       "| SECOND_HAS                               | 10                                       |                                          |\n",
       "| SAME_SPAN_CONCEPT_NOT_IN_2ND             | 3                                        |                                          |\n",
       "| SAME_SPAN_CONCEPT_NOT_IN_1ST             | 2                                        |                                          |"
      ],
      "text/plain": [
       "<IPython.core.display.Markdown object>"
      ]
     },
     "metadata": {},
     "output_type": "display_data"
    },
    {
     "name": "stdout",
     "output_type": "stream",
     "text": [
      "==================== \n",
      "Chemokines Updates_3. Chemokines at the Crossroad of Diabetes-Tuberculosis Synergy \n",
      "====================\n"
     ]
    },
    {
     "data": {
      "text/markdown": [
       "| Path | Value | [Optional] Comparison |\n",
       "| ----- | ----- | ----- |\n",
       "| IDENTICAL                                | 546                                      |                                          |\n",
       "| FIRST_HAS                                | 57                                       |                                          |\n",
       "| SAME_SPAN_DIFF_CONCEPT                   | 64                                       |                                          |\n",
       "| SAME_PARENT                              | 30                                       |                                          |\n",
       "| SECOND_HAS                               | 34                                       |                                          |\n",
       "| OVERLAPP_1ST_LARGER_DIFF_CONCEPT         | 6                                        |                                          |\n",
       "| SAME_SPAN_CONCEPT_NOT_IN_2ND             | 6                                        |                                          |\n",
       "| SAME_GRANDPARENT                         | 2                                        |                                          |\n",
       "| OVERLAPP_2ND_LARGER_DIFF_CONCEPT         | 2                                        |                                          |"
      ],
      "text/plain": [
       "<IPython.core.display.Markdown object>"
      ]
     },
     "metadata": {},
     "output_type": "display_data"
    },
    {
     "name": "stdout",
     "output_type": "stream",
     "text": [
      "==================== \n",
      "Chemokines Updates_4. Chemokines in Periodontal Diseases \n",
      "====================\n"
     ]
    },
    {
     "data": {
      "text/markdown": [
       "| Path | Value | [Optional] Comparison |\n",
       "| ----- | ----- | ----- |\n",
       "| IDENTICAL                                | 318                                      |                                          |\n",
       "| FIRST_HAS                                | 62                                       |                                          |\n",
       "| SAME_PARENT                              | 7                                        |                                          |\n",
       "| SAME_SPAN_DIFF_CONCEPT                   | 32                                       |                                          |\n",
       "| SAME_SPAN_CONCEPT_NOT_IN_2ND             | 6                                        |                                          |\n",
       "| SAME_SPAN_CONCEPT_NOT_IN_1ST             | 7                                        |                                          |\n",
       "| OVERLAPP_1ST_LARGER_DIFF_CONCEPT         | 17                                       |                                          |\n",
       "| SECOND_HAS                               | 24                                       |                                          |\n",
       "| OVERLAPP_2ND_LARGER_DIFF_CONCEPT         | 1                                        |                                          |"
      ],
      "text/plain": [
       "<IPython.core.display.Markdown object>"
      ]
     },
     "metadata": {},
     "output_type": "display_data"
    },
    {
     "name": "stdout",
     "output_type": "stream",
     "text": [
      "==================== \n",
      "Chemokines Updates_5. Immunological Insights on Pathogenic Connections between Hepato-Digestive Disorders and Periodontal Conditions \n",
      "====================\n"
     ]
    },
    {
     "data": {
      "text/markdown": [
       "| Path | Value | [Optional] Comparison |\n",
       "| ----- | ----- | ----- |\n",
       "| IDENTICAL                                | 319                                      |                                          |\n",
       "| FIRST_HAS                                | 37                                       |                                          |\n",
       "| OVERLAPP_1ST_LARGER_DIFF_CONCEPT         | 6                                        |                                          |\n",
       "| SAME_SPAN_DIFF_CONCEPT                   | 53                                       |                                          |\n",
       "| SAME_SPAN_CONCEPT_NOT_IN_2ND             | 8                                        |                                          |\n",
       "| OVERLAPP_2ND_LARGER_DIFF_CONCEPT         | 4                                        |                                          |\n",
       "| SAME_PARENT                              | 16                                       |                                          |\n",
       "| SAME_SPAN_CONCEPT_NOT_IN_1ST             | 1                                        |                                          |\n",
       "| SECOND_HAS                               | 13                                       |                                          |\n",
       "| OVERLAPP_1ST_LARGER_SAME_CONCEPT         | 1                                        |                                          |"
      ],
      "text/plain": [
       "<IPython.core.display.Markdown object>"
      ]
     },
     "metadata": {},
     "output_type": "display_data"
    },
    {
     "name": "stdout",
     "output_type": "stream",
     "text": [
      "==================== \n",
      "Chemokines Updates_6. Glance on the Critical Role of IL-23 Receptor Gene Variations in Inflammation-Induced Carcinogenesis \n",
      "====================\n"
     ]
    },
    {
     "data": {
      "text/markdown": [
       "| Path | Value | [Optional] Comparison |\n",
       "| ----- | ----- | ----- |\n",
       "| IDENTICAL                                | 84                                       |                                          |\n",
       "| SECOND_HAS                               | 5                                        |                                          |\n",
       "| SAME_GRANDPARENT                         | 1                                        |                                          |\n",
       "| SAME_SPAN_DIFF_CONCEPT                   | 6                                        |                                          |\n",
       "| SAME_PARENT                              | 4                                        |                                          |\n",
       "| FIRST_HAS                                | 31                                       |                                          |"
      ],
      "text/plain": [
       "<IPython.core.display.Markdown object>"
      ]
     },
     "metadata": {},
     "output_type": "display_data"
    },
    {
     "name": "stdout",
     "output_type": "stream",
     "text": [
      "==================== \n",
      "Chemokines Updates_7. Interleukin-5 and Interleukin-5 Receptor Polymorphism in Asthma \n",
      "====================\n"
     ]
    },
    {
     "data": {
      "text/markdown": [
       "| Path | Value | [Optional] Comparison |\n",
       "| ----- | ----- | ----- |\n",
       "| IDENTICAL                                | 194                                      |                                          |\n",
       "| SECOND_HAS                               | 15                                       |                                          |\n",
       "| SAME_PARENT                              | 7                                        |                                          |\n",
       "| SAME_SPAN_DIFF_CONCEPT                   | 22                                       |                                          |\n",
       "| FIRST_HAS                                | 13                                       |                                          |\n",
       "| OVERLAPP_2ND_LARGER_DIFF_CONCEPT         | 1                                        |                                          |\n",
       "| OVERLAPP_1ST_LARGER_DIFF_CONCEPT         | 5                                        |                                          |\n",
       "| SAME_SPAN_CONCEPT_NOT_IN_2ND             | 1                                        |                                          |"
      ],
      "text/plain": [
       "<IPython.core.display.Markdown object>"
      ]
     },
     "metadata": {},
     "output_type": "display_data"
    },
    {
     "name": "stdout",
     "output_type": "stream",
     "text": [
      "==================== \n",
      "Cerebral Palsy_1. Aetiology and Pathophysiology of Cerebral Palsy \n",
      "====================\n"
     ]
    },
    {
     "data": {
      "text/markdown": [
       "| Path | Value | [Optional] Comparison |\n",
       "| ----- | ----- | ----- |\n",
       "| IDENTICAL                                | 152                                      |                                          |\n",
       "| SAME_SPAN_DIFF_CONCEPT                   | 32                                       |                                          |\n",
       "| FIRST_HAS                                | 19                                       |                                          |\n",
       "| SECOND_HAS                               | 17                                       |                                          |\n",
       "| SAME_PARENT                              | 7                                        |                                          |\n",
       "| OVERLAPP_1ST_LARGER_DIFF_CONCEPT         | 1                                        |                                          |"
      ],
      "text/plain": [
       "<IPython.core.display.Markdown object>"
      ]
     },
     "metadata": {},
     "output_type": "display_data"
    },
    {
     "name": "stdout",
     "output_type": "stream",
     "text": [
      "==================== \n",
      "Cerebral Palsy_2. Management of Spasticity and Cerebral Palsy Update \n",
      "====================\n"
     ]
    },
    {
     "data": {
      "text/markdown": [
       "| Path | Value | [Optional] Comparison |\n",
       "| ----- | ----- | ----- |\n",
       "| IDENTICAL                                | 183                                      |                                          |\n",
       "| SAME_SPAN_DIFF_CONCEPT                   | 14                                       |                                          |\n",
       "| FIRST_HAS                                | 16                                       |                                          |\n",
       "| SECOND_HAS                               | 16                                       |                                          |\n",
       "| OVERLAPP_2ND_LARGER_DIFF_CONCEPT         | 1                                        |                                          |\n",
       "| OVERLAPP_1ST_LARGER_DIFF_CONCEPT         | 5                                        |                                          |\n",
       "| SAME_PARENT                              | 2                                        |                                          |"
      ],
      "text/plain": [
       "<IPython.core.display.Markdown object>"
      ]
     },
     "metadata": {},
     "output_type": "display_data"
    },
    {
     "name": "stdout",
     "output_type": "stream",
     "text": [
      "==================== \n",
      "Cerebral Palsy_3. Anatomical Surface Guided Techniques for Botulinum Toxin Injection in Spastic Cerebral Palsy Children \n",
      "====================\n"
     ]
    },
    {
     "data": {
      "text/markdown": [
       "| Path | Value | [Optional] Comparison |\n",
       "| ----- | ----- | ----- |\n",
       "| SECOND_HAS                               | 24                                       |                                          |\n",
       "| IDENTICAL                                | 136                                      |                                          |\n",
       "| OVERLAPP_1ST_LARGER_DIFF_CONCEPT         | 1                                        |                                          |\n",
       "| OVERLAPP_2ND_LARGER_DIFF_CONCEPT         | 4                                        |                                          |\n",
       "| SAME_SPAN_DIFF_CONCEPT                   | 23                                       |                                          |\n",
       "| FIRST_HAS                                | 18                                       |                                          |\n",
       "| SAME_SPAN_CONCEPT_NOT_IN_2ND             | 3                                        |                                          |\n",
       "| SAME_PARENT                              | 2                                        |                                          |"
      ],
      "text/plain": [
       "<IPython.core.display.Markdown object>"
      ]
     },
     "metadata": {},
     "output_type": "display_data"
    }
   ],
   "source": [
    "# you can play with individual parts as well.\n",
    "# for example, isolate a specific document\n",
    "comparison.show_per_document(limit=10)"
   ]
  },
  {
   "cell_type": "markdown",
   "metadata": {},
   "source": [
    "# Saving annotation output to CSV file\n",
    "You can also save the annotation output to a .csv file. That file inclues the following columns:\n",
    "```\n",
    "doc_id  text    ann1    ann2\n",
    "```\n",
    "where `doc_id` refers to the ID of the document in question, `text` is the relevant text around the specific annotation, `ann1` is the annotation json for model 1 (if present), and `ann2` is the annotation json for model 2 (if present).\n",
    "\n",
    "*Note:* One of the annotations may not be present. This is the case if one of the models did not annotate that specific span."
   ]
  },
  {
   "cell_type": "code",
   "execution_count": null,
   "metadata": {},
   "outputs": [],
   "source": [
    "comparison.diffs_to_csv(\"23vs24_annotations.csv\")"
   ]
  },
  {
   "cell_type": "markdown",
   "metadata": {},
   "source": [
    "## More granual details (per cui view)\n",
    "\n",
    "We may also want to look at how we did for a specific CUI.\n",
    "This is how we can do that."
   ]
  },
  {
   "cell_type": "code",
   "execution_count": 5,
   "metadata": {},
   "outputs": [
    {
     "data": {
      "text/markdown": [
       "| Path | First | Second |\n",
       "| ----- | ----- | ----- |\n",
       "| name                                     | Headache (and 76 children)               | Headache (and 96 children)               |\n",
       "| count                                    | 1150                                     | 1263                                     |\n",
       "| acc                                      | 27.412337008966013                       | 29.86313578127611                        |\n",
       "| forms                                    | 50                                       | 52                                       |"
      ],
      "text/plain": [
       "<IPython.core.display.Markdown object>"
      ]
     },
     "metadata": {},
     "output_type": "display_data"
    }
   ],
   "source": [
    "# cui = '37151006'  # Erythromelalgia\n",
    "cui = '25064002'  # headache\n",
    "comparison.compare_for_cui(cui)"
   ]
  },
  {
   "cell_type": "markdown",
   "metadata": {},
   "source": [
    "## More granual details (per annotation view)\n",
    "Sometimes we may want to look at things on a per annotation basis as well.\n",
    "That is, we want to look at some annotations and compare them between the two models."
   ]
  },
  {
   "cell_type": "code",
   "execution_count": 11,
   "metadata": {},
   "outputs": [
    {
     "name": "stdout",
     "output_type": "stream",
     "text": [
      "==================== \n",
      "Chemokines Updates_1. Chemokines Effective on Platelet Functions (AnnotationComparisonType.SAME_SPAN_DIFF_CONCEPT) \n",
      "====================\n"
     ]
    },
    {
     "data": {
      "text/markdown": [
       "| Path | First | Second |\n",
       "| ----- | ----- | ----- |\n",
       "| pretty_name                              | Chemical                                 | Chemical                                 |\n",
       "| cui                                      | 723701000000100                          | 441900009                                |\n",
       "| type_ids                                 | ['7882689']                              | ['91187746']                             |\n",
       "| types                                    | ['']                                     | ['substance']                            |\n",
       "| source_value                             | chemical                                 | chemical                                 |\n",
       "| detected_name                            | chemical                                 | chemical                                 |\n",
       "| acc                                      | 0.99                                     | 0.673498179708426                        |\n",
       "| context_similarity                       | 0.99                                     | 0.673498179708426                        |\n",
       "| start                                    | 49                                       | 49                                       |\n",
       "| end                                      | 57                                       | 57                                       |\n",
       "| icd10                                    | []                                       | []                                       |\n",
       "| ontologies                               | ['20220803_SNOMED_UK_CLINICAL_EXT']      | ['SNOMED-CT']                            |\n",
       "| snomed                                   | []                                       | []                                       |\n",
       "| id                                       | 1                                        | 1                                        |\n",
       "| meta_anns (Dict[str, dict])              | 3                                        | 0                                        |"
      ],
      "text/plain": [
       "<IPython.core.display.Markdown object>"
      ]
     },
     "metadata": {},
     "output_type": "display_data"
    },
    {
     "name": "stdout",
     "output_type": "stream",
     "text": [
      "==================== \n",
      "Chemokines Updates_1. Chemokines Effective on Platelet Functions (AnnotationComparisonType.SAME_SPAN_DIFF_CONCEPT) \n",
      "====================\n"
     ]
    },
    {
     "data": {
      "text/markdown": [
       "| Path | First | Second |\n",
       "| ----- | ----- | ----- |\n",
       "| pretty_name                              | Cell count                               | Cell structure                           |\n",
       "| cui                                      | 118218001                                | 4421005                                  |\n",
       "| type_ids                                 | ['28321150']                             | ['66527446']                             |\n",
       "| types                                    | ['']                                     | ['cell structure']                       |\n",
       "| source_value                             | cell                                     | cell                                     |\n",
       "| detected_name                            | cell                                     | cell                                     |\n",
       "| acc                                      | 0.6106036173080597                       | 0.99                                     |\n",
       "| context_similarity                       | 0.6106036173080597                       | 0.99                                     |\n",
       "| start                                    | 225                                      | 225                                      |\n",
       "| end                                      | 229                                      | 229                                      |\n",
       "| icd10                                    | []                                       | []                                       |\n",
       "| ontologies                               | ['20220803_SNOMED_UK_CLINICAL_EXT']      | ['SNOMED-CT']                            |\n",
       "| snomed                                   | []                                       | []                                       |\n",
       "| id                                       | 11                                       | 11                                       |\n",
       "| meta_anns (Dict[str, dict])              | 3                                        | 0                                        |"
      ],
      "text/plain": [
       "<IPython.core.display.Markdown object>"
      ]
     },
     "metadata": {},
     "output_type": "display_data"
    },
    {
     "name": "stdout",
     "output_type": "stream",
     "text": [
      "==================== \n",
      "Chemokines Updates_1. Chemokines Effective on Platelet Functions (AnnotationComparisonType.SECOND_HAS) \n",
      "====================\n"
     ]
    },
    {
     "data": {
      "text/markdown": [
       "| Path | First | Second |\n",
       "| ----- | ----- | ----- |\n",
       "| pretty_name                              |                                          | Milliliter                               |\n",
       "| cui                                      |                                          | 258773002                                |\n",
       "| type_ids                                 |                                          | ['7882689']                              |\n",
       "| types                                    |                                          | ['qualifier value']                      |\n",
       "| source_value                             |                                          | CC                                       |\n",
       "| detected_name                            |                                          | cc                                       |\n",
       "| acc                                      |                                          | 0.3401812853949322                       |\n",
       "| context_similarity                       |                                          | 0.3401812853949322                       |\n",
       "| start                                    |                                          | 482                                      |\n",
       "| end                                      |                                          | 484                                      |\n",
       "| icd10                                    |                                          | []                                       |\n",
       "| ontologies                               |                                          | ['SNOMED-CT']                            |\n",
       "| snomed                                   |                                          | []                                       |\n",
       "| id                                       |                                          | 29                                       |\n",
       "| meta_anns (Dict[str, dict])              | 0                                        | 0                                        |"
      ],
      "text/plain": [
       "<IPython.core.display.Markdown object>"
      ]
     },
     "metadata": {},
     "output_type": "display_data"
    },
    {
     "name": "stdout",
     "output_type": "stream",
     "text": [
      "==================== \n",
      "Chemokines Updates_1. Chemokines Effective on Platelet Functions (AnnotationComparisonType.SAME_SPAN_DIFF_CONCEPT) \n",
      "====================\n"
     ]
    },
    {
     "data": {
      "text/markdown": [
       "| Path | First | Second |\n",
       "| ----- | ----- | ----- |\n",
       "| pretty_name                              | Surface                                  | Surface                                  |\n",
       "| cui                                      | 410678000                                | 410679008                                |\n",
       "| type_ids                                 | ['43039974']                             | ['7882689']                              |\n",
       "| types                                    | ['']                                     | ['qualifier value']                      |\n",
       "| source_value                             | surfaces                                 | surfaces                                 |\n",
       "| detected_name                            | surface                                  | surface                                  |\n",
       "| acc                                      | 0.5937743776218167                       | 0.5777045693410597                       |\n",
       "| context_similarity                       | 0.5937743776218167                       | 0.5777045693410597                       |\n",
       "| start                                    | 679                                      | 679                                      |\n",
       "| end                                      | 687                                      | 687                                      |\n",
       "| icd10                                    | []                                       | []                                       |\n",
       "| ontologies                               | ['20220803_SNOMED_UK_CLINICAL_EXT']      | ['SNOMED-CT']                            |\n",
       "| snomed                                   | []                                       | []                                       |\n",
       "| id                                       | 39                                       | 39                                       |\n",
       "| meta_anns (Dict[str, dict])              | 3                                        | 0                                        |"
      ],
      "text/plain": [
       "<IPython.core.display.Markdown object>"
      ]
     },
     "metadata": {},
     "output_type": "display_data"
    },
    {
     "name": "stdout",
     "output_type": "stream",
     "text": [
      "==================== \n",
      "Chemokines Updates_1. Chemokines Effective on Platelet Functions (AnnotationComparisonType.SAME_SPAN_DIFF_CONCEPT) \n",
      "====================\n"
     ]
    },
    {
     "data": {
      "text/markdown": [
       "| Path | First | Second |\n",
       "| ----- | ----- | ----- |\n",
       "| pretty_name                              | Cell count                               | Cell structure                           |\n",
       "| cui                                      | 118218001                                | 4421005                                  |\n",
       "| type_ids                                 | ['28321150']                             | ['66527446']                             |\n",
       "| types                                    | ['']                                     | ['cell structure']                       |\n",
       "| source_value                             | cells                                    | cells                                    |\n",
       "| detected_name                            | cell                                     | cell                                     |\n",
       "| acc                                      | 0.5849309261977091                       | 0.99                                     |\n",
       "| context_similarity                       | 0.5849309261977091                       | 0.99                                     |\n",
       "| start                                    | 781                                      | 781                                      |\n",
       "| end                                      | 786                                      | 786                                      |\n",
       "| icd10                                    | []                                       | []                                       |\n",
       "| ontologies                               | ['20220803_SNOMED_UK_CLINICAL_EXT']      | ['SNOMED-CT']                            |\n",
       "| snomed                                   | []                                       | []                                       |\n",
       "| id                                       | 45                                       | 45                                       |\n",
       "| meta_anns (Dict[str, dict])              | 3                                        | 0                                        |"
      ],
      "text/plain": [
       "<IPython.core.display.Markdown object>"
      ]
     },
     "metadata": {},
     "output_type": "display_data"
    },
    {
     "name": "stdout",
     "output_type": "stream",
     "text": [
      "==================== \n",
      "Chemokines Updates_1. Chemokines Effective on Platelet Functions (AnnotationComparisonType.SECOND_HAS) \n",
      "====================\n"
     ]
    },
    {
     "data": {
      "text/markdown": [
       "| Path | First | Second |\n",
       "| ----- | ----- | ----- |\n",
       "| pretty_name                              |                                          | Process                                  |\n",
       "| cui                                      |                                          | 415178003                                |\n",
       "| type_ids                                 |                                          | ['2680757']                              |\n",
       "| types                                    |                                          | ['observable entity']                    |\n",
       "| source_value                             |                                          | processes                                |\n",
       "| detected_name                            |                                          | process                                  |\n",
       "| acc                                      |                                          | 0.664352034592595                        |\n",
       "| context_similarity                       |                                          | 0.664352034592595                        |\n",
       "| start                                    |                                          | 821                                      |\n",
       "| end                                      |                                          | 830                                      |\n",
       "| icd10                                    |                                          | []                                       |\n",
       "| ontologies                               |                                          | ['SNOMED-CT']                            |\n",
       "| snomed                                   |                                          | []                                       |\n",
       "| id                                       |                                          | 48                                       |\n",
       "| meta_anns (Dict[str, dict])              | 0                                        | 0                                        |"
      ],
      "text/plain": [
       "<IPython.core.display.Markdown object>"
      ]
     },
     "metadata": {},
     "output_type": "display_data"
    },
    {
     "name": "stdout",
     "output_type": "stream",
     "text": [
      "==================== \n",
      "Chemokines Updates_1. Chemokines Effective on Platelet Functions (AnnotationComparisonType.SAME_SPAN_DIFF_CONCEPT) \n",
      "====================\n"
     ]
    },
    {
     "data": {
      "text/markdown": [
       "| Path | First | Second |\n",
       "| ----- | ----- | ----- |\n",
       "| pretty_name                              | Thrombotic disorder                      | Thrombosis                               |\n",
       "| cui                                      | 118927008                                | 264579008                                |\n",
       "| type_ids                                 | ['82417248']                             | ['7882689']                              |\n",
       "| types                                    | ['']                                     | ['qualifier value']                      |\n",
       "| source_value                             | thrombosis                               | thrombosis                               |\n",
       "| detected_name                            | thrombosi                                | thrombosis                               |\n",
       "| acc                                      | 0.6640883997345817                       | 0.99                                     |\n",
       "| context_similarity                       | 0.6640883997345817                       | 0.99                                     |\n",
       "| start                                    | 882                                      | 882                                      |\n",
       "| end                                      | 892                                      | 892                                      |\n",
       "| icd10                                    | []                                       | []                                       |\n",
       "| ontologies                               | ['20220803_SNOMED_UK_CLINICAL_EXT']      | ['SNOMED-CT']                            |\n",
       "| snomed                                   | []                                       | []                                       |\n",
       "| id                                       | 51                                       | 51                                       |\n",
       "| meta_anns (Dict[str, dict])              | 3                                        | 0                                        |"
      ],
      "text/plain": [
       "<IPython.core.display.Markdown object>"
      ]
     },
     "metadata": {},
     "output_type": "display_data"
    },
    {
     "name": "stdout",
     "output_type": "stream",
     "text": [
      "==================== \n",
      "Chemokines Updates_1. Chemokines Effective on Platelet Functions (AnnotationComparisonType.SAME_SPAN_DIFF_CONCEPT) \n",
      "====================\n"
     ]
    },
    {
     "data": {
      "text/markdown": [
       "| Path | First | Second |\n",
       "| ----- | ----- | ----- |\n",
       "| pretty_name                              | Vessel                                   | Blood vessel structure                   |\n",
       "| cui                                      | 733025002                                | 59820001                                 |\n",
       "| type_ids                                 | ['39041339']                             | ['37552161']                             |\n",
       "| types                                    | ['']                                     | ['body structure']                       |\n",
       "| source_value                             | vessel                                   | vessel                                   |\n",
       "| detected_name                            | vessel                                   | vessel                                   |\n",
       "| acc                                      | 0.6563081343130345                       | 0.99                                     |\n",
       "| context_similarity                       | 0.6563081343130345                       | 0.99                                     |\n",
       "| start                                    | 915                                      | 915                                      |\n",
       "| end                                      | 921                                      | 921                                      |\n",
       "| icd10                                    | []                                       | []                                       |\n",
       "| ontologies                               | ['20220803_SNOMED_UK_CLINICAL_EXT']      | ['SNOMED-CT']                            |\n",
       "| snomed                                   | []                                       | []                                       |\n",
       "| id                                       | 53                                       | 53                                       |\n",
       "| meta_anns (Dict[str, dict])              | 3                                        | 0                                        |"
      ],
      "text/plain": [
       "<IPython.core.display.Markdown object>"
      ]
     },
     "metadata": {},
     "output_type": "display_data"
    },
    {
     "name": "stdout",
     "output_type": "stream",
     "text": [
      "==================== \n",
      "Chemokines Updates_1. Chemokines Effective on Platelet Functions (AnnotationComparisonType.SECOND_HAS) \n",
      "====================\n"
     ]
    },
    {
     "data": {
      "text/markdown": [
       "| Path | First | Second |\n",
       "| ----- | ----- | ----- |\n",
       "| pretty_name                              |                                          | Regeneration                             |\n",
       "| cui                                      |                                          | 34636005                                 |\n",
       "| type_ids                                 |                                          | ['33782986']                             |\n",
       "| types                                    |                                          | ['morphologic abnormality']              |\n",
       "| source_value                             |                                          | regeneration                             |\n",
       "| detected_name                            |                                          | regeneration                             |\n",
       "| acc                                      |                                          | 0.99                                     |\n",
       "| context_similarity                       |                                          | 0.99                                     |\n",
       "| start                                    |                                          | 933                                      |\n",
       "| end                                      |                                          | 945                                      |\n",
       "| icd10                                    |                                          | []                                       |\n",
       "| ontologies                               |                                          | ['SNOMED-CT']                            |\n",
       "| snomed                                   |                                          | []                                       |\n",
       "| id                                       |                                          | 55                                       |\n",
       "| meta_anns (Dict[str, dict])              | 0                                        | 0                                        |"
      ],
      "text/plain": [
       "<IPython.core.display.Markdown object>"
      ]
     },
     "metadata": {},
     "output_type": "display_data"
    },
    {
     "name": "stdout",
     "output_type": "stream",
     "text": [
      "==================== \n",
      "Chemokines Updates_1. Chemokines Effective on Platelet Functions (AnnotationComparisonType.FIRST_HAS) \n",
      "====================\n"
     ]
    },
    {
     "data": {
      "text/markdown": [
       "| Path | First | Second |\n",
       "| ----- | ----- | ----- |\n",
       "| pretty_name                              | Platelet factor 4 assay                  |                                          |\n",
       "| cui                                      | 103847006                                |                                          |\n",
       "| type_ids                                 | ['28321150']                             |                                          |\n",
       "| types                                    | ['']                                     |                                          |\n",
       "| source_value                             | CXCL4                                    |                                          |\n",
       "| detected_name                            | cxcl4                                    |                                          |\n",
       "| acc                                      | 1.0                                      |                                          |\n",
       "| context_similarity                       | 1.0                                      |                                          |\n",
       "| start                                    | 990                                      |                                          |\n",
       "| end                                      | 995                                      |                                          |\n",
       "| icd10                                    | []                                       |                                          |\n",
       "| ontologies                               | ['20220803_SNOMED_UK_CLINICAL_EXT']      |                                          |\n",
       "| snomed                                   | []                                       |                                          |\n",
       "| id                                       | 60                                       |                                          |\n",
       "| meta_anns (Dict[str, dict])              | 3                                        | 0                                        |"
      ],
      "text/plain": [
       "<IPython.core.display.Markdown object>"
      ]
     },
     "metadata": {},
     "output_type": "display_data"
    },
    {
     "name": "stdout",
     "output_type": "stream",
     "text": [
      "==================== \n",
      "Chemokines Updates_1. Chemokines Effective on Platelet Functions (AnnotationComparisonType.OVERLAPP_2ND_LARGER_DIFF_CONCEPT) \n",
      "====================\n"
     ]
    },
    {
     "data": {
      "text/markdown": [
       "| Path | First | Second |\n",
       "| ----- | ----- | ----- |\n",
       "| pretty_name                              | Platelet                                 | Platelet factor 4                        |\n",
       "| cui                                      | 16378004                                 | 21289006                                 |\n",
       "| type_ids                                 | ['66527446']                             | ['91187746']                             |\n",
       "| types                                    | ['']                                     | ['substance']                            |\n",
       "| source_value                             | platelet                                 | platelet factor 4                        |\n",
       "| detected_name                            | platelet                                 | platelet~factor~4                        |\n",
       "| acc                                      | 0.99                                     | 0.99                                     |\n",
       "| context_similarity                       | 0.99                                     | 0.99                                     |\n",
       "| start                                    | 997                                      | 997                                      |\n",
       "| end                                      | 1005                                     | 1014                                     |\n",
       "| icd10                                    | []                                       | []                                       |\n",
       "| ontologies                               | ['20220803_SNOMED_UK_CLINICAL_EXT']      | ['SNOMED-CT']                            |\n",
       "| snomed                                   | []                                       | []                                       |\n",
       "| id                                       | 61                                       | 61                                       |\n",
       "| meta_anns (Dict[str, dict])              | 3                                        | 0                                        |"
      ],
      "text/plain": [
       "<IPython.core.display.Markdown object>"
      ]
     },
     "metadata": {},
     "output_type": "display_data"
    },
    {
     "name": "stdout",
     "output_type": "stream",
     "text": [
      "==================== \n",
      "Chemokines Updates_1. Chemokines Effective on Platelet Functions (AnnotationComparisonType.FIRST_HAS) \n",
      "====================\n"
     ]
    },
    {
     "data": {
      "text/markdown": [
       "| Path | First | Second |\n",
       "| ----- | ----- | ----- |\n",
       "| pretty_name                              | Roman numeral III                        |                                          |\n",
       "| cui                                      | 257471003                                |                                          |\n",
       "| type_ids                                 | ['7882689']                              |                                          |\n",
       "| types                                    | ['']                                     |                                          |\n",
       "| source_value                             | III                                      |                                          |\n",
       "| detected_name                            | iii                                      |                                          |\n",
       "| acc                                      | 1.0                                      |                                          |\n",
       "| context_similarity                       | 1.0                                      |                                          |\n",
       "| start                                    | 1136                                     |                                          |\n",
       "| end                                      | 1139                                     |                                          |\n",
       "| icd10                                    | []                                       |                                          |\n",
       "| ontologies                               | ['20220803_SNOMED_UK_CLINICAL_EXT']      |                                          |\n",
       "| snomed                                   | []                                       |                                          |\n",
       "| id                                       | 71                                       |                                          |\n",
       "| meta_anns (Dict[str, dict])              | 3                                        | 0                                        |"
      ],
      "text/plain": [
       "<IPython.core.display.Markdown object>"
      ]
     },
     "metadata": {},
     "output_type": "display_data"
    },
    {
     "name": "stdout",
     "output_type": "stream",
     "text": [
      "==================== \n",
      "Chemokines Updates_1. Chemokines Effective on Platelet Functions (AnnotationComparisonType.FIRST_HAS) \n",
      "====================\n"
     ]
    },
    {
     "data": {
      "text/markdown": [
       "| Path | First | Second |\n",
       "| ----- | ----- | ----- |\n",
       "| pretty_name                              | Author                                   |                                          |\n",
       "| cui                                      | 37920003                                 |                                          |\n",
       "| type_ids                                 | ['16939031']                             |                                          |\n",
       "| types                                    | ['']                                     |                                          |\n",
       "| source_value                             | Author                                   |                                          |\n",
       "| detected_name                            | author                                   |                                          |\n",
       "| acc                                      | 0.3015753219858792                       |                                          |\n",
       "| context_similarity                       | 0.3015753219858792                       |                                          |\n",
       "| start                                    | 1327                                     |                                          |\n",
       "| end                                      | 1333                                     |                                          |\n",
       "| icd10                                    | []                                       |                                          |\n",
       "| ontologies                               | ['20220803_SNOMED_UK_CLINICAL_EXT']      |                                          |\n",
       "| snomed                                   | []                                       |                                          |\n",
       "| id                                       | 79                                       |                                          |\n",
       "| meta_anns (Dict[str, dict])              | 3                                        | 0                                        |"
      ],
      "text/plain": [
       "<IPython.core.display.Markdown object>"
      ]
     },
     "metadata": {},
     "output_type": "display_data"
    },
    {
     "name": "stdout",
     "output_type": "stream",
     "text": [
      "==================== \n",
      "Chemokines Updates_1. Chemokines Effective on Platelet Functions (AnnotationComparisonType.FIRST_HAS) \n",
      "====================\n"
     ]
    },
    {
     "data": {
      "text/markdown": [
       "| Path | First | Second |\n",
       "| ----- | ----- | ----- |\n",
       "| pretty_name                              | Introduction procedure                   |                                          |\n",
       "| cui                                      | 107733003                                |                                          |\n",
       "| type_ids                                 | ['28321150']                             |                                          |\n",
       "| types                                    | ['']                                     |                                          |\n",
       "| source_value                             | Introduction                             |                                          |\n",
       "| detected_name                            | introduction                             |                                          |\n",
       "| acc                                      | 1.0                                      |                                          |\n",
       "| context_similarity                       | 1.0                                      |                                          |\n",
       "| start                                    | 1349                                     |                                          |\n",
       "| end                                      | 1361                                     |                                          |\n",
       "| icd10                                    | []                                       |                                          |\n",
       "| ontologies                               | ['20220803_SNOMED_UK_CLINICAL_EXT']      |                                          |\n",
       "| snomed                                   | []                                       |                                          |\n",
       "| id                                       | 81                                       |                                          |\n",
       "| meta_anns (Dict[str, dict])              | 3                                        | 0                                        |"
      ],
      "text/plain": [
       "<IPython.core.display.Markdown object>"
      ]
     },
     "metadata": {},
     "output_type": "display_data"
    },
    {
     "name": "stdout",
     "output_type": "stream",
     "text": [
      "==================== \n",
      "Chemokines Updates_1. Chemokines Effective on Platelet Functions (AnnotationComparisonType.SAME_SPAN_DIFF_CONCEPT) \n",
      "====================\n"
     ]
    },
    {
     "data": {
      "text/markdown": [
       "| Path | First | Second |\n",
       "| ----- | ----- | ----- |\n",
       "| pretty_name                              | Cell count                               | Cell structure                           |\n",
       "| cui                                      | 118218001                                | 4421005                                  |\n",
       "| type_ids                                 | ['28321150']                             | ['66527446']                             |\n",
       "| types                                    | ['']                                     | ['cell structure']                       |\n",
       "| source_value                             | cell                                     | cell                                     |\n",
       "| detected_name                            | cell                                     | cell                                     |\n",
       "| acc                                      | 0.6112757183423757                       | 0.99                                     |\n",
       "| context_similarity                       | 0.6112757183423757                       | 0.99                                     |\n",
       "| start                                    | 1578                                     | 1578                                     |\n",
       "| end                                      | 1582                                     | 1582                                     |\n",
       "| icd10                                    | []                                       | []                                       |\n",
       "| ontologies                               | ['20220803_SNOMED_UK_CLINICAL_EXT']      | ['SNOMED-CT']                            |\n",
       "| snomed                                   | []                                       | []                                       |\n",
       "| id                                       | 93                                       | 91                                       |\n",
       "| meta_anns (Dict[str, dict])              | 3                                        | 0                                        |"
      ],
      "text/plain": [
       "<IPython.core.display.Markdown object>"
      ]
     },
     "metadata": {},
     "output_type": "display_data"
    },
    {
     "name": "stdout",
     "output_type": "stream",
     "text": [
      "==================== \n",
      "Chemokines Updates_1. Chemokines Effective on Platelet Functions (AnnotationComparisonType.SECOND_HAS) \n",
      "====================\n"
     ]
    },
    {
     "data": {
      "text/markdown": [
       "| Path | First | Second |\n",
       "| ----- | ----- | ----- |\n",
       "| pretty_name                              |                                          | Milliliter                               |\n",
       "| cui                                      |                                          | 258773002                                |\n",
       "| type_ids                                 |                                          | ['7882689']                              |\n",
       "| types                                    |                                          | ['qualifier value']                      |\n",
       "| source_value                             |                                          | CC                                       |\n",
       "| detected_name                            |                                          | cc                                       |\n",
       "| acc                                      |                                          | 0.3401812853949322                       |\n",
       "| context_similarity                       |                                          | 0.3401812853949322                       |\n",
       "| start                                    |                                          | 1837                                     |\n",
       "| end                                      |                                          | 1839                                     |\n",
       "| icd10                                    |                                          | []                                       |\n",
       "| ontologies                               |                                          | ['SNOMED-CT']                            |\n",
       "| snomed                                   |                                          | []                                       |\n",
       "| id                                       |                                          | 110                                      |\n",
       "| meta_anns (Dict[str, dict])              | 0                                        | 0                                        |"
      ],
      "text/plain": [
       "<IPython.core.display.Markdown object>"
      ]
     },
     "metadata": {},
     "output_type": "display_data"
    },
    {
     "name": "stdout",
     "output_type": "stream",
     "text": [
      "==================== \n",
      "Chemokines Updates_1. Chemokines Effective on Platelet Functions (AnnotationComparisonType.SAME_SPAN_DIFF_CONCEPT) \n",
      "====================\n"
     ]
    },
    {
     "data": {
      "text/markdown": [
       "| Path | First | Second |\n",
       "| ----- | ----- | ----- |\n",
       "| pretty_name                              | Surface                                  | Surface                                  |\n",
       "| cui                                      | 410678000                                | 410679008                                |\n",
       "| type_ids                                 | ['43039974']                             | ['7882689']                              |\n",
       "| types                                    | ['']                                     | ['qualifier value']                      |\n",
       "| source_value                             | surfaces                                 | surfaces                                 |\n",
       "| detected_name                            | surface                                  | surface                                  |\n",
       "| acc                                      | 0.5937743776218167                       | 0.5777045693410597                       |\n",
       "| context_similarity                       | 0.5937743776218167                       | 0.5777045693410597                       |\n",
       "| start                                    | 2034                                     | 2034                                     |\n",
       "| end                                      | 2042                                     | 2042                                     |\n",
       "| icd10                                    | []                                       | []                                       |\n",
       "| ontologies                               | ['20220803_SNOMED_UK_CLINICAL_EXT']      | ['SNOMED-CT']                            |\n",
       "| snomed                                   | []                                       | []                                       |\n",
       "| id                                       | 122                                      | 120                                      |\n",
       "| meta_anns (Dict[str, dict])              | 3                                        | 0                                        |"
      ],
      "text/plain": [
       "<IPython.core.display.Markdown object>"
      ]
     },
     "metadata": {},
     "output_type": "display_data"
    },
    {
     "name": "stdout",
     "output_type": "stream",
     "text": [
      "==================== \n",
      "Chemokines Updates_1. Chemokines Effective on Platelet Functions (AnnotationComparisonType.SAME_SPAN_DIFF_CONCEPT) \n",
      "====================\n"
     ]
    },
    {
     "data": {
      "text/markdown": [
       "| Path | First | Second |\n",
       "| ----- | ----- | ----- |\n",
       "| pretty_name                              | Cell count                               | Cell structure                           |\n",
       "| cui                                      | 118218001                                | 4421005                                  |\n",
       "| type_ids                                 | ['28321150']                             | ['66527446']                             |\n",
       "| types                                    | ['']                                     | ['cell structure']                       |\n",
       "| source_value                             | cells                                    | cells                                    |\n",
       "| detected_name                            | cell                                     | cell                                     |\n",
       "| acc                                      | 0.5849309261977091                       | 0.99                                     |\n",
       "| context_similarity                       | 0.5849309261977091                       | 0.99                                     |\n",
       "| start                                    | 2136                                     | 2136                                     |\n",
       "| end                                      | 2141                                     | 2141                                     |\n",
       "| icd10                                    | []                                       | []                                       |\n",
       "| ontologies                               | ['20220803_SNOMED_UK_CLINICAL_EXT']      | ['SNOMED-CT']                            |\n",
       "| snomed                                   | []                                       | []                                       |\n",
       "| id                                       | 128                                      | 126                                      |\n",
       "| meta_anns (Dict[str, dict])              | 3                                        | 0                                        |"
      ],
      "text/plain": [
       "<IPython.core.display.Markdown object>"
      ]
     },
     "metadata": {},
     "output_type": "display_data"
    },
    {
     "name": "stdout",
     "output_type": "stream",
     "text": [
      "==================== \n",
      "Chemokines Updates_1. Chemokines Effective on Platelet Functions (AnnotationComparisonType.SECOND_HAS) \n",
      "====================\n"
     ]
    },
    {
     "data": {
      "text/markdown": [
       "| Path | First | Second |\n",
       "| ----- | ----- | ----- |\n",
       "| pretty_name                              |                                          | Process                                  |\n",
       "| cui                                      |                                          | 415178003                                |\n",
       "| type_ids                                 |                                          | ['2680757']                              |\n",
       "| types                                    |                                          | ['observable entity']                    |\n",
       "| source_value                             |                                          | processes                                |\n",
       "| detected_name                            |                                          | process                                  |\n",
       "| acc                                      |                                          | 0.664352034592595                        |\n",
       "| context_similarity                       |                                          | 0.664352034592595                        |\n",
       "| start                                    |                                          | 2176                                     |\n",
       "| end                                      |                                          | 2185                                     |\n",
       "| icd10                                    |                                          | []                                       |\n",
       "| ontologies                               |                                          | ['SNOMED-CT']                            |\n",
       "| snomed                                   |                                          | []                                       |\n",
       "| id                                       |                                          | 129                                      |\n",
       "| meta_anns (Dict[str, dict])              | 0                                        | 0                                        |"
      ],
      "text/plain": [
       "<IPython.core.display.Markdown object>"
      ]
     },
     "metadata": {},
     "output_type": "display_data"
    },
    {
     "name": "stdout",
     "output_type": "stream",
     "text": [
      "==================== \n",
      "Chemokines Updates_1. Chemokines Effective on Platelet Functions (AnnotationComparisonType.SAME_SPAN_DIFF_CONCEPT) \n",
      "====================\n"
     ]
    },
    {
     "data": {
      "text/markdown": [
       "| Path | First | Second |\n",
       "| ----- | ----- | ----- |\n",
       "| pretty_name                              | Thrombotic disorder                      | Thrombosis                               |\n",
       "| cui                                      | 118927008                                | 264579008                                |\n",
       "| type_ids                                 | ['82417248']                             | ['7882689']                              |\n",
       "| types                                    | ['']                                     | ['qualifier value']                      |\n",
       "| source_value                             | thrombosis                               | thrombosis                               |\n",
       "| detected_name                            | thrombosi                                | thrombosis                               |\n",
       "| acc                                      | 0.6640883997345817                       | 0.99                                     |\n",
       "| context_similarity                       | 0.6640883997345817                       | 0.99                                     |\n",
       "| start                                    | 2237                                     | 2237                                     |\n",
       "| end                                      | 2247                                     | 2247                                     |\n",
       "| icd10                                    | []                                       | []                                       |\n",
       "| ontologies                               | ['20220803_SNOMED_UK_CLINICAL_EXT']      | ['SNOMED-CT']                            |\n",
       "| snomed                                   | []                                       | []                                       |\n",
       "| id                                       | 134                                      | 132                                      |\n",
       "| meta_anns (Dict[str, dict])              | 3                                        | 0                                        |"
      ],
      "text/plain": [
       "<IPython.core.display.Markdown object>"
      ]
     },
     "metadata": {},
     "output_type": "display_data"
    },
    {
     "name": "stdout",
     "output_type": "stream",
     "text": [
      "==================== \n",
      "Chemokines Updates_1. Chemokines Effective on Platelet Functions (AnnotationComparisonType.SAME_SPAN_DIFF_CONCEPT) \n",
      "====================\n"
     ]
    },
    {
     "data": {
      "text/markdown": [
       "| Path | First | Second |\n",
       "| ----- | ----- | ----- |\n",
       "| pretty_name                              | Vessel                                   | Blood vessel structure                   |\n",
       "| cui                                      | 733025002                                | 59820001                                 |\n",
       "| type_ids                                 | ['39041339']                             | ['37552161']                             |\n",
       "| types                                    | ['']                                     | ['body structure']                       |\n",
       "| source_value                             | vessel                                   | vessel                                   |\n",
       "| detected_name                            | vessel                                   | vessel                                   |\n",
       "| acc                                      | 0.6563081343130345                       | 0.99                                     |\n",
       "| context_similarity                       | 0.6563081343130345                       | 0.99                                     |\n",
       "| start                                    | 2270                                     | 2270                                     |\n",
       "| end                                      | 2276                                     | 2276                                     |\n",
       "| icd10                                    | []                                       | []                                       |\n",
       "| ontologies                               | ['20220803_SNOMED_UK_CLINICAL_EXT']      | ['SNOMED-CT']                            |\n",
       "| snomed                                   | []                                       | []                                       |\n",
       "| id                                       | 136                                      | 134                                      |\n",
       "| meta_anns (Dict[str, dict])              | 3                                        | 0                                        |"
      ],
      "text/plain": [
       "<IPython.core.display.Markdown object>"
      ]
     },
     "metadata": {},
     "output_type": "display_data"
    },
    {
     "name": "stdout",
     "output_type": "stream",
     "text": [
      "==================== \n",
      "Chemokines Updates_1. Chemokines Effective on Platelet Functions (AnnotationComparisonType.SECOND_HAS) \n",
      "====================\n"
     ]
    },
    {
     "data": {
      "text/markdown": [
       "| Path | First | Second |\n",
       "| ----- | ----- | ----- |\n",
       "| pretty_name                              |                                          | Regeneration                             |\n",
       "| cui                                      |                                          | 34636005                                 |\n",
       "| type_ids                                 |                                          | ['33782986']                             |\n",
       "| types                                    |                                          | ['morphologic abnormality']              |\n",
       "| source_value                             |                                          | regeneration                             |\n",
       "| detected_name                            |                                          | regeneration                             |\n",
       "| acc                                      |                                          | 0.99                                     |\n",
       "| context_similarity                       |                                          | 0.99                                     |\n",
       "| start                                    |                                          | 2288                                     |\n",
       "| end                                      |                                          | 2300                                     |\n",
       "| icd10                                    |                                          | []                                       |\n",
       "| ontologies                               |                                          | ['SNOMED-CT']                            |\n",
       "| snomed                                   |                                          | []                                       |\n",
       "| id                                       |                                          | 136                                      |\n",
       "| meta_anns (Dict[str, dict])              | 0                                        | 0                                        |"
      ],
      "text/plain": [
       "<IPython.core.display.Markdown object>"
      ]
     },
     "metadata": {},
     "output_type": "display_data"
    },
    {
     "name": "stdout",
     "output_type": "stream",
     "text": [
      "==================== \n",
      "Chemokines Updates_1. Chemokines Effective on Platelet Functions (AnnotationComparisonType.FIRST_HAS) \n",
      "====================\n"
     ]
    },
    {
     "data": {
      "text/markdown": [
       "| Path | First | Second |\n",
       "| ----- | ----- | ----- |\n",
       "| pretty_name                              | Platelet factor 4 assay                  |                                          |\n",
       "| cui                                      | 103847006                                |                                          |\n",
       "| type_ids                                 | ['28321150']                             |                                          |\n",
       "| types                                    | ['']                                     |                                          |\n",
       "| source_value                             | CXCL4                                    |                                          |\n",
       "| detected_name                            | cxcl4                                    |                                          |\n",
       "| acc                                      | 1.0                                      |                                          |\n",
       "| context_similarity                       | 1.0                                      |                                          |\n",
       "| start                                    | 2345                                     |                                          |\n",
       "| end                                      | 2350                                     |                                          |\n",
       "| icd10                                    | []                                       |                                          |\n",
       "| ontologies                               | ['20220803_SNOMED_UK_CLINICAL_EXT']      |                                          |\n",
       "| snomed                                   | []                                       |                                          |\n",
       "| id                                       | 143                                      |                                          |\n",
       "| meta_anns (Dict[str, dict])              | 3                                        | 0                                        |"
      ],
      "text/plain": [
       "<IPython.core.display.Markdown object>"
      ]
     },
     "metadata": {},
     "output_type": "display_data"
    },
    {
     "name": "stdout",
     "output_type": "stream",
     "text": [
      "==================== \n",
      "Chemokines Updates_1. Chemokines Effective on Platelet Functions (AnnotationComparisonType.OVERLAPP_2ND_LARGER_DIFF_CONCEPT) \n",
      "====================\n"
     ]
    },
    {
     "data": {
      "text/markdown": [
       "| Path | First | Second |\n",
       "| ----- | ----- | ----- |\n",
       "| pretty_name                              | Platelet                                 | Platelet factor 4                        |\n",
       "| cui                                      | 16378004                                 | 21289006                                 |\n",
       "| type_ids                                 | ['66527446']                             | ['91187746']                             |\n",
       "| types                                    | ['']                                     | ['substance']                            |\n",
       "| source_value                             | platelet                                 | platelet factor 4                        |\n",
       "| detected_name                            | platelet                                 | platelet~factor~4                        |\n",
       "| acc                                      | 0.99                                     | 0.99                                     |\n",
       "| context_similarity                       | 0.99                                     | 0.99                                     |\n",
       "| start                                    | 2352                                     | 2352                                     |\n",
       "| end                                      | 2360                                     | 2369                                     |\n",
       "| icd10                                    | []                                       | []                                       |\n",
       "| ontologies                               | ['20220803_SNOMED_UK_CLINICAL_EXT']      | ['SNOMED-CT']                            |\n",
       "| snomed                                   | []                                       | []                                       |\n",
       "| id                                       | 144                                      | 142                                      |\n",
       "| meta_anns (Dict[str, dict])              | 3                                        | 0                                        |"
      ],
      "text/plain": [
       "<IPython.core.display.Markdown object>"
      ]
     },
     "metadata": {},
     "output_type": "display_data"
    },
    {
     "name": "stdout",
     "output_type": "stream",
     "text": [
      "==================== \n",
      "Chemokines Updates_1. Chemokines Effective on Platelet Functions (AnnotationComparisonType.FIRST_HAS) \n",
      "====================\n"
     ]
    },
    {
     "data": {
      "text/markdown": [
       "| Path | First | Second |\n",
       "| ----- | ----- | ----- |\n",
       "| pretty_name                              | Roman numeral III                        |                                          |\n",
       "| cui                                      | 257471003                                |                                          |\n",
       "| type_ids                                 | ['7882689']                              |                                          |\n",
       "| types                                    | ['']                                     |                                          |\n",
       "| source_value                             | III                                      |                                          |\n",
       "| detected_name                            | iii                                      |                                          |\n",
       "| acc                                      | 1.0                                      |                                          |\n",
       "| context_similarity                       | 1.0                                      |                                          |\n",
       "| start                                    | 2491                                     |                                          |\n",
       "| end                                      | 2494                                     |                                          |\n",
       "| icd10                                    | []                                       |                                          |\n",
       "| ontologies                               | ['20220803_SNOMED_UK_CLINICAL_EXT']      |                                          |\n",
       "| snomed                                   | []                                       |                                          |\n",
       "| id                                       | 154                                      |                                          |\n",
       "| meta_anns (Dict[str, dict])              | 3                                        | 0                                        |"
      ],
      "text/plain": [
       "<IPython.core.display.Markdown object>"
      ]
     },
     "metadata": {},
     "output_type": "display_data"
    },
    {
     "name": "stdout",
     "output_type": "stream",
     "text": [
      "==================== \n",
      "Chemokines Updates_1. Chemokines Effective on Platelet Functions (AnnotationComparisonType.SAME_SPAN_DIFF_CONCEPT) \n",
      "====================\n"
     ]
    },
    {
     "data": {
      "text/markdown": [
       "| Path | First | Second |\n",
       "| ----- | ----- | ----- |\n",
       "| pretty_name                              | Family                                   | Nitric-oxide synthase                    |\n",
       "| cui                                      | 35359004                                 | 130168007                                |\n",
       "| type_ids                                 | ['13371933']                             | ['91187746']                             |\n",
       "| types                                    | ['']                                     | ['substance']                            |\n",
       "| source_value                             | family                                   | family                                   |\n",
       "| detected_name                            | family                                   | family                                   |\n",
       "| acc                                      | 0.8410102649360803                       | 0.39330731658876616                      |\n",
       "| context_similarity                       | 0.8410102649360803                       | 0.39330731658876616                      |\n",
       "| start                                    | 2792                                     | 2792                                     |\n",
       "| end                                      | 2798                                     | 2798                                     |\n",
       "| icd10                                    | []                                       | []                                       |\n",
       "| ontologies                               | ['20220803_SNOMED_UK_CLINICAL_EXT']      | ['SNOMED-CT']                            |\n",
       "| snomed                                   | []                                       | []                                       |\n",
       "| id                                       | 164                                      | 161                                      |\n",
       "| meta_anns (Dict[str, dict])              | 3                                        | 0                                        |"
      ],
      "text/plain": [
       "<IPython.core.display.Markdown object>"
      ]
     },
     "metadata": {},
     "output_type": "display_data"
    },
    {
     "name": "stdout",
     "output_type": "stream",
     "text": [
      "==================== \n",
      "Chemokines Updates_1. Chemokines Effective on Platelet Functions (AnnotationComparisonType.SAME_SPAN_DIFF_CONCEPT) \n",
      "====================\n"
     ]
    },
    {
     "data": {
      "text/markdown": [
       "| Path | First | Second |\n",
       "| ----- | ----- | ----- |\n",
       "| pretty_name                              | Cell count                               | Cell structure                           |\n",
       "| cui                                      | 118218001                                | 4421005                                  |\n",
       "| type_ids                                 | ['28321150']                             | ['66527446']                             |\n",
       "| types                                    | ['']                                     | ['cell structure']                       |\n",
       "| source_value                             | cells                                    | cells                                    |\n",
       "| detected_name                            | cell                                     | cell                                     |\n",
       "| acc                                      | 0.7684476759367447                       | 0.99                                     |\n",
       "| context_similarity                       | 0.7684476759367447                       | 0.99                                     |\n",
       "| start                                    | 2871                                     | 2871                                     |\n",
       "| end                                      | 2876                                     | 2876                                     |\n",
       "| icd10                                    | []                                       | []                                       |\n",
       "| ontologies                               | ['20220803_SNOMED_UK_CLINICAL_EXT']      | ['SNOMED-CT']                            |\n",
       "| snomed                                   | []                                       | []                                       |\n",
       "| id                                       | 169                                      | 166                                      |\n",
       "| meta_anns (Dict[str, dict])              | 3                                        | 0                                        |"
      ],
      "text/plain": [
       "<IPython.core.display.Markdown object>"
      ]
     },
     "metadata": {},
     "output_type": "display_data"
    },
    {
     "name": "stdout",
     "output_type": "stream",
     "text": [
      "==================== \n",
      "Chemokines Updates_1. Chemokines Effective on Platelet Functions (AnnotationComparisonType.SAME_SPAN_DIFF_CONCEPT) \n",
      "====================\n"
     ]
    },
    {
     "data": {
      "text/markdown": [
       "| Path | First | Second |\n",
       "| ----- | ----- | ----- |\n",
       "| pretty_name                              | System                                   | System                                   |\n",
       "| cui                                      | 733021006                                | 246333005                                |\n",
       "| type_ids                                 | ['39041339']                             | ['43039974']                             |\n",
       "| types                                    | ['']                                     | ['attribute']                            |\n",
       "| source_value                             | system                                   | system                                   |\n",
       "| detected_name                            | system                                   | system                                   |\n",
       "| acc                                      | 0.9385758247854834                       | 0.5021896525984766                       |\n",
       "| context_similarity                       | 0.9385758247854834                       | 0.5021896525984766                       |\n",
       "| start                                    | 2896                                     | 2896                                     |\n",
       "| end                                      | 2902                                     | 2902                                     |\n",
       "| icd10                                    | []                                       | []                                       |\n",
       "| ontologies                               | ['20220803_SNOMED_UK_CLINICAL_EXT']      | ['SNOMED-CT']                            |\n",
       "| snomed                                   | []                                       | []                                       |\n",
       "| id                                       | 172                                      | 169                                      |\n",
       "| meta_anns (Dict[str, dict])              | 3                                        | 0                                        |"
      ],
      "text/plain": [
       "<IPython.core.display.Markdown object>"
      ]
     },
     "metadata": {},
     "output_type": "display_data"
    },
    {
     "name": "stdout",
     "output_type": "stream",
     "text": [
      "==================== \n",
      "Chemokines Updates_1. Chemokines Effective on Platelet Functions (AnnotationComparisonType.SAME_SPAN_DIFF_CONCEPT) \n",
      "====================\n"
     ]
    },
    {
     "data": {
      "text/markdown": [
       "| Path | First | Second |\n",
       "| ----- | ----- | ----- |\n",
       "| pretty_name                              | Cell count                               | Cell structure                           |\n",
       "| cui                                      | 118218001                                | 4421005                                  |\n",
       "| type_ids                                 | ['28321150']                             | ['66527446']                             |\n",
       "| types                                    | ['']                                     | ['cell structure']                       |\n",
       "| source_value                             | cells                                    | cells                                    |\n",
       "| detected_name                            | cell                                     | cell                                     |\n",
       "| acc                                      | 0.7609524936799626                       | 0.99                                     |\n",
       "| context_similarity                       | 0.7609524936799626                       | 0.99                                     |\n",
       "| start                                    | 2903                                     | 2903                                     |\n",
       "| end                                      | 2908                                     | 2908                                     |\n",
       "| icd10                                    | []                                       | []                                       |\n",
       "| ontologies                               | ['20220803_SNOMED_UK_CLINICAL_EXT']      | ['SNOMED-CT']                            |\n",
       "| snomed                                   | []                                       | []                                       |\n",
       "| id                                       | 173                                      | 170                                      |\n",
       "| meta_anns (Dict[str, dict])              | 3                                        | 0                                        |"
      ],
      "text/plain": [
       "<IPython.core.display.Markdown object>"
      ]
     },
     "metadata": {},
     "output_type": "display_data"
    },
    {
     "name": "stdout",
     "output_type": "stream",
     "text": [
      "==================== \n",
      "Chemokines Updates_1. Chemokines Effective on Platelet Functions (AnnotationComparisonType.SAME_SPAN_DIFF_CONCEPT) \n",
      "====================\n"
     ]
    },
    {
     "data": {
      "text/markdown": [
       "| Path | First | Second |\n",
       "| ----- | ----- | ----- |\n",
       "| pretty_name                              | Function                                 | Function                                 |\n",
       "| cui                                      | 246464006                                | 277064003                                |\n",
       "| type_ids                                 | ['2680757']                              | ['43039974']                             |\n",
       "| types                                    | ['']                                     | ['attribute']                            |\n",
       "| source_value                             | functions                                | functions                                |\n",
       "| detected_name                            | function                                 | function                                 |\n",
       "| acc                                      | 0.44049521885921805                      | 0.5475805744901575                       |\n",
       "| context_similarity                       | 0.44049521885921805                      | 0.5475805744901575                       |\n",
       "| start                                    | 2964                                     | 2964                                     |\n",
       "| end                                      | 2973                                     | 2973                                     |\n",
       "| icd10                                    | []                                       | []                                       |\n",
       "| ontologies                               | ['20220803_SNOMED_UK_CLINICAL_EXT']      | ['SNOMED-CT']                            |\n",
       "| snomed                                   | []                                       | []                                       |\n",
       "| id                                       | 177                                      | 174                                      |\n",
       "| meta_anns (Dict[str, dict])              | 3                                        | 0                                        |"
      ],
      "text/plain": [
       "<IPython.core.display.Markdown object>"
      ]
     },
     "metadata": {},
     "output_type": "display_data"
    },
    {
     "name": "stdout",
     "output_type": "stream",
     "text": [
      "==================== \n",
      "Chemokines Updates_1. Chemokines Effective on Platelet Functions (AnnotationComparisonType.OVERLAPP_1ST_LARGER_DIFF_CONCEPT) \n",
      "====================\n"
     ]
    },
    {
     "data": {
      "text/markdown": [
       "| Path | First | Second |\n",
       "| ----- | ----- | ----- |\n",
       "| pretty_name                              | Immune response, function                | Immune                                   |\n",
       "| cui                                      | 35024006                                 | 255386009                                |\n",
       "| type_ids                                 | ['2680757']                              | ['7882689']                              |\n",
       "| types                                    | ['']                                     | ['qualifier value']                      |\n",
       "| source_value                             | immune responses                         | immune                                   |\n",
       "| detected_name                            | immune~response                          | immune                                   |\n",
       "| acc                                      | 1.0                                      | 1.0                                      |\n",
       "| context_similarity                       | 1.0                                      | 1.0                                      |\n",
       "| start                                    | 3129                                     | 3129                                     |\n",
       "| end                                      | 3145                                     | 3135                                     |\n",
       "| icd10                                    | []                                       | []                                       |\n",
       "| ontologies                               | ['20220803_SNOMED_UK_CLINICAL_EXT']      | ['SNOMED-CT']                            |\n",
       "| snomed                                   | []                                       | []                                       |\n",
       "| id                                       | 191                                      | 187                                      |\n",
       "| meta_anns (Dict[str, dict])              | 3                                        | 0                                        |"
      ],
      "text/plain": [
       "<IPython.core.display.Markdown object>"
      ]
     },
     "metadata": {},
     "output_type": "display_data"
    },
    {
     "name": "stdout",
     "output_type": "stream",
     "text": [
      "==================== \n",
      "Chemokines Updates_1. Chemokines Effective on Platelet Functions (AnnotationComparisonType.SECOND_HAS) \n",
      "====================\n"
     ]
    },
    {
     "data": {
      "text/markdown": [
       "| Path | First | Second |\n",
       "| ----- | ----- | ----- |\n",
       "| pretty_name                              |                                          | Biologic                                 |\n",
       "| cui                                      |                                          | 12893009                                 |\n",
       "| type_ids                                 |                                          | ['7882689']                              |\n",
       "| types                                    |                                          | ['qualifier value']                      |\n",
       "| source_value                             |                                          | biological                               |\n",
       "| detected_name                            |                                          | biological                               |\n",
       "| acc                                      |                                          | 0.5644976433340625                       |\n",
       "| context_similarity                       |                                          | 0.5644976433340625                       |\n",
       "| start                                    |                                          | 3175                                     |\n",
       "| end                                      |                                          | 3185                                     |\n",
       "| icd10                                    |                                          | []                                       |\n",
       "| ontologies                               |                                          | ['SNOMED-CT']                            |\n",
       "| snomed                                   |                                          | []                                       |\n",
       "| id                                       |                                          | 189                                      |\n",
       "| meta_anns (Dict[str, dict])              | 0                                        | 0                                        |"
      ],
      "text/plain": [
       "<IPython.core.display.Markdown object>"
      ]
     },
     "metadata": {},
     "output_type": "display_data"
    },
    {
     "name": "stdout",
     "output_type": "stream",
     "text": [
      "==================== \n",
      "Chemokines Updates_1. Chemokines Effective on Platelet Functions (AnnotationComparisonType.SECOND_HAS) \n",
      "====================\n"
     ]
    },
    {
     "data": {
      "text/markdown": [
       "| Path | First | Second |\n",
       "| ----- | ----- | ----- |\n",
       "| pretty_name                              |                                          | Process                                  |\n",
       "| cui                                      |                                          | 719982003                                |\n",
       "| type_ids                                 |                                          | ['7882689']                              |\n",
       "| types                                    |                                          | ['qualifier value']                      |\n",
       "| source_value                             |                                          | processes                                |\n",
       "| detected_name                            |                                          | process                                  |\n",
       "| acc                                      |                                          | 0.5971055435434249                       |\n",
       "| context_similarity                       |                                          | 0.5971055435434249                       |\n",
       "| start                                    |                                          | 3186                                     |\n",
       "| end                                      |                                          | 3195                                     |\n",
       "| icd10                                    |                                          | []                                       |\n",
       "| ontologies                               |                                          | ['SNOMED-CT']                            |\n",
       "| snomed                                   |                                          | []                                       |\n",
       "| id                                       |                                          | 190                                      |\n",
       "| meta_anns (Dict[str, dict])              | 0                                        | 0                                        |"
      ],
      "text/plain": [
       "<IPython.core.display.Markdown object>"
      ]
     },
     "metadata": {},
     "output_type": "display_data"
    },
    {
     "name": "stdout",
     "output_type": "stream",
     "text": [
      "==================== \n",
      "Chemokines Updates_1. Chemokines Effective on Platelet Functions (AnnotationComparisonType.SAME_PARENT) \n",
      "====================\n"
     ]
    },
    {
     "data": {
      "text/markdown": [
       "| Path | First | Second |\n",
       "| ----- | ----- | ----- |\n",
       "| pretty_name                              | Malignant neoplastic disease             | Malignant neoplasm                       |\n",
       "| cui                                      | 363346000                                | 1240414004                               |\n",
       "| type_ids                                 | ['9090192']                              | ['33782986']                             |\n",
       "| types                                    | ['']                                     | ['morphologic abnormality']              |\n",
       "| source_value                             | cancer                                   | cancer                                   |\n",
       "| detected_name                            | cancer                                   | cancer                                   |\n",
       "| acc                                      | 0.99                                     | 0.8976096943704567                       |\n",
       "| context_similarity                       | 0.99                                     | 0.8976096943704567                       |\n",
       "| start                                    | 3297                                     | 3297                                     |\n",
       "| end                                      | 3303                                     | 3303                                     |\n",
       "| icd10                                    | ['C80.9']                                | []                                       |\n",
       "| ontologies                               | ['20220803_SNOMED_UK_CLINICAL_EXT']      | ['SNOMED-CT']                            |\n",
       "| snomed                                   | []                                       | []                                       |\n",
       "| id                                       | 201                                      | 198                                      |\n",
       "| meta_anns (Dict[str, dict])              | 3                                        | 0                                        |"
      ],
      "text/plain": [
       "<IPython.core.display.Markdown object>"
      ]
     },
     "metadata": {},
     "output_type": "display_data"
    },
    {
     "name": "stdout",
     "output_type": "stream",
     "text": [
      "==================== \n",
      "Chemokines Updates_1. Chemokines Effective on Platelet Functions (AnnotationComparisonType.FIRST_HAS) \n",
      "====================\n"
     ]
    },
    {
     "data": {
      "text/markdown": [
       "| Path | First | Second |\n",
       "| ----- | ----- | ----- |\n",
       "| pretty_name                              | Kilodalton                               |                                          |\n",
       "| cui                                      | 414556008                                |                                          |\n",
       "| type_ids                                 | ['7882689']                              |                                          |\n",
       "| types                                    | ['']                                     |                                          |\n",
       "| source_value                             | kDa                                      |                                          |\n",
       "| detected_name                            | kda                                      |                                          |\n",
       "| acc                                      | 1.0                                      |                                          |\n",
       "| context_similarity                       | 1.0                                      |                                          |\n",
       "| start                                    | 3436                                     |                                          |\n",
       "| end                                      | 3439                                     |                                          |\n",
       "| icd10                                    | []                                       |                                          |\n",
       "| ontologies                               | ['20220803_SNOMED_UK_CLINICAL_EXT']      |                                          |\n",
       "| snomed                                   | []                                       |                                          |\n",
       "| id                                       | 207                                      |                                          |\n",
       "| meta_anns (Dict[str, dict])              | 3                                        | 0                                        |"
      ],
      "text/plain": [
       "<IPython.core.display.Markdown object>"
      ]
     },
     "metadata": {},
     "output_type": "display_data"
    },
    {
     "name": "stdout",
     "output_type": "stream",
     "text": [
      "==================== \n",
      "Chemokines Updates_1. Chemokines Effective on Platelet Functions (AnnotationComparisonType.FIRST_HAS) \n",
      "====================\n"
     ]
    },
    {
     "data": {
      "text/markdown": [
       "| Path | First | Second |\n",
       "| ----- | ----- | ----- |\n",
       "| pretty_name                              | Mass of body structure                   |                                          |\n",
       "| cui                                      | 300848003                                |                                          |\n",
       "| type_ids                                 | ['67667581']                             |                                          |\n",
       "| types                                    | ['']                                     |                                          |\n",
       "| source_value                             | mass                                     |                                          |\n",
       "| detected_name                            | mass                                     |                                          |\n",
       "| acc                                      | 0.5379017207939165                       |                                          |\n",
       "| context_similarity                       | 0.5379017207939165                       |                                          |\n",
       "| start                                    | 3443                                     |                                          |\n",
       "| end                                      | 3447                                     |                                          |\n",
       "| icd10                                    | ['']                                     |                                          |\n",
       "| ontologies                               | ['20220803_SNOMED_UK_CLINICAL_EXT']      |                                          |\n",
       "| snomed                                   | []                                       |                                          |\n",
       "| id                                       | 208                                      |                                          |\n",
       "| meta_anns (Dict[str, dict])              | 3                                        | 0                                        |"
      ],
      "text/plain": [
       "<IPython.core.display.Markdown object>"
      ]
     },
     "metadata": {},
     "output_type": "display_data"
    },
    {
     "name": "stdout",
     "output_type": "stream",
     "text": [
      "==================== \n",
      "Chemokines Updates_1. Chemokines Effective on Platelet Functions (AnnotationComparisonType.SAME_SPAN_CONCEPT_NOT_IN_2ND) \n",
      "====================\n"
     ]
    },
    {
     "data": {
      "text/markdown": [
       "| Path | First | Second |\n",
       "| ----- | ----- | ----- |\n",
       "| pretty_name                              | Number                                   | Count of entities (property)             |\n",
       "| cui                                      | 260299005                                | 410681005                                |\n",
       "| type_ids                                 | ['7882689']                              | ['7882689']                              |\n",
       "| types                                    | ['']                                     | ['qualifier value']                      |\n",
       "| source_value                             | number                                   | number                                   |\n",
       "| detected_name                            | number                                   | number                                   |\n",
       "| acc                                      | 0.5349324650772461                       | 0.5699963371462698                       |\n",
       "| context_similarity                       | 0.5349324650772461                       | 0.5699963371462698                       |\n",
       "| start                                    | 3464                                     | 3464                                     |\n",
       "| end                                      | 3470                                     | 3470                                     |\n",
       "| icd10                                    | []                                       | []                                       |\n",
       "| ontologies                               | ['20220803_SNOMED_UK_CLINICAL_EXT']      | ['SNOMED-CT']                            |\n",
       "| snomed                                   | []                                       | []                                       |\n",
       "| id                                       | 211                                      | 208                                      |\n",
       "| meta_anns (Dict[str, dict])              | 3                                        | 0                                        |"
      ],
      "text/plain": [
       "<IPython.core.display.Markdown object>"
      ]
     },
     "metadata": {},
     "output_type": "display_data"
    },
    {
     "name": "stdout",
     "output_type": "stream",
     "text": [
      "==================== \n",
      "Chemokines Updates_1. Chemokines Effective on Platelet Functions (AnnotationComparisonType.SAME_SPAN_DIFF_CONCEPT) \n",
      "====================\n"
     ]
    },
    {
     "data": {
      "text/markdown": [
       "| Path | First | Second |\n",
       "| ----- | ----- | ----- |\n",
       "| pretty_name                              | Shape                                    | With shape                               |\n",
       "| cui                                      | 300842002                                | 103374000                                |\n",
       "| type_ids                                 | ['43039974']                             | ['43039974']                             |\n",
       "| types                                    | ['']                                     | ['attribute']                            |\n",
       "| source_value                             | shapes                                   | shapes                                   |\n",
       "| detected_name                            | shape                                    | shape                                    |\n",
       "| acc                                      | 0.7205491239733945                       | 0.3610325464314984                       |\n",
       "| context_similarity                       | 0.7205491239733945                       | 0.3610325464314984                       |\n",
       "| start                                    | 3624                                     | 3624                                     |\n",
       "| end                                      | 3630                                     | 3630                                     |\n",
       "| icd10                                    | []                                       | []                                       |\n",
       "| ontologies                               | ['20220803_SNOMED_UK_CLINICAL_EXT']      | ['SNOMED-CT']                            |\n",
       "| snomed                                   | []                                       | []                                       |\n",
       "| id                                       | 217                                      | 214                                      |\n",
       "| meta_anns (Dict[str, dict])              | 3                                        | 0                                        |"
      ],
      "text/plain": [
       "<IPython.core.display.Markdown object>"
      ]
     },
     "metadata": {},
     "output_type": "display_data"
    },
    {
     "name": "stdout",
     "output_type": "stream",
     "text": [
      "==================== \n",
      "Chemokines Updates_1. Chemokines Effective on Platelet Functions (AnnotationComparisonType.FIRST_HAS) \n",
      "====================\n"
     ]
    },
    {
     "data": {
      "text/markdown": [
       "| Path | First | Second |\n",
       "| ----- | ----- | ----- |\n",
       "| pretty_name                              | End (qualifier value)                    |                                          |\n",
       "| cui                                      | 261782000                                |                                          |\n",
       "| type_ids                                 | ['7882689']                              |                                          |\n",
       "| types                                    | ['']                                     |                                          |\n",
       "| source_value                             | end                                      |                                          |\n",
       "| detected_name                            | end                                      |                                          |\n",
       "| acc                                      | 0.4516140069888075                       |                                          |\n",
       "| context_similarity                       | 0.4516140069888075                       |                                          |\n",
       "| start                                    | 3722                                     |                                          |\n",
       "| end                                      | 3725                                     |                                          |\n",
       "| icd10                                    | []                                       |                                          |\n",
       "| ontologies                               | ['20220803_SNOMED_UK_CLINICAL_EXT']      |                                          |\n",
       "| snomed                                   | []                                       |                                          |\n",
       "| id                                       | 223                                      |                                          |\n",
       "| meta_anns (Dict[str, dict])              | 3                                        | 0                                        |"
      ],
      "text/plain": [
       "<IPython.core.display.Markdown object>"
      ]
     },
     "metadata": {},
     "output_type": "display_data"
    },
    {
     "name": "stdout",
     "output_type": "stream",
     "text": [
      "==================== \n",
      "Chemokines Updates_1. Chemokines Effective on Platelet Functions (AnnotationComparisonType.SAME_SPAN_DIFF_CONCEPT) \n",
      "====================\n"
     ]
    },
    {
     "data": {
      "text/markdown": [
       "| Path | First | Second |\n",
       "| ----- | ----- | ----- |\n",
       "| pretty_name                              | Region                                   | Regional                                 |\n",
       "| cui                                      | 410673009                                | 410674003                                |\n",
       "| type_ids                                 | ['43039974']                             | ['7882689']                              |\n",
       "| types                                    | ['']                                     | ['qualifier value']                      |\n",
       "| source_value                             | region                                   | region                                   |\n",
       "| detected_name                            | region                                   | region                                   |\n",
       "| acc                                      | 1.0                                      | 0.7248959701313173                       |\n",
       "| context_similarity                       | 1.0                                      | 0.7248959701313173                       |\n",
       "| start                                    | 3833                                     | 3833                                     |\n",
       "| end                                      | 3839                                     | 3839                                     |\n",
       "| icd10                                    | []                                       | []                                       |\n",
       "| ontologies                               | ['20220803_SNOMED_UK_CLINICAL_EXT']      | ['SNOMED-CT']                            |\n",
       "| snomed                                   | []                                       | []                                       |\n",
       "| id                                       | 232                                      | 229                                      |\n",
       "| meta_anns (Dict[str, dict])              | 3                                        | 0                                        |"
      ],
      "text/plain": [
       "<IPython.core.display.Markdown object>"
      ]
     },
     "metadata": {},
     "output_type": "display_data"
    },
    {
     "name": "stdout",
     "output_type": "stream",
     "text": [
      "==================== \n",
      "Chemokines Updates_1. Chemokines Effective on Platelet Functions (AnnotationComparisonType.SAME_SPAN_DIFF_CONCEPT) \n",
      "====================\n"
     ]
    },
    {
     "data": {
      "text/markdown": [
       "| Path | First | Second |\n",
       "| ----- | ----- | ----- |\n",
       "| pretty_name                              | Helix                                    | Helix structure                          |\n",
       "| cui                                      | 13732004                                 | 86153000                                 |\n",
       "| type_ids                                 | ['81102976']                             | ['37552161']                             |\n",
       "| types                                    | ['']                                     | ['body structure']                       |\n",
       "| source_value                             | helix                                    | helix                                    |\n",
       "| detected_name                            | helix                                    | helix                                    |\n",
       "| acc                                      | 0.46825625814639826                      | 0.7442848957336333                       |\n",
       "| context_similarity                       | 0.46825625814639826                      | 0.7442848957336333                       |\n",
       "| start                                    | 3894                                     | 3894                                     |\n",
       "| end                                      | 3899                                     | 3899                                     |\n",
       "| icd10                                    | []                                       | []                                       |\n",
       "| ontologies                               | ['20220803_SNOMED_UK_CLINICAL_EXT']      | ['SNOMED-CT']                            |\n",
       "| snomed                                   | []                                       | []                                       |\n",
       "| id                                       | 238                                      | 235                                      |\n",
       "| meta_anns (Dict[str, dict])              | 3                                        | 0                                        |"
      ],
      "text/plain": [
       "<IPython.core.display.Markdown object>"
      ]
     },
     "metadata": {},
     "output_type": "display_data"
    },
    {
     "name": "stdout",
     "output_type": "stream",
     "text": [
      "==================== \n",
      "Chemokines Updates_1. Chemokines Effective on Platelet Functions (AnnotationComparisonType.SAME_PARENT) \n",
      "====================\n"
     ]
    },
    {
     "data": {
      "text/markdown": [
       "| Path | First | Second |\n",
       "| ----- | ----- | ----- |\n",
       "| pretty_name                              | Domain Bacteria                          | Bacterium                                |\n",
       "| cui                                      | 409822003                                | 41146007                                 |\n",
       "| type_ids                                 | ['81102976']                             | ['81102976']                             |\n",
       "| types                                    | ['']                                     | ['organism']                             |\n",
       "| source_value                             | bacteria                                 | bacteria                                 |\n",
       "| detected_name                            | bacteria                                 | bacteria                                 |\n",
       "| acc                                      | 0.7235646509054307                       | 0.7111809291473157                       |\n",
       "| context_similarity                       | 0.7235646509054307                       | 0.7111809291473157                       |\n",
       "| start                                    | 4163                                     | 4163                                     |\n",
       "| end                                      | 4171                                     | 4171                                     |\n",
       "| icd10                                    | []                                       | []                                       |\n",
       "| ontologies                               | ['20220803_SNOMED_UK_CLINICAL_EXT']      | ['SNOMED-CT']                            |\n",
       "| snomed                                   | []                                       | []                                       |\n",
       "| id                                       | 252                                      | 249                                      |\n",
       "| meta_anns (Dict[str, dict])              | 3                                        | 0                                        |"
      ],
      "text/plain": [
       "<IPython.core.display.Markdown object>"
      ]
     },
     "metadata": {},
     "output_type": "display_data"
    },
    {
     "name": "stdout",
     "output_type": "stream",
     "text": [
      "==================== \n",
      "Chemokines Updates_1. Chemokines Effective on Platelet Functions (AnnotationComparisonType.SAME_SPAN_DIFF_CONCEPT) \n",
      "====================\n"
     ]
    },
    {
     "data": {
      "text/markdown": [
       "| Path | First | Second |\n",
       "| ----- | ----- | ----- |\n",
       "| pretty_name                              | Seconds                                  | Second                                   |\n",
       "| cui                                      | 257997001                                | 81170007                                 |\n",
       "| type_ids                                 | ['7882689']                              | ['7882689']                              |\n",
       "| types                                    | ['']                                     | ['qualifier value']                      |\n",
       "| source_value                             | second                                   | second                                   |\n",
       "| detected_name                            | second                                   | second                                   |\n",
       "| acc                                      | 0.6148763747156283                       | 0.40375057218811305                      |\n",
       "| context_similarity                       | 0.6148763747156283                       | 0.40375057218811305                      |\n",
       "| start                                    | 4627                                     | 4627                                     |\n",
       "| end                                      | 4633                                     | 4633                                     |\n",
       "| icd10                                    | []                                       | []                                       |\n",
       "| ontologies                               | ['20220803_SNOMED_UK_CLINICAL_EXT']      | ['SNOMED-CT']                            |\n",
       "| snomed                                   | []                                       | []                                       |\n",
       "| id                                       | 282                                      | 279                                      |\n",
       "| meta_anns (Dict[str, dict])              | 3                                        | 0                                        |"
      ],
      "text/plain": [
       "<IPython.core.display.Markdown object>"
      ]
     },
     "metadata": {},
     "output_type": "display_data"
    },
    {
     "name": "stdout",
     "output_type": "stream",
     "text": [
      "==================== \n",
      "Chemokines Updates_1. Chemokines Effective on Platelet Functions (AnnotationComparisonType.FIRST_HAS) \n",
      "====================\n"
     ]
    },
    {
     "data": {
      "text/markdown": [
       "| Path | First | Second |\n",
       "| ----- | ----- | ----- |\n",
       "| pretty_name                              | Inositol                                 |                                          |\n",
       "| cui                                      | 72164009                                 |                                          |\n",
       "| type_ids                                 | ['91187746']                             |                                          |\n",
       "| types                                    | ['']                                     |                                          |\n",
       "| source_value                             | inositol                                 |                                          |\n",
       "| detected_name                            | inositol                                 |                                          |\n",
       "| acc                                      | 1.0                                      |                                          |\n",
       "| context_similarity                       | 1.0                                      |                                          |\n",
       "| start                                    | 4663                                     |                                          |\n",
       "| end                                      | 4671                                     |                                          |\n",
       "| icd10                                    | []                                       |                                          |\n",
       "| ontologies                               | ['20220803_SNOMED_UK_CLINICAL_EXT']      |                                          |\n",
       "| snomed                                   | []                                       |                                          |\n",
       "| id                                       | 286                                      |                                          |\n",
       "| meta_anns (Dict[str, dict])              | 3                                        | 0                                        |"
      ],
      "text/plain": [
       "<IPython.core.display.Markdown object>"
      ]
     },
     "metadata": {},
     "output_type": "display_data"
    },
    {
     "name": "stdout",
     "output_type": "stream",
     "text": [
      "==================== \n",
      "Chemokines Updates_1. Chemokines Effective on Platelet Functions (AnnotationComparisonType.FIRST_HAS) \n",
      "====================\n"
     ]
    },
    {
     "data": {
      "text/markdown": [
       "| Path | First | Second |\n",
       "| ----- | ----- | ----- |\n",
       "| pretty_name                              | 1, 2-diacylglycerol                      |                                          |\n",
       "| cui                                      | 63862000                                 |                                          |\n",
       "| type_ids                                 | ['91187746']                             |                                          |\n",
       "| types                                    | ['']                                     |                                          |\n",
       "| source_value                             | DAG                                      |                                          |\n",
       "| detected_name                            | dag                                      |                                          |\n",
       "| acc                                      | 1.0                                      |                                          |\n",
       "| context_similarity                       | 1.0                                      |                                          |\n",
       "| start                                    | 4711                                     |                                          |\n",
       "| end                                      | 4714                                     |                                          |\n",
       "| icd10                                    | []                                       |                                          |\n",
       "| ontologies                               | ['20220803_SNOMED_UK_CLINICAL_EXT']      |                                          |\n",
       "| snomed                                   | []                                       |                                          |\n",
       "| id                                       | 288                                      |                                          |\n",
       "| meta_anns (Dict[str, dict])              | 3                                        | 0                                        |"
      ],
      "text/plain": [
       "<IPython.core.display.Markdown object>"
      ]
     },
     "metadata": {},
     "output_type": "display_data"
    },
    {
     "name": "stdout",
     "output_type": "stream",
     "text": [
      "==================== \n",
      "Chemokines Updates_1. Chemokines Effective on Platelet Functions (AnnotationComparisonType.FIRST_HAS) \n",
      "====================\n"
     ]
    },
    {
     "data": {
      "text/markdown": [
       "| Path | First | Second |\n",
       "| ----- | ----- | ----- |\n",
       "| pretty_name                              | 1, 2-diacylglycerol                      |                                          |\n",
       "| cui                                      | 63862000                                 |                                          |\n",
       "| type_ids                                 | ['91187746']                             |                                          |\n",
       "| types                                    | ['']                                     |                                          |\n",
       "| source_value                             | DAG                                      |                                          |\n",
       "| detected_name                            | dag                                      |                                          |\n",
       "| acc                                      | 1.0                                      |                                          |\n",
       "| context_similarity                       | 1.0                                      |                                          |\n",
       "| start                                    | 4756                                     |                                          |\n",
       "| end                                      | 4759                                     |                                          |\n",
       "| icd10                                    | []                                       |                                          |\n",
       "| ontologies                               | ['20220803_SNOMED_UK_CLINICAL_EXT']      |                                          |\n",
       "| snomed                                   | []                                       |                                          |\n",
       "| id                                       | 292                                      |                                          |\n",
       "| meta_anns (Dict[str, dict])              | 3                                        | 0                                        |"
      ],
      "text/plain": [
       "<IPython.core.display.Markdown object>"
      ]
     },
     "metadata": {},
     "output_type": "display_data"
    },
    {
     "name": "stdout",
     "output_type": "stream",
     "text": [
      "==================== \n",
      "Chemokines Updates_1. Chemokines Effective on Platelet Functions (AnnotationComparisonType.SAME_SPAN_CONCEPT_NOT_IN_2ND) \n",
      "====================\n"
     ]
    },
    {
     "data": {
      "text/markdown": [
       "| Path | First | Second |\n",
       "| ----- | ----- | ----- |\n",
       "| pretty_name                              | Release                                  | Release - action                         |\n",
       "| cui                                      | 115956009                                | 129299003                                |\n",
       "| type_ids                                 | ['28321150']                             | ['7882689']                              |\n",
       "| types                                    | ['']                                     | ['qualifier value']                      |\n",
       "| source_value                             | release                                  | release                                  |\n",
       "| detected_name                            | release                                  | release                                  |\n",
       "| acc                                      | 0.99                                     | 0.36957509774653696                      |\n",
       "| context_similarity                       | 0.99                                     | 0.36957509774653696                      |\n",
       "| start                                    | 4841                                     | 4841                                     |\n",
       "| end                                      | 4848                                     | 4848                                     |\n",
       "| icd10                                    | []                                       | []                                       |\n",
       "| ontologies                               | ['20220803_SNOMED_UK_CLINICAL_EXT']      | ['SNOMED-CT']                            |\n",
       "| snomed                                   | []                                       | []                                       |\n",
       "| id                                       | 301                                      | 298                                      |\n",
       "| meta_anns (Dict[str, dict])              | 3                                        | 0                                        |"
      ],
      "text/plain": [
       "<IPython.core.display.Markdown object>"
      ]
     },
     "metadata": {},
     "output_type": "display_data"
    },
    {
     "name": "stdout",
     "output_type": "stream",
     "text": [
      "==================== \n",
      "Chemokines Updates_1. Chemokines Effective on Platelet Functions (AnnotationComparisonType.SECOND_HAS) \n",
      "====================\n"
     ]
    },
    {
     "data": {
      "text/markdown": [
       "| Path | First | Second |\n",
       "| ----- | ----- | ----- |\n",
       "| pretty_name                              |                                          | Multiple                                 |\n",
       "| cui                                      |                                          | 255204007                                |\n",
       "| type_ids                                 |                                          | ['7882689']                              |\n",
       "| types                                    |                                          | ['qualifier value']                      |\n",
       "| source_value                             |                                          | multiple                                 |\n",
       "| detected_name                            |                                          | multiple                                 |\n",
       "| acc                                      |                                          | 0.52362018967165                         |\n",
       "| context_similarity                       |                                          | 0.52362018967165                         |\n",
       "| start                                    |                                          | 4900                                     |\n",
       "| end                                      |                                          | 4908                                     |\n",
       "| icd10                                    |                                          | []                                       |\n",
       "| ontologies                               |                                          | ['SNOMED-CT']                            |\n",
       "| snomed                                   |                                          | []                                       |\n",
       "| id                                       |                                          | 303                                      |\n",
       "| meta_anns (Dict[str, dict])              | 0                                        | 0                                        |"
      ],
      "text/plain": [
       "<IPython.core.display.Markdown object>"
      ]
     },
     "metadata": {},
     "output_type": "display_data"
    },
    {
     "name": "stdout",
     "output_type": "stream",
     "text": [
      "==================== \n",
      "Chemokines Updates_1. Chemokines Effective on Platelet Functions (AnnotationComparisonType.FIRST_HAS) \n",
      "====================\n"
     ]
    },
    {
     "data": {
      "text/markdown": [
       "| Path | First | Second |\n",
       "| ----- | ----- | ----- |\n",
       "| pretty_name                              | Kinase                                   |                                          |\n",
       "| cui                                      | 736215007                                |                                          |\n",
       "| type_ids                                 | ['46506674']                             |                                          |\n",
       "| types                                    | ['']                                     |                                          |\n",
       "| source_value                             | kinase                                   |                                          |\n",
       "| detected_name                            | kinase                                   |                                          |\n",
       "| acc                                      | 0.5277713436317081                       |                                          |\n",
       "| context_similarity                       | 0.5277713436317081                       |                                          |\n",
       "| start                                    | 4945                                     |                                          |\n",
       "| end                                      | 4951                                     |                                          |\n",
       "| icd10                                    | []                                       |                                          |\n",
       "| ontologies                               | ['20220803_SNOMED_UK_CLINICAL_EXT']      |                                          |\n",
       "| snomed                                   | []                                       |                                          |\n",
       "| id                                       | 309                                      |                                          |\n",
       "| meta_anns (Dict[str, dict])              | 3                                        | 0                                        |"
      ],
      "text/plain": [
       "<IPython.core.display.Markdown object>"
      ]
     },
     "metadata": {},
     "output_type": "display_data"
    },
    {
     "name": "stdout",
     "output_type": "stream",
     "text": [
      "==================== \n",
      "Chemokines Updates_1. Chemokines Effective on Platelet Functions (AnnotationComparisonType.SAME_SPAN_DIFF_CONCEPT) \n",
      "====================\n"
     ]
    },
    {
     "data": {
      "text/markdown": [
       "| Path | First | Second |\n",
       "| ----- | ----- | ----- |\n",
       "| pretty_name                              | Cell count                               | Cell structure                           |\n",
       "| cui                                      | 118218001                                | 4421005                                  |\n",
       "| type_ids                                 | ['28321150']                             | ['66527446']                             |\n",
       "| types                                    | ['']                                     | ['cell structure']                       |\n",
       "| source_value                             | cell                                     | cell                                     |\n",
       "| detected_name                            | cell                                     | cell                                     |\n",
       "| acc                                      | 0.7807317589393864                       | 0.99                                     |\n",
       "| context_similarity                       | 0.7807317589393864                       | 0.99                                     |\n",
       "| start                                    | 5085                                     | 5085                                     |\n",
       "| end                                      | 5089                                     | 5089                                     |\n",
       "| icd10                                    | []                                       | []                                       |\n",
       "| ontologies                               | ['20220803_SNOMED_UK_CLINICAL_EXT']      | ['SNOMED-CT']                            |\n",
       "| snomed                                   | []                                       | []                                       |\n",
       "| id                                       | 313                                      | 309                                      |\n",
       "| meta_anns (Dict[str, dict])              | 3                                        | 0                                        |"
      ],
      "text/plain": [
       "<IPython.core.display.Markdown object>"
      ]
     },
     "metadata": {},
     "output_type": "display_data"
    },
    {
     "name": "stdout",
     "output_type": "stream",
     "text": [
      "==================== \n",
      "Chemokines Updates_1. Chemokines Effective on Platelet Functions (AnnotationComparisonType.FIRST_HAS) \n",
      "====================\n"
     ]
    },
    {
     "data": {
      "text/markdown": [
       "| Path | First | Second |\n",
       "| ----- | ----- | ----- |\n",
       "| pretty_name                              | Adenosinetriphosphatase                  |                                          |\n",
       "| cui                                      | 38854003                                 |                                          |\n",
       "| type_ids                                 | ['91187746']                             |                                          |\n",
       "| types                                    | ['']                                     |                                          |\n",
       "| source_value                             | GTPases                                  |                                          |\n",
       "| detected_name                            | atpase                                   |                                          |\n",
       "| acc                                      | 1.0                                      |                                          |\n",
       "| context_similarity                       | 1.0                                      |                                          |\n",
       "| start                                    | 5402                                     |                                          |\n",
       "| end                                      | 5409                                     |                                          |\n",
       "| icd10                                    | []                                       |                                          |\n",
       "| ontologies                               | ['20220803_SNOMED_UK_CLINICAL_EXT']      |                                          |\n",
       "| snomed                                   | []                                       |                                          |\n",
       "| id                                       | 333                                      |                                          |\n",
       "| meta_anns (Dict[str, dict])              | 3                                        | 0                                        |"
      ],
      "text/plain": [
       "<IPython.core.display.Markdown object>"
      ]
     },
     "metadata": {},
     "output_type": "display_data"
    },
    {
     "name": "stdout",
     "output_type": "stream",
     "text": [
      "==================== \n",
      "Chemokines Updates_1. Chemokines Effective on Platelet Functions (AnnotationComparisonType.SAME_SPAN_DIFF_CONCEPT) \n",
      "====================\n"
     ]
    },
    {
     "data": {
      "text/markdown": [
       "| Path | First | Second |\n",
       "| ----- | ----- | ----- |\n",
       "| pretty_name                              | Cell count                               | Cell structure                           |\n",
       "| cui                                      | 118218001                                | 4421005                                  |\n",
       "| type_ids                                 | ['28321150']                             | ['66527446']                             |\n",
       "| types                                    | ['']                                     | ['cell structure']                       |\n",
       "| source_value                             | cell                                     | cell                                     |\n",
       "| detected_name                            | cell                                     | cell                                     |\n",
       "| acc                                      | 0.8470840838646083                       | 0.99                                     |\n",
       "| context_similarity                       | 0.8470840838646083                       | 0.99                                     |\n",
       "| start                                    | 5593                                     | 5593                                     |\n",
       "| end                                      | 5597                                     | 5597                                     |\n",
       "| icd10                                    | []                                       | []                                       |\n",
       "| ontologies                               | ['20220803_SNOMED_UK_CLINICAL_EXT']      | ['SNOMED-CT']                            |\n",
       "| snomed                                   | []                                       | []                                       |\n",
       "| id                                       | 346                                      | 341                                      |\n",
       "| meta_anns (Dict[str, dict])              | 3                                        | 0                                        |"
      ],
      "text/plain": [
       "<IPython.core.display.Markdown object>"
      ]
     },
     "metadata": {},
     "output_type": "display_data"
    },
    {
     "name": "stdout",
     "output_type": "stream",
     "text": [
      "==================== \n",
      "Chemokines Updates_1. Chemokines Effective on Platelet Functions (AnnotationComparisonType.SECOND_HAS) \n",
      "====================\n"
     ]
    },
    {
     "data": {
      "text/markdown": [
       "| Path | First | Second |\n",
       "| ----- | ----- | ----- |\n",
       "| pretty_name                              |                                          | Morphologic finding                      |\n",
       "| cui                                      |                                          | 72724002                                 |\n",
       "| type_ids                                 |                                          | ['67667581']                             |\n",
       "| types                                    |                                          | ['finding']                              |\n",
       "| source_value                             |                                          | morphology                               |\n",
       "| detected_name                            |                                          | morphology                               |\n",
       "| acc                                      |                                          | 0.7782023880401854                       |\n",
       "| context_similarity                       |                                          | 0.7782023880401854                       |\n",
       "| start                                    |                                          | 5598                                     |\n",
       "| end                                      |                                          | 5608                                     |\n",
       "| icd10                                    |                                          | ['#NC']                                  |\n",
       "| ontologies                               |                                          | ['SNOMED-CT']                            |\n",
       "| snomed                                   |                                          | []                                       |\n",
       "| id                                       |                                          | 342                                      |\n",
       "| meta_anns (Dict[str, dict])              | 0                                        | 0                                        |"
      ],
      "text/plain": [
       "<IPython.core.display.Markdown object>"
      ]
     },
     "metadata": {},
     "output_type": "display_data"
    },
    {
     "name": "stdout",
     "output_type": "stream",
     "text": [
      "==================== \n",
      "Chemokines Updates_1. Chemokines Effective on Platelet Functions (AnnotationComparisonType.FIRST_HAS) \n",
      "====================\n"
     ]
    },
    {
     "data": {
      "text/markdown": [
       "| Path | First | Second |\n",
       "| ----- | ----- | ----- |\n",
       "| pretty_name                              | Platelet factor 4 assay                  |                                          |\n",
       "| cui                                      | 103847006                                |                                          |\n",
       "| type_ids                                 | ['28321150']                             |                                          |\n",
       "| types                                    | ['']                                     |                                          |\n",
       "| source_value                             | CXCL4                                    |                                          |\n",
       "| detected_name                            | cxcl4                                    |                                          |\n",
       "| acc                                      | 1.0                                      |                                          |\n",
       "| context_similarity                       | 1.0                                      |                                          |\n",
       "| start                                    | 5695                                     |                                          |\n",
       "| end                                      | 5700                                     |                                          |\n",
       "| icd10                                    | []                                       |                                          |\n",
       "| ontologies                               | ['20220803_SNOMED_UK_CLINICAL_EXT']      |                                          |\n",
       "| snomed                                   | []                                       |                                          |\n",
       "| id                                       | 352                                      |                                          |\n",
       "| meta_anns (Dict[str, dict])              | 3                                        | 0                                        |"
      ],
      "text/plain": [
       "<IPython.core.display.Markdown object>"
      ]
     },
     "metadata": {},
     "output_type": "display_data"
    },
    {
     "name": "stdout",
     "output_type": "stream",
     "text": [
      "==================== \n",
      "Chemokines Updates_1. Chemokines Effective on Platelet Functions (AnnotationComparisonType.FIRST_HAS) \n",
      "====================\n"
     ]
    },
    {
     "data": {
      "text/markdown": [
       "| Path | First | Second |\n",
       "| ----- | ----- | ----- |\n",
       "| pretty_name                              | Mirror hands and feet co-occurrent with nasal defect |                                          |\n",
       "| cui                                      | 715440003                                |                                          |\n",
       "| type_ids                                 | ['9090192']                              |                                          |\n",
       "| types                                    | ['']                                     |                                          |\n",
       "| source_value                             | MIP                                      |                                          |\n",
       "| detected_name                            | mip                                      |                                          |\n",
       "| acc                                      | 1.0                                      |                                          |\n",
       "| context_similarity                       | 1.0                                      |                                          |\n",
       "| start                                    | 5819                                     |                                          |\n",
       "| end                                      | 5822                                     |                                          |\n",
       "| icd10                                    | ['Q87.2']                                |                                          |\n",
       "| ontologies                               | ['20220803_SNOMED_UK_CLINICAL_EXT']      |                                          |\n",
       "| snomed                                   | []                                       |                                          |\n",
       "| id                                       | 358                                      |                                          |\n",
       "| meta_anns (Dict[str, dict])              | 3                                        | 0                                        |"
      ],
      "text/plain": [
       "<IPython.core.display.Markdown object>"
      ]
     },
     "metadata": {},
     "output_type": "display_data"
    },
    {
     "name": "stdout",
     "output_type": "stream",
     "text": [
      "==================== \n",
      "Chemokines Updates_1. Chemokines Effective on Platelet Functions (AnnotationComparisonType.SAME_SPAN_DIFF_CONCEPT) \n",
      "====================\n"
     ]
    },
    {
     "data": {
      "text/markdown": [
       "| Path | First | Second |\n",
       "| ----- | ----- | ----- |\n",
       "| pretty_name                              | Recent                                   | Recent episode                           |\n",
       "| cui                                      | 6493001                                  | 263852005                                |\n",
       "| type_ids                                 | ['7882689']                              | ['7882689']                              |\n",
       "| types                                    | ['']                                     | ['qualifier value']                      |\n",
       "| source_value                             | recently                                 | recently                                 |\n",
       "| detected_name                            | recently                                 | recently                                 |\n",
       "| acc                                      | 1.0                                      | 0.8428234869097668                       |\n",
       "| context_similarity                       | 1.0                                      | 0.8428234869097668                       |\n",
       "| start                                    | 5921                                     | 5921                                     |\n",
       "| end                                      | 5929                                     | 5929                                     |\n",
       "| icd10                                    | []                                       | []                                       |\n",
       "| ontologies                               | ['20220803_SNOMED_UK_CLINICAL_EXT']      | ['SNOMED-CT']                            |\n",
       "| snomed                                   | []                                       | []                                       |\n",
       "| id                                       | 362                                      | 354                                      |\n",
       "| meta_anns (Dict[str, dict])              | 3                                        | 0                                        |"
      ],
      "text/plain": [
       "<IPython.core.display.Markdown object>"
      ]
     },
     "metadata": {},
     "output_type": "display_data"
    },
    {
     "name": "stdout",
     "output_type": "stream",
     "text": [
      "==================== \n",
      "Chemokines Updates_1. Chemokines Effective on Platelet Functions (AnnotationComparisonType.SAME_GRANDPARENT) \n",
      "====================\n"
     ]
    },
    {
     "data": {
      "text/markdown": [
       "| Path | First | Second |\n",
       "| ----- | ----- | ----- |\n",
       "| pretty_name                              | Platelet count                           | Platelet                                 |\n",
       "| cui                                      | 61928009                                 | 16378004                                 |\n",
       "| type_ids                                 | ['28321150']                             | ['66527446']                             |\n",
       "| types                                    | ['']                                     | ['cell structure']                       |\n",
       "| source_value                             | platelets                                | platelets                                |\n",
       "| detected_name                            | platelet                                 | platelet                                 |\n",
       "| acc                                      | 0.99                                     | 0.99                                     |\n",
       "| context_similarity                       | 0.99                                     | 0.99                                     |\n",
       "| start                                    | 6061                                     | 6061                                     |\n",
       "| end                                      | 6070                                     | 6070                                     |\n",
       "| icd10                                    | []                                       | []                                       |\n",
       "| ontologies                               | ['20220803_SNOMED_UK_CLINICAL_EXT']      | ['SNOMED-CT']                            |\n",
       "| snomed                                   | []                                       | []                                       |\n",
       "| id                                       | 371                                      | 363                                      |\n",
       "| meta_anns (Dict[str, dict])              | 3                                        | 0                                        |"
      ],
      "text/plain": [
       "<IPython.core.display.Markdown object>"
      ]
     },
     "metadata": {},
     "output_type": "display_data"
    },
    {
     "name": "stdout",
     "output_type": "stream",
     "text": [
      "==================== \n",
      "Chemokines Updates_1. Chemokines Effective on Platelet Functions (AnnotationComparisonType.SAME_GRANDPARENT) \n",
      "====================\n"
     ]
    },
    {
     "data": {
      "text/markdown": [
       "| Path | First | Second |\n",
       "| ----- | ----- | ----- |\n",
       "| pretty_name                              | Platelet count                           | Platelet                                 |\n",
       "| cui                                      | 61928009                                 | 16378004                                 |\n",
       "| type_ids                                 | ['28321150']                             | ['66527446']                             |\n",
       "| types                                    | ['']                                     | ['cell structure']                       |\n",
       "| source_value                             | platelets                                | platelets                                |\n",
       "| detected_name                            | platelet                                 | platelet                                 |\n",
       "| acc                                      | 0.99                                     | 0.99                                     |\n",
       "| context_similarity                       | 0.99                                     | 0.99                                     |\n",
       "| start                                    | 6077                                     | 6077                                     |\n",
       "| end                                      | 6086                                     | 6086                                     |\n",
       "| icd10                                    | []                                       | []                                       |\n",
       "| ontologies                               | ['20220803_SNOMED_UK_CLINICAL_EXT']      | ['SNOMED-CT']                            |\n",
       "| snomed                                   | []                                       | []                                       |\n",
       "| id                                       | 372                                      | 364                                      |\n",
       "| meta_anns (Dict[str, dict])              | 3                                        | 0                                        |"
      ],
      "text/plain": [
       "<IPython.core.display.Markdown object>"
      ]
     },
     "metadata": {},
     "output_type": "display_data"
    },
    {
     "name": "stdout",
     "output_type": "stream",
     "text": [
      "==================== \n",
      "Chemokines Updates_1. Chemokines Effective on Platelet Functions (AnnotationComparisonType.SAME_SPAN_DIFF_CONCEPT) \n",
      "====================\n"
     ]
    },
    {
     "data": {
      "text/markdown": [
       "| Path | First | Second |\n",
       "| ----- | ----- | ----- |\n",
       "| pretty_name                              | Plasma                                   | Blood plasma                             |\n",
       "| cui                                      | 50863008                                 | 419185008                                |\n",
       "| type_ids                                 | ['91187746']                             | ['91776366']                             |\n",
       "| types                                    | ['']                                     | ['product']                              |\n",
       "| source_value                             | plasma                                   | plasma                                   |\n",
       "| detected_name                            | plasma                                   | plasma                                   |\n",
       "| acc                                      | 0.6689402468353156                       | 0.8034555247384019                       |\n",
       "| context_similarity                       | 0.6689402468353156                       | 0.8034555247384019                       |\n",
       "| start                                    | 6090                                     | 6090                                     |\n",
       "| end                                      | 6096                                     | 6096                                     |\n",
       "| icd10                                    | []                                       | []                                       |\n",
       "| ontologies                               | ['20220803_SNOMED_UK_CLINICAL_EXT']      | ['SNOMED-CT']                            |\n",
       "| snomed                                   | []                                       | []                                       |\n",
       "| id                                       | 373                                      | 365                                      |\n",
       "| meta_anns (Dict[str, dict])              | 3                                        | 0                                        |"
      ],
      "text/plain": [
       "<IPython.core.display.Markdown object>"
      ]
     },
     "metadata": {},
     "output_type": "display_data"
    },
    {
     "name": "stdout",
     "output_type": "stream",
     "text": [
      "==================== \n",
      "Chemokines Updates_1. Chemokines Effective on Platelet Functions (AnnotationComparisonType.SECOND_HAS) \n",
      "====================\n"
     ]
    },
    {
     "data": {
      "text/markdown": [
       "| Path | First | Second |\n",
       "| ----- | ----- | ----- |\n",
       "| pretty_name                              |                                          | Does reach                               |\n",
       "| cui                                      |                                          | 282679008                                |\n",
       "| type_ids                                 |                                          | ['67667581']                             |\n",
       "| types                                    |                                          | ['finding']                              |\n",
       "| source_value                             |                                          | reach                                    |\n",
       "| detected_name                            |                                          | reach                                    |\n",
       "| acc                                      |                                          | 1.0                                      |\n",
       "| context_similarity                       |                                          | 1.0                                      |\n",
       "| start                                    |                                          | 6161                                     |\n",
       "| end                                      |                                          | 6166                                     |\n",
       "| icd10                                    |                                          | ['#NC']                                  |\n",
       "| ontologies                               |                                          | ['SNOMED-CT']                            |\n",
       "| snomed                                   |                                          | []                                       |\n",
       "| id                                       |                                          | 368                                      |\n",
       "| meta_anns (Dict[str, dict])              | 0                                        | 0                                        |"
      ],
      "text/plain": [
       "<IPython.core.display.Markdown object>"
      ]
     },
     "metadata": {},
     "output_type": "display_data"
    },
    {
     "name": "stdout",
     "output_type": "stream",
     "text": [
      "==================== \n",
      "Chemokines Updates_1. Chemokines Effective on Platelet Functions (AnnotationComparisonType.SAME_SPAN_DIFF_CONCEPT) \n",
      "====================\n"
     ]
    },
    {
     "data": {
      "text/markdown": [
       "| Path | First | Second |\n",
       "| ----- | ----- | ----- |\n",
       "| pretty_name                              | Function                                 | Function                                 |\n",
       "| cui                                      | 246464006                                | 277064003                                |\n",
       "| type_ids                                 | ['2680757']                              | ['43039974']                             |\n",
       "| types                                    | ['']                                     | ['attribute']                            |\n",
       "| source_value                             | functions                                | functions                                |\n",
       "| detected_name                            | function                                 | function                                 |\n",
       "| acc                                      | 0.5000305329040349                       | 0.6358226415188041                       |\n",
       "| context_similarity                       | 0.5000305329040349                       | 0.6358226415188041                       |\n",
       "| start                                    | 6404                                     | 6404                                     |\n",
       "| end                                      | 6413                                     | 6413                                     |\n",
       "| icd10                                    | []                                       | []                                       |\n",
       "| ontologies                               | ['20220803_SNOMED_UK_CLINICAL_EXT']      | ['SNOMED-CT']                            |\n",
       "| snomed                                   | []                                       | []                                       |\n",
       "| id                                       | 398                                      | 390                                      |\n",
       "| meta_anns (Dict[str, dict])              | 3                                        | 0                                        |"
      ],
      "text/plain": [
       "<IPython.core.display.Markdown object>"
      ]
     },
     "metadata": {},
     "output_type": "display_data"
    },
    {
     "name": "stdout",
     "output_type": "stream",
     "text": [
      "==================== \n",
      "Chemokines Updates_1. Chemokines Effective on Platelet Functions (AnnotationComparisonType.SAME_SPAN_DIFF_CONCEPT) \n",
      "====================\n"
     ]
    },
    {
     "data": {
      "text/markdown": [
       "| Path | First | Second |\n",
       "| ----- | ----- | ----- |\n",
       "| pretty_name                              | Cell count                               | Cell structure                           |\n",
       "| cui                                      | 118218001                                | 4421005                                  |\n",
       "| type_ids                                 | ['28321150']                             | ['66527446']                             |\n",
       "| types                                    | ['']                                     | ['cell structure']                       |\n",
       "| source_value                             | cell                                     | cell                                     |\n",
       "| detected_name                            | cell                                     | cell                                     |\n",
       "| acc                                      | 0.8247313606983702                       | 0.99                                     |\n",
       "| context_similarity                       | 0.8247313606983702                       | 0.99                                     |\n",
       "| start                                    | 6440                                     | 6440                                     |\n",
       "| end                                      | 6444                                     | 6444                                     |\n",
       "| icd10                                    | []                                       | []                                       |\n",
       "| ontologies                               | ['20220803_SNOMED_UK_CLINICAL_EXT']      | ['SNOMED-CT']                            |\n",
       "| snomed                                   | []                                       | []                                       |\n",
       "| id                                       | 401                                      | 393                                      |\n",
       "| meta_anns (Dict[str, dict])              | 3                                        | 0                                        |"
      ],
      "text/plain": [
       "<IPython.core.display.Markdown object>"
      ]
     },
     "metadata": {},
     "output_type": "display_data"
    },
    {
     "name": "stdout",
     "output_type": "stream",
     "text": [
      "==================== \n",
      "Chemokines Updates_1. Chemokines Effective on Platelet Functions (AnnotationComparisonType.SAME_SPAN_DIFF_CONCEPT) \n",
      "====================\n"
     ]
    },
    {
     "data": {
      "text/markdown": [
       "| Path | First | Second |\n",
       "| ----- | ----- | ----- |\n",
       "| pretty_name                              | Family                                   | Surname                                  |\n",
       "| cui                                      | 35359004                                 | 397678008                                |\n",
       "| type_ids                                 | ['13371933']                             | ['2680757']                              |\n",
       "| types                                    | ['']                                     | ['observable entity']                    |\n",
       "| source_value                             | family                                   | family                                   |\n",
       "| detected_name                            | family                                   | family                                   |\n",
       "| acc                                      | 0.946910236695772                        | 0.4837848753762709                       |\n",
       "| context_similarity                       | 0.946910236695772                        | 0.4837848753762709                       |\n",
       "| start                                    | 6614                                     | 6614                                     |\n",
       "| end                                      | 6620                                     | 6620                                     |\n",
       "| icd10                                    | []                                       | []                                       |\n",
       "| ontologies                               | ['20220803_SNOMED_UK_CLINICAL_EXT']      | ['SNOMED-CT']                            |\n",
       "| snomed                                   | []                                       | []                                       |\n",
       "| id                                       | 410                                      | 402                                      |\n",
       "| meta_anns (Dict[str, dict])              | 3                                        | 0                                        |"
      ],
      "text/plain": [
       "<IPython.core.display.Markdown object>"
      ]
     },
     "metadata": {},
     "output_type": "display_data"
    },
    {
     "name": "stdout",
     "output_type": "stream",
     "text": [
      "==================== \n",
      "Chemokines Updates_1. Chemokines Effective on Platelet Functions (AnnotationComparisonType.FIRST_HAS) \n",
      "====================\n"
     ]
    },
    {
     "data": {
      "text/markdown": [
       "| Path | First | Second |\n",
       "| ----- | ----- | ----- |\n",
       "| pretty_name                              | Anaphylatoxin                            |                                          |\n",
       "| cui                                      | 44369002                                 |                                          |\n",
       "| type_ids                                 | ['91187746']                             |                                          |\n",
       "| types                                    | ['']                                     |                                          |\n",
       "| source_value                             | chemoattractant                          |                                          |\n",
       "| detected_name                            | chemoattractant                          |                                          |\n",
       "| acc                                      | 1.0                                      |                                          |\n",
       "| context_similarity                       | 1.0                                      |                                          |\n",
       "| start                                    | 6636                                     |                                          |\n",
       "| end                                      | 6651                                     |                                          |\n",
       "| icd10                                    | []                                       |                                          |\n",
       "| ontologies                               | ['20220803_SNOMED_UK_CLINICAL_EXT']      |                                          |\n",
       "| snomed                                   | []                                       |                                          |\n",
       "| id                                       | 411                                      |                                          |\n",
       "| meta_anns (Dict[str, dict])              | 3                                        | 0                                        |"
      ],
      "text/plain": [
       "<IPython.core.display.Markdown object>"
      ]
     },
     "metadata": {},
     "output_type": "display_data"
    },
    {
     "name": "stdout",
     "output_type": "stream",
     "text": [
      "==================== \n",
      "Chemokines Updates_1. Chemokines Effective on Platelet Functions (AnnotationComparisonType.SAME_SPAN_DIFF_CONCEPT) \n",
      "====================\n"
     ]
    },
    {
     "data": {
      "text/markdown": [
       "| Path | First | Second |\n",
       "| ----- | ----- | ----- |\n",
       "| pretty_name                              | Cell count                               | Cell structure                           |\n",
       "| cui                                      | 118218001                                | 4421005                                  |\n",
       "| type_ids                                 | ['28321150']                             | ['66527446']                             |\n",
       "| types                                    | ['']                                     | ['cell structure']                       |\n",
       "| source_value                             | cells                                    | cells                                    |\n",
       "| detected_name                            | cell                                     | cell                                     |\n",
       "| acc                                      | 0.8443655829087031                       | 0.99                                     |\n",
       "| context_similarity                       | 0.8443655829087031                       | 0.99                                     |\n",
       "| start                                    | 6671                                     | 6671                                     |\n",
       "| end                                      | 6676                                     | 6676                                     |\n",
       "| icd10                                    | []                                       | []                                       |\n",
       "| ontologies                               | ['20220803_SNOMED_UK_CLINICAL_EXT']      | ['SNOMED-CT']                            |\n",
       "| snomed                                   | []                                       | []                                       |\n",
       "| id                                       | 413                                      | 404                                      |\n",
       "| meta_anns (Dict[str, dict])              | 3                                        | 0                                        |"
      ],
      "text/plain": [
       "<IPython.core.display.Markdown object>"
      ]
     },
     "metadata": {},
     "output_type": "display_data"
    },
    {
     "name": "stdout",
     "output_type": "stream",
     "text": [
      "==================== \n",
      "Chemokines Updates_1. Chemokines Effective on Platelet Functions (AnnotationComparisonType.SAME_SPAN_DIFF_CONCEPT) \n",
      "====================\n"
     ]
    },
    {
     "data": {
      "text/markdown": [
       "| Path | First | Second |\n",
       "| ----- | ----- | ----- |\n",
       "| pretty_name                              | Cell count                               | Cell structure                           |\n",
       "| cui                                      | 118218001                                | 4421005                                  |\n",
       "| type_ids                                 | ['28321150']                             | ['66527446']                             |\n",
       "| types                                    | ['']                                     | ['cell structure']                       |\n",
       "| source_value                             | cells                                    | cells                                    |\n",
       "| detected_name                            | cell                                     | cell                                     |\n",
       "| acc                                      | 0.716255387572472                        | 0.99                                     |\n",
       "| context_similarity                       | 0.716255387572472                        | 0.99                                     |\n",
       "| start                                    | 6729                                     | 6729                                     |\n",
       "| end                                      | 6734                                     | 6734                                     |\n",
       "| icd10                                    | []                                       | []                                       |\n",
       "| ontologies                               | ['20220803_SNOMED_UK_CLINICAL_EXT']      | ['SNOMED-CT']                            |\n",
       "| snomed                                   | []                                       | []                                       |\n",
       "| id                                       | 415                                      | 406                                      |\n",
       "| meta_anns (Dict[str, dict])              | 3                                        | 0                                        |"
      ],
      "text/plain": [
       "<IPython.core.display.Markdown object>"
      ]
     },
     "metadata": {},
     "output_type": "display_data"
    },
    {
     "name": "stdout",
     "output_type": "stream",
     "text": [
      "==================== \n",
      "Chemokines Updates_1. Chemokines Effective on Platelet Functions (AnnotationComparisonType.SAME_PARENT) \n",
      "====================\n"
     ]
    },
    {
     "data": {
      "text/markdown": [
       "| Path | First | Second |\n",
       "| ----- | ----- | ----- |\n",
       "| pretty_name                              | Musculoskeletal infective disorder       | Infectious disease                       |\n",
       "| cui                                      | 312154004                                | 40733004                                 |\n",
       "| type_ids                                 | ['9090192']                              | ['9090192']                              |\n",
       "| types                                    | ['']                                     | ['disorder']                             |\n",
       "| source_value                             | infection                                | infection                                |\n",
       "| detected_name                            | infection                                | infection                                |\n",
       "| acc                                      | 0.3336229131215412                       | 0.8866091212940161                       |\n",
       "| context_similarity                       | 0.3336229131215412                       | 0.8866091212940161                       |\n",
       "| start                                    | 6761                                     | 6761                                     |\n",
       "| end                                      | 6770                                     | 6770                                     |\n",
       "| icd10                                    | ['']                                     | ['B99X']                                 |\n",
       "| ontologies                               | ['20220803_SNOMED_UK_CLINICAL_EXT']      | ['SNOMED-CT']                            |\n",
       "| snomed                                   | []                                       | []                                       |\n",
       "| id                                       | 419                                      | 410                                      |\n",
       "| meta_anns (Dict[str, dict])              | 3                                        | 0                                        |"
      ],
      "text/plain": [
       "<IPython.core.display.Markdown object>"
      ]
     },
     "metadata": {},
     "output_type": "display_data"
    },
    {
     "name": "stdout",
     "output_type": "stream",
     "text": [
      "==================== \n",
      "Chemokines Updates_1. Chemokines Effective on Platelet Functions (AnnotationComparisonType.FIRST_HAS) \n",
      "====================\n"
     ]
    },
    {
     "data": {
      "text/markdown": [
       "| Path | First | Second |\n",
       "| ----- | ----- | ----- |\n",
       "| pretty_name                              | Previous                                 |                                          |\n",
       "| cui                                      | 9130008                                  |                                          |\n",
       "| type_ids                                 | ['7882689']                              |                                          |\n",
       "| types                                    | ['']                                     |                                          |\n",
       "| source_value                             | previously                               |                                          |\n",
       "| detected_name                            | previously                               |                                          |\n",
       "| acc                                      | 1.0                                      |                                          |\n",
       "| context_similarity                       | 1.0                                      |                                          |\n",
       "| start                                    | 6862                                     |                                          |\n",
       "| end                                      | 6872                                     |                                          |\n",
       "| icd10                                    | []                                       |                                          |\n",
       "| ontologies                               | ['20220803_SNOMED_UK_CLINICAL_EXT']      |                                          |\n",
       "| snomed                                   | []                                       |                                          |\n",
       "| id                                       | 424                                      |                                          |\n",
       "| meta_anns (Dict[str, dict])              | 3                                        | 0                                        |"
      ],
      "text/plain": [
       "<IPython.core.display.Markdown object>"
      ]
     },
     "metadata": {},
     "output_type": "display_data"
    },
    {
     "name": "stdout",
     "output_type": "stream",
     "text": [
      "==================== \n",
      "Chemokines Updates_1. Chemokines Effective on Platelet Functions (AnnotationComparisonType.FIRST_HAS) \n",
      "====================\n"
     ]
    },
    {
     "data": {
      "text/markdown": [
       "| Path | First | Second |\n",
       "| ----- | ----- | ----- |\n",
       "| pretty_name                              | Malignant melanoma                       |                                          |\n",
       "| cui                                      | 372244006                                |                                          |\n",
       "| type_ids                                 | ['9090192']                              |                                          |\n",
       "| types                                    | ['']                                     |                                          |\n",
       "| source_value                             | melanoma                                 |                                          |\n",
       "| detected_name                            | melanoma                                 |                                          |\n",
       "| acc                                      | 0.4642216193413641                       |                                          |\n",
       "| context_similarity                       | 0.4642216193413641                       |                                          |\n",
       "| start                                    | 6946                                     |                                          |\n",
       "| end                                      | 6954                                     |                                          |\n",
       "| icd10                                    | ['C43.9']                                |                                          |\n",
       "| ontologies                               | ['20220803_SNOMED_UK_CLINICAL_EXT']      |                                          |\n",
       "| snomed                                   | []                                       |                                          |\n",
       "| id                                       | 430                                      |                                          |\n",
       "| meta_anns (Dict[str, dict])              | 3                                        | 0                                        |"
      ],
      "text/plain": [
       "<IPython.core.display.Markdown object>"
      ]
     },
     "metadata": {},
     "output_type": "display_data"
    },
    {
     "name": "stdout",
     "output_type": "stream",
     "text": [
      "==================== \n",
      "Chemokines Updates_1. Chemokines Effective on Platelet Functions (AnnotationComparisonType.FIRST_HAS) \n",
      "====================\n"
     ]
    },
    {
     "data": {
      "text/markdown": [
       "| Path | First | Second |\n",
       "| ----- | ----- | ----- |\n",
       "| pretty_name                              | Anaphylatoxin                            |                                          |\n",
       "| cui                                      | 44369002                                 |                                          |\n",
       "| type_ids                                 | ['91187746']                             |                                          |\n",
       "| types                                    | ['']                                     |                                          |\n",
       "| source_value                             | chemoattractant                          |                                          |\n",
       "| detected_name                            | chemoattractant                          |                                          |\n",
       "| acc                                      | 1.0                                      |                                          |\n",
       "| context_similarity                       | 1.0                                      |                                          |\n",
       "| start                                    | 7096                                     |                                          |\n",
       "| end                                      | 7111                                     |                                          |\n",
       "| icd10                                    | []                                       |                                          |\n",
       "| ontologies                               | ['20220803_SNOMED_UK_CLINICAL_EXT']      |                                          |\n",
       "| snomed                                   | []                                       |                                          |\n",
       "| id                                       | 442                                      |                                          |\n",
       "| meta_anns (Dict[str, dict])              | 3                                        | 0                                        |"
      ],
      "text/plain": [
       "<IPython.core.display.Markdown object>"
      ]
     },
     "metadata": {},
     "output_type": "display_data"
    },
    {
     "name": "stdout",
     "output_type": "stream",
     "text": [
      "==================== \n",
      "Chemokines Updates_1. Chemokines Effective on Platelet Functions (AnnotationComparisonType.OVERLAPP_2ND_LARGER_DIFF_CONCEPT) \n",
      "====================\n"
     ]
    },
    {
     "data": {
      "text/markdown": [
       "| Path | First | Second |\n",
       "| ----- | ----- | ----- |\n",
       "| pretty_name                              | Genus Homo                               | Chromosome pair 4                        |\n",
       "| cui                                      | 389228009                                | 78901007                                 |\n",
       "| type_ids                                 | ['81102976']                             | ['66527446']                             |\n",
       "| types                                    | ['']                                     | ['cell structure']                       |\n",
       "| source_value                             | human                                    | human chromosome 4                       |\n",
       "| detected_name                            | human                                    | human~chromosome~4                       |\n",
       "| acc                                      | 0.36513465459000255                      | 1.0                                      |\n",
       "| context_similarity                       | 0.36513465459000255                      | 1.0                                      |\n",
       "| start                                    | 7209                                     | 7209                                     |\n",
       "| end                                      | 7214                                     | 7227                                     |\n",
       "| icd10                                    | []                                       | []                                       |\n",
       "| ontologies                               | ['20220803_SNOMED_UK_CLINICAL_EXT']      | ['SNOMED-CT']                            |\n",
       "| snomed                                   | []                                       | []                                       |\n",
       "| id                                       | 449                                      | 436                                      |\n",
       "| meta_anns (Dict[str, dict])              | 3                                        | 0                                        |"
      ],
      "text/plain": [
       "<IPython.core.display.Markdown object>"
      ]
     },
     "metadata": {},
     "output_type": "display_data"
    },
    {
     "name": "stdout",
     "output_type": "stream",
     "text": [
      "==================== \n",
      "Chemokines Updates_1. Chemokines Effective on Platelet Functions (AnnotationComparisonType.FIRST_HAS) \n",
      "====================\n"
     ]
    },
    {
     "data": {
      "text/markdown": [
       "| Path | First | Second |\n",
       "| ----- | ----- | ----- |\n",
       "| pretty_name                              | Chromosome pair 4                        |                                          |\n",
       "| cui                                      | 78901007                                 |                                          |\n",
       "| type_ids                                 | ['66527446']                             |                                          |\n",
       "| types                                    | ['']                                     |                                          |\n",
       "| source_value                             | chromosome 4                             |                                          |\n",
       "| detected_name                            | chromosome~4                             |                                          |\n",
       "| acc                                      | 1.0                                      |                                          |\n",
       "| context_similarity                       | 1.0                                      |                                          |\n",
       "| start                                    | 7215                                     |                                          |\n",
       "| end                                      | 7227                                     |                                          |\n",
       "| icd10                                    | []                                       |                                          |\n",
       "| ontologies                               | ['20220803_SNOMED_UK_CLINICAL_EXT']      |                                          |\n",
       "| snomed                                   | []                                       |                                          |\n",
       "| id                                       | 451                                      |                                          |\n",
       "| meta_anns (Dict[str, dict])              | 3                                        | 0                                        |"
      ],
      "text/plain": [
       "<IPython.core.display.Markdown object>"
      ]
     },
     "metadata": {},
     "output_type": "display_data"
    },
    {
     "name": "stdout",
     "output_type": "stream",
     "text": [
      "==================== \n",
      "Chemokines Updates_1. Chemokines Effective on Platelet Functions (AnnotationComparisonType.FIRST_HAS) \n",
      "====================\n"
     ]
    },
    {
     "data": {
      "text/markdown": [
       "| Path | First | Second |\n",
       "| ----- | ----- | ----- |\n",
       "| pretty_name                              | Mirror hands and feet co-occurrent with nasal defect |                                          |\n",
       "| cui                                      | 715440003                                |                                          |\n",
       "| type_ids                                 | ['9090192']                              |                                          |\n",
       "| types                                    | ['']                                     |                                          |\n",
       "| source_value                             | MIP                                      |                                          |\n",
       "| detected_name                            | mip                                      |                                          |\n",
       "| acc                                      | 1.0                                      |                                          |\n",
       "| context_similarity                       | 1.0                                      |                                          |\n",
       "| start                                    | 7369                                     |                                          |\n",
       "| end                                      | 7372                                     |                                          |\n",
       "| icd10                                    | ['Q87.2']                                |                                          |\n",
       "| ontologies                               | ['20220803_SNOMED_UK_CLINICAL_EXT']      |                                          |\n",
       "| snomed                                   | []                                       |                                          |\n",
       "| id                                       | 458                                      |                                          |\n",
       "| meta_anns (Dict[str, dict])              | 3                                        | 0                                        |"
      ],
      "text/plain": [
       "<IPython.core.display.Markdown object>"
      ]
     },
     "metadata": {},
     "output_type": "display_data"
    },
    {
     "name": "stdout",
     "output_type": "stream",
     "text": [
      "==================== \n",
      "Chemokines Updates_1. Chemokines Effective on Platelet Functions (AnnotationComparisonType.OVERLAPP_2ND_LARGER_DIFF_CONCEPT) \n",
      "====================\n"
     ]
    },
    {
     "data": {
      "text/markdown": [
       "| Path | First | Second |\n",
       "| ----- | ----- | ----- |\n",
       "| pretty_name                              | Leukocyte                                | Segmented neutrophil                     |\n",
       "| cui                                      | 52501007                                 | 80153006                                 |\n",
       "| type_ids                                 | ['99220404']                             | ['99220404']                             |\n",
       "| types                                    | ['']                                     | ['cell']                                 |\n",
       "| source_value                             | leukocytes                               | polymorphonuclear leukocytes             |\n",
       "| detected_name                            | leukocyte                                | polymorphonuclear~leukocyte              |\n",
       "| acc                                      | 0.5085421030119415                       | 0.4422972886168778                       |\n",
       "| context_similarity                       | 0.5085421030119415                       | 0.4422972886168778                       |\n",
       "| start                                    | 7564                                     | 7546                                     |\n",
       "| end                                      | 7574                                     | 7574                                     |\n",
       "| icd10                                    | []                                       | []                                       |\n",
       "| ontologies                               | ['20220803_SNOMED_UK_CLINICAL_EXT']      | ['SNOMED-CT']                            |\n",
       "| snomed                                   | []                                       | []                                       |\n",
       "| id                                       | 468                                      | 454                                      |\n",
       "| meta_anns (Dict[str, dict])              | 3                                        | 0                                        |"
      ],
      "text/plain": [
       "<IPython.core.display.Markdown object>"
      ]
     },
     "metadata": {},
     "output_type": "display_data"
    },
    {
     "name": "stdout",
     "output_type": "stream",
     "text": [
      "==================== \n",
      "Chemokines Updates_1. Chemokines Effective on Platelet Functions (AnnotationComparisonType.SECOND_HAS) \n",
      "====================\n"
     ]
    },
    {
     "data": {
      "text/markdown": [
       "| Path | First | Second |\n",
       "| ----- | ----- | ----- |\n",
       "| pretty_name                              |                                          | Acuteness                                |\n",
       "| cui                                      |                                          | 272118002                                |\n",
       "| type_ids                                 |                                          | ['7882689']                              |\n",
       "| types                                    |                                          | ['qualifier value']                      |\n",
       "| source_value                             |                                          | acute                                    |\n",
       "| detected_name                            |                                          | acute                                    |\n",
       "| acc                                      |                                          | 1.0                                      |\n",
       "| context_similarity                       |                                          | 1.0                                      |\n",
       "| start                                    |                                          | 7579                                     |\n",
       "| end                                      |                                          | 7584                                     |\n",
       "| icd10                                    |                                          | []                                       |\n",
       "| ontologies                               |                                          | ['SNOMED-CT']                            |\n",
       "| snomed                                   |                                          | []                                       |\n",
       "| id                                       |                                          | 456                                      |\n",
       "| meta_anns (Dict[str, dict])              | 0                                        | 0                                        |"
      ],
      "text/plain": [
       "<IPython.core.display.Markdown object>"
      ]
     },
     "metadata": {},
     "output_type": "display_data"
    },
    {
     "name": "stdout",
     "output_type": "stream",
     "text": [
      "==================== \n",
      "Chemokines Updates_1. Chemokines Effective on Platelet Functions (AnnotationComparisonType.SAME_SPAN_DIFF_CONCEPT) \n",
      "====================\n"
     ]
    },
    {
     "data": {
      "text/markdown": [
       "| Path | First | Second |\n",
       "| ----- | ----- | ----- |\n",
       "| pretty_name                              | Disease                                  | Condition                                |\n",
       "| cui                                      | 64572001                                 | 260905004                                |\n",
       "| type_ids                                 | ['9090192']                              | ['43039974']                             |\n",
       "| types                                    | ['']                                     | ['attribute']                            |\n",
       "| source_value                             | conditions                               | conditions                               |\n",
       "| detected_name                            | condition                                | condition                                |\n",
       "| acc                                      | 0.5095080329615806                       | 1.0                                      |\n",
       "| context_similarity                       | 0.5095080329615806                       | 1.0                                      |\n",
       "| start                                    | 7598                                     | 7598                                     |\n",
       "| end                                      | 7608                                     | 7608                                     |\n",
       "| icd10                                    | ['']                                     | []                                       |\n",
       "| ontologies                               | ['20220803_SNOMED_UK_CLINICAL_EXT']      | ['SNOMED-CT']                            |\n",
       "| snomed                                   | []                                       | []                                       |\n",
       "| id                                       | 470                                      | 457                                      |\n",
       "| meta_anns (Dict[str, dict])              | 3                                        | 0                                        |"
      ],
      "text/plain": [
       "<IPython.core.display.Markdown object>"
      ]
     },
     "metadata": {},
     "output_type": "display_data"
    },
    {
     "name": "stdout",
     "output_type": "stream",
     "text": [
      "==================== \n",
      "Chemokines Updates_1. Chemokines Effective on Platelet Functions (AnnotationComparisonType.FIRST_HAS) \n",
      "====================\n"
     ]
    },
    {
     "data": {
      "text/markdown": [
       "| Path | First | Second |\n",
       "| ----- | ----- | ----- |\n",
       "| pretty_name                              | Amyloid light-chain amyloidosis          |                                          |\n",
       "| cui                                      | 23132008                                 |                                          |\n",
       "| type_ids                                 | ['9090192']                              |                                          |\n",
       "| types                                    | ['']                                     |                                          |\n",
       "| source_value                             | al                                       |                                          |\n",
       "| detected_name                            | al                                       |                                          |\n",
       "| acc                                      | 0.37406901500118966                      |                                          |\n",
       "| context_similarity                       | 0.37406901500118966                      |                                          |\n",
       "| start                                    | 7620                                     |                                          |\n",
       "| end                                      | 7622                                     |                                          |\n",
       "| icd10                                    | ['E85.8', 'D80.8']                       |                                          |\n",
       "| ontologies                               | ['20220803_SNOMED_UK_CLINICAL_EXT']      |                                          |\n",
       "| snomed                                   | []                                       |                                          |\n",
       "| id                                       | 473                                      |                                          |\n",
       "| meta_anns (Dict[str, dict])              | 3                                        | 0                                        |"
      ],
      "text/plain": [
       "<IPython.core.display.Markdown object>"
      ]
     },
     "metadata": {},
     "output_type": "display_data"
    },
    {
     "name": "stdout",
     "output_type": "stream",
     "text": [
      "==================== \n",
      "Chemokines Updates_1. Chemokines Effective on Platelet Functions (AnnotationComparisonType.FIRST_HAS) \n",
      "====================\n"
     ]
    },
    {
     "data": {
      "text/markdown": [
       "| Path | First | Second |\n",
       "| ----- | ----- | ----- |\n",
       "| pretty_name                              | Mirror hands and feet co-occurrent with nasal defect |                                          |\n",
       "| cui                                      | 715440003                                |                                          |\n",
       "| type_ids                                 | ['9090192']                              |                                          |\n",
       "| types                                    | ['']                                     |                                          |\n",
       "| source_value                             | MIP                                      |                                          |\n",
       "| detected_name                            | mip                                      |                                          |\n",
       "| acc                                      | 1.0                                      |                                          |\n",
       "| context_similarity                       | 1.0                                      |                                          |\n",
       "| start                                    | 7660                                     |                                          |\n",
       "| end                                      | 7663                                     |                                          |\n",
       "| icd10                                    | ['Q87.2']                                |                                          |\n",
       "| ontologies                               | ['20220803_SNOMED_UK_CLINICAL_EXT']      |                                          |\n",
       "| snomed                                   | []                                       |                                          |\n",
       "| id                                       | 475                                      |                                          |\n",
       "| meta_anns (Dict[str, dict])              | 3                                        | 0                                        |"
      ],
      "text/plain": [
       "<IPython.core.display.Markdown object>"
      ]
     },
     "metadata": {},
     "output_type": "display_data"
    },
    {
     "name": "stdout",
     "output_type": "stream",
     "text": [
      "==================== \n",
      "Chemokines Updates_1. Chemokines Effective on Platelet Functions (AnnotationComparisonType.SECOND_HAS) \n",
      "====================\n"
     ]
    },
    {
     "data": {
      "text/markdown": [
       "| Path | First | Second |\n",
       "| ----- | ----- | ----- |\n",
       "| pretty_name                              |                                          | Rapidly                                  |\n",
       "| cui                                      |                                          | 418694008                                |\n",
       "| type_ids                                 |                                          | ['7882689']                              |\n",
       "| types                                    |                                          | ['qualifier value']                      |\n",
       "| source_value                             |                                          | rapid                                    |\n",
       "| detected_name                            |                                          | rapid                                    |\n",
       "| acc                                      |                                          | 0.99                                     |\n",
       "| context_similarity                       |                                          | 0.99                                     |\n",
       "| start                                    |                                          | 7721                                     |\n",
       "| end                                      |                                          | 7726                                     |\n",
       "| icd10                                    |                                          | []                                       |\n",
       "| ontologies                               |                                          | ['SNOMED-CT']                            |\n",
       "| snomed                                   |                                          | []                                       |\n",
       "| id                                       |                                          | 464                                      |\n",
       "| meta_anns (Dict[str, dict])              | 0                                        | 0                                        |"
      ],
      "text/plain": [
       "<IPython.core.display.Markdown object>"
      ]
     },
     "metadata": {},
     "output_type": "display_data"
    },
    {
     "name": "stdout",
     "output_type": "stream",
     "text": [
      "==================== \n",
      "Chemokines Updates_1. Chemokines Effective on Platelet Functions (AnnotationComparisonType.SAME_SPAN_DIFF_CONCEPT) \n",
      "====================\n"
     ]
    },
    {
     "data": {
      "text/markdown": [
       "| Path | First | Second |\n",
       "| ----- | ----- | ----- |\n",
       "| pretty_name                              | Onsets                                   | Onset of (contextual qualifier)          |\n",
       "| cui                                      | 370139004                                | 77374008                                 |\n",
       "| type_ids                                 | ['7882689']                              | ['7882689']                              |\n",
       "| types                                    | ['']                                     | ['qualifier value']                      |\n",
       "| source_value                             | onset                                    | onset                                    |\n",
       "| detected_name                            | onset                                    | onset                                    |\n",
       "| acc                                      | 0.670152996367639                        | 0.99                                     |\n",
       "| context_similarity                       | 0.670152996367639                        | 0.99                                     |\n",
       "| start                                    | 7727                                     | 7727                                     |\n",
       "| end                                      | 7732                                     | 7732                                     |\n",
       "| icd10                                    | []                                       | []                                       |\n",
       "| ontologies                               | ['20220803_SNOMED_UK_CLINICAL_EXT']      | ['SNOMED-CT']                            |\n",
       "| snomed                                   | []                                       | []                                       |\n",
       "| id                                       | 480                                      | 465                                      |\n",
       "| meta_anns (Dict[str, dict])              | 3                                        | 0                                        |"
      ],
      "text/plain": [
       "<IPython.core.display.Markdown object>"
      ]
     },
     "metadata": {},
     "output_type": "display_data"
    },
    {
     "name": "stdout",
     "output_type": "stream",
     "text": [
      "==================== \n",
      "Chemokines Updates_1. Chemokines Effective on Platelet Functions (AnnotationComparisonType.OVERLAPP_1ST_LARGER_DIFF_CONCEPT) \n",
      "====================\n"
     ]
    },
    {
     "data": {
      "text/markdown": [
       "| Path | First | Second |\n",
       "| ----- | ----- | ----- |\n",
       "| pretty_name                              | Tumor necrosis factor                    | Tumor necrosis                           |\n",
       "| cui                                      | 8612007                                  | 34823008                                 |\n",
       "| type_ids                                 | ['91187746']                             | ['33782986']                             |\n",
       "| types                                    | ['']                                     | ['morphologic abnormality']              |\n",
       "| source_value                             | tumor necrosis factor                    | tumor necrosis                           |\n",
       "| detected_name                            | tumor~necrosis~factor                    | tumor~necrosis                           |\n",
       "| acc                                      | 1.0                                      | 1.0                                      |\n",
       "| context_similarity                       | 1.0                                      | 1.0                                      |\n",
       "| start                                    | 7833                                     | 7833                                     |\n",
       "| end                                      | 7854                                     | 7847                                     |\n",
       "| icd10                                    | []                                       | []                                       |\n",
       "| ontologies                               | ['20220803_SNOMED_UK_CLINICAL_EXT']      | ['SNOMED-CT']                            |\n",
       "| snomed                                   | []                                       | []                                       |\n",
       "| id                                       | 494                                      | 477                                      |\n",
       "| meta_anns (Dict[str, dict])              | 3                                        | 0                                        |"
      ],
      "text/plain": [
       "<IPython.core.display.Markdown object>"
      ]
     },
     "metadata": {},
     "output_type": "display_data"
    },
    {
     "name": "stdout",
     "output_type": "stream",
     "text": [
      "==================== \n",
      "Chemokines Updates_1. Chemokines Effective on Platelet Functions (AnnotationComparisonType.FIRST_HAS) \n",
      "====================\n"
     ]
    },
    {
     "data": {
      "text/markdown": [
       "| Path | First | Second |\n",
       "| ----- | ----- | ----- |\n",
       "| pretty_name                              | Mirror hands and feet co-occurrent with nasal defect |                                          |\n",
       "| cui                                      | 715440003                                |                                          |\n",
       "| type_ids                                 | ['9090192']                              |                                          |\n",
       "| types                                    | ['']                                     |                                          |\n",
       "| source_value                             | MIP                                      |                                          |\n",
       "| detected_name                            | mip                                      |                                          |\n",
       "| acc                                      | 1.0                                      |                                          |\n",
       "| context_similarity                       | 1.0                                      |                                          |\n",
       "| start                                    | 7939                                     |                                          |\n",
       "| end                                      | 7942                                     |                                          |\n",
       "| icd10                                    | ['Q87.2']                                |                                          |\n",
       "| ontologies                               | ['20220803_SNOMED_UK_CLINICAL_EXT']      |                                          |\n",
       "| snomed                                   | []                                       |                                          |\n",
       "| id                                       | 502                                      |                                          |\n",
       "| meta_anns (Dict[str, dict])              | 3                                        | 0                                        |"
      ],
      "text/plain": [
       "<IPython.core.display.Markdown object>"
      ]
     },
     "metadata": {},
     "output_type": "display_data"
    },
    {
     "name": "stdout",
     "output_type": "stream",
     "text": [
      "==================== \n",
      "Chemokines Updates_1. Chemokines Effective on Platelet Functions (AnnotationComparisonType.SECOND_HAS) \n",
      "====================\n"
     ]
    },
    {
     "data": {
      "text/markdown": [
       "| Path | First | Second |\n",
       "| ----- | ----- | ----- |\n",
       "| pretty_name                              |                                          | With type                                |\n",
       "| cui                                      |                                          | 35362001                                 |\n",
       "| type_ids                                 |                                          | ['43039974']                             |\n",
       "| types                                    |                                          | ['attribute']                            |\n",
       "| source_value                             |                                          | type                                     |\n",
       "| detected_name                            |                                          | type                                     |\n",
       "| acc                                      |                                          | 0.5602142813915542                       |\n",
       "| context_similarity                       |                                          | 0.5602142813915542                       |\n",
       "| start                                    |                                          | 8073                                     |\n",
       "| end                                      |                                          | 8077                                     |\n",
       "| icd10                                    |                                          | []                                       |\n",
       "| ontologies                               |                                          | ['SNOMED-CT']                            |\n",
       "| snomed                                   |                                          | []                                       |\n",
       "| id                                       |                                          | 492                                      |\n",
       "| meta_anns (Dict[str, dict])              | 0                                        | 0                                        |"
      ],
      "text/plain": [
       "<IPython.core.display.Markdown object>"
      ]
     },
     "metadata": {},
     "output_type": "display_data"
    },
    {
     "name": "stdout",
     "output_type": "stream",
     "text": [
      "==================== \n",
      "Chemokines Updates_1. Chemokines Effective on Platelet Functions (AnnotationComparisonType.SECOND_HAS) \n",
      "====================\n"
     ]
    },
    {
     "data": {
      "text/markdown": [
       "| Path | First | Second |\n",
       "| ----- | ----- | ----- |\n",
       "| pretty_name                              |                                          | Fever                                    |\n",
       "| cui                                      |                                          | 386661006                                |\n",
       "| type_ids                                 |                                          | ['67667581']                             |\n",
       "| types                                    |                                          | ['finding']                              |\n",
       "| source_value                             |                                          | febrile                                  |\n",
       "| detected_name                            |                                          | febrile                                  |\n",
       "| acc                                      |                                          | 0.47746781933857185                      |\n",
       "| context_similarity                       |                                          | 0.47746781933857185                      |\n",
       "| start                                    |                                          | 8081                                     |\n",
       "| end                                      |                                          | 8088                                     |\n",
       "| icd10                                    |                                          | ['R509', 'R508', 'R502', 'P819', 'P818', 'T670', 'O752', 'P810', 'O864'] |\n",
       "| ontologies                               |                                          | ['SNOMED-CT']                            |\n",
       "| snomed                                   |                                          | []                                       |\n",
       "| id                                       |                                          | 493                                      |\n",
       "| meta_anns (Dict[str, dict])              | 0                                        | 0                                        |"
      ],
      "text/plain": [
       "<IPython.core.display.Markdown object>"
      ]
     },
     "metadata": {},
     "output_type": "display_data"
    },
    {
     "name": "stdout",
     "output_type": "stream",
     "text": [
      "==================== \n",
      "Chemokines Updates_1. Chemokines Effective on Platelet Functions (AnnotationComparisonType.FIRST_HAS) \n",
      "====================\n"
     ]
    },
    {
     "data": {
      "text/markdown": [
       "| Path | First | Second |\n",
       "| ----- | ----- | ----- |\n",
       "| pretty_name                              | Milliliter                               |                                          |\n",
       "| cui                                      | 258773002                                |                                          |\n",
       "| type_ids                                 | ['7882689']                              |                                          |\n",
       "| types                                    | ['']                                     |                                          |\n",
       "| source_value                             | CC                                       |                                          |\n",
       "| detected_name                            | cc                                       |                                          |\n",
       "| acc                                      | 0.32947963522584467                      |                                          |\n",
       "| context_similarity                       | 0.32947963522584467                      |                                          |\n",
       "| start                                    | 8536                                     |                                          |\n",
       "| end                                      | 8538                                     |                                          |\n",
       "| icd10                                    | []                                       |                                          |\n",
       "| ontologies                               | ['20220803_SNOMED_UK_CLINICAL_EXT']      |                                          |\n",
       "| snomed                                   | []                                       |                                          |\n",
       "| id                                       | 529                                      |                                          |\n",
       "| meta_anns (Dict[str, dict])              | 3                                        | 0                                        |"
      ],
      "text/plain": [
       "<IPython.core.display.Markdown object>"
      ]
     },
     "metadata": {},
     "output_type": "display_data"
    },
    {
     "name": "stdout",
     "output_type": "stream",
     "text": [
      "==================== \n",
      "Chemokines Updates_1. Chemokines Effective on Platelet Functions (AnnotationComparisonType.FIRST_HAS) \n",
      "====================\n"
     ]
    },
    {
     "data": {
      "text/markdown": [
       "| Path | First | Second |\n",
       "| ----- | ----- | ----- |\n",
       "| pretty_name                              | Kilodalton                               |                                          |\n",
       "| cui                                      | 414556008                                |                                          |\n",
       "| type_ids                                 | ['7882689']                              |                                          |\n",
       "| types                                    | ['']                                     |                                          |\n",
       "| source_value                             | kDa                                      |                                          |\n",
       "| detected_name                            | kda                                      |                                          |\n",
       "| acc                                      | 1.0                                      |                                          |\n",
       "| context_similarity                       | 1.0                                      |                                          |\n",
       "| start                                    | 8626                                     |                                          |\n",
       "| end                                      | 8629                                     |                                          |\n",
       "| icd10                                    | []                                       |                                          |\n",
       "| ontologies                               | ['20220803_SNOMED_UK_CLINICAL_EXT']      |                                          |\n",
       "| snomed                                   | []                                       |                                          |\n",
       "| id                                       | 534                                      |                                          |\n",
       "| meta_anns (Dict[str, dict])              | 3                                        | 0                                        |"
      ],
      "text/plain": [
       "<IPython.core.display.Markdown object>"
      ]
     },
     "metadata": {},
     "output_type": "display_data"
    },
    {
     "name": "stdout",
     "output_type": "stream",
     "text": [
      "==================== \n",
      "Chemokines Updates_1. Chemokines Effective on Platelet Functions (AnnotationComparisonType.FIRST_HAS) \n",
      "====================\n"
     ]
    },
    {
     "data": {
      "text/markdown": [
       "| Path | First | Second |\n",
       "| ----- | ----- | ----- |\n",
       "| pretty_name                              | Consistency finding                      |                                          |\n",
       "| cui                                      | 107646001                                |                                          |\n",
       "| type_ids                                 | ['67667581']                             |                                          |\n",
       "| types                                    | ['']                                     |                                          |\n",
       "| source_value                             | consists                                 |                                          |\n",
       "| detected_name                            | consist                                  |                                          |\n",
       "| acc                                      | 1.0                                      |                                          |\n",
       "| context_similarity                       | 1.0                                      |                                          |\n",
       "| start                                    | 8698                                     |                                          |\n",
       "| end                                      | 8706                                     |                                          |\n",
       "| icd10                                    | ['']                                     |                                          |\n",
       "| ontologies                               | ['20220803_SNOMED_UK_CLINICAL_EXT']      |                                          |\n",
       "| snomed                                   | []                                       |                                          |\n",
       "| id                                       | 538                                      |                                          |\n",
       "| meta_anns (Dict[str, dict])              | 3                                        | 0                                        |"
      ],
      "text/plain": [
       "<IPython.core.display.Markdown object>"
      ]
     },
     "metadata": {},
     "output_type": "display_data"
    },
    {
     "name": "stdout",
     "output_type": "stream",
     "text": [
      "==================== \n",
      "Chemokines Updates_1. Chemokines Effective on Platelet Functions (AnnotationComparisonType.SAME_SPAN_DIFF_CONCEPT) \n",
      "====================\n"
     ]
    },
    {
     "data": {
      "text/markdown": [
       "| Path | First | Second |\n",
       "| ----- | ----- | ----- |\n",
       "| pretty_name                              | Eosinophil count                         | Eosinophil, segmented                    |\n",
       "| cui                                      | 71960002                                 | 14793004                                 |\n",
       "| type_ids                                 | ['28321150']                             | ['99220404']                             |\n",
       "| types                                    | ['']                                     | ['cell']                                 |\n",
       "| source_value                             | eosinophils                              | eosinophils                              |\n",
       "| detected_name                            | eosinophil                               | eosinophil                               |\n",
       "| acc                                      | 0.771038497925114                        | 1.0                                      |\n",
       "| context_similarity                       | 0.771038497925114                        | 1.0                                      |\n",
       "| start                                    | 8850                                     | 8850                                     |\n",
       "| end                                      | 8861                                     | 8861                                     |\n",
       "| icd10                                    | []                                       | []                                       |\n",
       "| ontologies                               | ['20220803_SNOMED_UK_CLINICAL_EXT']      | ['SNOMED-CT']                            |\n",
       "| snomed                                   | []                                       | []                                       |\n",
       "| id                                       | 549                                      | 531                                      |\n",
       "| meta_anns (Dict[str, dict])              | 3                                        | 0                                        |"
      ],
      "text/plain": [
       "<IPython.core.display.Markdown object>"
      ]
     },
     "metadata": {},
     "output_type": "display_data"
    },
    {
     "name": "stdout",
     "output_type": "stream",
     "text": [
      "==================== \n",
      "Chemokines Updates_1. Chemokines Effective on Platelet Functions (AnnotationComparisonType.OVERLAPP_1ST_LARGER_DIFF_CONCEPT) \n",
      "====================\n"
     ]
    },
    {
     "data": {
      "text/markdown": [
       "| Path | First | Second |\n",
       "| ----- | ----- | ----- |\n",
       "| pretty_name                              | Melanocyte                               | Dendritic                                |\n",
       "| cui                                      | 9683001                                  | 255337007                                |\n",
       "| type_ids                                 | ['99220404']                             | ['7882689']                              |\n",
       "| types                                    | ['']                                     | ['qualifier value']                      |\n",
       "| source_value                             | dendritic cells                          | dendritic                                |\n",
       "| detected_name                            | dendritic~cell                           | dendritic                                |\n",
       "| acc                                      | 1.0                                      | 0.99                                     |\n",
       "| context_similarity                       | 1.0                                      | 0.99                                     |\n",
       "| start                                    | 8925                                     | 8925                                     |\n",
       "| end                                      | 8940                                     | 8934                                     |\n",
       "| icd10                                    | []                                       | []                                       |\n",
       "| ontologies                               | ['20220803_SNOMED_UK_CLINICAL_EXT']      | ['SNOMED-CT']                            |\n",
       "| snomed                                   | []                                       | []                                       |\n",
       "| id                                       | 559                                      | 538                                      |\n",
       "| meta_anns (Dict[str, dict])              | 3                                        | 0                                        |"
      ],
      "text/plain": [
       "<IPython.core.display.Markdown object>"
      ]
     },
     "metadata": {},
     "output_type": "display_data"
    },
    {
     "name": "stdout",
     "output_type": "stream",
     "text": [
      "==================== \n",
      "Chemokines Updates_1. Chemokines Effective on Platelet Functions (AnnotationComparisonType.SECOND_HAS) \n",
      "====================\n"
     ]
    },
    {
     "data": {
      "text/markdown": [
       "| Path | First | Second |\n",
       "| ----- | ----- | ----- |\n",
       "| pretty_name                              |                                          | Cell structure                           |\n",
       "| cui                                      |                                          | 4421005                                  |\n",
       "| type_ids                                 |                                          | ['66527446']                             |\n",
       "| types                                    |                                          | ['cell structure']                       |\n",
       "| source_value                             |                                          | cells                                    |\n",
       "| detected_name                            |                                          | cell                                     |\n",
       "| acc                                      |                                          | 0.99                                     |\n",
       "| context_similarity                       |                                          | 0.99                                     |\n",
       "| start                                    |                                          | 8935                                     |\n",
       "| end                                      |                                          | 8940                                     |\n",
       "| icd10                                    |                                          | []                                       |\n",
       "| ontologies                               |                                          | ['SNOMED-CT']                            |\n",
       "| snomed                                   |                                          | []                                       |\n",
       "| id                                       |                                          | 539                                      |\n",
       "| meta_anns (Dict[str, dict])              | 0                                        | 0                                        |"
      ],
      "text/plain": [
       "<IPython.core.display.Markdown object>"
      ]
     },
     "metadata": {},
     "output_type": "display_data"
    },
    {
     "name": "stdout",
     "output_type": "stream",
     "text": [
      "==================== \n",
      "Chemokines Updates_1. Chemokines Effective on Platelet Functions (AnnotationComparisonType.SAME_PARENT) \n",
      "====================\n"
     ]
    },
    {
     "data": {
      "text/markdown": [
       "| Path | First | Second |\n",
       "| ----- | ----- | ----- |\n",
       "| pretty_name                              | Product containing interleukin-2         | Interleukin-2                            |\n",
       "| cui                                      | 428693003                                | 68945006                                 |\n",
       "| type_ids                                 | ['37785117']                             | ['91187746']                             |\n",
       "| types                                    | ['']                                     | ['substance']                            |\n",
       "| source_value                             | IL-2                                     | IL-2                                     |\n",
       "| detected_name                            | il~2                                     | il~2                                     |\n",
       "| acc                                      | 0.40179286554836074                      | 0.7517415325497561                       |\n",
       "| context_similarity                       | 0.40179286554836074                      | 0.7517415325497561                       |\n",
       "| start                                    | 9004                                     | 9004                                     |\n",
       "| end                                      | 9008                                     | 9008                                     |\n",
       "| icd10                                    | []                                       | []                                       |\n",
       "| ontologies                               | ['20220803_SNOMED_UK_CLINICAL_EXT']      | ['SNOMED-CT']                            |\n",
       "| snomed                                   | []                                       | []                                       |\n",
       "| id                                       | 565                                      | 544                                      |\n",
       "| meta_anns (Dict[str, dict])              | 3                                        | 0                                        |"
      ],
      "text/plain": [
       "<IPython.core.display.Markdown object>"
      ]
     },
     "metadata": {},
     "output_type": "display_data"
    },
    {
     "name": "stdout",
     "output_type": "stream",
     "text": [
      "==================== \n",
      "Chemokines Updates_1. Chemokines Effective on Platelet Functions (AnnotationComparisonType.SAME_PARENT) \n",
      "====================\n"
     ]
    },
    {
     "data": {
      "text/markdown": [
       "| Path | First | Second |\n",
       "| ----- | ----- | ----- |\n",
       "| pretty_name                              | Interferon alfa                          | Interferon                               |\n",
       "| cui                                      | 45754009                                 | 49327004                                 |\n",
       "| type_ids                                 | ['91187746']                             | ['91187746']                             |\n",
       "| types                                    | ['']                                     | ['substance']                            |\n",
       "| source_value                             | IFN                                      | IFN                                      |\n",
       "| detected_name                            | ifn                                      | ifn                                      |\n",
       "| acc                                      | 0.5823088532102996                       | 0.8087315405581906                       |\n",
       "| context_similarity                       | 0.5823088532102996                       | 0.8087315405581906                       |\n",
       "| start                                    | 9013                                     | 9013                                     |\n",
       "| end                                      | 9016                                     | 9016                                     |\n",
       "| icd10                                    | []                                       | []                                       |\n",
       "| ontologies                               | ['20220803_SNOMED_UK_CLINICAL_EXT']      | ['SNOMED-CT']                            |\n",
       "| snomed                                   | []                                       | []                                       |\n",
       "| id                                       | 566                                      | 545                                      |\n",
       "| meta_anns (Dict[str, dict])              | 3                                        | 0                                        |"
      ],
      "text/plain": [
       "<IPython.core.display.Markdown object>"
      ]
     },
     "metadata": {},
     "output_type": "display_data"
    },
    {
     "name": "stdout",
     "output_type": "stream",
     "text": [
      "==================== \n",
      "Chemokines Updates_1. Chemokines Effective on Platelet Functions (AnnotationComparisonType.FIRST_HAS) \n",
      "====================\n"
     ]
    },
    {
     "data": {
      "text/markdown": [
       "| Path | First | Second |\n",
       "| ----- | ----- | ----- |\n",
       "| pretty_name                              | Certain                                  |                                          |\n",
       "| cui                                      | 17162000                                 |                                          |\n",
       "| type_ids                                 | ['7882689']                              |                                          |\n",
       "| types                                    | ['']                                     |                                          |\n",
       "| source_value                             | certain                                  |                                          |\n",
       "| detected_name                            | certain                                  |                                          |\n",
       "| acc                                      | 0.3366893331948875                       |                                          |\n",
       "| context_similarity                       | 0.3366893331948875                       |                                          |\n",
       "| start                                    | 9104                                     |                                          |\n",
       "| end                                      | 9111                                     |                                          |\n",
       "| icd10                                    | []                                       |                                          |\n",
       "| ontologies                               | ['20220803_SNOMED_UK_CLINICAL_EXT']      |                                          |\n",
       "| snomed                                   | []                                       |                                          |\n",
       "| id                                       | 572                                      |                                          |\n",
       "| meta_anns (Dict[str, dict])              | 3                                        | 0                                        |"
      ],
      "text/plain": [
       "<IPython.core.display.Markdown object>"
      ]
     },
     "metadata": {},
     "output_type": "display_data"
    },
    {
     "name": "stdout",
     "output_type": "stream",
     "text": [
      "==================== \n",
      "Chemokines Updates_1. Chemokines Effective on Platelet Functions (AnnotationComparisonType.FIRST_HAS) \n",
      "====================\n"
     ]
    },
    {
     "data": {
      "text/markdown": [
       "| Path | First | Second |\n",
       "| ----- | ----- | ----- |\n",
       "| pretty_name                              | Catha edulis                             |                                          |\n",
       "| cui                                      | 736462003                                |                                          |\n",
       "| type_ids                                 | ['91187746']                             |                                          |\n",
       "| types                                    | ['']                                     |                                          |\n",
       "| source_value                             | CHAK                                     |                                          |\n",
       "| detected_name                            | chat                                     |                                          |\n",
       "| acc                                      | 0.3870977892618369                       |                                          |\n",
       "| context_similarity                       | 0.3870977892618369                       |                                          |\n",
       "| start                                    | 9129                                     |                                          |\n",
       "| end                                      | 9133                                     |                                          |\n",
       "| icd10                                    | []                                       |                                          |\n",
       "| ontologies                               | ['20220803_SNOMED_UK_CLINICAL_EXT']      |                                          |\n",
       "| snomed                                   | []                                       |                                          |\n",
       "| id                                       | 577                                      |                                          |\n",
       "| meta_anns (Dict[str, dict])              | 3                                        | 0                                        |"
      ],
      "text/plain": [
       "<IPython.core.display.Markdown object>"
      ]
     },
     "metadata": {},
     "output_type": "display_data"
    },
    {
     "name": "stdout",
     "output_type": "stream",
     "text": [
      "==================== \n",
      "Chemokines Updates_1. Chemokines Effective on Platelet Functions (AnnotationComparisonType.SAME_SPAN_DIFF_CONCEPT) \n",
      "====================\n"
     ]
    },
    {
     "data": {
      "text/markdown": [
       "| Path | First | Second |\n",
       "| ----- | ----- | ----- |\n",
       "| pretty_name                              | Case conference                          | Milliliter                               |\n",
       "| cui                                      | 229058001                                | 258773002                                |\n",
       "| type_ids                                 | ['28321150']                             | ['7882689']                              |\n",
       "| types                                    | ['']                                     | ['qualifier value']                      |\n",
       "| source_value                             | CC                                       | CC                                       |\n",
       "| detected_name                            | cc                                       | cc                                       |\n",
       "| acc                                      | 0.37808778931700127                      | 0.4119684553564338                       |\n",
       "| context_similarity                       | 0.37808778931700127                      | 0.4119684553564338                       |\n",
       "| start                                    | 9135                                     | 9135                                     |\n",
       "| end                                      | 9137                                     | 9137                                     |\n",
       "| icd10                                    | []                                       | []                                       |\n",
       "| ontologies                               | ['20220803_SNOMED_UK_CLINICAL_EXT']      | ['SNOMED-CT']                            |\n",
       "| snomed                                   | []                                       | []                                       |\n",
       "| id                                       | 578                                      | 555                                      |\n",
       "| meta_anns (Dict[str, dict])              | 3                                        | 0                                        |"
      ],
      "text/plain": [
       "<IPython.core.display.Markdown object>"
      ]
     },
     "metadata": {},
     "output_type": "display_data"
    },
    {
     "name": "stdout",
     "output_type": "stream",
     "text": [
      "==================== \n",
      "Chemokines Updates_1. Chemokines Effective on Platelet Functions (AnnotationComparisonType.SAME_SPAN_DIFF_CONCEPT) \n",
      "====================\n"
     ]
    },
    {
     "data": {
      "text/markdown": [
       "| Path | First | Second |\n",
       "| ----- | ----- | ----- |\n",
       "| pretty_name                              | Human immunodeficiency virus type 1 antibody | Human immunodeficiency virus detected    |\n",
       "| cui                                      | 120841000                                | 165816005                                |\n",
       "| type_ids                                 | ['91187746']                             | ['67667581']                             |\n",
       "| types                                    | ['']                                     | ['finding']                              |\n",
       "| source_value                             | HIV                                      | HIV                                      |\n",
       "| detected_name                            | hiv                                      | hiv                                      |\n",
       "| acc                                      | 0.7892605186314532                       | 0.4493943644867568                       |\n",
       "| context_similarity                       | 0.7892605186314532                       | 0.4493943644867568                       |\n",
       "| start                                    | 9187                                     | 9187                                     |\n",
       "| end                                      | 9190                                     | 9190                                     |\n",
       "| icd10                                    | []                                       | ['Z21X']                                 |\n",
       "| ontologies                               | ['20220803_SNOMED_UK_CLINICAL_EXT']      | ['SNOMED-CT']                            |\n",
       "| snomed                                   | []                                       | []                                       |\n",
       "| id                                       | 581                                      | 558                                      |\n",
       "| meta_anns (Dict[str, dict])              | 3                                        | 0                                        |"
      ],
      "text/plain": [
       "<IPython.core.display.Markdown object>"
      ]
     },
     "metadata": {},
     "output_type": "display_data"
    },
    {
     "name": "stdout",
     "output_type": "stream",
     "text": [
      "==================== \n",
      "Chemokines Updates_1. Chemokines Effective on Platelet Functions (AnnotationComparisonType.FIRST_HAS) \n",
      "====================\n"
     ]
    },
    {
     "data": {
      "text/markdown": [
       "| Path | First | Second |\n",
       "| ----- | ----- | ----- |\n",
       "| pretty_name                              | Release - action                         |                                          |\n",
       "| cui                                      | 129299003                                |                                          |\n",
       "| type_ids                                 | ['7882689']                              |                                          |\n",
       "| types                                    | ['']                                     |                                          |\n",
       "| source_value                             | released                                 |                                          |\n",
       "| detected_name                            | released                                 |                                          |\n",
       "| acc                                      | 0.41640174083235687                      |                                          |\n",
       "| context_similarity                       | 0.41640174083235687                      |                                          |\n",
       "| start                                    | 9210                                     |                                          |\n",
       "| end                                      | 9218                                     |                                          |\n",
       "| icd10                                    | []                                       |                                          |\n",
       "| ontologies                               | ['20220803_SNOMED_UK_CLINICAL_EXT']      |                                          |\n",
       "| snomed                                   | []                                       |                                          |\n",
       "| id                                       | 583                                      |                                          |\n",
       "| meta_anns (Dict[str, dict])              | 3                                        | 0                                        |"
      ],
      "text/plain": [
       "<IPython.core.display.Markdown object>"
      ]
     },
     "metadata": {},
     "output_type": "display_data"
    },
    {
     "name": "stdout",
     "output_type": "stream",
     "text": [
      "==================== \n",
      "Chemokines Updates_1. Chemokines Effective on Platelet Functions (AnnotationComparisonType.SAME_PARENT) \n",
      "====================\n"
     ]
    },
    {
     "data": {
      "text/markdown": [
       "| Path | First | Second |\n",
       "| ----- | ----- | ----- |\n",
       "| pretty_name                              | Disorder of blood vessel                 | Blood vessel structure                   |\n",
       "| cui                                      | 27550009                                 | 59820001                                 |\n",
       "| type_ids                                 | ['9090192']                              | ['37552161']                             |\n",
       "| types                                    | ['']                                     | ['body structure']                       |\n",
       "| source_value                             | vascular                                 | vascular                                 |\n",
       "| detected_name                            | vascular                                 | vascular                                 |\n",
       "| acc                                      | 0.5334256481210157                       | 1.0                                      |\n",
       "| context_similarity                       | 0.5334256481210157                       | 1.0                                      |\n",
       "| start                                    | 9257                                     | 9257                                     |\n",
       "| end                                      | 9265                                     | 9265                                     |\n",
       "| icd10                                    | ['I99']                                  | []                                       |\n",
       "| ontologies                               | ['20220803_SNOMED_UK_CLINICAL_EXT']      | ['SNOMED-CT']                            |\n",
       "| snomed                                   | []                                       | []                                       |\n",
       "| id                                       | 588                                      | 565                                      |\n",
       "| meta_anns (Dict[str, dict])              | 3                                        | 0                                        |"
      ],
      "text/plain": [
       "<IPython.core.display.Markdown object>"
      ]
     },
     "metadata": {},
     "output_type": "display_data"
    },
    {
     "name": "stdout",
     "output_type": "stream",
     "text": [
      "==================== \n",
      "Chemokines Updates_1. Chemokines Effective on Platelet Functions (AnnotationComparisonType.SECOND_HAS) \n",
      "====================\n"
     ]
    },
    {
     "data": {
      "text/markdown": [
       "| Path | First | Second |\n",
       "| ----- | ----- | ----- |\n",
       "| pretty_name                              |                                          | Acuteness                                |\n",
       "| cui                                      |                                          | 272118002                                |\n",
       "| type_ids                                 |                                          | ['7882689']                              |\n",
       "| types                                    |                                          | ['qualifier value']                      |\n",
       "| source_value                             |                                          | acute                                    |\n",
       "| detected_name                            |                                          | acute                                    |\n",
       "| acc                                      |                                          | 1.0                                      |\n",
       "| context_similarity                       |                                          | 1.0                                      |\n",
       "| start                                    |                                          | 9429                                     |\n",
       "| end                                      |                                          | 9434                                     |\n",
       "| icd10                                    |                                          | []                                       |\n",
       "| ontologies                               |                                          | ['SNOMED-CT']                            |\n",
       "| snomed                                   |                                          | []                                       |\n",
       "| id                                       |                                          | 572                                      |\n",
       "| meta_anns (Dict[str, dict])              | 0                                        | 0                                        |"
      ],
      "text/plain": [
       "<IPython.core.display.Markdown object>"
      ]
     },
     "metadata": {},
     "output_type": "display_data"
    },
    {
     "name": "stdout",
     "output_type": "stream",
     "text": [
      "==================== \n",
      "Chemokines Updates_1. Chemokines Effective on Platelet Functions (AnnotationComparisonType.SAME_PARENT) \n",
      "====================\n"
     ]
    },
    {
     "data": {
      "text/markdown": [
       "| Path | First | Second |\n",
       "| ----- | ----- | ----- |\n",
       "| pretty_name                              | Thromboembolic disorder                  | Thromboembolus                           |\n",
       "| cui                                      | 371039008                                | 13713005                                 |\n",
       "| type_ids                                 | ['9090192']                              | ['33782986']                             |\n",
       "| types                                    | ['']                                     | ['morphologic abnormality']              |\n",
       "| source_value                             | thromboembolism                          | thromboembolism                          |\n",
       "| detected_name                            | thromboembolism                          | thromboembolism                          |\n",
       "| acc                                      | 0.45532167135869167                      | 0.4547045830815263                       |\n",
       "| context_similarity                       | 0.45532167135869167                      | 0.4547045830815263                       |\n",
       "| start                                    | 9435                                     | 9435                                     |\n",
       "| end                                      | 9450                                     | 9450                                     |\n",
       "| icd10                                    | ['I74.9']                                | []                                       |\n",
       "| ontologies                               | ['20220803_SNOMED_UK_CLINICAL_EXT']      | ['SNOMED-CT']                            |\n",
       "| snomed                                   | []                                       | []                                       |\n",
       "| id                                       | 596                                      | 573                                      |\n",
       "| meta_anns (Dict[str, dict])              | 3                                        | 0                                        |"
      ],
      "text/plain": [
       "<IPython.core.display.Markdown object>"
      ]
     },
     "metadata": {},
     "output_type": "display_data"
    },
    {
     "name": "stdout",
     "output_type": "stream",
     "text": [
      "==================== \n",
      "Chemokines Updates_1. Chemokines Effective on Platelet Functions (AnnotationComparisonType.SECOND_HAS) \n",
      "====================\n"
     ]
    },
    {
     "data": {
      "text/markdown": [
       "| Path | First | Second |\n",
       "| ----- | ----- | ----- |\n",
       "| pretty_name                              |                                          | Monocyte                                 |\n",
       "| cui                                      |                                          | 55918008                                 |\n",
       "| type_ids                                 |                                          | ['99220404']                             |\n",
       "| types                                    |                                          | ['cell']                                 |\n",
       "| source_value                             |                                          | Monocyte                                 |\n",
       "| detected_name                            |                                          | monocyte                                 |\n",
       "| acc                                      |                                          | 1.0                                      |\n",
       "| context_similarity                       |                                          | 1.0                                      |\n",
       "| start                                    |                                          | 9453                                     |\n",
       "| end                                      |                                          | 9461                                     |\n",
       "| icd10                                    |                                          | []                                       |\n",
       "| ontologies                               |                                          | ['SNOMED-CT']                            |\n",
       "| snomed                                   |                                          | []                                       |\n",
       "| id                                       |                                          | 574                                      |\n",
       "| meta_anns (Dict[str, dict])              | 0                                        | 0                                        |"
      ],
      "text/plain": [
       "<IPython.core.display.Markdown object>"
      ]
     },
     "metadata": {},
     "output_type": "display_data"
    },
    {
     "name": "stdout",
     "output_type": "stream",
     "text": [
      "==================== \n",
      "Chemokines Updates_1. Chemokines Effective on Platelet Functions (AnnotationComparisonType.SAME_PARENT) \n",
      "====================\n"
     ]
    },
    {
     "data": {
      "text/markdown": [
       "| Path | First | Second |\n",
       "| ----- | ----- | ----- |\n",
       "| pretty_name                              | Procedure on artery                      | Arterial structure                       |\n",
       "| cui                                      | 118805000                                | 51114001                                 |\n",
       "| type_ids                                 | ['28321150']                             | ['37552161']                             |\n",
       "| types                                    | ['']                                     | ['body structure']                       |\n",
       "| source_value                             | artery                                   | artery                                   |\n",
       "| detected_name                            | artery                                   | artery                                   |\n",
       "| acc                                      | 0.34327349066734314                      | 0.7190732777504039                       |\n",
       "| context_similarity                       | 0.34327349066734314                      | 0.7190732777504039                       |\n",
       "| start                                    | 9498                                     | 9498                                     |\n",
       "| end                                      | 9504                                     | 9504                                     |\n",
       "| icd10                                    | []                                       | []                                       |\n",
       "| ontologies                               | ['20220803_SNOMED_UK_CLINICAL_EXT']      | ['SNOMED-CT']                            |\n",
       "| snomed                                   | []                                       | []                                       |\n",
       "| id                                       | 599                                      | 576                                      |\n",
       "| meta_anns (Dict[str, dict])              | 3                                        | 0                                        |"
      ],
      "text/plain": [
       "<IPython.core.display.Markdown object>"
      ]
     },
     "metadata": {},
     "output_type": "display_data"
    },
    {
     "name": "stdout",
     "output_type": "stream",
     "text": [
      "==================== \n",
      "Chemokines Updates_1. Chemokines Effective on Platelet Functions (AnnotationComparisonType.SECOND_HAS) \n",
      "====================\n"
     ]
    },
    {
     "data": {
      "text/markdown": [
       "| Path | First | Second |\n",
       "| ----- | ----- | ----- |\n",
       "| pretty_name                              |                                          | Pathogenesis                             |\n",
       "| cui                                      |                                          | 263547006                                |\n",
       "| type_ids                                 |                                          | ['43039974']                             |\n",
       "| types                                    |                                          | ['attribute']                            |\n",
       "| source_value                             |                                          | pathogenesis                             |\n",
       "| detected_name                            |                                          | pathogenesis                             |\n",
       "| acc                                      |                                          | 0.667451461160606                        |\n",
       "| context_similarity                       |                                          | 0.667451461160606                        |\n",
       "| start                                    |                                          | 9531                                     |\n",
       "| end                                      |                                          | 9543                                     |\n",
       "| icd10                                    |                                          | []                                       |\n",
       "| ontologies                               |                                          | ['SNOMED-CT']                            |\n",
       "| snomed                                   |                                          | []                                       |\n",
       "| id                                       |                                          | 579                                      |\n",
       "| meta_anns (Dict[str, dict])              | 0                                        | 0                                        |"
      ],
      "text/plain": [
       "<IPython.core.display.Markdown object>"
      ]
     },
     "metadata": {},
     "output_type": "display_data"
    },
    {
     "name": "stdout",
     "output_type": "stream",
     "text": [
      "==================== \n",
      "Chemokines Updates_1. Chemokines Effective on Platelet Functions (AnnotationComparisonType.FIRST_HAS) \n",
      "====================\n"
     ]
    },
    {
     "data": {
      "text/markdown": [
       "| Path | First | Second |\n",
       "| ----- | ----- | ----- |\n",
       "| pretty_name                              | Level                                    |                                          |\n",
       "| cui                                      | 276625007                                |                                          |\n",
       "| type_ids                                 | ['43039974']                             |                                          |\n",
       "| types                                    | ['']                                     |                                          |\n",
       "| source_value                             | levels                                   |                                          |\n",
       "| detected_name                            | level                                    |                                          |\n",
       "| acc                                      | 0.3687483405982871                       |                                          |\n",
       "| context_similarity                       | 0.3687483405982871                       |                                          |\n",
       "| start                                    | 9753                                     |                                          |\n",
       "| end                                      | 9759                                     |                                          |\n",
       "| icd10                                    | []                                       |                                          |\n",
       "| ontologies                               | ['20220803_SNOMED_UK_CLINICAL_EXT']      |                                          |\n",
       "| snomed                                   | []                                       |                                          |\n",
       "| id                                       | 613                                      |                                          |\n",
       "| meta_anns (Dict[str, dict])              | 3                                        | 0                                        |"
      ],
      "text/plain": [
       "<IPython.core.display.Markdown object>"
      ]
     },
     "metadata": {},
     "output_type": "display_data"
    },
    {
     "name": "stdout",
     "output_type": "stream",
     "text": [
      "==================== \n",
      "Chemokines Updates_1. Chemokines Effective on Platelet Functions (AnnotationComparisonType.FIRST_HAS) \n",
      "====================\n"
     ]
    },
    {
     "data": {
      "text/markdown": [
       "| Path | First | Second |\n",
       "| ----- | ----- | ----- |\n",
       "| pretty_name                              | Platelet factor 4                        |                                          |\n",
       "| cui                                      | 21289006                                 |                                          |\n",
       "| type_ids                                 | ['91187746']                             |                                          |\n",
       "| types                                    | ['']                                     |                                          |\n",
       "| source_value                             | PF4                                      |                                          |\n",
       "| detected_name                            | pf4                                      |                                          |\n",
       "| acc                                      | 1.0                                      |                                          |\n",
       "| context_similarity                       | 1.0                                      |                                          |\n",
       "| start                                    | 9845                                     |                                          |\n",
       "| end                                      | 9848                                     |                                          |\n",
       "| icd10                                    | []                                       |                                          |\n",
       "| ontologies                               | ['20220803_SNOMED_UK_CLINICAL_EXT']      |                                          |\n",
       "| snomed                                   | []                                       |                                          |\n",
       "| id                                       | 618                                      |                                          |\n",
       "| meta_anns (Dict[str, dict])              | 3                                        | 0                                        |"
      ],
      "text/plain": [
       "<IPython.core.display.Markdown object>"
      ]
     },
     "metadata": {},
     "output_type": "display_data"
    },
    {
     "name": "stdout",
     "output_type": "stream",
     "text": [
      "==================== \n",
      "Chemokines Updates_1. Chemokines Effective on Platelet Functions (AnnotationComparisonType.FIRST_HAS) \n",
      "====================\n"
     ]
    },
    {
     "data": {
      "text/markdown": [
       "| Path | First | Second |\n",
       "| ----- | ----- | ----- |\n",
       "| pretty_name                              | Platelet factor 4                        |                                          |\n",
       "| cui                                      | 21289006                                 |                                          |\n",
       "| type_ids                                 | ['91187746']                             |                                          |\n",
       "| types                                    | ['']                                     |                                          |\n",
       "| source_value                             | PF4                                      |                                          |\n",
       "| detected_name                            | pf4                                      |                                          |\n",
       "| acc                                      | 1.0                                      |                                          |\n",
       "| context_similarity                       | 1.0                                      |                                          |\n",
       "| start                                    | 9913                                     |                                          |\n",
       "| end                                      | 9916                                     |                                          |\n",
       "| icd10                                    | []                                       |                                          |\n",
       "| ontologies                               | ['20220803_SNOMED_UK_CLINICAL_EXT']      |                                          |\n",
       "| snomed                                   | []                                       |                                          |\n",
       "| id                                       | 623                                      |                                          |\n",
       "| meta_anns (Dict[str, dict])              | 3                                        | 0                                        |"
      ],
      "text/plain": [
       "<IPython.core.display.Markdown object>"
      ]
     },
     "metadata": {},
     "output_type": "display_data"
    },
    {
     "name": "stdout",
     "output_type": "stream",
     "text": [
      "==================== \n",
      "Chemokines Updates_1. Chemokines Effective on Platelet Functions (AnnotationComparisonType.FIRST_HAS) \n",
      "====================\n"
     ]
    },
    {
     "data": {
      "text/markdown": [
       "| Path | First | Second |\n",
       "| ----- | ----- | ----- |\n",
       "| pretty_name                              | Platelet factor 4                        |                                          |\n",
       "| cui                                      | 21289006                                 |                                          |\n",
       "| type_ids                                 | ['91187746']                             |                                          |\n",
       "| types                                    | ['']                                     |                                          |\n",
       "| source_value                             | PF4                                      |                                          |\n",
       "| detected_name                            | pf4                                      |                                          |\n",
       "| acc                                      | 1.0                                      |                                          |\n",
       "| context_similarity                       | 1.0                                      |                                          |\n",
       "| start                                    | 10022                                    |                                          |\n",
       "| end                                      | 10025                                    |                                          |\n",
       "| icd10                                    | []                                       |                                          |\n",
       "| ontologies                               | ['20220803_SNOMED_UK_CLINICAL_EXT']      |                                          |\n",
       "| snomed                                   | []                                       |                                          |\n",
       "| id                                       | 629                                      |                                          |\n",
       "| meta_anns (Dict[str, dict])              | 3                                        | 0                                        |"
      ],
      "text/plain": [
       "<IPython.core.display.Markdown object>"
      ]
     },
     "metadata": {},
     "output_type": "display_data"
    },
    {
     "name": "stdout",
     "output_type": "stream",
     "text": [
      "==================== \n",
      "Chemokines Updates_1. Chemokines Effective on Platelet Functions (AnnotationComparisonType.SAME_SPAN_DIFF_CONCEPT) \n",
      "====================\n"
     ]
    },
    {
     "data": {
      "text/markdown": [
       "| Path | First | Second |\n",
       "| ----- | ----- | ----- |\n",
       "| pretty_name                              | Extents                                  | Extending                                |\n",
       "| cui                                      | 255590007                                | 66211004                                 |\n",
       "| type_ids                                 | ['7882689']                              | ['7882689']                              |\n",
       "| types                                    | ['']                                     | ['qualifier value']                      |\n",
       "| source_value                             | extent                                   | extent                                   |\n",
       "| detected_name                            | extent                                   | extent                                   |\n",
       "| acc                                      | 0.8765767200720073                       | 0.99                                     |\n",
       "| context_similarity                       | 0.8765767200720073                       | 0.99                                     |\n",
       "| start                                    | 10043                                    | 10043                                    |\n",
       "| end                                      | 10049                                    | 10049                                    |\n",
       "| icd10                                    | []                                       | []                                       |\n",
       "| ontologies                               | ['20220803_SNOMED_UK_CLINICAL_EXT']      | ['SNOMED-CT']                            |\n",
       "| snomed                                   | []                                       | []                                       |\n",
       "| id                                       | 631                                      | 607                                      |\n",
       "| meta_anns (Dict[str, dict])              | 3                                        | 0                                        |"
      ],
      "text/plain": [
       "<IPython.core.display.Markdown object>"
      ]
     },
     "metadata": {},
     "output_type": "display_data"
    },
    {
     "name": "stdout",
     "output_type": "stream",
     "text": [
      "==================== \n",
      "Chemokines Updates_1. Chemokines Effective on Platelet Functions (AnnotationComparisonType.SAME_PARENT) \n",
      "====================\n"
     ]
    },
    {
     "data": {
      "text/markdown": [
       "| Path | First | Second |\n",
       "| ----- | ----- | ----- |\n",
       "| pretty_name                              | Plaque                                   | Senile plaque                            |\n",
       "| cui                                      | 1522000                                  | 38551001                                 |\n",
       "| type_ids                                 | ['33782986']                             | ['33782986']                             |\n",
       "| types                                    | ['']                                     | ['morphologic abnormality']              |\n",
       "| source_value                             | plaques                                  | plaques                                  |\n",
       "| detected_name                            | plaque                                   | plaque                                   |\n",
       "| acc                                      | 0.99                                     | 0.6277477533438716                       |\n",
       "| context_similarity                       | 0.99                                     | 0.6277477533438716                       |\n",
       "| start                                    | 10099                                    | 10099                                    |\n",
       "| end                                      | 10106                                    | 10106                                    |\n",
       "| icd10                                    | []                                       | []                                       |\n",
       "| ontologies                               | ['20220803_SNOMED_UK_CLINICAL_EXT']      | ['SNOMED-CT']                            |\n",
       "| snomed                                   | []                                       | []                                       |\n",
       "| id                                       | 636                                      | 611                                      |\n",
       "| meta_anns (Dict[str, dict])              | 3                                        | 0                                        |"
      ],
      "text/plain": [
       "<IPython.core.display.Markdown object>"
      ]
     },
     "metadata": {},
     "output_type": "display_data"
    },
    {
     "name": "stdout",
     "output_type": "stream",
     "text": [
      "==================== \n",
      "Chemokines Updates_1. Chemokines Effective on Platelet Functions (AnnotationComparisonType.FIRST_HAS) \n",
      "====================\n"
     ]
    },
    {
     "data": {
      "text/markdown": [
       "| Path | First | Second |\n",
       "| ----- | ----- | ----- |\n",
       "| pretty_name                              | Platelet factor 4                        |                                          |\n",
       "| cui                                      | 21289006                                 |                                          |\n",
       "| type_ids                                 | ['91187746']                             |                                          |\n",
       "| types                                    | ['']                                     |                                          |\n",
       "| source_value                             | PF4                                      |                                          |\n",
       "| detected_name                            | pf4                                      |                                          |\n",
       "| acc                                      | 1.0                                      |                                          |\n",
       "| context_similarity                       | 1.0                                      |                                          |\n",
       "| start                                    | 10118                                    |                                          |\n",
       "| end                                      | 10121                                    |                                          |\n",
       "| icd10                                    | []                                       |                                          |\n",
       "| ontologies                               | ['20220803_SNOMED_UK_CLINICAL_EXT']      |                                          |\n",
       "| snomed                                   | []                                       |                                          |\n",
       "| id                                       | 637                                      |                                          |\n",
       "| meta_anns (Dict[str, dict])              | 3                                        | 0                                        |"
      ],
      "text/plain": [
       "<IPython.core.display.Markdown object>"
      ]
     },
     "metadata": {},
     "output_type": "display_data"
    },
    {
     "name": "stdout",
     "output_type": "stream",
     "text": [
      "==================== \n",
      "Chemokines Updates_1. Chemokines Effective on Platelet Functions (AnnotationComparisonType.SECOND_HAS) \n",
      "====================\n"
     ]
    },
    {
     "data": {
      "text/markdown": [
       "| Path | First | Second |\n",
       "| ----- | ----- | ----- |\n",
       "| pretty_name                              |                                          | General metabolic function               |\n",
       "| cui                                      |                                          | 47722004                                 |\n",
       "| type_ids                                 |                                          | ['2680757']                              |\n",
       "| types                                    |                                          | ['observable entity']                    |\n",
       "| source_value                             |                                          | metabolism                               |\n",
       "| detected_name                            |                                          | metabolism                               |\n",
       "| acc                                      |                                          | 1.0                                      |\n",
       "| context_similarity                       |                                          | 1.0                                      |\n",
       "| start                                    |                                          | 10141                                    |\n",
       "| end                                      |                                          | 10151                                    |\n",
       "| icd10                                    |                                          | []                                       |\n",
       "| ontologies                               |                                          | ['SNOMED-CT']                            |\n",
       "| snomed                                   |                                          | []                                       |\n",
       "| id                                       |                                          | 614                                      |\n",
       "| meta_anns (Dict[str, dict])              | 0                                        | 0                                        |"
      ],
      "text/plain": [
       "<IPython.core.display.Markdown object>"
      ]
     },
     "metadata": {},
     "output_type": "display_data"
    },
    {
     "name": "stdout",
     "output_type": "stream",
     "text": [
      "==================== \n",
      "Chemokines Updates_1. Chemokines Effective on Platelet Functions (AnnotationComparisonType.FIRST_HAS) \n",
      "====================\n"
     ]
    },
    {
     "data": {
      "text/markdown": [
       "| Path | First | Second |\n",
       "| ----- | ----- | ----- |\n",
       "| pretty_name                              | Lipid                                    |                                          |\n",
       "| cui                                      | 70106000                                 |                                          |\n",
       "| type_ids                                 | ['91187746']                             |                                          |\n",
       "| types                                    | ['']                                     |                                          |\n",
       "| source_value                             | lipids                                   |                                          |\n",
       "| detected_name                            | lipid                                    |                                          |\n",
       "| acc                                      | 0.9186394363831492                       |                                          |\n",
       "| context_similarity                       | 0.9186394363831492                       |                                          |\n",
       "| start                                    | 10167                                    |                                          |\n",
       "| end                                      | 10173                                    |                                          |\n",
       "| icd10                                    | []                                       |                                          |\n",
       "| ontologies                               | ['20220803_SNOMED_UK_CLINICAL_EXT']      |                                          |\n",
       "| snomed                                   | []                                       |                                          |\n",
       "| id                                       | 640                                      |                                          |\n",
       "| meta_anns (Dict[str, dict])              | 3                                        | 0                                        |"
      ],
      "text/plain": [
       "<IPython.core.display.Markdown object>"
      ]
     },
     "metadata": {},
     "output_type": "display_data"
    },
    {
     "name": "stdout",
     "output_type": "stream",
     "text": [
      "==================== \n",
      "Chemokines Updates_1. Chemokines Effective on Platelet Functions (AnnotationComparisonType.SAME_PARENT) \n",
      "====================\n"
     ]
    },
    {
     "data": {
      "text/markdown": [
       "| Path | First | Second |\n",
       "| ----- | ----- | ----- |\n",
       "| pretty_name                              | Low density lipoprotein cholesterol      | Low density lipoprotein                  |\n",
       "| cui                                      | 102739008                                | 22244007                                 |\n",
       "| type_ids                                 | ['91187746']                             | ['91187746']                             |\n",
       "| types                                    | ['']                                     | ['substance']                            |\n",
       "| source_value                             | LDL                                      | LDL                                      |\n",
       "| detected_name                            | ldl                                      | ldl                                      |\n",
       "| acc                                      | 0.6555378914778189                       | 0.99                                     |\n",
       "| context_similarity                       | 0.6555378914778189                       | 0.99                                     |\n",
       "| start                                    | 10222                                    | 10222                                    |\n",
       "| end                                      | 10225                                    | 10225                                    |\n",
       "| icd10                                    | []                                       | []                                       |\n",
       "| ontologies                               | ['20220803_SNOMED_UK_CLINICAL_EXT']      | ['SNOMED-CT']                            |\n",
       "| snomed                                   | []                                       | []                                       |\n",
       "| id                                       | 648                                      | 623                                      |\n",
       "| meta_anns (Dict[str, dict])              | 3                                        | 0                                        |"
      ],
      "text/plain": [
       "<IPython.core.display.Markdown object>"
      ]
     },
     "metadata": {},
     "output_type": "display_data"
    },
    {
     "name": "stdout",
     "output_type": "stream",
     "text": [
      "==================== \n",
      "Chemokines Updates_1. Chemokines Effective on Platelet Functions (AnnotationComparisonType.SAME_PARENT) \n",
      "====================\n"
     ]
    },
    {
     "data": {
      "text/markdown": [
       "| Path | First | Second |\n",
       "| ----- | ----- | ----- |\n",
       "| pretty_name                              | Low density lipoprotein cholesterol      | Low density lipoprotein                  |\n",
       "| cui                                      | 102739008                                | 22244007                                 |\n",
       "| type_ids                                 | ['91187746']                             | ['91187746']                             |\n",
       "| types                                    | ['']                                     | ['substance']                            |\n",
       "| source_value                             | LDL                                      | LDL                                      |\n",
       "| detected_name                            | ldl                                      | ldl                                      |\n",
       "| acc                                      | 0.6078777604446203                       | 0.99                                     |\n",
       "| context_similarity                       | 0.6078777604446203                       | 0.99                                     |\n",
       "| start                                    | 10246                                    | 10246                                    |\n",
       "| end                                      | 10249                                    | 10249                                    |\n",
       "| icd10                                    | []                                       | []                                       |\n",
       "| ontologies                               | ['20220803_SNOMED_UK_CLINICAL_EXT']      | ['SNOMED-CT']                            |\n",
       "| snomed                                   | []                                       | []                                       |\n",
       "| id                                       | 650                                      | 625                                      |\n",
       "| meta_anns (Dict[str, dict])              | 3                                        | 0                                        |"
      ],
      "text/plain": [
       "<IPython.core.display.Markdown object>"
      ]
     },
     "metadata": {},
     "output_type": "display_data"
    },
    {
     "name": "stdout",
     "output_type": "stream",
     "text": [
      "==================== \n",
      "Chemokines Updates_1. Chemokines Effective on Platelet Functions (AnnotationComparisonType.SAME_PARENT) \n",
      "====================\n"
     ]
    },
    {
     "data": {
      "text/markdown": [
       "| Path | First | Second |\n",
       "| ----- | ----- | ----- |\n",
       "| pretty_name                              | Plaque                                   | Senile plaque                            |\n",
       "| cui                                      | 1522000                                  | 38551001                                 |\n",
       "| type_ids                                 | ['33782986']                             | ['33782986']                             |\n",
       "| types                                    | ['']                                     | ['morphologic abnormality']              |\n",
       "| source_value                             | plaque                                   | plaque                                   |\n",
       "| detected_name                            | plaque                                   | plaque                                   |\n",
       "| acc                                      | 0.99                                     | 0.40246964308561933                      |\n",
       "| context_similarity                       | 0.99                                     | 0.40246964308561933                      |\n",
       "| start                                    | 10287                                    | 10287                                    |\n",
       "| end                                      | 10293                                    | 10293                                    |\n",
       "| icd10                                    | []                                       | []                                       |\n",
       "| ontologies                               | ['20220803_SNOMED_UK_CLINICAL_EXT']      | ['SNOMED-CT']                            |\n",
       "| snomed                                   | []                                       | []                                       |\n",
       "| id                                       | 655                                      | 630                                      |\n",
       "| meta_anns (Dict[str, dict])              | 3                                        | 0                                        |"
      ],
      "text/plain": [
       "<IPython.core.display.Markdown object>"
      ]
     },
     "metadata": {},
     "output_type": "display_data"
    },
    {
     "name": "stdout",
     "output_type": "stream",
     "text": [
      "==================== \n",
      "Chemokines Updates_1. Chemokines Effective on Platelet Functions (AnnotationComparisonType.SAME_SPAN_DIFF_CONCEPT) \n",
      "====================\n"
     ]
    },
    {
     "data": {
      "text/markdown": [
       "| Path | First | Second |\n",
       "| ----- | ----- | ----- |\n",
       "| pretty_name                              | Virus                                    | Viral disease                            |\n",
       "| cui                                      | 49872002                                 | 34014006                                 |\n",
       "| type_ids                                 | ['81102976']                             | ['9090192']                              |\n",
       "| types                                    | ['']                                     | ['disorder']                             |\n",
       "| source_value                             | Virus                                    | Virus                                    |\n",
       "| detected_name                            | virus                                    | virus                                    |\n",
       "| acc                                      | 0.5516834368321234                       | 0.6790965278487167                       |\n",
       "| context_similarity                       | 0.5516834368321234                       | 0.6790965278487167                       |\n",
       "| start                                    | 10358                                    | 10358                                    |\n",
       "| end                                      | 10363                                    | 10363                                    |\n",
       "| icd10                                    | []                                       | ['B349', 'B348']                         |\n",
       "| ontologies                               | ['20220803_SNOMED_UK_CLINICAL_EXT']      | ['SNOMED-CT']                            |\n",
       "| snomed                                   | []                                       | []                                       |\n",
       "| id                                       | 657                                      | 632                                      |\n",
       "| meta_anns (Dict[str, dict])              | 3                                        | 0                                        |"
      ],
      "text/plain": [
       "<IPython.core.display.Markdown object>"
      ]
     },
     "metadata": {},
     "output_type": "display_data"
    },
    {
     "name": "stdout",
     "output_type": "stream",
     "text": [
      "==================== \n",
      "Chemokines Updates_1. Chemokines Effective on Platelet Functions (AnnotationComparisonType.FIRST_HAS) \n",
      "====================\n"
     ]
    },
    {
     "data": {
      "text/markdown": [
       "| Path | First | Second |\n",
       "| ----- | ----- | ----- |\n",
       "| pretty_name                              | Anaphylatoxin                            |                                          |\n",
       "| cui                                      | 44369002                                 |                                          |\n",
       "| type_ids                                 | ['91187746']                             |                                          |\n",
       "| types                                    | ['']                                     |                                          |\n",
       "| source_value                             | chemoattractant                          |                                          |\n",
       "| detected_name                            | chemoattractant                          |                                          |\n",
       "| acc                                      | 1.0                                      |                                          |\n",
       "| context_similarity                       | 1.0                                      |                                          |\n",
       "| start                                    | 10432                                    |                                          |\n",
       "| end                                      | 10447                                    |                                          |\n",
       "| icd10                                    | []                                       |                                          |\n",
       "| ontologies                               | ['20220803_SNOMED_UK_CLINICAL_EXT']      |                                          |\n",
       "| snomed                                   | []                                       |                                          |\n",
       "| id                                       | 660                                      |                                          |\n",
       "| meta_anns (Dict[str, dict])              | 3                                        | 0                                        |"
      ],
      "text/plain": [
       "<IPython.core.display.Markdown object>"
      ]
     },
     "metadata": {},
     "output_type": "display_data"
    },
    {
     "name": "stdout",
     "output_type": "stream",
     "text": [
      "==================== \n",
      "Chemokines Updates_1. Chemokines Effective on Platelet Functions (AnnotationComparisonType.OVERLAPP_1ST_LARGER_DIFF_CONCEPT) \n",
      "====================\n"
     ]
    },
    {
     "data": {
      "text/markdown": [
       "| Path | First | Second |\n",
       "| ----- | ----- | ----- |\n",
       "| pretty_name                              | Normal cell                              | Normal                                   |\n",
       "| cui                                      | 118957004                                | 17621005                                 |\n",
       "| type_ids                                 | ['99220404']                             | ['7882689']                              |\n",
       "| types                                    | ['']                                     | ['qualifier value']                      |\n",
       "| source_value                             | normal Tcell                             | normal                                   |\n",
       "| detected_name                            | normal~cell                              | normal                                   |\n",
       "| acc                                      | 0.6729434759174178                       | 0.99                                     |\n",
       "| context_similarity                       | 0.6729434759174178                       | 0.99                                     |\n",
       "| start                                    | 10731                                    | 10731                                    |\n",
       "| end                                      | 10743                                    | 10737                                    |\n",
       "| icd10                                    | []                                       | []                                       |\n",
       "| ontologies                               | ['20220803_SNOMED_UK_CLINICAL_EXT']      | ['SNOMED-CT']                            |\n",
       "| snomed                                   | []                                       | []                                       |\n",
       "| id                                       | 667                                      | 640                                      |\n",
       "| meta_anns (Dict[str, dict])              | 3                                        | 0                                        |"
      ],
      "text/plain": [
       "<IPython.core.display.Markdown object>"
      ]
     },
     "metadata": {},
     "output_type": "display_data"
    },
    {
     "name": "stdout",
     "output_type": "stream",
     "text": [
      "==================== \n",
      "Chemokines Updates_1. Chemokines Effective on Platelet Functions (AnnotationComparisonType.SAME_SPAN_DIFF_CONCEPT) \n",
      "====================\n"
     ]
    },
    {
     "data": {
      "text/markdown": [
       "| Path | First | Second |\n",
       "| ----- | ----- | ----- |\n",
       "| pretty_name                              | Oxygen                                   | Oxygen therapy                           |\n",
       "| cui                                      | 24099007                                 | 57485005                                 |\n",
       "| type_ids                                 | ['91187746']                             | ['28321150']                             |\n",
       "| types                                    | ['']                                     | ['procedure']                            |\n",
       "| source_value                             | oxygen                                   | oxygen                                   |\n",
       "| detected_name                            | oxygen                                   | oxygen                                   |\n",
       "| acc                                      | 0.6338044356719282                       | 0.8633079360378633                       |\n",
       "| context_similarity                       | 0.6338044356719282                       | 0.8633079360378633                       |\n",
       "| start                                    | 10778                                    | 10778                                    |\n",
       "| end                                      | 10784                                    | 10784                                    |\n",
       "| icd10                                    | []                                       | []                                       |\n",
       "| ontologies                               | ['20220803_SNOMED_UK_CLINICAL_EXT']      | ['SNOMED-CT']                            |\n",
       "| snomed                                   | []                                       | []                                       |\n",
       "| id                                       | 670                                      | 642                                      |\n",
       "| meta_anns (Dict[str, dict])              | 3                                        | 0                                        |"
      ],
      "text/plain": [
       "<IPython.core.display.Markdown object>"
      ]
     },
     "metadata": {},
     "output_type": "display_data"
    },
    {
     "name": "stdout",
     "output_type": "stream",
     "text": [
      "==================== \n",
      "Chemokines Updates_1. Chemokines Effective on Platelet Functions (AnnotationComparisonType.SAME_SPAN_DIFF_CONCEPT) \n",
      "====================\n"
     ]
    },
    {
     "data": {
      "text/markdown": [
       "| Path | First | Second |\n",
       "| ----- | ----- | ----- |\n",
       "| pretty_name                              | Cell count                               | Cell structure                           |\n",
       "| cui                                      | 118218001                                | 4421005                                  |\n",
       "| type_ids                                 | ['28321150']                             | ['66527446']                             |\n",
       "| types                                    | ['']                                     | ['cell structure']                       |\n",
       "| source_value                             | cell                                     | cell                                     |\n",
       "| detected_name                            | cell                                     | cell                                     |\n",
       "| acc                                      | 0.7891191722840991                       | 0.99                                     |\n",
       "| context_similarity                       | 0.7891191722840991                       | 0.99                                     |\n",
       "| start                                    | 10834                                    | 10834                                    |\n",
       "| end                                      | 10838                                    | 10838                                    |\n",
       "| icd10                                    | []                                       | []                                       |\n",
       "| ontologies                               | ['20220803_SNOMED_UK_CLINICAL_EXT']      | ['SNOMED-CT']                            |\n",
       "| snomed                                   | []                                       | []                                       |\n",
       "| id                                       | 671                                      | 643                                      |\n",
       "| meta_anns (Dict[str, dict])              | 3                                        | 0                                        |"
      ],
      "text/plain": [
       "<IPython.core.display.Markdown object>"
      ]
     },
     "metadata": {},
     "output_type": "display_data"
    },
    {
     "name": "stdout",
     "output_type": "stream",
     "text": [
      "==================== \n",
      "Chemokines Updates_1. Chemokines Effective on Platelet Functions (AnnotationComparisonType.OVERLAPP_1ST_LARGER_DIFF_CONCEPT) \n",
      "====================\n"
     ]
    },
    {
     "data": {
      "text/markdown": [
       "| Path | First | Second |\n",
       "| ----- | ----- | ----- |\n",
       "| pretty_name                              | Tumor necrosis factor                    | Tumor necrosis                           |\n",
       "| cui                                      | 8612007                                  | 34823008                                 |\n",
       "| type_ids                                 | ['91187746']                             | ['33782986']                             |\n",
       "| types                                    | ['']                                     | ['morphologic abnormality']              |\n",
       "| source_value                             | Tumor necrosis factor-alpha              | Tumor necrosis                           |\n",
       "| detected_name                            | tumor~necrosis~factor~alpha              | tumor~necrosis                           |\n",
       "| acc                                      | 0.7116768890085855                       | 1.0                                      |\n",
       "| context_similarity                       | 0.7116768890085855                       | 1.0                                      |\n",
       "| start                                    | 10901                                    | 10901                                    |\n",
       "| end                                      | 10928                                    | 10915                                    |\n",
       "| icd10                                    | []                                       | []                                       |\n",
       "| ontologies                               | ['20220803_SNOMED_UK_CLINICAL_EXT']      | ['SNOMED-CT']                            |\n",
       "| snomed                                   | []                                       | []                                       |\n",
       "| id                                       | 675                                      | 645                                      |\n",
       "| meta_anns (Dict[str, dict])              | 3                                        | 0                                        |"
      ],
      "text/plain": [
       "<IPython.core.display.Markdown object>"
      ]
     },
     "metadata": {},
     "output_type": "display_data"
    },
    {
     "name": "stdout",
     "output_type": "stream",
     "text": [
      "==================== \n",
      "Chemokines Updates_1. Chemokines Effective on Platelet Functions (AnnotationComparisonType.SECOND_HAS) \n",
      "====================\n"
     ]
    },
    {
     "data": {
      "text/markdown": [
       "| Path | First | Second |\n",
       "| ----- | ----- | ----- |\n",
       "| pretty_name                              |                                          | Greek letter alpha                       |\n",
       "| cui                                      |                                          | 263660008                                |\n",
       "| type_ids                                 |                                          | ['7882689']                              |\n",
       "| types                                    |                                          | ['qualifier value']                      |\n",
       "| source_value                             |                                          | alpha                                    |\n",
       "| detected_name                            |                                          | alpha                                    |\n",
       "| acc                                      |                                          | 1.0                                      |\n",
       "| context_similarity                       |                                          | 1.0                                      |\n",
       "| start                                    |                                          | 10923                                    |\n",
       "| end                                      |                                          | 10928                                    |\n",
       "| icd10                                    |                                          | []                                       |\n",
       "| ontologies                               |                                          | ['SNOMED-CT']                            |\n",
       "| snomed                                   |                                          | []                                       |\n",
       "| id                                       |                                          | 649                                      |\n",
       "| meta_anns (Dict[str, dict])              | 0                                        | 0                                        |"
      ],
      "text/plain": [
       "<IPython.core.display.Markdown object>"
      ]
     },
     "metadata": {},
     "output_type": "display_data"
    },
    {
     "name": "stdout",
     "output_type": "stream",
     "text": [
      "==================== \n",
      "Chemokines Updates_1. Chemokines Effective on Platelet Functions (AnnotationComparisonType.SAME_SPAN_DIFF_CONCEPT) \n",
      "====================\n"
     ]
    },
    {
     "data": {
      "text/markdown": [
       "| Path | First | Second |\n",
       "| ----- | ----- | ----- |\n",
       "| pretty_name                              | Chemical                                 | Chemical                                 |\n",
       "| cui                                      | 723701000000100                          | 441900009                                |\n",
       "| type_ids                                 | ['7882689']                              | ['91187746']                             |\n",
       "| types                                    | ['']                                     | ['substance']                            |\n",
       "| source_value                             | chemical                                 | chemical                                 |\n",
       "| detected_name                            | chemical                                 | chemical                                 |\n",
       "| acc                                      | 0.99                                     | 0.673498179708426                        |\n",
       "| context_similarity                       | 0.99                                     | 0.673498179708426                        |\n",
       "| start                                    | 49                                       | 49                                       |\n",
       "| end                                      | 57                                       | 57                                       |\n",
       "| icd10                                    | []                                       | []                                       |\n",
       "| ontologies                               | ['20220803_SNOMED_UK_CLINICAL_EXT']      | ['SNOMED-CT']                            |\n",
       "| snomed                                   | []                                       | []                                       |\n",
       "| id                                       | 1                                        | 1                                        |\n",
       "| meta_anns (Dict[str, dict])              | 3                                        | 0                                        |"
      ],
      "text/plain": [
       "<IPython.core.display.Markdown object>"
      ]
     },
     "metadata": {},
     "output_type": "display_data"
    },
    {
     "name": "stdout",
     "output_type": "stream",
     "text": [
      "==================== \n",
      "Chemokines Updates_1. Chemokines Effective on Platelet Functions (AnnotationComparisonType.SAME_SPAN_DIFF_CONCEPT) \n",
      "====================\n"
     ]
    },
    {
     "data": {
      "text/markdown": [
       "| Path | First | Second |\n",
       "| ----- | ----- | ----- |\n",
       "| pretty_name                              | Cell count                               | Cell structure                           |\n",
       "| cui                                      | 118218001                                | 4421005                                  |\n",
       "| type_ids                                 | ['28321150']                             | ['66527446']                             |\n",
       "| types                                    | ['']                                     | ['cell structure']                       |\n",
       "| source_value                             | cell                                     | cell                                     |\n",
       "| detected_name                            | cell                                     | cell                                     |\n",
       "| acc                                      | 0.6106036173080597                       | 0.99                                     |\n",
       "| context_similarity                       | 0.6106036173080597                       | 0.99                                     |\n",
       "| start                                    | 225                                      | 225                                      |\n",
       "| end                                      | 229                                      | 229                                      |\n",
       "| icd10                                    | []                                       | []                                       |\n",
       "| ontologies                               | ['20220803_SNOMED_UK_CLINICAL_EXT']      | ['SNOMED-CT']                            |\n",
       "| snomed                                   | []                                       | []                                       |\n",
       "| id                                       | 11                                       | 11                                       |\n",
       "| meta_anns (Dict[str, dict])              | 3                                        | 0                                        |"
      ],
      "text/plain": [
       "<IPython.core.display.Markdown object>"
      ]
     },
     "metadata": {},
     "output_type": "display_data"
    },
    {
     "name": "stdout",
     "output_type": "stream",
     "text": [
      "==================== \n",
      "Chemokines Updates_1. Chemokines Effective on Platelet Functions (AnnotationComparisonType.SECOND_HAS) \n",
      "====================\n"
     ]
    },
    {
     "data": {
      "text/markdown": [
       "| Path | First | Second |\n",
       "| ----- | ----- | ----- |\n",
       "| pretty_name                              |                                          | Milliliter                               |\n",
       "| cui                                      |                                          | 258773002                                |\n",
       "| type_ids                                 |                                          | ['7882689']                              |\n",
       "| types                                    |                                          | ['qualifier value']                      |\n",
       "| source_value                             |                                          | CC                                       |\n",
       "| detected_name                            |                                          | cc                                       |\n",
       "| acc                                      |                                          | 0.3401812853949322                       |\n",
       "| context_similarity                       |                                          | 0.3401812853949322                       |\n",
       "| start                                    |                                          | 482                                      |\n",
       "| end                                      |                                          | 484                                      |\n",
       "| icd10                                    |                                          | []                                       |\n",
       "| ontologies                               |                                          | ['SNOMED-CT']                            |\n",
       "| snomed                                   |                                          | []                                       |\n",
       "| id                                       |                                          | 29                                       |\n",
       "| meta_anns (Dict[str, dict])              | 0                                        | 0                                        |"
      ],
      "text/plain": [
       "<IPython.core.display.Markdown object>"
      ]
     },
     "metadata": {},
     "output_type": "display_data"
    },
    {
     "name": "stdout",
     "output_type": "stream",
     "text": [
      "==================== \n",
      "Chemokines Updates_1. Chemokines Effective on Platelet Functions (AnnotationComparisonType.SAME_SPAN_DIFF_CONCEPT) \n",
      "====================\n"
     ]
    },
    {
     "data": {
      "text/markdown": [
       "| Path | First | Second |\n",
       "| ----- | ----- | ----- |\n",
       "| pretty_name                              | Surface                                  | Surface                                  |\n",
       "| cui                                      | 410678000                                | 410679008                                |\n",
       "| type_ids                                 | ['43039974']                             | ['7882689']                              |\n",
       "| types                                    | ['']                                     | ['qualifier value']                      |\n",
       "| source_value                             | surfaces                                 | surfaces                                 |\n",
       "| detected_name                            | surface                                  | surface                                  |\n",
       "| acc                                      | 0.5937743776218167                       | 0.5777045693410597                       |\n",
       "| context_similarity                       | 0.5937743776218167                       | 0.5777045693410597                       |\n",
       "| start                                    | 679                                      | 679                                      |\n",
       "| end                                      | 687                                      | 687                                      |\n",
       "| icd10                                    | []                                       | []                                       |\n",
       "| ontologies                               | ['20220803_SNOMED_UK_CLINICAL_EXT']      | ['SNOMED-CT']                            |\n",
       "| snomed                                   | []                                       | []                                       |\n",
       "| id                                       | 39                                       | 39                                       |\n",
       "| meta_anns (Dict[str, dict])              | 3                                        | 0                                        |"
      ],
      "text/plain": [
       "<IPython.core.display.Markdown object>"
      ]
     },
     "metadata": {},
     "output_type": "display_data"
    },
    {
     "name": "stdout",
     "output_type": "stream",
     "text": [
      "==================== \n",
      "Chemokines Updates_1. Chemokines Effective on Platelet Functions (AnnotationComparisonType.SAME_SPAN_DIFF_CONCEPT) \n",
      "====================\n"
     ]
    },
    {
     "data": {
      "text/markdown": [
       "| Path | First | Second |\n",
       "| ----- | ----- | ----- |\n",
       "| pretty_name                              | Cell count                               | Cell structure                           |\n",
       "| cui                                      | 118218001                                | 4421005                                  |\n",
       "| type_ids                                 | ['28321150']                             | ['66527446']                             |\n",
       "| types                                    | ['']                                     | ['cell structure']                       |\n",
       "| source_value                             | cells                                    | cells                                    |\n",
       "| detected_name                            | cell                                     | cell                                     |\n",
       "| acc                                      | 0.5849309261977091                       | 0.99                                     |\n",
       "| context_similarity                       | 0.5849309261977091                       | 0.99                                     |\n",
       "| start                                    | 781                                      | 781                                      |\n",
       "| end                                      | 786                                      | 786                                      |\n",
       "| icd10                                    | []                                       | []                                       |\n",
       "| ontologies                               | ['20220803_SNOMED_UK_CLINICAL_EXT']      | ['SNOMED-CT']                            |\n",
       "| snomed                                   | []                                       | []                                       |\n",
       "| id                                       | 45                                       | 45                                       |\n",
       "| meta_anns (Dict[str, dict])              | 3                                        | 0                                        |"
      ],
      "text/plain": [
       "<IPython.core.display.Markdown object>"
      ]
     },
     "metadata": {},
     "output_type": "display_data"
    },
    {
     "name": "stdout",
     "output_type": "stream",
     "text": [
      "==================== \n",
      "Chemokines Updates_1. Chemokines Effective on Platelet Functions (AnnotationComparisonType.SECOND_HAS) \n",
      "====================\n"
     ]
    },
    {
     "data": {
      "text/markdown": [
       "| Path | First | Second |\n",
       "| ----- | ----- | ----- |\n",
       "| pretty_name                              |                                          | Process                                  |\n",
       "| cui                                      |                                          | 415178003                                |\n",
       "| type_ids                                 |                                          | ['2680757']                              |\n",
       "| types                                    |                                          | ['observable entity']                    |\n",
       "| source_value                             |                                          | processes                                |\n",
       "| detected_name                            |                                          | process                                  |\n",
       "| acc                                      |                                          | 0.664352034592595                        |\n",
       "| context_similarity                       |                                          | 0.664352034592595                        |\n",
       "| start                                    |                                          | 821                                      |\n",
       "| end                                      |                                          | 830                                      |\n",
       "| icd10                                    |                                          | []                                       |\n",
       "| ontologies                               |                                          | ['SNOMED-CT']                            |\n",
       "| snomed                                   |                                          | []                                       |\n",
       "| id                                       |                                          | 48                                       |\n",
       "| meta_anns (Dict[str, dict])              | 0                                        | 0                                        |"
      ],
      "text/plain": [
       "<IPython.core.display.Markdown object>"
      ]
     },
     "metadata": {},
     "output_type": "display_data"
    },
    {
     "name": "stdout",
     "output_type": "stream",
     "text": [
      "==================== \n",
      "Chemokines Updates_1. Chemokines Effective on Platelet Functions (AnnotationComparisonType.SAME_SPAN_DIFF_CONCEPT) \n",
      "====================\n"
     ]
    },
    {
     "data": {
      "text/markdown": [
       "| Path | First | Second |\n",
       "| ----- | ----- | ----- |\n",
       "| pretty_name                              | Thrombotic disorder                      | Thrombosis                               |\n",
       "| cui                                      | 118927008                                | 264579008                                |\n",
       "| type_ids                                 | ['82417248']                             | ['7882689']                              |\n",
       "| types                                    | ['']                                     | ['qualifier value']                      |\n",
       "| source_value                             | thrombosis                               | thrombosis                               |\n",
       "| detected_name                            | thrombosi                                | thrombosis                               |\n",
       "| acc                                      | 0.6640883997345817                       | 0.99                                     |\n",
       "| context_similarity                       | 0.6640883997345817                       | 0.99                                     |\n",
       "| start                                    | 882                                      | 882                                      |\n",
       "| end                                      | 892                                      | 892                                      |\n",
       "| icd10                                    | []                                       | []                                       |\n",
       "| ontologies                               | ['20220803_SNOMED_UK_CLINICAL_EXT']      | ['SNOMED-CT']                            |\n",
       "| snomed                                   | []                                       | []                                       |\n",
       "| id                                       | 51                                       | 51                                       |\n",
       "| meta_anns (Dict[str, dict])              | 3                                        | 0                                        |"
      ],
      "text/plain": [
       "<IPython.core.display.Markdown object>"
      ]
     },
     "metadata": {},
     "output_type": "display_data"
    },
    {
     "name": "stdout",
     "output_type": "stream",
     "text": [
      "==================== \n",
      "Chemokines Updates_1. Chemokines Effective on Platelet Functions (AnnotationComparisonType.SAME_SPAN_DIFF_CONCEPT) \n",
      "====================\n"
     ]
    },
    {
     "data": {
      "text/markdown": [
       "| Path | First | Second |\n",
       "| ----- | ----- | ----- |\n",
       "| pretty_name                              | Vessel                                   | Blood vessel structure                   |\n",
       "| cui                                      | 733025002                                | 59820001                                 |\n",
       "| type_ids                                 | ['39041339']                             | ['37552161']                             |\n",
       "| types                                    | ['']                                     | ['body structure']                       |\n",
       "| source_value                             | vessel                                   | vessel                                   |\n",
       "| detected_name                            | vessel                                   | vessel                                   |\n",
       "| acc                                      | 0.6563081343130345                       | 0.99                                     |\n",
       "| context_similarity                       | 0.6563081343130345                       | 0.99                                     |\n",
       "| start                                    | 915                                      | 915                                      |\n",
       "| end                                      | 921                                      | 921                                      |\n",
       "| icd10                                    | []                                       | []                                       |\n",
       "| ontologies                               | ['20220803_SNOMED_UK_CLINICAL_EXT']      | ['SNOMED-CT']                            |\n",
       "| snomed                                   | []                                       | []                                       |\n",
       "| id                                       | 53                                       | 53                                       |\n",
       "| meta_anns (Dict[str, dict])              | 3                                        | 0                                        |"
      ],
      "text/plain": [
       "<IPython.core.display.Markdown object>"
      ]
     },
     "metadata": {},
     "output_type": "display_data"
    },
    {
     "name": "stdout",
     "output_type": "stream",
     "text": [
      "==================== \n",
      "Chemokines Updates_1. Chemokines Effective on Platelet Functions (AnnotationComparisonType.SECOND_HAS) \n",
      "====================\n"
     ]
    },
    {
     "data": {
      "text/markdown": [
       "| Path | First | Second |\n",
       "| ----- | ----- | ----- |\n",
       "| pretty_name                              |                                          | Regeneration                             |\n",
       "| cui                                      |                                          | 34636005                                 |\n",
       "| type_ids                                 |                                          | ['33782986']                             |\n",
       "| types                                    |                                          | ['morphologic abnormality']              |\n",
       "| source_value                             |                                          | regeneration                             |\n",
       "| detected_name                            |                                          | regeneration                             |\n",
       "| acc                                      |                                          | 0.99                                     |\n",
       "| context_similarity                       |                                          | 0.99                                     |\n",
       "| start                                    |                                          | 933                                      |\n",
       "| end                                      |                                          | 945                                      |\n",
       "| icd10                                    |                                          | []                                       |\n",
       "| ontologies                               |                                          | ['SNOMED-CT']                            |\n",
       "| snomed                                   |                                          | []                                       |\n",
       "| id                                       |                                          | 55                                       |\n",
       "| meta_anns (Dict[str, dict])              | 0                                        | 0                                        |"
      ],
      "text/plain": [
       "<IPython.core.display.Markdown object>"
      ]
     },
     "metadata": {},
     "output_type": "display_data"
    },
    {
     "name": "stdout",
     "output_type": "stream",
     "text": [
      "==================== \n",
      "Chemokines Updates_1. Chemokines Effective on Platelet Functions (AnnotationComparisonType.FIRST_HAS) \n",
      "====================\n"
     ]
    },
    {
     "data": {
      "text/markdown": [
       "| Path | First | Second |\n",
       "| ----- | ----- | ----- |\n",
       "| pretty_name                              | Platelet factor 4 assay                  |                                          |\n",
       "| cui                                      | 103847006                                |                                          |\n",
       "| type_ids                                 | ['28321150']                             |                                          |\n",
       "| types                                    | ['']                                     |                                          |\n",
       "| source_value                             | CXCL4                                    |                                          |\n",
       "| detected_name                            | cxcl4                                    |                                          |\n",
       "| acc                                      | 1.0                                      |                                          |\n",
       "| context_similarity                       | 1.0                                      |                                          |\n",
       "| start                                    | 990                                      |                                          |\n",
       "| end                                      | 995                                      |                                          |\n",
       "| icd10                                    | []                                       |                                          |\n",
       "| ontologies                               | ['20220803_SNOMED_UK_CLINICAL_EXT']      |                                          |\n",
       "| snomed                                   | []                                       |                                          |\n",
       "| id                                       | 60                                       |                                          |\n",
       "| meta_anns (Dict[str, dict])              | 3                                        | 0                                        |"
      ],
      "text/plain": [
       "<IPython.core.display.Markdown object>"
      ]
     },
     "metadata": {},
     "output_type": "display_data"
    },
    {
     "name": "stdout",
     "output_type": "stream",
     "text": [
      "==================== \n",
      "Chemokines Updates_1. Chemokines Effective on Platelet Functions (AnnotationComparisonType.OVERLAPP_2ND_LARGER_DIFF_CONCEPT) \n",
      "====================\n"
     ]
    },
    {
     "data": {
      "text/markdown": [
       "| Path | First | Second |\n",
       "| ----- | ----- | ----- |\n",
       "| pretty_name                              | Platelet                                 | Platelet factor 4                        |\n",
       "| cui                                      | 16378004                                 | 21289006                                 |\n",
       "| type_ids                                 | ['66527446']                             | ['91187746']                             |\n",
       "| types                                    | ['']                                     | ['substance']                            |\n",
       "| source_value                             | platelet                                 | platelet factor 4                        |\n",
       "| detected_name                            | platelet                                 | platelet~factor~4                        |\n",
       "| acc                                      | 0.99                                     | 0.99                                     |\n",
       "| context_similarity                       | 0.99                                     | 0.99                                     |\n",
       "| start                                    | 997                                      | 997                                      |\n",
       "| end                                      | 1005                                     | 1014                                     |\n",
       "| icd10                                    | []                                       | []                                       |\n",
       "| ontologies                               | ['20220803_SNOMED_UK_CLINICAL_EXT']      | ['SNOMED-CT']                            |\n",
       "| snomed                                   | []                                       | []                                       |\n",
       "| id                                       | 61                                       | 61                                       |\n",
       "| meta_anns (Dict[str, dict])              | 3                                        | 0                                        |"
      ],
      "text/plain": [
       "<IPython.core.display.Markdown object>"
      ]
     },
     "metadata": {},
     "output_type": "display_data"
    },
    {
     "name": "stdout",
     "output_type": "stream",
     "text": [
      "==================== \n",
      "Chemokines Updates_1. Chemokines Effective on Platelet Functions (AnnotationComparisonType.FIRST_HAS) \n",
      "====================\n"
     ]
    },
    {
     "data": {
      "text/markdown": [
       "| Path | First | Second |\n",
       "| ----- | ----- | ----- |\n",
       "| pretty_name                              | Roman numeral III                        |                                          |\n",
       "| cui                                      | 257471003                                |                                          |\n",
       "| type_ids                                 | ['7882689']                              |                                          |\n",
       "| types                                    | ['']                                     |                                          |\n",
       "| source_value                             | III                                      |                                          |\n",
       "| detected_name                            | iii                                      |                                          |\n",
       "| acc                                      | 1.0                                      |                                          |\n",
       "| context_similarity                       | 1.0                                      |                                          |\n",
       "| start                                    | 1136                                     |                                          |\n",
       "| end                                      | 1139                                     |                                          |\n",
       "| icd10                                    | []                                       |                                          |\n",
       "| ontologies                               | ['20220803_SNOMED_UK_CLINICAL_EXT']      |                                          |\n",
       "| snomed                                   | []                                       |                                          |\n",
       "| id                                       | 71                                       |                                          |\n",
       "| meta_anns (Dict[str, dict])              | 3                                        | 0                                        |"
      ],
      "text/plain": [
       "<IPython.core.display.Markdown object>"
      ]
     },
     "metadata": {},
     "output_type": "display_data"
    },
    {
     "name": "stdout",
     "output_type": "stream",
     "text": [
      "==================== \n",
      "Chemokines Updates_1. Chemokines Effective on Platelet Functions (AnnotationComparisonType.FIRST_HAS) \n",
      "====================\n"
     ]
    },
    {
     "data": {
      "text/markdown": [
       "| Path | First | Second |\n",
       "| ----- | ----- | ----- |\n",
       "| pretty_name                              | Author                                   |                                          |\n",
       "| cui                                      | 37920003                                 |                                          |\n",
       "| type_ids                                 | ['16939031']                             |                                          |\n",
       "| types                                    | ['']                                     |                                          |\n",
       "| source_value                             | Author                                   |                                          |\n",
       "| detected_name                            | author                                   |                                          |\n",
       "| acc                                      | 0.3015753219858792                       |                                          |\n",
       "| context_similarity                       | 0.3015753219858792                       |                                          |\n",
       "| start                                    | 1327                                     |                                          |\n",
       "| end                                      | 1333                                     |                                          |\n",
       "| icd10                                    | []                                       |                                          |\n",
       "| ontologies                               | ['20220803_SNOMED_UK_CLINICAL_EXT']      |                                          |\n",
       "| snomed                                   | []                                       |                                          |\n",
       "| id                                       | 79                                       |                                          |\n",
       "| meta_anns (Dict[str, dict])              | 3                                        | 0                                        |"
      ],
      "text/plain": [
       "<IPython.core.display.Markdown object>"
      ]
     },
     "metadata": {},
     "output_type": "display_data"
    },
    {
     "name": "stdout",
     "output_type": "stream",
     "text": [
      "==================== \n",
      "Chemokines Updates_1. Chemokines Effective on Platelet Functions (AnnotationComparisonType.FIRST_HAS) \n",
      "====================\n"
     ]
    },
    {
     "data": {
      "text/markdown": [
       "| Path | First | Second |\n",
       "| ----- | ----- | ----- |\n",
       "| pretty_name                              | Introduction procedure                   |                                          |\n",
       "| cui                                      | 107733003                                |                                          |\n",
       "| type_ids                                 | ['28321150']                             |                                          |\n",
       "| types                                    | ['']                                     |                                          |\n",
       "| source_value                             | Introduction                             |                                          |\n",
       "| detected_name                            | introduction                             |                                          |\n",
       "| acc                                      | 1.0                                      |                                          |\n",
       "| context_similarity                       | 1.0                                      |                                          |\n",
       "| start                                    | 1349                                     |                                          |\n",
       "| end                                      | 1361                                     |                                          |\n",
       "| icd10                                    | []                                       |                                          |\n",
       "| ontologies                               | ['20220803_SNOMED_UK_CLINICAL_EXT']      |                                          |\n",
       "| snomed                                   | []                                       |                                          |\n",
       "| id                                       | 81                                       |                                          |\n",
       "| meta_anns (Dict[str, dict])              | 3                                        | 0                                        |"
      ],
      "text/plain": [
       "<IPython.core.display.Markdown object>"
      ]
     },
     "metadata": {},
     "output_type": "display_data"
    },
    {
     "name": "stdout",
     "output_type": "stream",
     "text": [
      "==================== \n",
      "Chemokines Updates_1. Chemokines Effective on Platelet Functions (AnnotationComparisonType.SAME_SPAN_DIFF_CONCEPT) \n",
      "====================\n"
     ]
    },
    {
     "data": {
      "text/markdown": [
       "| Path | First | Second |\n",
       "| ----- | ----- | ----- |\n",
       "| pretty_name                              | Cell count                               | Cell structure                           |\n",
       "| cui                                      | 118218001                                | 4421005                                  |\n",
       "| type_ids                                 | ['28321150']                             | ['66527446']                             |\n",
       "| types                                    | ['']                                     | ['cell structure']                       |\n",
       "| source_value                             | cell                                     | cell                                     |\n",
       "| detected_name                            | cell                                     | cell                                     |\n",
       "| acc                                      | 0.6112757183423757                       | 0.99                                     |\n",
       "| context_similarity                       | 0.6112757183423757                       | 0.99                                     |\n",
       "| start                                    | 1578                                     | 1578                                     |\n",
       "| end                                      | 1582                                     | 1582                                     |\n",
       "| icd10                                    | []                                       | []                                       |\n",
       "| ontologies                               | ['20220803_SNOMED_UK_CLINICAL_EXT']      | ['SNOMED-CT']                            |\n",
       "| snomed                                   | []                                       | []                                       |\n",
       "| id                                       | 93                                       | 91                                       |\n",
       "| meta_anns (Dict[str, dict])              | 3                                        | 0                                        |"
      ],
      "text/plain": [
       "<IPython.core.display.Markdown object>"
      ]
     },
     "metadata": {},
     "output_type": "display_data"
    },
    {
     "name": "stdout",
     "output_type": "stream",
     "text": [
      "==================== \n",
      "Chemokines Updates_1. Chemokines Effective on Platelet Functions (AnnotationComparisonType.SECOND_HAS) \n",
      "====================\n"
     ]
    },
    {
     "data": {
      "text/markdown": [
       "| Path | First | Second |\n",
       "| ----- | ----- | ----- |\n",
       "| pretty_name                              |                                          | Milliliter                               |\n",
       "| cui                                      |                                          | 258773002                                |\n",
       "| type_ids                                 |                                          | ['7882689']                              |\n",
       "| types                                    |                                          | ['qualifier value']                      |\n",
       "| source_value                             |                                          | CC                                       |\n",
       "| detected_name                            |                                          | cc                                       |\n",
       "| acc                                      |                                          | 0.3401812853949322                       |\n",
       "| context_similarity                       |                                          | 0.3401812853949322                       |\n",
       "| start                                    |                                          | 1837                                     |\n",
       "| end                                      |                                          | 1839                                     |\n",
       "| icd10                                    |                                          | []                                       |\n",
       "| ontologies                               |                                          | ['SNOMED-CT']                            |\n",
       "| snomed                                   |                                          | []                                       |\n",
       "| id                                       |                                          | 110                                      |\n",
       "| meta_anns (Dict[str, dict])              | 0                                        | 0                                        |"
      ],
      "text/plain": [
       "<IPython.core.display.Markdown object>"
      ]
     },
     "metadata": {},
     "output_type": "display_data"
    },
    {
     "name": "stdout",
     "output_type": "stream",
     "text": [
      "==================== \n",
      "Chemokines Updates_1. Chemokines Effective on Platelet Functions (AnnotationComparisonType.SAME_SPAN_DIFF_CONCEPT) \n",
      "====================\n"
     ]
    },
    {
     "data": {
      "text/markdown": [
       "| Path | First | Second |\n",
       "| ----- | ----- | ----- |\n",
       "| pretty_name                              | Surface                                  | Surface                                  |\n",
       "| cui                                      | 410678000                                | 410679008                                |\n",
       "| type_ids                                 | ['43039974']                             | ['7882689']                              |\n",
       "| types                                    | ['']                                     | ['qualifier value']                      |\n",
       "| source_value                             | surfaces                                 | surfaces                                 |\n",
       "| detected_name                            | surface                                  | surface                                  |\n",
       "| acc                                      | 0.5937743776218167                       | 0.5777045693410597                       |\n",
       "| context_similarity                       | 0.5937743776218167                       | 0.5777045693410597                       |\n",
       "| start                                    | 2034                                     | 2034                                     |\n",
       "| end                                      | 2042                                     | 2042                                     |\n",
       "| icd10                                    | []                                       | []                                       |\n",
       "| ontologies                               | ['20220803_SNOMED_UK_CLINICAL_EXT']      | ['SNOMED-CT']                            |\n",
       "| snomed                                   | []                                       | []                                       |\n",
       "| id                                       | 122                                      | 120                                      |\n",
       "| meta_anns (Dict[str, dict])              | 3                                        | 0                                        |"
      ],
      "text/plain": [
       "<IPython.core.display.Markdown object>"
      ]
     },
     "metadata": {},
     "output_type": "display_data"
    },
    {
     "name": "stdout",
     "output_type": "stream",
     "text": [
      "==================== \n",
      "Chemokines Updates_1. Chemokines Effective on Platelet Functions (AnnotationComparisonType.SAME_SPAN_DIFF_CONCEPT) \n",
      "====================\n"
     ]
    },
    {
     "data": {
      "text/markdown": [
       "| Path | First | Second |\n",
       "| ----- | ----- | ----- |\n",
       "| pretty_name                              | Cell count                               | Cell structure                           |\n",
       "| cui                                      | 118218001                                | 4421005                                  |\n",
       "| type_ids                                 | ['28321150']                             | ['66527446']                             |\n",
       "| types                                    | ['']                                     | ['cell structure']                       |\n",
       "| source_value                             | cells                                    | cells                                    |\n",
       "| detected_name                            | cell                                     | cell                                     |\n",
       "| acc                                      | 0.5849309261977091                       | 0.99                                     |\n",
       "| context_similarity                       | 0.5849309261977091                       | 0.99                                     |\n",
       "| start                                    | 2136                                     | 2136                                     |\n",
       "| end                                      | 2141                                     | 2141                                     |\n",
       "| icd10                                    | []                                       | []                                       |\n",
       "| ontologies                               | ['20220803_SNOMED_UK_CLINICAL_EXT']      | ['SNOMED-CT']                            |\n",
       "| snomed                                   | []                                       | []                                       |\n",
       "| id                                       | 128                                      | 126                                      |\n",
       "| meta_anns (Dict[str, dict])              | 3                                        | 0                                        |"
      ],
      "text/plain": [
       "<IPython.core.display.Markdown object>"
      ]
     },
     "metadata": {},
     "output_type": "display_data"
    },
    {
     "name": "stdout",
     "output_type": "stream",
     "text": [
      "==================== \n",
      "Chemokines Updates_1. Chemokines Effective on Platelet Functions (AnnotationComparisonType.SECOND_HAS) \n",
      "====================\n"
     ]
    },
    {
     "data": {
      "text/markdown": [
       "| Path | First | Second |\n",
       "| ----- | ----- | ----- |\n",
       "| pretty_name                              |                                          | Process                                  |\n",
       "| cui                                      |                                          | 415178003                                |\n",
       "| type_ids                                 |                                          | ['2680757']                              |\n",
       "| types                                    |                                          | ['observable entity']                    |\n",
       "| source_value                             |                                          | processes                                |\n",
       "| detected_name                            |                                          | process                                  |\n",
       "| acc                                      |                                          | 0.664352034592595                        |\n",
       "| context_similarity                       |                                          | 0.664352034592595                        |\n",
       "| start                                    |                                          | 2176                                     |\n",
       "| end                                      |                                          | 2185                                     |\n",
       "| icd10                                    |                                          | []                                       |\n",
       "| ontologies                               |                                          | ['SNOMED-CT']                            |\n",
       "| snomed                                   |                                          | []                                       |\n",
       "| id                                       |                                          | 129                                      |\n",
       "| meta_anns (Dict[str, dict])              | 0                                        | 0                                        |"
      ],
      "text/plain": [
       "<IPython.core.display.Markdown object>"
      ]
     },
     "metadata": {},
     "output_type": "display_data"
    },
    {
     "name": "stdout",
     "output_type": "stream",
     "text": [
      "==================== \n",
      "Chemokines Updates_1. Chemokines Effective on Platelet Functions (AnnotationComparisonType.SAME_SPAN_DIFF_CONCEPT) \n",
      "====================\n"
     ]
    },
    {
     "data": {
      "text/markdown": [
       "| Path | First | Second |\n",
       "| ----- | ----- | ----- |\n",
       "| pretty_name                              | Thrombotic disorder                      | Thrombosis                               |\n",
       "| cui                                      | 118927008                                | 264579008                                |\n",
       "| type_ids                                 | ['82417248']                             | ['7882689']                              |\n",
       "| types                                    | ['']                                     | ['qualifier value']                      |\n",
       "| source_value                             | thrombosis                               | thrombosis                               |\n",
       "| detected_name                            | thrombosi                                | thrombosis                               |\n",
       "| acc                                      | 0.6640883997345817                       | 0.99                                     |\n",
       "| context_similarity                       | 0.6640883997345817                       | 0.99                                     |\n",
       "| start                                    | 2237                                     | 2237                                     |\n",
       "| end                                      | 2247                                     | 2247                                     |\n",
       "| icd10                                    | []                                       | []                                       |\n",
       "| ontologies                               | ['20220803_SNOMED_UK_CLINICAL_EXT']      | ['SNOMED-CT']                            |\n",
       "| snomed                                   | []                                       | []                                       |\n",
       "| id                                       | 134                                      | 132                                      |\n",
       "| meta_anns (Dict[str, dict])              | 3                                        | 0                                        |"
      ],
      "text/plain": [
       "<IPython.core.display.Markdown object>"
      ]
     },
     "metadata": {},
     "output_type": "display_data"
    },
    {
     "name": "stdout",
     "output_type": "stream",
     "text": [
      "==================== \n",
      "Chemokines Updates_1. Chemokines Effective on Platelet Functions (AnnotationComparisonType.SAME_SPAN_DIFF_CONCEPT) \n",
      "====================\n"
     ]
    },
    {
     "data": {
      "text/markdown": [
       "| Path | First | Second |\n",
       "| ----- | ----- | ----- |\n",
       "| pretty_name                              | Vessel                                   | Blood vessel structure                   |\n",
       "| cui                                      | 733025002                                | 59820001                                 |\n",
       "| type_ids                                 | ['39041339']                             | ['37552161']                             |\n",
       "| types                                    | ['']                                     | ['body structure']                       |\n",
       "| source_value                             | vessel                                   | vessel                                   |\n",
       "| detected_name                            | vessel                                   | vessel                                   |\n",
       "| acc                                      | 0.6563081343130345                       | 0.99                                     |\n",
       "| context_similarity                       | 0.6563081343130345                       | 0.99                                     |\n",
       "| start                                    | 2270                                     | 2270                                     |\n",
       "| end                                      | 2276                                     | 2276                                     |\n",
       "| icd10                                    | []                                       | []                                       |\n",
       "| ontologies                               | ['20220803_SNOMED_UK_CLINICAL_EXT']      | ['SNOMED-CT']                            |\n",
       "| snomed                                   | []                                       | []                                       |\n",
       "| id                                       | 136                                      | 134                                      |\n",
       "| meta_anns (Dict[str, dict])              | 3                                        | 0                                        |"
      ],
      "text/plain": [
       "<IPython.core.display.Markdown object>"
      ]
     },
     "metadata": {},
     "output_type": "display_data"
    },
    {
     "name": "stdout",
     "output_type": "stream",
     "text": [
      "==================== \n",
      "Chemokines Updates_1. Chemokines Effective on Platelet Functions (AnnotationComparisonType.SECOND_HAS) \n",
      "====================\n"
     ]
    },
    {
     "data": {
      "text/markdown": [
       "| Path | First | Second |\n",
       "| ----- | ----- | ----- |\n",
       "| pretty_name                              |                                          | Regeneration                             |\n",
       "| cui                                      |                                          | 34636005                                 |\n",
       "| type_ids                                 |                                          | ['33782986']                             |\n",
       "| types                                    |                                          | ['morphologic abnormality']              |\n",
       "| source_value                             |                                          | regeneration                             |\n",
       "| detected_name                            |                                          | regeneration                             |\n",
       "| acc                                      |                                          | 0.99                                     |\n",
       "| context_similarity                       |                                          | 0.99                                     |\n",
       "| start                                    |                                          | 2288                                     |\n",
       "| end                                      |                                          | 2300                                     |\n",
       "| icd10                                    |                                          | []                                       |\n",
       "| ontologies                               |                                          | ['SNOMED-CT']                            |\n",
       "| snomed                                   |                                          | []                                       |\n",
       "| id                                       |                                          | 136                                      |\n",
       "| meta_anns (Dict[str, dict])              | 0                                        | 0                                        |"
      ],
      "text/plain": [
       "<IPython.core.display.Markdown object>"
      ]
     },
     "metadata": {},
     "output_type": "display_data"
    },
    {
     "name": "stdout",
     "output_type": "stream",
     "text": [
      "==================== \n",
      "Chemokines Updates_1. Chemokines Effective on Platelet Functions (AnnotationComparisonType.FIRST_HAS) \n",
      "====================\n"
     ]
    },
    {
     "data": {
      "text/markdown": [
       "| Path | First | Second |\n",
       "| ----- | ----- | ----- |\n",
       "| pretty_name                              | Platelet factor 4 assay                  |                                          |\n",
       "| cui                                      | 103847006                                |                                          |\n",
       "| type_ids                                 | ['28321150']                             |                                          |\n",
       "| types                                    | ['']                                     |                                          |\n",
       "| source_value                             | CXCL4                                    |                                          |\n",
       "| detected_name                            | cxcl4                                    |                                          |\n",
       "| acc                                      | 1.0                                      |                                          |\n",
       "| context_similarity                       | 1.0                                      |                                          |\n",
       "| start                                    | 2345                                     |                                          |\n",
       "| end                                      | 2350                                     |                                          |\n",
       "| icd10                                    | []                                       |                                          |\n",
       "| ontologies                               | ['20220803_SNOMED_UK_CLINICAL_EXT']      |                                          |\n",
       "| snomed                                   | []                                       |                                          |\n",
       "| id                                       | 143                                      |                                          |\n",
       "| meta_anns (Dict[str, dict])              | 3                                        | 0                                        |"
      ],
      "text/plain": [
       "<IPython.core.display.Markdown object>"
      ]
     },
     "metadata": {},
     "output_type": "display_data"
    },
    {
     "name": "stdout",
     "output_type": "stream",
     "text": [
      "==================== \n",
      "Chemokines Updates_1. Chemokines Effective on Platelet Functions (AnnotationComparisonType.OVERLAPP_2ND_LARGER_DIFF_CONCEPT) \n",
      "====================\n"
     ]
    },
    {
     "data": {
      "text/markdown": [
       "| Path | First | Second |\n",
       "| ----- | ----- | ----- |\n",
       "| pretty_name                              | Platelet                                 | Platelet factor 4                        |\n",
       "| cui                                      | 16378004                                 | 21289006                                 |\n",
       "| type_ids                                 | ['66527446']                             | ['91187746']                             |\n",
       "| types                                    | ['']                                     | ['substance']                            |\n",
       "| source_value                             | platelet                                 | platelet factor 4                        |\n",
       "| detected_name                            | platelet                                 | platelet~factor~4                        |\n",
       "| acc                                      | 0.99                                     | 0.99                                     |\n",
       "| context_similarity                       | 0.99                                     | 0.99                                     |\n",
       "| start                                    | 2352                                     | 2352                                     |\n",
       "| end                                      | 2360                                     | 2369                                     |\n",
       "| icd10                                    | []                                       | []                                       |\n",
       "| ontologies                               | ['20220803_SNOMED_UK_CLINICAL_EXT']      | ['SNOMED-CT']                            |\n",
       "| snomed                                   | []                                       | []                                       |\n",
       "| id                                       | 144                                      | 142                                      |\n",
       "| meta_anns (Dict[str, dict])              | 3                                        | 0                                        |"
      ],
      "text/plain": [
       "<IPython.core.display.Markdown object>"
      ]
     },
     "metadata": {},
     "output_type": "display_data"
    },
    {
     "name": "stdout",
     "output_type": "stream",
     "text": [
      "==================== \n",
      "Chemokines Updates_1. Chemokines Effective on Platelet Functions (AnnotationComparisonType.FIRST_HAS) \n",
      "====================\n"
     ]
    },
    {
     "data": {
      "text/markdown": [
       "| Path | First | Second |\n",
       "| ----- | ----- | ----- |\n",
       "| pretty_name                              | Roman numeral III                        |                                          |\n",
       "| cui                                      | 257471003                                |                                          |\n",
       "| type_ids                                 | ['7882689']                              |                                          |\n",
       "| types                                    | ['']                                     |                                          |\n",
       "| source_value                             | III                                      |                                          |\n",
       "| detected_name                            | iii                                      |                                          |\n",
       "| acc                                      | 1.0                                      |                                          |\n",
       "| context_similarity                       | 1.0                                      |                                          |\n",
       "| start                                    | 2491                                     |                                          |\n",
       "| end                                      | 2494                                     |                                          |\n",
       "| icd10                                    | []                                       |                                          |\n",
       "| ontologies                               | ['20220803_SNOMED_UK_CLINICAL_EXT']      |                                          |\n",
       "| snomed                                   | []                                       |                                          |\n",
       "| id                                       | 154                                      |                                          |\n",
       "| meta_anns (Dict[str, dict])              | 3                                        | 0                                        |"
      ],
      "text/plain": [
       "<IPython.core.display.Markdown object>"
      ]
     },
     "metadata": {},
     "output_type": "display_data"
    },
    {
     "name": "stdout",
     "output_type": "stream",
     "text": [
      "==================== \n",
      "Chemokines Updates_1. Chemokines Effective on Platelet Functions (AnnotationComparisonType.SAME_SPAN_DIFF_CONCEPT) \n",
      "====================\n"
     ]
    },
    {
     "data": {
      "text/markdown": [
       "| Path | First | Second |\n",
       "| ----- | ----- | ----- |\n",
       "| pretty_name                              | Family                                   | Nitric-oxide synthase                    |\n",
       "| cui                                      | 35359004                                 | 130168007                                |\n",
       "| type_ids                                 | ['13371933']                             | ['91187746']                             |\n",
       "| types                                    | ['']                                     | ['substance']                            |\n",
       "| source_value                             | family                                   | family                                   |\n",
       "| detected_name                            | family                                   | family                                   |\n",
       "| acc                                      | 0.8410102649360803                       | 0.39330731658876616                      |\n",
       "| context_similarity                       | 0.8410102649360803                       | 0.39330731658876616                      |\n",
       "| start                                    | 2792                                     | 2792                                     |\n",
       "| end                                      | 2798                                     | 2798                                     |\n",
       "| icd10                                    | []                                       | []                                       |\n",
       "| ontologies                               | ['20220803_SNOMED_UK_CLINICAL_EXT']      | ['SNOMED-CT']                            |\n",
       "| snomed                                   | []                                       | []                                       |\n",
       "| id                                       | 164                                      | 161                                      |\n",
       "| meta_anns (Dict[str, dict])              | 3                                        | 0                                        |"
      ],
      "text/plain": [
       "<IPython.core.display.Markdown object>"
      ]
     },
     "metadata": {},
     "output_type": "display_data"
    },
    {
     "name": "stdout",
     "output_type": "stream",
     "text": [
      "==================== \n",
      "Chemokines Updates_1. Chemokines Effective on Platelet Functions (AnnotationComparisonType.SAME_SPAN_DIFF_CONCEPT) \n",
      "====================\n"
     ]
    },
    {
     "data": {
      "text/markdown": [
       "| Path | First | Second |\n",
       "| ----- | ----- | ----- |\n",
       "| pretty_name                              | Cell count                               | Cell structure                           |\n",
       "| cui                                      | 118218001                                | 4421005                                  |\n",
       "| type_ids                                 | ['28321150']                             | ['66527446']                             |\n",
       "| types                                    | ['']                                     | ['cell structure']                       |\n",
       "| source_value                             | cells                                    | cells                                    |\n",
       "| detected_name                            | cell                                     | cell                                     |\n",
       "| acc                                      | 0.7684476759367447                       | 0.99                                     |\n",
       "| context_similarity                       | 0.7684476759367447                       | 0.99                                     |\n",
       "| start                                    | 2871                                     | 2871                                     |\n",
       "| end                                      | 2876                                     | 2876                                     |\n",
       "| icd10                                    | []                                       | []                                       |\n",
       "| ontologies                               | ['20220803_SNOMED_UK_CLINICAL_EXT']      | ['SNOMED-CT']                            |\n",
       "| snomed                                   | []                                       | []                                       |\n",
       "| id                                       | 169                                      | 166                                      |\n",
       "| meta_anns (Dict[str, dict])              | 3                                        | 0                                        |"
      ],
      "text/plain": [
       "<IPython.core.display.Markdown object>"
      ]
     },
     "metadata": {},
     "output_type": "display_data"
    },
    {
     "name": "stdout",
     "output_type": "stream",
     "text": [
      "==================== \n",
      "Chemokines Updates_1. Chemokines Effective on Platelet Functions (AnnotationComparisonType.SAME_SPAN_DIFF_CONCEPT) \n",
      "====================\n"
     ]
    },
    {
     "data": {
      "text/markdown": [
       "| Path | First | Second |\n",
       "| ----- | ----- | ----- |\n",
       "| pretty_name                              | System                                   | System                                   |\n",
       "| cui                                      | 733021006                                | 246333005                                |\n",
       "| type_ids                                 | ['39041339']                             | ['43039974']                             |\n",
       "| types                                    | ['']                                     | ['attribute']                            |\n",
       "| source_value                             | system                                   | system                                   |\n",
       "| detected_name                            | system                                   | system                                   |\n",
       "| acc                                      | 0.9385758247854834                       | 0.5021896525984766                       |\n",
       "| context_similarity                       | 0.9385758247854834                       | 0.5021896525984766                       |\n",
       "| start                                    | 2896                                     | 2896                                     |\n",
       "| end                                      | 2902                                     | 2902                                     |\n",
       "| icd10                                    | []                                       | []                                       |\n",
       "| ontologies                               | ['20220803_SNOMED_UK_CLINICAL_EXT']      | ['SNOMED-CT']                            |\n",
       "| snomed                                   | []                                       | []                                       |\n",
       "| id                                       | 172                                      | 169                                      |\n",
       "| meta_anns (Dict[str, dict])              | 3                                        | 0                                        |"
      ],
      "text/plain": [
       "<IPython.core.display.Markdown object>"
      ]
     },
     "metadata": {},
     "output_type": "display_data"
    },
    {
     "name": "stdout",
     "output_type": "stream",
     "text": [
      "==================== \n",
      "Chemokines Updates_1. Chemokines Effective on Platelet Functions (AnnotationComparisonType.SAME_SPAN_DIFF_CONCEPT) \n",
      "====================\n"
     ]
    },
    {
     "data": {
      "text/markdown": [
       "| Path | First | Second |\n",
       "| ----- | ----- | ----- |\n",
       "| pretty_name                              | Cell count                               | Cell structure                           |\n",
       "| cui                                      | 118218001                                | 4421005                                  |\n",
       "| type_ids                                 | ['28321150']                             | ['66527446']                             |\n",
       "| types                                    | ['']                                     | ['cell structure']                       |\n",
       "| source_value                             | cells                                    | cells                                    |\n",
       "| detected_name                            | cell                                     | cell                                     |\n",
       "| acc                                      | 0.7609524936799626                       | 0.99                                     |\n",
       "| context_similarity                       | 0.7609524936799626                       | 0.99                                     |\n",
       "| start                                    | 2903                                     | 2903                                     |\n",
       "| end                                      | 2908                                     | 2908                                     |\n",
       "| icd10                                    | []                                       | []                                       |\n",
       "| ontologies                               | ['20220803_SNOMED_UK_CLINICAL_EXT']      | ['SNOMED-CT']                            |\n",
       "| snomed                                   | []                                       | []                                       |\n",
       "| id                                       | 173                                      | 170                                      |\n",
       "| meta_anns (Dict[str, dict])              | 3                                        | 0                                        |"
      ],
      "text/plain": [
       "<IPython.core.display.Markdown object>"
      ]
     },
     "metadata": {},
     "output_type": "display_data"
    },
    {
     "name": "stdout",
     "output_type": "stream",
     "text": [
      "==================== \n",
      "Chemokines Updates_1. Chemokines Effective on Platelet Functions (AnnotationComparisonType.SAME_SPAN_DIFF_CONCEPT) \n",
      "====================\n"
     ]
    },
    {
     "data": {
      "text/markdown": [
       "| Path | First | Second |\n",
       "| ----- | ----- | ----- |\n",
       "| pretty_name                              | Function                                 | Function                                 |\n",
       "| cui                                      | 246464006                                | 277064003                                |\n",
       "| type_ids                                 | ['2680757']                              | ['43039974']                             |\n",
       "| types                                    | ['']                                     | ['attribute']                            |\n",
       "| source_value                             | functions                                | functions                                |\n",
       "| detected_name                            | function                                 | function                                 |\n",
       "| acc                                      | 0.44049521885921805                      | 0.5475805744901575                       |\n",
       "| context_similarity                       | 0.44049521885921805                      | 0.5475805744901575                       |\n",
       "| start                                    | 2964                                     | 2964                                     |\n",
       "| end                                      | 2973                                     | 2973                                     |\n",
       "| icd10                                    | []                                       | []                                       |\n",
       "| ontologies                               | ['20220803_SNOMED_UK_CLINICAL_EXT']      | ['SNOMED-CT']                            |\n",
       "| snomed                                   | []                                       | []                                       |\n",
       "| id                                       | 177                                      | 174                                      |\n",
       "| meta_anns (Dict[str, dict])              | 3                                        | 0                                        |"
      ],
      "text/plain": [
       "<IPython.core.display.Markdown object>"
      ]
     },
     "metadata": {},
     "output_type": "display_data"
    },
    {
     "name": "stdout",
     "output_type": "stream",
     "text": [
      "==================== \n",
      "Chemokines Updates_1. Chemokines Effective on Platelet Functions (AnnotationComparisonType.OVERLAPP_1ST_LARGER_DIFF_CONCEPT) \n",
      "====================\n"
     ]
    },
    {
     "data": {
      "text/markdown": [
       "| Path | First | Second |\n",
       "| ----- | ----- | ----- |\n",
       "| pretty_name                              | Immune response, function                | Immune                                   |\n",
       "| cui                                      | 35024006                                 | 255386009                                |\n",
       "| type_ids                                 | ['2680757']                              | ['7882689']                              |\n",
       "| types                                    | ['']                                     | ['qualifier value']                      |\n",
       "| source_value                             | immune responses                         | immune                                   |\n",
       "| detected_name                            | immune~response                          | immune                                   |\n",
       "| acc                                      | 1.0                                      | 1.0                                      |\n",
       "| context_similarity                       | 1.0                                      | 1.0                                      |\n",
       "| start                                    | 3129                                     | 3129                                     |\n",
       "| end                                      | 3145                                     | 3135                                     |\n",
       "| icd10                                    | []                                       | []                                       |\n",
       "| ontologies                               | ['20220803_SNOMED_UK_CLINICAL_EXT']      | ['SNOMED-CT']                            |\n",
       "| snomed                                   | []                                       | []                                       |\n",
       "| id                                       | 191                                      | 187                                      |\n",
       "| meta_anns (Dict[str, dict])              | 3                                        | 0                                        |"
      ],
      "text/plain": [
       "<IPython.core.display.Markdown object>"
      ]
     },
     "metadata": {},
     "output_type": "display_data"
    },
    {
     "name": "stdout",
     "output_type": "stream",
     "text": [
      "==================== \n",
      "Chemokines Updates_1. Chemokines Effective on Platelet Functions (AnnotationComparisonType.SECOND_HAS) \n",
      "====================\n"
     ]
    },
    {
     "data": {
      "text/markdown": [
       "| Path | First | Second |\n",
       "| ----- | ----- | ----- |\n",
       "| pretty_name                              |                                          | Biologic                                 |\n",
       "| cui                                      |                                          | 12893009                                 |\n",
       "| type_ids                                 |                                          | ['7882689']                              |\n",
       "| types                                    |                                          | ['qualifier value']                      |\n",
       "| source_value                             |                                          | biological                               |\n",
       "| detected_name                            |                                          | biological                               |\n",
       "| acc                                      |                                          | 0.5644976433340625                       |\n",
       "| context_similarity                       |                                          | 0.5644976433340625                       |\n",
       "| start                                    |                                          | 3175                                     |\n",
       "| end                                      |                                          | 3185                                     |\n",
       "| icd10                                    |                                          | []                                       |\n",
       "| ontologies                               |                                          | ['SNOMED-CT']                            |\n",
       "| snomed                                   |                                          | []                                       |\n",
       "| id                                       |                                          | 189                                      |\n",
       "| meta_anns (Dict[str, dict])              | 0                                        | 0                                        |"
      ],
      "text/plain": [
       "<IPython.core.display.Markdown object>"
      ]
     },
     "metadata": {},
     "output_type": "display_data"
    },
    {
     "name": "stdout",
     "output_type": "stream",
     "text": [
      "==================== \n",
      "Chemokines Updates_1. Chemokines Effective on Platelet Functions (AnnotationComparisonType.SECOND_HAS) \n",
      "====================\n"
     ]
    },
    {
     "data": {
      "text/markdown": [
       "| Path | First | Second |\n",
       "| ----- | ----- | ----- |\n",
       "| pretty_name                              |                                          | Process                                  |\n",
       "| cui                                      |                                          | 719982003                                |\n",
       "| type_ids                                 |                                          | ['7882689']                              |\n",
       "| types                                    |                                          | ['qualifier value']                      |\n",
       "| source_value                             |                                          | processes                                |\n",
       "| detected_name                            |                                          | process                                  |\n",
       "| acc                                      |                                          | 0.5971055435434249                       |\n",
       "| context_similarity                       |                                          | 0.5971055435434249                       |\n",
       "| start                                    |                                          | 3186                                     |\n",
       "| end                                      |                                          | 3195                                     |\n",
       "| icd10                                    |                                          | []                                       |\n",
       "| ontologies                               |                                          | ['SNOMED-CT']                            |\n",
       "| snomed                                   |                                          | []                                       |\n",
       "| id                                       |                                          | 190                                      |\n",
       "| meta_anns (Dict[str, dict])              | 0                                        | 0                                        |"
      ],
      "text/plain": [
       "<IPython.core.display.Markdown object>"
      ]
     },
     "metadata": {},
     "output_type": "display_data"
    },
    {
     "name": "stdout",
     "output_type": "stream",
     "text": [
      "==================== \n",
      "Chemokines Updates_1. Chemokines Effective on Platelet Functions (AnnotationComparisonType.SAME_PARENT) \n",
      "====================\n"
     ]
    },
    {
     "data": {
      "text/markdown": [
       "| Path | First | Second |\n",
       "| ----- | ----- | ----- |\n",
       "| pretty_name                              | Malignant neoplastic disease             | Malignant neoplasm                       |\n",
       "| cui                                      | 363346000                                | 1240414004                               |\n",
       "| type_ids                                 | ['9090192']                              | ['33782986']                             |\n",
       "| types                                    | ['']                                     | ['morphologic abnormality']              |\n",
       "| source_value                             | cancer                                   | cancer                                   |\n",
       "| detected_name                            | cancer                                   | cancer                                   |\n",
       "| acc                                      | 0.99                                     | 0.8976096943704567                       |\n",
       "| context_similarity                       | 0.99                                     | 0.8976096943704567                       |\n",
       "| start                                    | 3297                                     | 3297                                     |\n",
       "| end                                      | 3303                                     | 3303                                     |\n",
       "| icd10                                    | ['C80.9']                                | []                                       |\n",
       "| ontologies                               | ['20220803_SNOMED_UK_CLINICAL_EXT']      | ['SNOMED-CT']                            |\n",
       "| snomed                                   | []                                       | []                                       |\n",
       "| id                                       | 201                                      | 198                                      |\n",
       "| meta_anns (Dict[str, dict])              | 3                                        | 0                                        |"
      ],
      "text/plain": [
       "<IPython.core.display.Markdown object>"
      ]
     },
     "metadata": {},
     "output_type": "display_data"
    },
    {
     "name": "stdout",
     "output_type": "stream",
     "text": [
      "==================== \n",
      "Chemokines Updates_1. Chemokines Effective on Platelet Functions (AnnotationComparisonType.FIRST_HAS) \n",
      "====================\n"
     ]
    },
    {
     "data": {
      "text/markdown": [
       "| Path | First | Second |\n",
       "| ----- | ----- | ----- |\n",
       "| pretty_name                              | Kilodalton                               |                                          |\n",
       "| cui                                      | 414556008                                |                                          |\n",
       "| type_ids                                 | ['7882689']                              |                                          |\n",
       "| types                                    | ['']                                     |                                          |\n",
       "| source_value                             | kDa                                      |                                          |\n",
       "| detected_name                            | kda                                      |                                          |\n",
       "| acc                                      | 1.0                                      |                                          |\n",
       "| context_similarity                       | 1.0                                      |                                          |\n",
       "| start                                    | 3436                                     |                                          |\n",
       "| end                                      | 3439                                     |                                          |\n",
       "| icd10                                    | []                                       |                                          |\n",
       "| ontologies                               | ['20220803_SNOMED_UK_CLINICAL_EXT']      |                                          |\n",
       "| snomed                                   | []                                       |                                          |\n",
       "| id                                       | 207                                      |                                          |\n",
       "| meta_anns (Dict[str, dict])              | 3                                        | 0                                        |"
      ],
      "text/plain": [
       "<IPython.core.display.Markdown object>"
      ]
     },
     "metadata": {},
     "output_type": "display_data"
    },
    {
     "name": "stdout",
     "output_type": "stream",
     "text": [
      "==================== \n",
      "Chemokines Updates_1. Chemokines Effective on Platelet Functions (AnnotationComparisonType.FIRST_HAS) \n",
      "====================\n"
     ]
    },
    {
     "data": {
      "text/markdown": [
       "| Path | First | Second |\n",
       "| ----- | ----- | ----- |\n",
       "| pretty_name                              | Mass of body structure                   |                                          |\n",
       "| cui                                      | 300848003                                |                                          |\n",
       "| type_ids                                 | ['67667581']                             |                                          |\n",
       "| types                                    | ['']                                     |                                          |\n",
       "| source_value                             | mass                                     |                                          |\n",
       "| detected_name                            | mass                                     |                                          |\n",
       "| acc                                      | 0.5379017207939165                       |                                          |\n",
       "| context_similarity                       | 0.5379017207939165                       |                                          |\n",
       "| start                                    | 3443                                     |                                          |\n",
       "| end                                      | 3447                                     |                                          |\n",
       "| icd10                                    | ['']                                     |                                          |\n",
       "| ontologies                               | ['20220803_SNOMED_UK_CLINICAL_EXT']      |                                          |\n",
       "| snomed                                   | []                                       |                                          |\n",
       "| id                                       | 208                                      |                                          |\n",
       "| meta_anns (Dict[str, dict])              | 3                                        | 0                                        |"
      ],
      "text/plain": [
       "<IPython.core.display.Markdown object>"
      ]
     },
     "metadata": {},
     "output_type": "display_data"
    },
    {
     "name": "stdout",
     "output_type": "stream",
     "text": [
      "==================== \n",
      "Chemokines Updates_1. Chemokines Effective on Platelet Functions (AnnotationComparisonType.SAME_SPAN_CONCEPT_NOT_IN_2ND) \n",
      "====================\n"
     ]
    },
    {
     "data": {
      "text/markdown": [
       "| Path | First | Second |\n",
       "| ----- | ----- | ----- |\n",
       "| pretty_name                              | Number                                   | Count of entities (property)             |\n",
       "| cui                                      | 260299005                                | 410681005                                |\n",
       "| type_ids                                 | ['7882689']                              | ['7882689']                              |\n",
       "| types                                    | ['']                                     | ['qualifier value']                      |\n",
       "| source_value                             | number                                   | number                                   |\n",
       "| detected_name                            | number                                   | number                                   |\n",
       "| acc                                      | 0.5349324650772461                       | 0.5699963371462698                       |\n",
       "| context_similarity                       | 0.5349324650772461                       | 0.5699963371462698                       |\n",
       "| start                                    | 3464                                     | 3464                                     |\n",
       "| end                                      | 3470                                     | 3470                                     |\n",
       "| icd10                                    | []                                       | []                                       |\n",
       "| ontologies                               | ['20220803_SNOMED_UK_CLINICAL_EXT']      | ['SNOMED-CT']                            |\n",
       "| snomed                                   | []                                       | []                                       |\n",
       "| id                                       | 211                                      | 208                                      |\n",
       "| meta_anns (Dict[str, dict])              | 3                                        | 0                                        |"
      ],
      "text/plain": [
       "<IPython.core.display.Markdown object>"
      ]
     },
     "metadata": {},
     "output_type": "display_data"
    },
    {
     "name": "stdout",
     "output_type": "stream",
     "text": [
      "==================== \n",
      "Chemokines Updates_1. Chemokines Effective on Platelet Functions (AnnotationComparisonType.SAME_SPAN_DIFF_CONCEPT) \n",
      "====================\n"
     ]
    },
    {
     "data": {
      "text/markdown": [
       "| Path | First | Second |\n",
       "| ----- | ----- | ----- |\n",
       "| pretty_name                              | Shape                                    | With shape                               |\n",
       "| cui                                      | 300842002                                | 103374000                                |\n",
       "| type_ids                                 | ['43039974']                             | ['43039974']                             |\n",
       "| types                                    | ['']                                     | ['attribute']                            |\n",
       "| source_value                             | shapes                                   | shapes                                   |\n",
       "| detected_name                            | shape                                    | shape                                    |\n",
       "| acc                                      | 0.7205491239733945                       | 0.3610325464314984                       |\n",
       "| context_similarity                       | 0.7205491239733945                       | 0.3610325464314984                       |\n",
       "| start                                    | 3624                                     | 3624                                     |\n",
       "| end                                      | 3630                                     | 3630                                     |\n",
       "| icd10                                    | []                                       | []                                       |\n",
       "| ontologies                               | ['20220803_SNOMED_UK_CLINICAL_EXT']      | ['SNOMED-CT']                            |\n",
       "| snomed                                   | []                                       | []                                       |\n",
       "| id                                       | 217                                      | 214                                      |\n",
       "| meta_anns (Dict[str, dict])              | 3                                        | 0                                        |"
      ],
      "text/plain": [
       "<IPython.core.display.Markdown object>"
      ]
     },
     "metadata": {},
     "output_type": "display_data"
    },
    {
     "name": "stdout",
     "output_type": "stream",
     "text": [
      "==================== \n",
      "Chemokines Updates_1. Chemokines Effective on Platelet Functions (AnnotationComparisonType.FIRST_HAS) \n",
      "====================\n"
     ]
    },
    {
     "data": {
      "text/markdown": [
       "| Path | First | Second |\n",
       "| ----- | ----- | ----- |\n",
       "| pretty_name                              | End (qualifier value)                    |                                          |\n",
       "| cui                                      | 261782000                                |                                          |\n",
       "| type_ids                                 | ['7882689']                              |                                          |\n",
       "| types                                    | ['']                                     |                                          |\n",
       "| source_value                             | end                                      |                                          |\n",
       "| detected_name                            | end                                      |                                          |\n",
       "| acc                                      | 0.4516140069888075                       |                                          |\n",
       "| context_similarity                       | 0.4516140069888075                       |                                          |\n",
       "| start                                    | 3722                                     |                                          |\n",
       "| end                                      | 3725                                     |                                          |\n",
       "| icd10                                    | []                                       |                                          |\n",
       "| ontologies                               | ['20220803_SNOMED_UK_CLINICAL_EXT']      |                                          |\n",
       "| snomed                                   | []                                       |                                          |\n",
       "| id                                       | 223                                      |                                          |\n",
       "| meta_anns (Dict[str, dict])              | 3                                        | 0                                        |"
      ],
      "text/plain": [
       "<IPython.core.display.Markdown object>"
      ]
     },
     "metadata": {},
     "output_type": "display_data"
    },
    {
     "name": "stdout",
     "output_type": "stream",
     "text": [
      "==================== \n",
      "Chemokines Updates_1. Chemokines Effective on Platelet Functions (AnnotationComparisonType.SAME_SPAN_DIFF_CONCEPT) \n",
      "====================\n"
     ]
    },
    {
     "data": {
      "text/markdown": [
       "| Path | First | Second |\n",
       "| ----- | ----- | ----- |\n",
       "| pretty_name                              | Region                                   | Regional                                 |\n",
       "| cui                                      | 410673009                                | 410674003                                |\n",
       "| type_ids                                 | ['43039974']                             | ['7882689']                              |\n",
       "| types                                    | ['']                                     | ['qualifier value']                      |\n",
       "| source_value                             | region                                   | region                                   |\n",
       "| detected_name                            | region                                   | region                                   |\n",
       "| acc                                      | 1.0                                      | 0.7248959701313173                       |\n",
       "| context_similarity                       | 1.0                                      | 0.7248959701313173                       |\n",
       "| start                                    | 3833                                     | 3833                                     |\n",
       "| end                                      | 3839                                     | 3839                                     |\n",
       "| icd10                                    | []                                       | []                                       |\n",
       "| ontologies                               | ['20220803_SNOMED_UK_CLINICAL_EXT']      | ['SNOMED-CT']                            |\n",
       "| snomed                                   | []                                       | []                                       |\n",
       "| id                                       | 232                                      | 229                                      |\n",
       "| meta_anns (Dict[str, dict])              | 3                                        | 0                                        |"
      ],
      "text/plain": [
       "<IPython.core.display.Markdown object>"
      ]
     },
     "metadata": {},
     "output_type": "display_data"
    },
    {
     "name": "stdout",
     "output_type": "stream",
     "text": [
      "==================== \n",
      "Chemokines Updates_1. Chemokines Effective on Platelet Functions (AnnotationComparisonType.SAME_SPAN_DIFF_CONCEPT) \n",
      "====================\n"
     ]
    },
    {
     "data": {
      "text/markdown": [
       "| Path | First | Second |\n",
       "| ----- | ----- | ----- |\n",
       "| pretty_name                              | Helix                                    | Helix structure                          |\n",
       "| cui                                      | 13732004                                 | 86153000                                 |\n",
       "| type_ids                                 | ['81102976']                             | ['37552161']                             |\n",
       "| types                                    | ['']                                     | ['body structure']                       |\n",
       "| source_value                             | helix                                    | helix                                    |\n",
       "| detected_name                            | helix                                    | helix                                    |\n",
       "| acc                                      | 0.46825625814639826                      | 0.7442848957336333                       |\n",
       "| context_similarity                       | 0.46825625814639826                      | 0.7442848957336333                       |\n",
       "| start                                    | 3894                                     | 3894                                     |\n",
       "| end                                      | 3899                                     | 3899                                     |\n",
       "| icd10                                    | []                                       | []                                       |\n",
       "| ontologies                               | ['20220803_SNOMED_UK_CLINICAL_EXT']      | ['SNOMED-CT']                            |\n",
       "| snomed                                   | []                                       | []                                       |\n",
       "| id                                       | 238                                      | 235                                      |\n",
       "| meta_anns (Dict[str, dict])              | 3                                        | 0                                        |"
      ],
      "text/plain": [
       "<IPython.core.display.Markdown object>"
      ]
     },
     "metadata": {},
     "output_type": "display_data"
    },
    {
     "name": "stdout",
     "output_type": "stream",
     "text": [
      "==================== \n",
      "Chemokines Updates_1. Chemokines Effective on Platelet Functions (AnnotationComparisonType.SAME_PARENT) \n",
      "====================\n"
     ]
    },
    {
     "data": {
      "text/markdown": [
       "| Path | First | Second |\n",
       "| ----- | ----- | ----- |\n",
       "| pretty_name                              | Domain Bacteria                          | Bacterium                                |\n",
       "| cui                                      | 409822003                                | 41146007                                 |\n",
       "| type_ids                                 | ['81102976']                             | ['81102976']                             |\n",
       "| types                                    | ['']                                     | ['organism']                             |\n",
       "| source_value                             | bacteria                                 | bacteria                                 |\n",
       "| detected_name                            | bacteria                                 | bacteria                                 |\n",
       "| acc                                      | 0.7235646509054307                       | 0.7111809291473157                       |\n",
       "| context_similarity                       | 0.7235646509054307                       | 0.7111809291473157                       |\n",
       "| start                                    | 4163                                     | 4163                                     |\n",
       "| end                                      | 4171                                     | 4171                                     |\n",
       "| icd10                                    | []                                       | []                                       |\n",
       "| ontologies                               | ['20220803_SNOMED_UK_CLINICAL_EXT']      | ['SNOMED-CT']                            |\n",
       "| snomed                                   | []                                       | []                                       |\n",
       "| id                                       | 252                                      | 249                                      |\n",
       "| meta_anns (Dict[str, dict])              | 3                                        | 0                                        |"
      ],
      "text/plain": [
       "<IPython.core.display.Markdown object>"
      ]
     },
     "metadata": {},
     "output_type": "display_data"
    },
    {
     "name": "stdout",
     "output_type": "stream",
     "text": [
      "==================== \n",
      "Chemokines Updates_1. Chemokines Effective on Platelet Functions (AnnotationComparisonType.SAME_SPAN_DIFF_CONCEPT) \n",
      "====================\n"
     ]
    },
    {
     "data": {
      "text/markdown": [
       "| Path | First | Second |\n",
       "| ----- | ----- | ----- |\n",
       "| pretty_name                              | Seconds                                  | Second                                   |\n",
       "| cui                                      | 257997001                                | 81170007                                 |\n",
       "| type_ids                                 | ['7882689']                              | ['7882689']                              |\n",
       "| types                                    | ['']                                     | ['qualifier value']                      |\n",
       "| source_value                             | second                                   | second                                   |\n",
       "| detected_name                            | second                                   | second                                   |\n",
       "| acc                                      | 0.6148763747156283                       | 0.40375057218811305                      |\n",
       "| context_similarity                       | 0.6148763747156283                       | 0.40375057218811305                      |\n",
       "| start                                    | 4627                                     | 4627                                     |\n",
       "| end                                      | 4633                                     | 4633                                     |\n",
       "| icd10                                    | []                                       | []                                       |\n",
       "| ontologies                               | ['20220803_SNOMED_UK_CLINICAL_EXT']      | ['SNOMED-CT']                            |\n",
       "| snomed                                   | []                                       | []                                       |\n",
       "| id                                       | 282                                      | 279                                      |\n",
       "| meta_anns (Dict[str, dict])              | 3                                        | 0                                        |"
      ],
      "text/plain": [
       "<IPython.core.display.Markdown object>"
      ]
     },
     "metadata": {},
     "output_type": "display_data"
    },
    {
     "name": "stdout",
     "output_type": "stream",
     "text": [
      "==================== \n",
      "Chemokines Updates_1. Chemokines Effective on Platelet Functions (AnnotationComparisonType.FIRST_HAS) \n",
      "====================\n"
     ]
    },
    {
     "data": {
      "text/markdown": [
       "| Path | First | Second |\n",
       "| ----- | ----- | ----- |\n",
       "| pretty_name                              | Inositol                                 |                                          |\n",
       "| cui                                      | 72164009                                 |                                          |\n",
       "| type_ids                                 | ['91187746']                             |                                          |\n",
       "| types                                    | ['']                                     |                                          |\n",
       "| source_value                             | inositol                                 |                                          |\n",
       "| detected_name                            | inositol                                 |                                          |\n",
       "| acc                                      | 1.0                                      |                                          |\n",
       "| context_similarity                       | 1.0                                      |                                          |\n",
       "| start                                    | 4663                                     |                                          |\n",
       "| end                                      | 4671                                     |                                          |\n",
       "| icd10                                    | []                                       |                                          |\n",
       "| ontologies                               | ['20220803_SNOMED_UK_CLINICAL_EXT']      |                                          |\n",
       "| snomed                                   | []                                       |                                          |\n",
       "| id                                       | 286                                      |                                          |\n",
       "| meta_anns (Dict[str, dict])              | 3                                        | 0                                        |"
      ],
      "text/plain": [
       "<IPython.core.display.Markdown object>"
      ]
     },
     "metadata": {},
     "output_type": "display_data"
    },
    {
     "name": "stdout",
     "output_type": "stream",
     "text": [
      "==================== \n",
      "Chemokines Updates_1. Chemokines Effective on Platelet Functions (AnnotationComparisonType.FIRST_HAS) \n",
      "====================\n"
     ]
    },
    {
     "data": {
      "text/markdown": [
       "| Path | First | Second |\n",
       "| ----- | ----- | ----- |\n",
       "| pretty_name                              | 1, 2-diacylglycerol                      |                                          |\n",
       "| cui                                      | 63862000                                 |                                          |\n",
       "| type_ids                                 | ['91187746']                             |                                          |\n",
       "| types                                    | ['']                                     |                                          |\n",
       "| source_value                             | DAG                                      |                                          |\n",
       "| detected_name                            | dag                                      |                                          |\n",
       "| acc                                      | 1.0                                      |                                          |\n",
       "| context_similarity                       | 1.0                                      |                                          |\n",
       "| start                                    | 4711                                     |                                          |\n",
       "| end                                      | 4714                                     |                                          |\n",
       "| icd10                                    | []                                       |                                          |\n",
       "| ontologies                               | ['20220803_SNOMED_UK_CLINICAL_EXT']      |                                          |\n",
       "| snomed                                   | []                                       |                                          |\n",
       "| id                                       | 288                                      |                                          |\n",
       "| meta_anns (Dict[str, dict])              | 3                                        | 0                                        |"
      ],
      "text/plain": [
       "<IPython.core.display.Markdown object>"
      ]
     },
     "metadata": {},
     "output_type": "display_data"
    },
    {
     "name": "stdout",
     "output_type": "stream",
     "text": [
      "==================== \n",
      "Chemokines Updates_1. Chemokines Effective on Platelet Functions (AnnotationComparisonType.FIRST_HAS) \n",
      "====================\n"
     ]
    },
    {
     "data": {
      "text/markdown": [
       "| Path | First | Second |\n",
       "| ----- | ----- | ----- |\n",
       "| pretty_name                              | 1, 2-diacylglycerol                      |                                          |\n",
       "| cui                                      | 63862000                                 |                                          |\n",
       "| type_ids                                 | ['91187746']                             |                                          |\n",
       "| types                                    | ['']                                     |                                          |\n",
       "| source_value                             | DAG                                      |                                          |\n",
       "| detected_name                            | dag                                      |                                          |\n",
       "| acc                                      | 1.0                                      |                                          |\n",
       "| context_similarity                       | 1.0                                      |                                          |\n",
       "| start                                    | 4756                                     |                                          |\n",
       "| end                                      | 4759                                     |                                          |\n",
       "| icd10                                    | []                                       |                                          |\n",
       "| ontologies                               | ['20220803_SNOMED_UK_CLINICAL_EXT']      |                                          |\n",
       "| snomed                                   | []                                       |                                          |\n",
       "| id                                       | 292                                      |                                          |\n",
       "| meta_anns (Dict[str, dict])              | 3                                        | 0                                        |"
      ],
      "text/plain": [
       "<IPython.core.display.Markdown object>"
      ]
     },
     "metadata": {},
     "output_type": "display_data"
    },
    {
     "name": "stdout",
     "output_type": "stream",
     "text": [
      "==================== \n",
      "Chemokines Updates_1. Chemokines Effective on Platelet Functions (AnnotationComparisonType.SAME_SPAN_CONCEPT_NOT_IN_2ND) \n",
      "====================\n"
     ]
    },
    {
     "data": {
      "text/markdown": [
       "| Path | First | Second |\n",
       "| ----- | ----- | ----- |\n",
       "| pretty_name                              | Release                                  | Release - action                         |\n",
       "| cui                                      | 115956009                                | 129299003                                |\n",
       "| type_ids                                 | ['28321150']                             | ['7882689']                              |\n",
       "| types                                    | ['']                                     | ['qualifier value']                      |\n",
       "| source_value                             | release                                  | release                                  |\n",
       "| detected_name                            | release                                  | release                                  |\n",
       "| acc                                      | 0.99                                     | 0.36957509774653696                      |\n",
       "| context_similarity                       | 0.99                                     | 0.36957509774653696                      |\n",
       "| start                                    | 4841                                     | 4841                                     |\n",
       "| end                                      | 4848                                     | 4848                                     |\n",
       "| icd10                                    | []                                       | []                                       |\n",
       "| ontologies                               | ['20220803_SNOMED_UK_CLINICAL_EXT']      | ['SNOMED-CT']                            |\n",
       "| snomed                                   | []                                       | []                                       |\n",
       "| id                                       | 301                                      | 298                                      |\n",
       "| meta_anns (Dict[str, dict])              | 3                                        | 0                                        |"
      ],
      "text/plain": [
       "<IPython.core.display.Markdown object>"
      ]
     },
     "metadata": {},
     "output_type": "display_data"
    },
    {
     "name": "stdout",
     "output_type": "stream",
     "text": [
      "==================== \n",
      "Chemokines Updates_1. Chemokines Effective on Platelet Functions (AnnotationComparisonType.SECOND_HAS) \n",
      "====================\n"
     ]
    },
    {
     "data": {
      "text/markdown": [
       "| Path | First | Second |\n",
       "| ----- | ----- | ----- |\n",
       "| pretty_name                              |                                          | Multiple                                 |\n",
       "| cui                                      |                                          | 255204007                                |\n",
       "| type_ids                                 |                                          | ['7882689']                              |\n",
       "| types                                    |                                          | ['qualifier value']                      |\n",
       "| source_value                             |                                          | multiple                                 |\n",
       "| detected_name                            |                                          | multiple                                 |\n",
       "| acc                                      |                                          | 0.52362018967165                         |\n",
       "| context_similarity                       |                                          | 0.52362018967165                         |\n",
       "| start                                    |                                          | 4900                                     |\n",
       "| end                                      |                                          | 4908                                     |\n",
       "| icd10                                    |                                          | []                                       |\n",
       "| ontologies                               |                                          | ['SNOMED-CT']                            |\n",
       "| snomed                                   |                                          | []                                       |\n",
       "| id                                       |                                          | 303                                      |\n",
       "| meta_anns (Dict[str, dict])              | 0                                        | 0                                        |"
      ],
      "text/plain": [
       "<IPython.core.display.Markdown object>"
      ]
     },
     "metadata": {},
     "output_type": "display_data"
    },
    {
     "name": "stdout",
     "output_type": "stream",
     "text": [
      "==================== \n",
      "Chemokines Updates_1. Chemokines Effective on Platelet Functions (AnnotationComparisonType.FIRST_HAS) \n",
      "====================\n"
     ]
    },
    {
     "data": {
      "text/markdown": [
       "| Path | First | Second |\n",
       "| ----- | ----- | ----- |\n",
       "| pretty_name                              | Kinase                                   |                                          |\n",
       "| cui                                      | 736215007                                |                                          |\n",
       "| type_ids                                 | ['46506674']                             |                                          |\n",
       "| types                                    | ['']                                     |                                          |\n",
       "| source_value                             | kinase                                   |                                          |\n",
       "| detected_name                            | kinase                                   |                                          |\n",
       "| acc                                      | 0.5277713436317081                       |                                          |\n",
       "| context_similarity                       | 0.5277713436317081                       |                                          |\n",
       "| start                                    | 4945                                     |                                          |\n",
       "| end                                      | 4951                                     |                                          |\n",
       "| icd10                                    | []                                       |                                          |\n",
       "| ontologies                               | ['20220803_SNOMED_UK_CLINICAL_EXT']      |                                          |\n",
       "| snomed                                   | []                                       |                                          |\n",
       "| id                                       | 309                                      |                                          |\n",
       "| meta_anns (Dict[str, dict])              | 3                                        | 0                                        |"
      ],
      "text/plain": [
       "<IPython.core.display.Markdown object>"
      ]
     },
     "metadata": {},
     "output_type": "display_data"
    },
    {
     "name": "stdout",
     "output_type": "stream",
     "text": [
      "==================== \n",
      "Chemokines Updates_1. Chemokines Effective on Platelet Functions (AnnotationComparisonType.SAME_SPAN_DIFF_CONCEPT) \n",
      "====================\n"
     ]
    },
    {
     "data": {
      "text/markdown": [
       "| Path | First | Second |\n",
       "| ----- | ----- | ----- |\n",
       "| pretty_name                              | Cell count                               | Cell structure                           |\n",
       "| cui                                      | 118218001                                | 4421005                                  |\n",
       "| type_ids                                 | ['28321150']                             | ['66527446']                             |\n",
       "| types                                    | ['']                                     | ['cell structure']                       |\n",
       "| source_value                             | cell                                     | cell                                     |\n",
       "| detected_name                            | cell                                     | cell                                     |\n",
       "| acc                                      | 0.7807317589393864                       | 0.99                                     |\n",
       "| context_similarity                       | 0.7807317589393864                       | 0.99                                     |\n",
       "| start                                    | 5085                                     | 5085                                     |\n",
       "| end                                      | 5089                                     | 5089                                     |\n",
       "| icd10                                    | []                                       | []                                       |\n",
       "| ontologies                               | ['20220803_SNOMED_UK_CLINICAL_EXT']      | ['SNOMED-CT']                            |\n",
       "| snomed                                   | []                                       | []                                       |\n",
       "| id                                       | 313                                      | 309                                      |\n",
       "| meta_anns (Dict[str, dict])              | 3                                        | 0                                        |"
      ],
      "text/plain": [
       "<IPython.core.display.Markdown object>"
      ]
     },
     "metadata": {},
     "output_type": "display_data"
    },
    {
     "name": "stdout",
     "output_type": "stream",
     "text": [
      "==================== \n",
      "Chemokines Updates_1. Chemokines Effective on Platelet Functions (AnnotationComparisonType.FIRST_HAS) \n",
      "====================\n"
     ]
    },
    {
     "data": {
      "text/markdown": [
       "| Path | First | Second |\n",
       "| ----- | ----- | ----- |\n",
       "| pretty_name                              | Adenosinetriphosphatase                  |                                          |\n",
       "| cui                                      | 38854003                                 |                                          |\n",
       "| type_ids                                 | ['91187746']                             |                                          |\n",
       "| types                                    | ['']                                     |                                          |\n",
       "| source_value                             | GTPases                                  |                                          |\n",
       "| detected_name                            | atpase                                   |                                          |\n",
       "| acc                                      | 1.0                                      |                                          |\n",
       "| context_similarity                       | 1.0                                      |                                          |\n",
       "| start                                    | 5402                                     |                                          |\n",
       "| end                                      | 5409                                     |                                          |\n",
       "| icd10                                    | []                                       |                                          |\n",
       "| ontologies                               | ['20220803_SNOMED_UK_CLINICAL_EXT']      |                                          |\n",
       "| snomed                                   | []                                       |                                          |\n",
       "| id                                       | 333                                      |                                          |\n",
       "| meta_anns (Dict[str, dict])              | 3                                        | 0                                        |"
      ],
      "text/plain": [
       "<IPython.core.display.Markdown object>"
      ]
     },
     "metadata": {},
     "output_type": "display_data"
    },
    {
     "name": "stdout",
     "output_type": "stream",
     "text": [
      "==================== \n",
      "Chemokines Updates_1. Chemokines Effective on Platelet Functions (AnnotationComparisonType.SAME_SPAN_DIFF_CONCEPT) \n",
      "====================\n"
     ]
    },
    {
     "data": {
      "text/markdown": [
       "| Path | First | Second |\n",
       "| ----- | ----- | ----- |\n",
       "| pretty_name                              | Cell count                               | Cell structure                           |\n",
       "| cui                                      | 118218001                                | 4421005                                  |\n",
       "| type_ids                                 | ['28321150']                             | ['66527446']                             |\n",
       "| types                                    | ['']                                     | ['cell structure']                       |\n",
       "| source_value                             | cell                                     | cell                                     |\n",
       "| detected_name                            | cell                                     | cell                                     |\n",
       "| acc                                      | 0.8470840838646083                       | 0.99                                     |\n",
       "| context_similarity                       | 0.8470840838646083                       | 0.99                                     |\n",
       "| start                                    | 5593                                     | 5593                                     |\n",
       "| end                                      | 5597                                     | 5597                                     |\n",
       "| icd10                                    | []                                       | []                                       |\n",
       "| ontologies                               | ['20220803_SNOMED_UK_CLINICAL_EXT']      | ['SNOMED-CT']                            |\n",
       "| snomed                                   | []                                       | []                                       |\n",
       "| id                                       | 346                                      | 341                                      |\n",
       "| meta_anns (Dict[str, dict])              | 3                                        | 0                                        |"
      ],
      "text/plain": [
       "<IPython.core.display.Markdown object>"
      ]
     },
     "metadata": {},
     "output_type": "display_data"
    },
    {
     "name": "stdout",
     "output_type": "stream",
     "text": [
      "==================== \n",
      "Chemokines Updates_1. Chemokines Effective on Platelet Functions (AnnotationComparisonType.SECOND_HAS) \n",
      "====================\n"
     ]
    },
    {
     "data": {
      "text/markdown": [
       "| Path | First | Second |\n",
       "| ----- | ----- | ----- |\n",
       "| pretty_name                              |                                          | Morphologic finding                      |\n",
       "| cui                                      |                                          | 72724002                                 |\n",
       "| type_ids                                 |                                          | ['67667581']                             |\n",
       "| types                                    |                                          | ['finding']                              |\n",
       "| source_value                             |                                          | morphology                               |\n",
       "| detected_name                            |                                          | morphology                               |\n",
       "| acc                                      |                                          | 0.7782023880401854                       |\n",
       "| context_similarity                       |                                          | 0.7782023880401854                       |\n",
       "| start                                    |                                          | 5598                                     |\n",
       "| end                                      |                                          | 5608                                     |\n",
       "| icd10                                    |                                          | ['#NC']                                  |\n",
       "| ontologies                               |                                          | ['SNOMED-CT']                            |\n",
       "| snomed                                   |                                          | []                                       |\n",
       "| id                                       |                                          | 342                                      |\n",
       "| meta_anns (Dict[str, dict])              | 0                                        | 0                                        |"
      ],
      "text/plain": [
       "<IPython.core.display.Markdown object>"
      ]
     },
     "metadata": {},
     "output_type": "display_data"
    },
    {
     "name": "stdout",
     "output_type": "stream",
     "text": [
      "==================== \n",
      "Chemokines Updates_1. Chemokines Effective on Platelet Functions (AnnotationComparisonType.FIRST_HAS) \n",
      "====================\n"
     ]
    },
    {
     "data": {
      "text/markdown": [
       "| Path | First | Second |\n",
       "| ----- | ----- | ----- |\n",
       "| pretty_name                              | Platelet factor 4 assay                  |                                          |\n",
       "| cui                                      | 103847006                                |                                          |\n",
       "| type_ids                                 | ['28321150']                             |                                          |\n",
       "| types                                    | ['']                                     |                                          |\n",
       "| source_value                             | CXCL4                                    |                                          |\n",
       "| detected_name                            | cxcl4                                    |                                          |\n",
       "| acc                                      | 1.0                                      |                                          |\n",
       "| context_similarity                       | 1.0                                      |                                          |\n",
       "| start                                    | 5695                                     |                                          |\n",
       "| end                                      | 5700                                     |                                          |\n",
       "| icd10                                    | []                                       |                                          |\n",
       "| ontologies                               | ['20220803_SNOMED_UK_CLINICAL_EXT']      |                                          |\n",
       "| snomed                                   | []                                       |                                          |\n",
       "| id                                       | 352                                      |                                          |\n",
       "| meta_anns (Dict[str, dict])              | 3                                        | 0                                        |"
      ],
      "text/plain": [
       "<IPython.core.display.Markdown object>"
      ]
     },
     "metadata": {},
     "output_type": "display_data"
    },
    {
     "name": "stdout",
     "output_type": "stream",
     "text": [
      "==================== \n",
      "Chemokines Updates_1. Chemokines Effective on Platelet Functions (AnnotationComparisonType.FIRST_HAS) \n",
      "====================\n"
     ]
    },
    {
     "data": {
      "text/markdown": [
       "| Path | First | Second |\n",
       "| ----- | ----- | ----- |\n",
       "| pretty_name                              | Mirror hands and feet co-occurrent with nasal defect |                                          |\n",
       "| cui                                      | 715440003                                |                                          |\n",
       "| type_ids                                 | ['9090192']                              |                                          |\n",
       "| types                                    | ['']                                     |                                          |\n",
       "| source_value                             | MIP                                      |                                          |\n",
       "| detected_name                            | mip                                      |                                          |\n",
       "| acc                                      | 1.0                                      |                                          |\n",
       "| context_similarity                       | 1.0                                      |                                          |\n",
       "| start                                    | 5819                                     |                                          |\n",
       "| end                                      | 5822                                     |                                          |\n",
       "| icd10                                    | ['Q87.2']                                |                                          |\n",
       "| ontologies                               | ['20220803_SNOMED_UK_CLINICAL_EXT']      |                                          |\n",
       "| snomed                                   | []                                       |                                          |\n",
       "| id                                       | 358                                      |                                          |\n",
       "| meta_anns (Dict[str, dict])              | 3                                        | 0                                        |"
      ],
      "text/plain": [
       "<IPython.core.display.Markdown object>"
      ]
     },
     "metadata": {},
     "output_type": "display_data"
    },
    {
     "name": "stdout",
     "output_type": "stream",
     "text": [
      "==================== \n",
      "Chemokines Updates_1. Chemokines Effective on Platelet Functions (AnnotationComparisonType.SAME_SPAN_DIFF_CONCEPT) \n",
      "====================\n"
     ]
    },
    {
     "data": {
      "text/markdown": [
       "| Path | First | Second |\n",
       "| ----- | ----- | ----- |\n",
       "| pretty_name                              | Recent                                   | Recent episode                           |\n",
       "| cui                                      | 6493001                                  | 263852005                                |\n",
       "| type_ids                                 | ['7882689']                              | ['7882689']                              |\n",
       "| types                                    | ['']                                     | ['qualifier value']                      |\n",
       "| source_value                             | recently                                 | recently                                 |\n",
       "| detected_name                            | recently                                 | recently                                 |\n",
       "| acc                                      | 1.0                                      | 0.8428234869097668                       |\n",
       "| context_similarity                       | 1.0                                      | 0.8428234869097668                       |\n",
       "| start                                    | 5921                                     | 5921                                     |\n",
       "| end                                      | 5929                                     | 5929                                     |\n",
       "| icd10                                    | []                                       | []                                       |\n",
       "| ontologies                               | ['20220803_SNOMED_UK_CLINICAL_EXT']      | ['SNOMED-CT']                            |\n",
       "| snomed                                   | []                                       | []                                       |\n",
       "| id                                       | 362                                      | 354                                      |\n",
       "| meta_anns (Dict[str, dict])              | 3                                        | 0                                        |"
      ],
      "text/plain": [
       "<IPython.core.display.Markdown object>"
      ]
     },
     "metadata": {},
     "output_type": "display_data"
    },
    {
     "name": "stdout",
     "output_type": "stream",
     "text": [
      "==================== \n",
      "Chemokines Updates_1. Chemokines Effective on Platelet Functions (AnnotationComparisonType.SAME_GRANDPARENT) \n",
      "====================\n"
     ]
    },
    {
     "data": {
      "text/markdown": [
       "| Path | First | Second |\n",
       "| ----- | ----- | ----- |\n",
       "| pretty_name                              | Platelet count                           | Platelet                                 |\n",
       "| cui                                      | 61928009                                 | 16378004                                 |\n",
       "| type_ids                                 | ['28321150']                             | ['66527446']                             |\n",
       "| types                                    | ['']                                     | ['cell structure']                       |\n",
       "| source_value                             | platelets                                | platelets                                |\n",
       "| detected_name                            | platelet                                 | platelet                                 |\n",
       "| acc                                      | 0.99                                     | 0.99                                     |\n",
       "| context_similarity                       | 0.99                                     | 0.99                                     |\n",
       "| start                                    | 6061                                     | 6061                                     |\n",
       "| end                                      | 6070                                     | 6070                                     |\n",
       "| icd10                                    | []                                       | []                                       |\n",
       "| ontologies                               | ['20220803_SNOMED_UK_CLINICAL_EXT']      | ['SNOMED-CT']                            |\n",
       "| snomed                                   | []                                       | []                                       |\n",
       "| id                                       | 371                                      | 363                                      |\n",
       "| meta_anns (Dict[str, dict])              | 3                                        | 0                                        |"
      ],
      "text/plain": [
       "<IPython.core.display.Markdown object>"
      ]
     },
     "metadata": {},
     "output_type": "display_data"
    },
    {
     "name": "stdout",
     "output_type": "stream",
     "text": [
      "==================== \n",
      "Chemokines Updates_1. Chemokines Effective on Platelet Functions (AnnotationComparisonType.SAME_GRANDPARENT) \n",
      "====================\n"
     ]
    },
    {
     "data": {
      "text/markdown": [
       "| Path | First | Second |\n",
       "| ----- | ----- | ----- |\n",
       "| pretty_name                              | Platelet count                           | Platelet                                 |\n",
       "| cui                                      | 61928009                                 | 16378004                                 |\n",
       "| type_ids                                 | ['28321150']                             | ['66527446']                             |\n",
       "| types                                    | ['']                                     | ['cell structure']                       |\n",
       "| source_value                             | platelets                                | platelets                                |\n",
       "| detected_name                            | platelet                                 | platelet                                 |\n",
       "| acc                                      | 0.99                                     | 0.99                                     |\n",
       "| context_similarity                       | 0.99                                     | 0.99                                     |\n",
       "| start                                    | 6077                                     | 6077                                     |\n",
       "| end                                      | 6086                                     | 6086                                     |\n",
       "| icd10                                    | []                                       | []                                       |\n",
       "| ontologies                               | ['20220803_SNOMED_UK_CLINICAL_EXT']      | ['SNOMED-CT']                            |\n",
       "| snomed                                   | []                                       | []                                       |\n",
       "| id                                       | 372                                      | 364                                      |\n",
       "| meta_anns (Dict[str, dict])              | 3                                        | 0                                        |"
      ],
      "text/plain": [
       "<IPython.core.display.Markdown object>"
      ]
     },
     "metadata": {},
     "output_type": "display_data"
    },
    {
     "name": "stdout",
     "output_type": "stream",
     "text": [
      "==================== \n",
      "Chemokines Updates_1. Chemokines Effective on Platelet Functions (AnnotationComparisonType.SAME_SPAN_DIFF_CONCEPT) \n",
      "====================\n"
     ]
    },
    {
     "data": {
      "text/markdown": [
       "| Path | First | Second |\n",
       "| ----- | ----- | ----- |\n",
       "| pretty_name                              | Plasma                                   | Blood plasma                             |\n",
       "| cui                                      | 50863008                                 | 419185008                                |\n",
       "| type_ids                                 | ['91187746']                             | ['91776366']                             |\n",
       "| types                                    | ['']                                     | ['product']                              |\n",
       "| source_value                             | plasma                                   | plasma                                   |\n",
       "| detected_name                            | plasma                                   | plasma                                   |\n",
       "| acc                                      | 0.6689402468353156                       | 0.8034555247384019                       |\n",
       "| context_similarity                       | 0.6689402468353156                       | 0.8034555247384019                       |\n",
       "| start                                    | 6090                                     | 6090                                     |\n",
       "| end                                      | 6096                                     | 6096                                     |\n",
       "| icd10                                    | []                                       | []                                       |\n",
       "| ontologies                               | ['20220803_SNOMED_UK_CLINICAL_EXT']      | ['SNOMED-CT']                            |\n",
       "| snomed                                   | []                                       | []                                       |\n",
       "| id                                       | 373                                      | 365                                      |\n",
       "| meta_anns (Dict[str, dict])              | 3                                        | 0                                        |"
      ],
      "text/plain": [
       "<IPython.core.display.Markdown object>"
      ]
     },
     "metadata": {},
     "output_type": "display_data"
    },
    {
     "name": "stdout",
     "output_type": "stream",
     "text": [
      "==================== \n",
      "Chemokines Updates_1. Chemokines Effective on Platelet Functions (AnnotationComparisonType.SECOND_HAS) \n",
      "====================\n"
     ]
    },
    {
     "data": {
      "text/markdown": [
       "| Path | First | Second |\n",
       "| ----- | ----- | ----- |\n",
       "| pretty_name                              |                                          | Does reach                               |\n",
       "| cui                                      |                                          | 282679008                                |\n",
       "| type_ids                                 |                                          | ['67667581']                             |\n",
       "| types                                    |                                          | ['finding']                              |\n",
       "| source_value                             |                                          | reach                                    |\n",
       "| detected_name                            |                                          | reach                                    |\n",
       "| acc                                      |                                          | 1.0                                      |\n",
       "| context_similarity                       |                                          | 1.0                                      |\n",
       "| start                                    |                                          | 6161                                     |\n",
       "| end                                      |                                          | 6166                                     |\n",
       "| icd10                                    |                                          | ['#NC']                                  |\n",
       "| ontologies                               |                                          | ['SNOMED-CT']                            |\n",
       "| snomed                                   |                                          | []                                       |\n",
       "| id                                       |                                          | 368                                      |\n",
       "| meta_anns (Dict[str, dict])              | 0                                        | 0                                        |"
      ],
      "text/plain": [
       "<IPython.core.display.Markdown object>"
      ]
     },
     "metadata": {},
     "output_type": "display_data"
    },
    {
     "name": "stdout",
     "output_type": "stream",
     "text": [
      "==================== \n",
      "Chemokines Updates_1. Chemokines Effective on Platelet Functions (AnnotationComparisonType.SAME_SPAN_DIFF_CONCEPT) \n",
      "====================\n"
     ]
    },
    {
     "data": {
      "text/markdown": [
       "| Path | First | Second |\n",
       "| ----- | ----- | ----- |\n",
       "| pretty_name                              | Function                                 | Function                                 |\n",
       "| cui                                      | 246464006                                | 277064003                                |\n",
       "| type_ids                                 | ['2680757']                              | ['43039974']                             |\n",
       "| types                                    | ['']                                     | ['attribute']                            |\n",
       "| source_value                             | functions                                | functions                                |\n",
       "| detected_name                            | function                                 | function                                 |\n",
       "| acc                                      | 0.5000305329040349                       | 0.6358226415188041                       |\n",
       "| context_similarity                       | 0.5000305329040349                       | 0.6358226415188041                       |\n",
       "| start                                    | 6404                                     | 6404                                     |\n",
       "| end                                      | 6413                                     | 6413                                     |\n",
       "| icd10                                    | []                                       | []                                       |\n",
       "| ontologies                               | ['20220803_SNOMED_UK_CLINICAL_EXT']      | ['SNOMED-CT']                            |\n",
       "| snomed                                   | []                                       | []                                       |\n",
       "| id                                       | 398                                      | 390                                      |\n",
       "| meta_anns (Dict[str, dict])              | 3                                        | 0                                        |"
      ],
      "text/plain": [
       "<IPython.core.display.Markdown object>"
      ]
     },
     "metadata": {},
     "output_type": "display_data"
    },
    {
     "name": "stdout",
     "output_type": "stream",
     "text": [
      "==================== \n",
      "Chemokines Updates_1. Chemokines Effective on Platelet Functions (AnnotationComparisonType.SAME_SPAN_DIFF_CONCEPT) \n",
      "====================\n"
     ]
    },
    {
     "data": {
      "text/markdown": [
       "| Path | First | Second |\n",
       "| ----- | ----- | ----- |\n",
       "| pretty_name                              | Cell count                               | Cell structure                           |\n",
       "| cui                                      | 118218001                                | 4421005                                  |\n",
       "| type_ids                                 | ['28321150']                             | ['66527446']                             |\n",
       "| types                                    | ['']                                     | ['cell structure']                       |\n",
       "| source_value                             | cell                                     | cell                                     |\n",
       "| detected_name                            | cell                                     | cell                                     |\n",
       "| acc                                      | 0.8247313606983702                       | 0.99                                     |\n",
       "| context_similarity                       | 0.8247313606983702                       | 0.99                                     |\n",
       "| start                                    | 6440                                     | 6440                                     |\n",
       "| end                                      | 6444                                     | 6444                                     |\n",
       "| icd10                                    | []                                       | []                                       |\n",
       "| ontologies                               | ['20220803_SNOMED_UK_CLINICAL_EXT']      | ['SNOMED-CT']                            |\n",
       "| snomed                                   | []                                       | []                                       |\n",
       "| id                                       | 401                                      | 393                                      |\n",
       "| meta_anns (Dict[str, dict])              | 3                                        | 0                                        |"
      ],
      "text/plain": [
       "<IPython.core.display.Markdown object>"
      ]
     },
     "metadata": {},
     "output_type": "display_data"
    },
    {
     "name": "stdout",
     "output_type": "stream",
     "text": [
      "==================== \n",
      "Chemokines Updates_1. Chemokines Effective on Platelet Functions (AnnotationComparisonType.SAME_SPAN_DIFF_CONCEPT) \n",
      "====================\n"
     ]
    },
    {
     "data": {
      "text/markdown": [
       "| Path | First | Second |\n",
       "| ----- | ----- | ----- |\n",
       "| pretty_name                              | Family                                   | Surname                                  |\n",
       "| cui                                      | 35359004                                 | 397678008                                |\n",
       "| type_ids                                 | ['13371933']                             | ['2680757']                              |\n",
       "| types                                    | ['']                                     | ['observable entity']                    |\n",
       "| source_value                             | family                                   | family                                   |\n",
       "| detected_name                            | family                                   | family                                   |\n",
       "| acc                                      | 0.946910236695772                        | 0.4837848753762709                       |\n",
       "| context_similarity                       | 0.946910236695772                        | 0.4837848753762709                       |\n",
       "| start                                    | 6614                                     | 6614                                     |\n",
       "| end                                      | 6620                                     | 6620                                     |\n",
       "| icd10                                    | []                                       | []                                       |\n",
       "| ontologies                               | ['20220803_SNOMED_UK_CLINICAL_EXT']      | ['SNOMED-CT']                            |\n",
       "| snomed                                   | []                                       | []                                       |\n",
       "| id                                       | 410                                      | 402                                      |\n",
       "| meta_anns (Dict[str, dict])              | 3                                        | 0                                        |"
      ],
      "text/plain": [
       "<IPython.core.display.Markdown object>"
      ]
     },
     "metadata": {},
     "output_type": "display_data"
    },
    {
     "name": "stdout",
     "output_type": "stream",
     "text": [
      "==================== \n",
      "Chemokines Updates_1. Chemokines Effective on Platelet Functions (AnnotationComparisonType.FIRST_HAS) \n",
      "====================\n"
     ]
    },
    {
     "data": {
      "text/markdown": [
       "| Path | First | Second |\n",
       "| ----- | ----- | ----- |\n",
       "| pretty_name                              | Anaphylatoxin                            |                                          |\n",
       "| cui                                      | 44369002                                 |                                          |\n",
       "| type_ids                                 | ['91187746']                             |                                          |\n",
       "| types                                    | ['']                                     |                                          |\n",
       "| source_value                             | chemoattractant                          |                                          |\n",
       "| detected_name                            | chemoattractant                          |                                          |\n",
       "| acc                                      | 1.0                                      |                                          |\n",
       "| context_similarity                       | 1.0                                      |                                          |\n",
       "| start                                    | 6636                                     |                                          |\n",
       "| end                                      | 6651                                     |                                          |\n",
       "| icd10                                    | []                                       |                                          |\n",
       "| ontologies                               | ['20220803_SNOMED_UK_CLINICAL_EXT']      |                                          |\n",
       "| snomed                                   | []                                       |                                          |\n",
       "| id                                       | 411                                      |                                          |\n",
       "| meta_anns (Dict[str, dict])              | 3                                        | 0                                        |"
      ],
      "text/plain": [
       "<IPython.core.display.Markdown object>"
      ]
     },
     "metadata": {},
     "output_type": "display_data"
    },
    {
     "name": "stdout",
     "output_type": "stream",
     "text": [
      "==================== \n",
      "Chemokines Updates_1. Chemokines Effective on Platelet Functions (AnnotationComparisonType.SAME_SPAN_DIFF_CONCEPT) \n",
      "====================\n"
     ]
    },
    {
     "data": {
      "text/markdown": [
       "| Path | First | Second |\n",
       "| ----- | ----- | ----- |\n",
       "| pretty_name                              | Cell count                               | Cell structure                           |\n",
       "| cui                                      | 118218001                                | 4421005                                  |\n",
       "| type_ids                                 | ['28321150']                             | ['66527446']                             |\n",
       "| types                                    | ['']                                     | ['cell structure']                       |\n",
       "| source_value                             | cells                                    | cells                                    |\n",
       "| detected_name                            | cell                                     | cell                                     |\n",
       "| acc                                      | 0.8443655829087031                       | 0.99                                     |\n",
       "| context_similarity                       | 0.8443655829087031                       | 0.99                                     |\n",
       "| start                                    | 6671                                     | 6671                                     |\n",
       "| end                                      | 6676                                     | 6676                                     |\n",
       "| icd10                                    | []                                       | []                                       |\n",
       "| ontologies                               | ['20220803_SNOMED_UK_CLINICAL_EXT']      | ['SNOMED-CT']                            |\n",
       "| snomed                                   | []                                       | []                                       |\n",
       "| id                                       | 413                                      | 404                                      |\n",
       "| meta_anns (Dict[str, dict])              | 3                                        | 0                                        |"
      ],
      "text/plain": [
       "<IPython.core.display.Markdown object>"
      ]
     },
     "metadata": {},
     "output_type": "display_data"
    },
    {
     "name": "stdout",
     "output_type": "stream",
     "text": [
      "==================== \n",
      "Chemokines Updates_1. Chemokines Effective on Platelet Functions (AnnotationComparisonType.SAME_SPAN_DIFF_CONCEPT) \n",
      "====================\n"
     ]
    },
    {
     "data": {
      "text/markdown": [
       "| Path | First | Second |\n",
       "| ----- | ----- | ----- |\n",
       "| pretty_name                              | Cell count                               | Cell structure                           |\n",
       "| cui                                      | 118218001                                | 4421005                                  |\n",
       "| type_ids                                 | ['28321150']                             | ['66527446']                             |\n",
       "| types                                    | ['']                                     | ['cell structure']                       |\n",
       "| source_value                             | cells                                    | cells                                    |\n",
       "| detected_name                            | cell                                     | cell                                     |\n",
       "| acc                                      | 0.716255387572472                        | 0.99                                     |\n",
       "| context_similarity                       | 0.716255387572472                        | 0.99                                     |\n",
       "| start                                    | 6729                                     | 6729                                     |\n",
       "| end                                      | 6734                                     | 6734                                     |\n",
       "| icd10                                    | []                                       | []                                       |\n",
       "| ontologies                               | ['20220803_SNOMED_UK_CLINICAL_EXT']      | ['SNOMED-CT']                            |\n",
       "| snomed                                   | []                                       | []                                       |\n",
       "| id                                       | 415                                      | 406                                      |\n",
       "| meta_anns (Dict[str, dict])              | 3                                        | 0                                        |"
      ],
      "text/plain": [
       "<IPython.core.display.Markdown object>"
      ]
     },
     "metadata": {},
     "output_type": "display_data"
    },
    {
     "name": "stdout",
     "output_type": "stream",
     "text": [
      "==================== \n",
      "Chemokines Updates_1. Chemokines Effective on Platelet Functions (AnnotationComparisonType.SAME_PARENT) \n",
      "====================\n"
     ]
    },
    {
     "data": {
      "text/markdown": [
       "| Path | First | Second |\n",
       "| ----- | ----- | ----- |\n",
       "| pretty_name                              | Musculoskeletal infective disorder       | Infectious disease                       |\n",
       "| cui                                      | 312154004                                | 40733004                                 |\n",
       "| type_ids                                 | ['9090192']                              | ['9090192']                              |\n",
       "| types                                    | ['']                                     | ['disorder']                             |\n",
       "| source_value                             | infection                                | infection                                |\n",
       "| detected_name                            | infection                                | infection                                |\n",
       "| acc                                      | 0.3336229131215412                       | 0.8866091212940161                       |\n",
       "| context_similarity                       | 0.3336229131215412                       | 0.8866091212940161                       |\n",
       "| start                                    | 6761                                     | 6761                                     |\n",
       "| end                                      | 6770                                     | 6770                                     |\n",
       "| icd10                                    | ['']                                     | ['B99X']                                 |\n",
       "| ontologies                               | ['20220803_SNOMED_UK_CLINICAL_EXT']      | ['SNOMED-CT']                            |\n",
       "| snomed                                   | []                                       | []                                       |\n",
       "| id                                       | 419                                      | 410                                      |\n",
       "| meta_anns (Dict[str, dict])              | 3                                        | 0                                        |"
      ],
      "text/plain": [
       "<IPython.core.display.Markdown object>"
      ]
     },
     "metadata": {},
     "output_type": "display_data"
    },
    {
     "name": "stdout",
     "output_type": "stream",
     "text": [
      "==================== \n",
      "Chemokines Updates_1. Chemokines Effective on Platelet Functions (AnnotationComparisonType.FIRST_HAS) \n",
      "====================\n"
     ]
    },
    {
     "data": {
      "text/markdown": [
       "| Path | First | Second |\n",
       "| ----- | ----- | ----- |\n",
       "| pretty_name                              | Previous                                 |                                          |\n",
       "| cui                                      | 9130008                                  |                                          |\n",
       "| type_ids                                 | ['7882689']                              |                                          |\n",
       "| types                                    | ['']                                     |                                          |\n",
       "| source_value                             | previously                               |                                          |\n",
       "| detected_name                            | previously                               |                                          |\n",
       "| acc                                      | 1.0                                      |                                          |\n",
       "| context_similarity                       | 1.0                                      |                                          |\n",
       "| start                                    | 6862                                     |                                          |\n",
       "| end                                      | 6872                                     |                                          |\n",
       "| icd10                                    | []                                       |                                          |\n",
       "| ontologies                               | ['20220803_SNOMED_UK_CLINICAL_EXT']      |                                          |\n",
       "| snomed                                   | []                                       |                                          |\n",
       "| id                                       | 424                                      |                                          |\n",
       "| meta_anns (Dict[str, dict])              | 3                                        | 0                                        |"
      ],
      "text/plain": [
       "<IPython.core.display.Markdown object>"
      ]
     },
     "metadata": {},
     "output_type": "display_data"
    },
    {
     "name": "stdout",
     "output_type": "stream",
     "text": [
      "==================== \n",
      "Chemokines Updates_1. Chemokines Effective on Platelet Functions (AnnotationComparisonType.FIRST_HAS) \n",
      "====================\n"
     ]
    },
    {
     "data": {
      "text/markdown": [
       "| Path | First | Second |\n",
       "| ----- | ----- | ----- |\n",
       "| pretty_name                              | Malignant melanoma                       |                                          |\n",
       "| cui                                      | 372244006                                |                                          |\n",
       "| type_ids                                 | ['9090192']                              |                                          |\n",
       "| types                                    | ['']                                     |                                          |\n",
       "| source_value                             | melanoma                                 |                                          |\n",
       "| detected_name                            | melanoma                                 |                                          |\n",
       "| acc                                      | 0.4642216193413641                       |                                          |\n",
       "| context_similarity                       | 0.4642216193413641                       |                                          |\n",
       "| start                                    | 6946                                     |                                          |\n",
       "| end                                      | 6954                                     |                                          |\n",
       "| icd10                                    | ['C43.9']                                |                                          |\n",
       "| ontologies                               | ['20220803_SNOMED_UK_CLINICAL_EXT']      |                                          |\n",
       "| snomed                                   | []                                       |                                          |\n",
       "| id                                       | 430                                      |                                          |\n",
       "| meta_anns (Dict[str, dict])              | 3                                        | 0                                        |"
      ],
      "text/plain": [
       "<IPython.core.display.Markdown object>"
      ]
     },
     "metadata": {},
     "output_type": "display_data"
    },
    {
     "name": "stdout",
     "output_type": "stream",
     "text": [
      "==================== \n",
      "Chemokines Updates_1. Chemokines Effective on Platelet Functions (AnnotationComparisonType.FIRST_HAS) \n",
      "====================\n"
     ]
    },
    {
     "data": {
      "text/markdown": [
       "| Path | First | Second |\n",
       "| ----- | ----- | ----- |\n",
       "| pretty_name                              | Anaphylatoxin                            |                                          |\n",
       "| cui                                      | 44369002                                 |                                          |\n",
       "| type_ids                                 | ['91187746']                             |                                          |\n",
       "| types                                    | ['']                                     |                                          |\n",
       "| source_value                             | chemoattractant                          |                                          |\n",
       "| detected_name                            | chemoattractant                          |                                          |\n",
       "| acc                                      | 1.0                                      |                                          |\n",
       "| context_similarity                       | 1.0                                      |                                          |\n",
       "| start                                    | 7096                                     |                                          |\n",
       "| end                                      | 7111                                     |                                          |\n",
       "| icd10                                    | []                                       |                                          |\n",
       "| ontologies                               | ['20220803_SNOMED_UK_CLINICAL_EXT']      |                                          |\n",
       "| snomed                                   | []                                       |                                          |\n",
       "| id                                       | 442                                      |                                          |\n",
       "| meta_anns (Dict[str, dict])              | 3                                        | 0                                        |"
      ],
      "text/plain": [
       "<IPython.core.display.Markdown object>"
      ]
     },
     "metadata": {},
     "output_type": "display_data"
    },
    {
     "name": "stdout",
     "output_type": "stream",
     "text": [
      "==================== \n",
      "Chemokines Updates_1. Chemokines Effective on Platelet Functions (AnnotationComparisonType.OVERLAPP_2ND_LARGER_DIFF_CONCEPT) \n",
      "====================\n"
     ]
    },
    {
     "data": {
      "text/markdown": [
       "| Path | First | Second |\n",
       "| ----- | ----- | ----- |\n",
       "| pretty_name                              | Genus Homo                               | Chromosome pair 4                        |\n",
       "| cui                                      | 389228009                                | 78901007                                 |\n",
       "| type_ids                                 | ['81102976']                             | ['66527446']                             |\n",
       "| types                                    | ['']                                     | ['cell structure']                       |\n",
       "| source_value                             | human                                    | human chromosome 4                       |\n",
       "| detected_name                            | human                                    | human~chromosome~4                       |\n",
       "| acc                                      | 0.36513465459000255                      | 1.0                                      |\n",
       "| context_similarity                       | 0.36513465459000255                      | 1.0                                      |\n",
       "| start                                    | 7209                                     | 7209                                     |\n",
       "| end                                      | 7214                                     | 7227                                     |\n",
       "| icd10                                    | []                                       | []                                       |\n",
       "| ontologies                               | ['20220803_SNOMED_UK_CLINICAL_EXT']      | ['SNOMED-CT']                            |\n",
       "| snomed                                   | []                                       | []                                       |\n",
       "| id                                       | 449                                      | 436                                      |\n",
       "| meta_anns (Dict[str, dict])              | 3                                        | 0                                        |"
      ],
      "text/plain": [
       "<IPython.core.display.Markdown object>"
      ]
     },
     "metadata": {},
     "output_type": "display_data"
    },
    {
     "name": "stdout",
     "output_type": "stream",
     "text": [
      "==================== \n",
      "Chemokines Updates_1. Chemokines Effective on Platelet Functions (AnnotationComparisonType.FIRST_HAS) \n",
      "====================\n"
     ]
    },
    {
     "data": {
      "text/markdown": [
       "| Path | First | Second |\n",
       "| ----- | ----- | ----- |\n",
       "| pretty_name                              | Chromosome pair 4                        |                                          |\n",
       "| cui                                      | 78901007                                 |                                          |\n",
       "| type_ids                                 | ['66527446']                             |                                          |\n",
       "| types                                    | ['']                                     |                                          |\n",
       "| source_value                             | chromosome 4                             |                                          |\n",
       "| detected_name                            | chromosome~4                             |                                          |\n",
       "| acc                                      | 1.0                                      |                                          |\n",
       "| context_similarity                       | 1.0                                      |                                          |\n",
       "| start                                    | 7215                                     |                                          |\n",
       "| end                                      | 7227                                     |                                          |\n",
       "| icd10                                    | []                                       |                                          |\n",
       "| ontologies                               | ['20220803_SNOMED_UK_CLINICAL_EXT']      |                                          |\n",
       "| snomed                                   | []                                       |                                          |\n",
       "| id                                       | 451                                      |                                          |\n",
       "| meta_anns (Dict[str, dict])              | 3                                        | 0                                        |"
      ],
      "text/plain": [
       "<IPython.core.display.Markdown object>"
      ]
     },
     "metadata": {},
     "output_type": "display_data"
    },
    {
     "name": "stdout",
     "output_type": "stream",
     "text": [
      "==================== \n",
      "Chemokines Updates_1. Chemokines Effective on Platelet Functions (AnnotationComparisonType.FIRST_HAS) \n",
      "====================\n"
     ]
    },
    {
     "data": {
      "text/markdown": [
       "| Path | First | Second |\n",
       "| ----- | ----- | ----- |\n",
       "| pretty_name                              | Mirror hands and feet co-occurrent with nasal defect |                                          |\n",
       "| cui                                      | 715440003                                |                                          |\n",
       "| type_ids                                 | ['9090192']                              |                                          |\n",
       "| types                                    | ['']                                     |                                          |\n",
       "| source_value                             | MIP                                      |                                          |\n",
       "| detected_name                            | mip                                      |                                          |\n",
       "| acc                                      | 1.0                                      |                                          |\n",
       "| context_similarity                       | 1.0                                      |                                          |\n",
       "| start                                    | 7369                                     |                                          |\n",
       "| end                                      | 7372                                     |                                          |\n",
       "| icd10                                    | ['Q87.2']                                |                                          |\n",
       "| ontologies                               | ['20220803_SNOMED_UK_CLINICAL_EXT']      |                                          |\n",
       "| snomed                                   | []                                       |                                          |\n",
       "| id                                       | 458                                      |                                          |\n",
       "| meta_anns (Dict[str, dict])              | 3                                        | 0                                        |"
      ],
      "text/plain": [
       "<IPython.core.display.Markdown object>"
      ]
     },
     "metadata": {},
     "output_type": "display_data"
    },
    {
     "name": "stdout",
     "output_type": "stream",
     "text": [
      "==================== \n",
      "Chemokines Updates_1. Chemokines Effective on Platelet Functions (AnnotationComparisonType.OVERLAPP_2ND_LARGER_DIFF_CONCEPT) \n",
      "====================\n"
     ]
    },
    {
     "data": {
      "text/markdown": [
       "| Path | First | Second |\n",
       "| ----- | ----- | ----- |\n",
       "| pretty_name                              | Leukocyte                                | Segmented neutrophil                     |\n",
       "| cui                                      | 52501007                                 | 80153006                                 |\n",
       "| type_ids                                 | ['99220404']                             | ['99220404']                             |\n",
       "| types                                    | ['']                                     | ['cell']                                 |\n",
       "| source_value                             | leukocytes                               | polymorphonuclear leukocytes             |\n",
       "| detected_name                            | leukocyte                                | polymorphonuclear~leukocyte              |\n",
       "| acc                                      | 0.5085421030119415                       | 0.4422972886168778                       |\n",
       "| context_similarity                       | 0.5085421030119415                       | 0.4422972886168778                       |\n",
       "| start                                    | 7564                                     | 7546                                     |\n",
       "| end                                      | 7574                                     | 7574                                     |\n",
       "| icd10                                    | []                                       | []                                       |\n",
       "| ontologies                               | ['20220803_SNOMED_UK_CLINICAL_EXT']      | ['SNOMED-CT']                            |\n",
       "| snomed                                   | []                                       | []                                       |\n",
       "| id                                       | 468                                      | 454                                      |\n",
       "| meta_anns (Dict[str, dict])              | 3                                        | 0                                        |"
      ],
      "text/plain": [
       "<IPython.core.display.Markdown object>"
      ]
     },
     "metadata": {},
     "output_type": "display_data"
    },
    {
     "name": "stdout",
     "output_type": "stream",
     "text": [
      "==================== \n",
      "Chemokines Updates_1. Chemokines Effective on Platelet Functions (AnnotationComparisonType.SECOND_HAS) \n",
      "====================\n"
     ]
    },
    {
     "data": {
      "text/markdown": [
       "| Path | First | Second |\n",
       "| ----- | ----- | ----- |\n",
       "| pretty_name                              |                                          | Acuteness                                |\n",
       "| cui                                      |                                          | 272118002                                |\n",
       "| type_ids                                 |                                          | ['7882689']                              |\n",
       "| types                                    |                                          | ['qualifier value']                      |\n",
       "| source_value                             |                                          | acute                                    |\n",
       "| detected_name                            |                                          | acute                                    |\n",
       "| acc                                      |                                          | 1.0                                      |\n",
       "| context_similarity                       |                                          | 1.0                                      |\n",
       "| start                                    |                                          | 7579                                     |\n",
       "| end                                      |                                          | 7584                                     |\n",
       "| icd10                                    |                                          | []                                       |\n",
       "| ontologies                               |                                          | ['SNOMED-CT']                            |\n",
       "| snomed                                   |                                          | []                                       |\n",
       "| id                                       |                                          | 456                                      |\n",
       "| meta_anns (Dict[str, dict])              | 0                                        | 0                                        |"
      ],
      "text/plain": [
       "<IPython.core.display.Markdown object>"
      ]
     },
     "metadata": {},
     "output_type": "display_data"
    },
    {
     "name": "stdout",
     "output_type": "stream",
     "text": [
      "==================== \n",
      "Chemokines Updates_1. Chemokines Effective on Platelet Functions (AnnotationComparisonType.SAME_SPAN_DIFF_CONCEPT) \n",
      "====================\n"
     ]
    },
    {
     "data": {
      "text/markdown": [
       "| Path | First | Second |\n",
       "| ----- | ----- | ----- |\n",
       "| pretty_name                              | Disease                                  | Condition                                |\n",
       "| cui                                      | 64572001                                 | 260905004                                |\n",
       "| type_ids                                 | ['9090192']                              | ['43039974']                             |\n",
       "| types                                    | ['']                                     | ['attribute']                            |\n",
       "| source_value                             | conditions                               | conditions                               |\n",
       "| detected_name                            | condition                                | condition                                |\n",
       "| acc                                      | 0.5095080329615806                       | 1.0                                      |\n",
       "| context_similarity                       | 0.5095080329615806                       | 1.0                                      |\n",
       "| start                                    | 7598                                     | 7598                                     |\n",
       "| end                                      | 7608                                     | 7608                                     |\n",
       "| icd10                                    | ['']                                     | []                                       |\n",
       "| ontologies                               | ['20220803_SNOMED_UK_CLINICAL_EXT']      | ['SNOMED-CT']                            |\n",
       "| snomed                                   | []                                       | []                                       |\n",
       "| id                                       | 470                                      | 457                                      |\n",
       "| meta_anns (Dict[str, dict])              | 3                                        | 0                                        |"
      ],
      "text/plain": [
       "<IPython.core.display.Markdown object>"
      ]
     },
     "metadata": {},
     "output_type": "display_data"
    },
    {
     "name": "stdout",
     "output_type": "stream",
     "text": [
      "==================== \n",
      "Chemokines Updates_1. Chemokines Effective on Platelet Functions (AnnotationComparisonType.FIRST_HAS) \n",
      "====================\n"
     ]
    },
    {
     "data": {
      "text/markdown": [
       "| Path | First | Second |\n",
       "| ----- | ----- | ----- |\n",
       "| pretty_name                              | Amyloid light-chain amyloidosis          |                                          |\n",
       "| cui                                      | 23132008                                 |                                          |\n",
       "| type_ids                                 | ['9090192']                              |                                          |\n",
       "| types                                    | ['']                                     |                                          |\n",
       "| source_value                             | al                                       |                                          |\n",
       "| detected_name                            | al                                       |                                          |\n",
       "| acc                                      | 0.37406901500118966                      |                                          |\n",
       "| context_similarity                       | 0.37406901500118966                      |                                          |\n",
       "| start                                    | 7620                                     |                                          |\n",
       "| end                                      | 7622                                     |                                          |\n",
       "| icd10                                    | ['E85.8', 'D80.8']                       |                                          |\n",
       "| ontologies                               | ['20220803_SNOMED_UK_CLINICAL_EXT']      |                                          |\n",
       "| snomed                                   | []                                       |                                          |\n",
       "| id                                       | 473                                      |                                          |\n",
       "| meta_anns (Dict[str, dict])              | 3                                        | 0                                        |"
      ],
      "text/plain": [
       "<IPython.core.display.Markdown object>"
      ]
     },
     "metadata": {},
     "output_type": "display_data"
    },
    {
     "name": "stdout",
     "output_type": "stream",
     "text": [
      "==================== \n",
      "Chemokines Updates_1. Chemokines Effective on Platelet Functions (AnnotationComparisonType.FIRST_HAS) \n",
      "====================\n"
     ]
    },
    {
     "data": {
      "text/markdown": [
       "| Path | First | Second |\n",
       "| ----- | ----- | ----- |\n",
       "| pretty_name                              | Mirror hands and feet co-occurrent with nasal defect |                                          |\n",
       "| cui                                      | 715440003                                |                                          |\n",
       "| type_ids                                 | ['9090192']                              |                                          |\n",
       "| types                                    | ['']                                     |                                          |\n",
       "| source_value                             | MIP                                      |                                          |\n",
       "| detected_name                            | mip                                      |                                          |\n",
       "| acc                                      | 1.0                                      |                                          |\n",
       "| context_similarity                       | 1.0                                      |                                          |\n",
       "| start                                    | 7660                                     |                                          |\n",
       "| end                                      | 7663                                     |                                          |\n",
       "| icd10                                    | ['Q87.2']                                |                                          |\n",
       "| ontologies                               | ['20220803_SNOMED_UK_CLINICAL_EXT']      |                                          |\n",
       "| snomed                                   | []                                       |                                          |\n",
       "| id                                       | 475                                      |                                          |\n",
       "| meta_anns (Dict[str, dict])              | 3                                        | 0                                        |"
      ],
      "text/plain": [
       "<IPython.core.display.Markdown object>"
      ]
     },
     "metadata": {},
     "output_type": "display_data"
    },
    {
     "name": "stdout",
     "output_type": "stream",
     "text": [
      "==================== \n",
      "Chemokines Updates_1. Chemokines Effective on Platelet Functions (AnnotationComparisonType.SECOND_HAS) \n",
      "====================\n"
     ]
    },
    {
     "data": {
      "text/markdown": [
       "| Path | First | Second |\n",
       "| ----- | ----- | ----- |\n",
       "| pretty_name                              |                                          | Rapidly                                  |\n",
       "| cui                                      |                                          | 418694008                                |\n",
       "| type_ids                                 |                                          | ['7882689']                              |\n",
       "| types                                    |                                          | ['qualifier value']                      |\n",
       "| source_value                             |                                          | rapid                                    |\n",
       "| detected_name                            |                                          | rapid                                    |\n",
       "| acc                                      |                                          | 0.99                                     |\n",
       "| context_similarity                       |                                          | 0.99                                     |\n",
       "| start                                    |                                          | 7721                                     |\n",
       "| end                                      |                                          | 7726                                     |\n",
       "| icd10                                    |                                          | []                                       |\n",
       "| ontologies                               |                                          | ['SNOMED-CT']                            |\n",
       "| snomed                                   |                                          | []                                       |\n",
       "| id                                       |                                          | 464                                      |\n",
       "| meta_anns (Dict[str, dict])              | 0                                        | 0                                        |"
      ],
      "text/plain": [
       "<IPython.core.display.Markdown object>"
      ]
     },
     "metadata": {},
     "output_type": "display_data"
    },
    {
     "name": "stdout",
     "output_type": "stream",
     "text": [
      "==================== \n",
      "Chemokines Updates_1. Chemokines Effective on Platelet Functions (AnnotationComparisonType.SAME_SPAN_DIFF_CONCEPT) \n",
      "====================\n"
     ]
    },
    {
     "data": {
      "text/markdown": [
       "| Path | First | Second |\n",
       "| ----- | ----- | ----- |\n",
       "| pretty_name                              | Onsets                                   | Onset of (contextual qualifier)          |\n",
       "| cui                                      | 370139004                                | 77374008                                 |\n",
       "| type_ids                                 | ['7882689']                              | ['7882689']                              |\n",
       "| types                                    | ['']                                     | ['qualifier value']                      |\n",
       "| source_value                             | onset                                    | onset                                    |\n",
       "| detected_name                            | onset                                    | onset                                    |\n",
       "| acc                                      | 0.670152996367639                        | 0.99                                     |\n",
       "| context_similarity                       | 0.670152996367639                        | 0.99                                     |\n",
       "| start                                    | 7727                                     | 7727                                     |\n",
       "| end                                      | 7732                                     | 7732                                     |\n",
       "| icd10                                    | []                                       | []                                       |\n",
       "| ontologies                               | ['20220803_SNOMED_UK_CLINICAL_EXT']      | ['SNOMED-CT']                            |\n",
       "| snomed                                   | []                                       | []                                       |\n",
       "| id                                       | 480                                      | 465                                      |\n",
       "| meta_anns (Dict[str, dict])              | 3                                        | 0                                        |"
      ],
      "text/plain": [
       "<IPython.core.display.Markdown object>"
      ]
     },
     "metadata": {},
     "output_type": "display_data"
    },
    {
     "name": "stdout",
     "output_type": "stream",
     "text": [
      "==================== \n",
      "Chemokines Updates_1. Chemokines Effective on Platelet Functions (AnnotationComparisonType.OVERLAPP_1ST_LARGER_DIFF_CONCEPT) \n",
      "====================\n"
     ]
    },
    {
     "data": {
      "text/markdown": [
       "| Path | First | Second |\n",
       "| ----- | ----- | ----- |\n",
       "| pretty_name                              | Tumor necrosis factor                    | Tumor necrosis                           |\n",
       "| cui                                      | 8612007                                  | 34823008                                 |\n",
       "| type_ids                                 | ['91187746']                             | ['33782986']                             |\n",
       "| types                                    | ['']                                     | ['morphologic abnormality']              |\n",
       "| source_value                             | tumor necrosis factor                    | tumor necrosis                           |\n",
       "| detected_name                            | tumor~necrosis~factor                    | tumor~necrosis                           |\n",
       "| acc                                      | 1.0                                      | 1.0                                      |\n",
       "| context_similarity                       | 1.0                                      | 1.0                                      |\n",
       "| start                                    | 7833                                     | 7833                                     |\n",
       "| end                                      | 7854                                     | 7847                                     |\n",
       "| icd10                                    | []                                       | []                                       |\n",
       "| ontologies                               | ['20220803_SNOMED_UK_CLINICAL_EXT']      | ['SNOMED-CT']                            |\n",
       "| snomed                                   | []                                       | []                                       |\n",
       "| id                                       | 494                                      | 477                                      |\n",
       "| meta_anns (Dict[str, dict])              | 3                                        | 0                                        |"
      ],
      "text/plain": [
       "<IPython.core.display.Markdown object>"
      ]
     },
     "metadata": {},
     "output_type": "display_data"
    },
    {
     "name": "stdout",
     "output_type": "stream",
     "text": [
      "==================== \n",
      "Chemokines Updates_1. Chemokines Effective on Platelet Functions (AnnotationComparisonType.FIRST_HAS) \n",
      "====================\n"
     ]
    },
    {
     "data": {
      "text/markdown": [
       "| Path | First | Second |\n",
       "| ----- | ----- | ----- |\n",
       "| pretty_name                              | Mirror hands and feet co-occurrent with nasal defect |                                          |\n",
       "| cui                                      | 715440003                                |                                          |\n",
       "| type_ids                                 | ['9090192']                              |                                          |\n",
       "| types                                    | ['']                                     |                                          |\n",
       "| source_value                             | MIP                                      |                                          |\n",
       "| detected_name                            | mip                                      |                                          |\n",
       "| acc                                      | 1.0                                      |                                          |\n",
       "| context_similarity                       | 1.0                                      |                                          |\n",
       "| start                                    | 7939                                     |                                          |\n",
       "| end                                      | 7942                                     |                                          |\n",
       "| icd10                                    | ['Q87.2']                                |                                          |\n",
       "| ontologies                               | ['20220803_SNOMED_UK_CLINICAL_EXT']      |                                          |\n",
       "| snomed                                   | []                                       |                                          |\n",
       "| id                                       | 502                                      |                                          |\n",
       "| meta_anns (Dict[str, dict])              | 3                                        | 0                                        |"
      ],
      "text/plain": [
       "<IPython.core.display.Markdown object>"
      ]
     },
     "metadata": {},
     "output_type": "display_data"
    },
    {
     "name": "stdout",
     "output_type": "stream",
     "text": [
      "==================== \n",
      "Chemokines Updates_1. Chemokines Effective on Platelet Functions (AnnotationComparisonType.SECOND_HAS) \n",
      "====================\n"
     ]
    },
    {
     "data": {
      "text/markdown": [
       "| Path | First | Second |\n",
       "| ----- | ----- | ----- |\n",
       "| pretty_name                              |                                          | With type                                |\n",
       "| cui                                      |                                          | 35362001                                 |\n",
       "| type_ids                                 |                                          | ['43039974']                             |\n",
       "| types                                    |                                          | ['attribute']                            |\n",
       "| source_value                             |                                          | type                                     |\n",
       "| detected_name                            |                                          | type                                     |\n",
       "| acc                                      |                                          | 0.5602142813915542                       |\n",
       "| context_similarity                       |                                          | 0.5602142813915542                       |\n",
       "| start                                    |                                          | 8073                                     |\n",
       "| end                                      |                                          | 8077                                     |\n",
       "| icd10                                    |                                          | []                                       |\n",
       "| ontologies                               |                                          | ['SNOMED-CT']                            |\n",
       "| snomed                                   |                                          | []                                       |\n",
       "| id                                       |                                          | 492                                      |\n",
       "| meta_anns (Dict[str, dict])              | 0                                        | 0                                        |"
      ],
      "text/plain": [
       "<IPython.core.display.Markdown object>"
      ]
     },
     "metadata": {},
     "output_type": "display_data"
    },
    {
     "name": "stdout",
     "output_type": "stream",
     "text": [
      "==================== \n",
      "Chemokines Updates_1. Chemokines Effective on Platelet Functions (AnnotationComparisonType.SECOND_HAS) \n",
      "====================\n"
     ]
    },
    {
     "data": {
      "text/markdown": [
       "| Path | First | Second |\n",
       "| ----- | ----- | ----- |\n",
       "| pretty_name                              |                                          | Fever                                    |\n",
       "| cui                                      |                                          | 386661006                                |\n",
       "| type_ids                                 |                                          | ['67667581']                             |\n",
       "| types                                    |                                          | ['finding']                              |\n",
       "| source_value                             |                                          | febrile                                  |\n",
       "| detected_name                            |                                          | febrile                                  |\n",
       "| acc                                      |                                          | 0.47746781933857185                      |\n",
       "| context_similarity                       |                                          | 0.47746781933857185                      |\n",
       "| start                                    |                                          | 8081                                     |\n",
       "| end                                      |                                          | 8088                                     |\n",
       "| icd10                                    |                                          | ['R509', 'R508', 'R502', 'P819', 'P818', 'T670', 'O752', 'P810', 'O864'] |\n",
       "| ontologies                               |                                          | ['SNOMED-CT']                            |\n",
       "| snomed                                   |                                          | []                                       |\n",
       "| id                                       |                                          | 493                                      |\n",
       "| meta_anns (Dict[str, dict])              | 0                                        | 0                                        |"
      ],
      "text/plain": [
       "<IPython.core.display.Markdown object>"
      ]
     },
     "metadata": {},
     "output_type": "display_data"
    },
    {
     "name": "stdout",
     "output_type": "stream",
     "text": [
      "==================== \n",
      "Chemokines Updates_1. Chemokines Effective on Platelet Functions (AnnotationComparisonType.FIRST_HAS) \n",
      "====================\n"
     ]
    },
    {
     "data": {
      "text/markdown": [
       "| Path | First | Second |\n",
       "| ----- | ----- | ----- |\n",
       "| pretty_name                              | Milliliter                               |                                          |\n",
       "| cui                                      | 258773002                                |                                          |\n",
       "| type_ids                                 | ['7882689']                              |                                          |\n",
       "| types                                    | ['']                                     |                                          |\n",
       "| source_value                             | CC                                       |                                          |\n",
       "| detected_name                            | cc                                       |                                          |\n",
       "| acc                                      | 0.32947963522584467                      |                                          |\n",
       "| context_similarity                       | 0.32947963522584467                      |                                          |\n",
       "| start                                    | 8536                                     |                                          |\n",
       "| end                                      | 8538                                     |                                          |\n",
       "| icd10                                    | []                                       |                                          |\n",
       "| ontologies                               | ['20220803_SNOMED_UK_CLINICAL_EXT']      |                                          |\n",
       "| snomed                                   | []                                       |                                          |\n",
       "| id                                       | 529                                      |                                          |\n",
       "| meta_anns (Dict[str, dict])              | 3                                        | 0                                        |"
      ],
      "text/plain": [
       "<IPython.core.display.Markdown object>"
      ]
     },
     "metadata": {},
     "output_type": "display_data"
    },
    {
     "name": "stdout",
     "output_type": "stream",
     "text": [
      "==================== \n",
      "Chemokines Updates_1. Chemokines Effective on Platelet Functions (AnnotationComparisonType.FIRST_HAS) \n",
      "====================\n"
     ]
    },
    {
     "data": {
      "text/markdown": [
       "| Path | First | Second |\n",
       "| ----- | ----- | ----- |\n",
       "| pretty_name                              | Kilodalton                               |                                          |\n",
       "| cui                                      | 414556008                                |                                          |\n",
       "| type_ids                                 | ['7882689']                              |                                          |\n",
       "| types                                    | ['']                                     |                                          |\n",
       "| source_value                             | kDa                                      |                                          |\n",
       "| detected_name                            | kda                                      |                                          |\n",
       "| acc                                      | 1.0                                      |                                          |\n",
       "| context_similarity                       | 1.0                                      |                                          |\n",
       "| start                                    | 8626                                     |                                          |\n",
       "| end                                      | 8629                                     |                                          |\n",
       "| icd10                                    | []                                       |                                          |\n",
       "| ontologies                               | ['20220803_SNOMED_UK_CLINICAL_EXT']      |                                          |\n",
       "| snomed                                   | []                                       |                                          |\n",
       "| id                                       | 534                                      |                                          |\n",
       "| meta_anns (Dict[str, dict])              | 3                                        | 0                                        |"
      ],
      "text/plain": [
       "<IPython.core.display.Markdown object>"
      ]
     },
     "metadata": {},
     "output_type": "display_data"
    },
    {
     "name": "stdout",
     "output_type": "stream",
     "text": [
      "==================== \n",
      "Chemokines Updates_1. Chemokines Effective on Platelet Functions (AnnotationComparisonType.FIRST_HAS) \n",
      "====================\n"
     ]
    },
    {
     "data": {
      "text/markdown": [
       "| Path | First | Second |\n",
       "| ----- | ----- | ----- |\n",
       "| pretty_name                              | Consistency finding                      |                                          |\n",
       "| cui                                      | 107646001                                |                                          |\n",
       "| type_ids                                 | ['67667581']                             |                                          |\n",
       "| types                                    | ['']                                     |                                          |\n",
       "| source_value                             | consists                                 |                                          |\n",
       "| detected_name                            | consist                                  |                                          |\n",
       "| acc                                      | 1.0                                      |                                          |\n",
       "| context_similarity                       | 1.0                                      |                                          |\n",
       "| start                                    | 8698                                     |                                          |\n",
       "| end                                      | 8706                                     |                                          |\n",
       "| icd10                                    | ['']                                     |                                          |\n",
       "| ontologies                               | ['20220803_SNOMED_UK_CLINICAL_EXT']      |                                          |\n",
       "| snomed                                   | []                                       |                                          |\n",
       "| id                                       | 538                                      |                                          |\n",
       "| meta_anns (Dict[str, dict])              | 3                                        | 0                                        |"
      ],
      "text/plain": [
       "<IPython.core.display.Markdown object>"
      ]
     },
     "metadata": {},
     "output_type": "display_data"
    },
    {
     "name": "stdout",
     "output_type": "stream",
     "text": [
      "==================== \n",
      "Chemokines Updates_1. Chemokines Effective on Platelet Functions (AnnotationComparisonType.SAME_SPAN_DIFF_CONCEPT) \n",
      "====================\n"
     ]
    },
    {
     "data": {
      "text/markdown": [
       "| Path | First | Second |\n",
       "| ----- | ----- | ----- |\n",
       "| pretty_name                              | Eosinophil count                         | Eosinophil, segmented                    |\n",
       "| cui                                      | 71960002                                 | 14793004                                 |\n",
       "| type_ids                                 | ['28321150']                             | ['99220404']                             |\n",
       "| types                                    | ['']                                     | ['cell']                                 |\n",
       "| source_value                             | eosinophils                              | eosinophils                              |\n",
       "| detected_name                            | eosinophil                               | eosinophil                               |\n",
       "| acc                                      | 0.771038497925114                        | 1.0                                      |\n",
       "| context_similarity                       | 0.771038497925114                        | 1.0                                      |\n",
       "| start                                    | 8850                                     | 8850                                     |\n",
       "| end                                      | 8861                                     | 8861                                     |\n",
       "| icd10                                    | []                                       | []                                       |\n",
       "| ontologies                               | ['20220803_SNOMED_UK_CLINICAL_EXT']      | ['SNOMED-CT']                            |\n",
       "| snomed                                   | []                                       | []                                       |\n",
       "| id                                       | 549                                      | 531                                      |\n",
       "| meta_anns (Dict[str, dict])              | 3                                        | 0                                        |"
      ],
      "text/plain": [
       "<IPython.core.display.Markdown object>"
      ]
     },
     "metadata": {},
     "output_type": "display_data"
    },
    {
     "name": "stdout",
     "output_type": "stream",
     "text": [
      "==================== \n",
      "Chemokines Updates_1. Chemokines Effective on Platelet Functions (AnnotationComparisonType.OVERLAPP_1ST_LARGER_DIFF_CONCEPT) \n",
      "====================\n"
     ]
    },
    {
     "data": {
      "text/markdown": [
       "| Path | First | Second |\n",
       "| ----- | ----- | ----- |\n",
       "| pretty_name                              | Melanocyte                               | Dendritic                                |\n",
       "| cui                                      | 9683001                                  | 255337007                                |\n",
       "| type_ids                                 | ['99220404']                             | ['7882689']                              |\n",
       "| types                                    | ['']                                     | ['qualifier value']                      |\n",
       "| source_value                             | dendritic cells                          | dendritic                                |\n",
       "| detected_name                            | dendritic~cell                           | dendritic                                |\n",
       "| acc                                      | 1.0                                      | 0.99                                     |\n",
       "| context_similarity                       | 1.0                                      | 0.99                                     |\n",
       "| start                                    | 8925                                     | 8925                                     |\n",
       "| end                                      | 8940                                     | 8934                                     |\n",
       "| icd10                                    | []                                       | []                                       |\n",
       "| ontologies                               | ['20220803_SNOMED_UK_CLINICAL_EXT']      | ['SNOMED-CT']                            |\n",
       "| snomed                                   | []                                       | []                                       |\n",
       "| id                                       | 559                                      | 538                                      |\n",
       "| meta_anns (Dict[str, dict])              | 3                                        | 0                                        |"
      ],
      "text/plain": [
       "<IPython.core.display.Markdown object>"
      ]
     },
     "metadata": {},
     "output_type": "display_data"
    },
    {
     "name": "stdout",
     "output_type": "stream",
     "text": [
      "==================== \n",
      "Chemokines Updates_1. Chemokines Effective on Platelet Functions (AnnotationComparisonType.SECOND_HAS) \n",
      "====================\n"
     ]
    },
    {
     "data": {
      "text/markdown": [
       "| Path | First | Second |\n",
       "| ----- | ----- | ----- |\n",
       "| pretty_name                              |                                          | Cell structure                           |\n",
       "| cui                                      |                                          | 4421005                                  |\n",
       "| type_ids                                 |                                          | ['66527446']                             |\n",
       "| types                                    |                                          | ['cell structure']                       |\n",
       "| source_value                             |                                          | cells                                    |\n",
       "| detected_name                            |                                          | cell                                     |\n",
       "| acc                                      |                                          | 0.99                                     |\n",
       "| context_similarity                       |                                          | 0.99                                     |\n",
       "| start                                    |                                          | 8935                                     |\n",
       "| end                                      |                                          | 8940                                     |\n",
       "| icd10                                    |                                          | []                                       |\n",
       "| ontologies                               |                                          | ['SNOMED-CT']                            |\n",
       "| snomed                                   |                                          | []                                       |\n",
       "| id                                       |                                          | 539                                      |\n",
       "| meta_anns (Dict[str, dict])              | 0                                        | 0                                        |"
      ],
      "text/plain": [
       "<IPython.core.display.Markdown object>"
      ]
     },
     "metadata": {},
     "output_type": "display_data"
    },
    {
     "name": "stdout",
     "output_type": "stream",
     "text": [
      "==================== \n",
      "Chemokines Updates_1. Chemokines Effective on Platelet Functions (AnnotationComparisonType.SAME_PARENT) \n",
      "====================\n"
     ]
    },
    {
     "data": {
      "text/markdown": [
       "| Path | First | Second |\n",
       "| ----- | ----- | ----- |\n",
       "| pretty_name                              | Product containing interleukin-2         | Interleukin-2                            |\n",
       "| cui                                      | 428693003                                | 68945006                                 |\n",
       "| type_ids                                 | ['37785117']                             | ['91187746']                             |\n",
       "| types                                    | ['']                                     | ['substance']                            |\n",
       "| source_value                             | IL-2                                     | IL-2                                     |\n",
       "| detected_name                            | il~2                                     | il~2                                     |\n",
       "| acc                                      | 0.40179286554836074                      | 0.7517415325497561                       |\n",
       "| context_similarity                       | 0.40179286554836074                      | 0.7517415325497561                       |\n",
       "| start                                    | 9004                                     | 9004                                     |\n",
       "| end                                      | 9008                                     | 9008                                     |\n",
       "| icd10                                    | []                                       | []                                       |\n",
       "| ontologies                               | ['20220803_SNOMED_UK_CLINICAL_EXT']      | ['SNOMED-CT']                            |\n",
       "| snomed                                   | []                                       | []                                       |\n",
       "| id                                       | 565                                      | 544                                      |\n",
       "| meta_anns (Dict[str, dict])              | 3                                        | 0                                        |"
      ],
      "text/plain": [
       "<IPython.core.display.Markdown object>"
      ]
     },
     "metadata": {},
     "output_type": "display_data"
    },
    {
     "name": "stdout",
     "output_type": "stream",
     "text": [
      "==================== \n",
      "Chemokines Updates_1. Chemokines Effective on Platelet Functions (AnnotationComparisonType.SAME_PARENT) \n",
      "====================\n"
     ]
    },
    {
     "data": {
      "text/markdown": [
       "| Path | First | Second |\n",
       "| ----- | ----- | ----- |\n",
       "| pretty_name                              | Interferon alfa                          | Interferon                               |\n",
       "| cui                                      | 45754009                                 | 49327004                                 |\n",
       "| type_ids                                 | ['91187746']                             | ['91187746']                             |\n",
       "| types                                    | ['']                                     | ['substance']                            |\n",
       "| source_value                             | IFN                                      | IFN                                      |\n",
       "| detected_name                            | ifn                                      | ifn                                      |\n",
       "| acc                                      | 0.5823088532102996                       | 0.8087315405581906                       |\n",
       "| context_similarity                       | 0.5823088532102996                       | 0.8087315405581906                       |\n",
       "| start                                    | 9013                                     | 9013                                     |\n",
       "| end                                      | 9016                                     | 9016                                     |\n",
       "| icd10                                    | []                                       | []                                       |\n",
       "| ontologies                               | ['20220803_SNOMED_UK_CLINICAL_EXT']      | ['SNOMED-CT']                            |\n",
       "| snomed                                   | []                                       | []                                       |\n",
       "| id                                       | 566                                      | 545                                      |\n",
       "| meta_anns (Dict[str, dict])              | 3                                        | 0                                        |"
      ],
      "text/plain": [
       "<IPython.core.display.Markdown object>"
      ]
     },
     "metadata": {},
     "output_type": "display_data"
    },
    {
     "name": "stdout",
     "output_type": "stream",
     "text": [
      "==================== \n",
      "Chemokines Updates_1. Chemokines Effective on Platelet Functions (AnnotationComparisonType.FIRST_HAS) \n",
      "====================\n"
     ]
    },
    {
     "data": {
      "text/markdown": [
       "| Path | First | Second |\n",
       "| ----- | ----- | ----- |\n",
       "| pretty_name                              | Certain                                  |                                          |\n",
       "| cui                                      | 17162000                                 |                                          |\n",
       "| type_ids                                 | ['7882689']                              |                                          |\n",
       "| types                                    | ['']                                     |                                          |\n",
       "| source_value                             | certain                                  |                                          |\n",
       "| detected_name                            | certain                                  |                                          |\n",
       "| acc                                      | 0.3366893331948875                       |                                          |\n",
       "| context_similarity                       | 0.3366893331948875                       |                                          |\n",
       "| start                                    | 9104                                     |                                          |\n",
       "| end                                      | 9111                                     |                                          |\n",
       "| icd10                                    | []                                       |                                          |\n",
       "| ontologies                               | ['20220803_SNOMED_UK_CLINICAL_EXT']      |                                          |\n",
       "| snomed                                   | []                                       |                                          |\n",
       "| id                                       | 572                                      |                                          |\n",
       "| meta_anns (Dict[str, dict])              | 3                                        | 0                                        |"
      ],
      "text/plain": [
       "<IPython.core.display.Markdown object>"
      ]
     },
     "metadata": {},
     "output_type": "display_data"
    },
    {
     "name": "stdout",
     "output_type": "stream",
     "text": [
      "==================== \n",
      "Chemokines Updates_1. Chemokines Effective on Platelet Functions (AnnotationComparisonType.FIRST_HAS) \n",
      "====================\n"
     ]
    },
    {
     "data": {
      "text/markdown": [
       "| Path | First | Second |\n",
       "| ----- | ----- | ----- |\n",
       "| pretty_name                              | Catha edulis                             |                                          |\n",
       "| cui                                      | 736462003                                |                                          |\n",
       "| type_ids                                 | ['91187746']                             |                                          |\n",
       "| types                                    | ['']                                     |                                          |\n",
       "| source_value                             | CHAK                                     |                                          |\n",
       "| detected_name                            | chat                                     |                                          |\n",
       "| acc                                      | 0.3870977892618369                       |                                          |\n",
       "| context_similarity                       | 0.3870977892618369                       |                                          |\n",
       "| start                                    | 9129                                     |                                          |\n",
       "| end                                      | 9133                                     |                                          |\n",
       "| icd10                                    | []                                       |                                          |\n",
       "| ontologies                               | ['20220803_SNOMED_UK_CLINICAL_EXT']      |                                          |\n",
       "| snomed                                   | []                                       |                                          |\n",
       "| id                                       | 577                                      |                                          |\n",
       "| meta_anns (Dict[str, dict])              | 3                                        | 0                                        |"
      ],
      "text/plain": [
       "<IPython.core.display.Markdown object>"
      ]
     },
     "metadata": {},
     "output_type": "display_data"
    },
    {
     "name": "stdout",
     "output_type": "stream",
     "text": [
      "==================== \n",
      "Chemokines Updates_1. Chemokines Effective on Platelet Functions (AnnotationComparisonType.SAME_SPAN_DIFF_CONCEPT) \n",
      "====================\n"
     ]
    },
    {
     "data": {
      "text/markdown": [
       "| Path | First | Second |\n",
       "| ----- | ----- | ----- |\n",
       "| pretty_name                              | Case conference                          | Milliliter                               |\n",
       "| cui                                      | 229058001                                | 258773002                                |\n",
       "| type_ids                                 | ['28321150']                             | ['7882689']                              |\n",
       "| types                                    | ['']                                     | ['qualifier value']                      |\n",
       "| source_value                             | CC                                       | CC                                       |\n",
       "| detected_name                            | cc                                       | cc                                       |\n",
       "| acc                                      | 0.37808778931700127                      | 0.4119684553564338                       |\n",
       "| context_similarity                       | 0.37808778931700127                      | 0.4119684553564338                       |\n",
       "| start                                    | 9135                                     | 9135                                     |\n",
       "| end                                      | 9137                                     | 9137                                     |\n",
       "| icd10                                    | []                                       | []                                       |\n",
       "| ontologies                               | ['20220803_SNOMED_UK_CLINICAL_EXT']      | ['SNOMED-CT']                            |\n",
       "| snomed                                   | []                                       | []                                       |\n",
       "| id                                       | 578                                      | 555                                      |\n",
       "| meta_anns (Dict[str, dict])              | 3                                        | 0                                        |"
      ],
      "text/plain": [
       "<IPython.core.display.Markdown object>"
      ]
     },
     "metadata": {},
     "output_type": "display_data"
    },
    {
     "name": "stdout",
     "output_type": "stream",
     "text": [
      "==================== \n",
      "Chemokines Updates_1. Chemokines Effective on Platelet Functions (AnnotationComparisonType.SAME_SPAN_DIFF_CONCEPT) \n",
      "====================\n"
     ]
    },
    {
     "data": {
      "text/markdown": [
       "| Path | First | Second |\n",
       "| ----- | ----- | ----- |\n",
       "| pretty_name                              | Human immunodeficiency virus type 1 antibody | Human immunodeficiency virus detected    |\n",
       "| cui                                      | 120841000                                | 165816005                                |\n",
       "| type_ids                                 | ['91187746']                             | ['67667581']                             |\n",
       "| types                                    | ['']                                     | ['finding']                              |\n",
       "| source_value                             | HIV                                      | HIV                                      |\n",
       "| detected_name                            | hiv                                      | hiv                                      |\n",
       "| acc                                      | 0.7892605186314532                       | 0.4493943644867568                       |\n",
       "| context_similarity                       | 0.7892605186314532                       | 0.4493943644867568                       |\n",
       "| start                                    | 9187                                     | 9187                                     |\n",
       "| end                                      | 9190                                     | 9190                                     |\n",
       "| icd10                                    | []                                       | ['Z21X']                                 |\n",
       "| ontologies                               | ['20220803_SNOMED_UK_CLINICAL_EXT']      | ['SNOMED-CT']                            |\n",
       "| snomed                                   | []                                       | []                                       |\n",
       "| id                                       | 581                                      | 558                                      |\n",
       "| meta_anns (Dict[str, dict])              | 3                                        | 0                                        |"
      ],
      "text/plain": [
       "<IPython.core.display.Markdown object>"
      ]
     },
     "metadata": {},
     "output_type": "display_data"
    },
    {
     "name": "stdout",
     "output_type": "stream",
     "text": [
      "==================== \n",
      "Chemokines Updates_1. Chemokines Effective on Platelet Functions (AnnotationComparisonType.FIRST_HAS) \n",
      "====================\n"
     ]
    },
    {
     "data": {
      "text/markdown": [
       "| Path | First | Second |\n",
       "| ----- | ----- | ----- |\n",
       "| pretty_name                              | Release - action                         |                                          |\n",
       "| cui                                      | 129299003                                |                                          |\n",
       "| type_ids                                 | ['7882689']                              |                                          |\n",
       "| types                                    | ['']                                     |                                          |\n",
       "| source_value                             | released                                 |                                          |\n",
       "| detected_name                            | released                                 |                                          |\n",
       "| acc                                      | 0.41640174083235687                      |                                          |\n",
       "| context_similarity                       | 0.41640174083235687                      |                                          |\n",
       "| start                                    | 9210                                     |                                          |\n",
       "| end                                      | 9218                                     |                                          |\n",
       "| icd10                                    | []                                       |                                          |\n",
       "| ontologies                               | ['20220803_SNOMED_UK_CLINICAL_EXT']      |                                          |\n",
       "| snomed                                   | []                                       |                                          |\n",
       "| id                                       | 583                                      |                                          |\n",
       "| meta_anns (Dict[str, dict])              | 3                                        | 0                                        |"
      ],
      "text/plain": [
       "<IPython.core.display.Markdown object>"
      ]
     },
     "metadata": {},
     "output_type": "display_data"
    },
    {
     "name": "stdout",
     "output_type": "stream",
     "text": [
      "==================== \n",
      "Chemokines Updates_1. Chemokines Effective on Platelet Functions (AnnotationComparisonType.SAME_PARENT) \n",
      "====================\n"
     ]
    },
    {
     "data": {
      "text/markdown": [
       "| Path | First | Second |\n",
       "| ----- | ----- | ----- |\n",
       "| pretty_name                              | Disorder of blood vessel                 | Blood vessel structure                   |\n",
       "| cui                                      | 27550009                                 | 59820001                                 |\n",
       "| type_ids                                 | ['9090192']                              | ['37552161']                             |\n",
       "| types                                    | ['']                                     | ['body structure']                       |\n",
       "| source_value                             | vascular                                 | vascular                                 |\n",
       "| detected_name                            | vascular                                 | vascular                                 |\n",
       "| acc                                      | 0.5334256481210157                       | 1.0                                      |\n",
       "| context_similarity                       | 0.5334256481210157                       | 1.0                                      |\n",
       "| start                                    | 9257                                     | 9257                                     |\n",
       "| end                                      | 9265                                     | 9265                                     |\n",
       "| icd10                                    | ['I99']                                  | []                                       |\n",
       "| ontologies                               | ['20220803_SNOMED_UK_CLINICAL_EXT']      | ['SNOMED-CT']                            |\n",
       "| snomed                                   | []                                       | []                                       |\n",
       "| id                                       | 588                                      | 565                                      |\n",
       "| meta_anns (Dict[str, dict])              | 3                                        | 0                                        |"
      ],
      "text/plain": [
       "<IPython.core.display.Markdown object>"
      ]
     },
     "metadata": {},
     "output_type": "display_data"
    },
    {
     "name": "stdout",
     "output_type": "stream",
     "text": [
      "==================== \n",
      "Chemokines Updates_1. Chemokines Effective on Platelet Functions (AnnotationComparisonType.SECOND_HAS) \n",
      "====================\n"
     ]
    },
    {
     "data": {
      "text/markdown": [
       "| Path | First | Second |\n",
       "| ----- | ----- | ----- |\n",
       "| pretty_name                              |                                          | Acuteness                                |\n",
       "| cui                                      |                                          | 272118002                                |\n",
       "| type_ids                                 |                                          | ['7882689']                              |\n",
       "| types                                    |                                          | ['qualifier value']                      |\n",
       "| source_value                             |                                          | acute                                    |\n",
       "| detected_name                            |                                          | acute                                    |\n",
       "| acc                                      |                                          | 1.0                                      |\n",
       "| context_similarity                       |                                          | 1.0                                      |\n",
       "| start                                    |                                          | 9429                                     |\n",
       "| end                                      |                                          | 9434                                     |\n",
       "| icd10                                    |                                          | []                                       |\n",
       "| ontologies                               |                                          | ['SNOMED-CT']                            |\n",
       "| snomed                                   |                                          | []                                       |\n",
       "| id                                       |                                          | 572                                      |\n",
       "| meta_anns (Dict[str, dict])              | 0                                        | 0                                        |"
      ],
      "text/plain": [
       "<IPython.core.display.Markdown object>"
      ]
     },
     "metadata": {},
     "output_type": "display_data"
    },
    {
     "name": "stdout",
     "output_type": "stream",
     "text": [
      "==================== \n",
      "Chemokines Updates_1. Chemokines Effective on Platelet Functions (AnnotationComparisonType.SAME_PARENT) \n",
      "====================\n"
     ]
    },
    {
     "data": {
      "text/markdown": [
       "| Path | First | Second |\n",
       "| ----- | ----- | ----- |\n",
       "| pretty_name                              | Thromboembolic disorder                  | Thromboembolus                           |\n",
       "| cui                                      | 371039008                                | 13713005                                 |\n",
       "| type_ids                                 | ['9090192']                              | ['33782986']                             |\n",
       "| types                                    | ['']                                     | ['morphologic abnormality']              |\n",
       "| source_value                             | thromboembolism                          | thromboembolism                          |\n",
       "| detected_name                            | thromboembolism                          | thromboembolism                          |\n",
       "| acc                                      | 0.45532167135869167                      | 0.4547045830815263                       |\n",
       "| context_similarity                       | 0.45532167135869167                      | 0.4547045830815263                       |\n",
       "| start                                    | 9435                                     | 9435                                     |\n",
       "| end                                      | 9450                                     | 9450                                     |\n",
       "| icd10                                    | ['I74.9']                                | []                                       |\n",
       "| ontologies                               | ['20220803_SNOMED_UK_CLINICAL_EXT']      | ['SNOMED-CT']                            |\n",
       "| snomed                                   | []                                       | []                                       |\n",
       "| id                                       | 596                                      | 573                                      |\n",
       "| meta_anns (Dict[str, dict])              | 3                                        | 0                                        |"
      ],
      "text/plain": [
       "<IPython.core.display.Markdown object>"
      ]
     },
     "metadata": {},
     "output_type": "display_data"
    },
    {
     "name": "stdout",
     "output_type": "stream",
     "text": [
      "==================== \n",
      "Chemokines Updates_1. Chemokines Effective on Platelet Functions (AnnotationComparisonType.SECOND_HAS) \n",
      "====================\n"
     ]
    },
    {
     "data": {
      "text/markdown": [
       "| Path | First | Second |\n",
       "| ----- | ----- | ----- |\n",
       "| pretty_name                              |                                          | Monocyte                                 |\n",
       "| cui                                      |                                          | 55918008                                 |\n",
       "| type_ids                                 |                                          | ['99220404']                             |\n",
       "| types                                    |                                          | ['cell']                                 |\n",
       "| source_value                             |                                          | Monocyte                                 |\n",
       "| detected_name                            |                                          | monocyte                                 |\n",
       "| acc                                      |                                          | 1.0                                      |\n",
       "| context_similarity                       |                                          | 1.0                                      |\n",
       "| start                                    |                                          | 9453                                     |\n",
       "| end                                      |                                          | 9461                                     |\n",
       "| icd10                                    |                                          | []                                       |\n",
       "| ontologies                               |                                          | ['SNOMED-CT']                            |\n",
       "| snomed                                   |                                          | []                                       |\n",
       "| id                                       |                                          | 574                                      |\n",
       "| meta_anns (Dict[str, dict])              | 0                                        | 0                                        |"
      ],
      "text/plain": [
       "<IPython.core.display.Markdown object>"
      ]
     },
     "metadata": {},
     "output_type": "display_data"
    },
    {
     "name": "stdout",
     "output_type": "stream",
     "text": [
      "==================== \n",
      "Chemokines Updates_1. Chemokines Effective on Platelet Functions (AnnotationComparisonType.SAME_PARENT) \n",
      "====================\n"
     ]
    },
    {
     "data": {
      "text/markdown": [
       "| Path | First | Second |\n",
       "| ----- | ----- | ----- |\n",
       "| pretty_name                              | Procedure on artery                      | Arterial structure                       |\n",
       "| cui                                      | 118805000                                | 51114001                                 |\n",
       "| type_ids                                 | ['28321150']                             | ['37552161']                             |\n",
       "| types                                    | ['']                                     | ['body structure']                       |\n",
       "| source_value                             | artery                                   | artery                                   |\n",
       "| detected_name                            | artery                                   | artery                                   |\n",
       "| acc                                      | 0.34327349066734314                      | 0.7190732777504039                       |\n",
       "| context_similarity                       | 0.34327349066734314                      | 0.7190732777504039                       |\n",
       "| start                                    | 9498                                     | 9498                                     |\n",
       "| end                                      | 9504                                     | 9504                                     |\n",
       "| icd10                                    | []                                       | []                                       |\n",
       "| ontologies                               | ['20220803_SNOMED_UK_CLINICAL_EXT']      | ['SNOMED-CT']                            |\n",
       "| snomed                                   | []                                       | []                                       |\n",
       "| id                                       | 599                                      | 576                                      |\n",
       "| meta_anns (Dict[str, dict])              | 3                                        | 0                                        |"
      ],
      "text/plain": [
       "<IPython.core.display.Markdown object>"
      ]
     },
     "metadata": {},
     "output_type": "display_data"
    },
    {
     "name": "stdout",
     "output_type": "stream",
     "text": [
      "==================== \n",
      "Chemokines Updates_1. Chemokines Effective on Platelet Functions (AnnotationComparisonType.SECOND_HAS) \n",
      "====================\n"
     ]
    },
    {
     "data": {
      "text/markdown": [
       "| Path | First | Second |\n",
       "| ----- | ----- | ----- |\n",
       "| pretty_name                              |                                          | Pathogenesis                             |\n",
       "| cui                                      |                                          | 263547006                                |\n",
       "| type_ids                                 |                                          | ['43039974']                             |\n",
       "| types                                    |                                          | ['attribute']                            |\n",
       "| source_value                             |                                          | pathogenesis                             |\n",
       "| detected_name                            |                                          | pathogenesis                             |\n",
       "| acc                                      |                                          | 0.667451461160606                        |\n",
       "| context_similarity                       |                                          | 0.667451461160606                        |\n",
       "| start                                    |                                          | 9531                                     |\n",
       "| end                                      |                                          | 9543                                     |\n",
       "| icd10                                    |                                          | []                                       |\n",
       "| ontologies                               |                                          | ['SNOMED-CT']                            |\n",
       "| snomed                                   |                                          | []                                       |\n",
       "| id                                       |                                          | 579                                      |\n",
       "| meta_anns (Dict[str, dict])              | 0                                        | 0                                        |"
      ],
      "text/plain": [
       "<IPython.core.display.Markdown object>"
      ]
     },
     "metadata": {},
     "output_type": "display_data"
    },
    {
     "name": "stdout",
     "output_type": "stream",
     "text": [
      "==================== \n",
      "Chemokines Updates_1. Chemokines Effective on Platelet Functions (AnnotationComparisonType.FIRST_HAS) \n",
      "====================\n"
     ]
    },
    {
     "data": {
      "text/markdown": [
       "| Path | First | Second |\n",
       "| ----- | ----- | ----- |\n",
       "| pretty_name                              | Level                                    |                                          |\n",
       "| cui                                      | 276625007                                |                                          |\n",
       "| type_ids                                 | ['43039974']                             |                                          |\n",
       "| types                                    | ['']                                     |                                          |\n",
       "| source_value                             | levels                                   |                                          |\n",
       "| detected_name                            | level                                    |                                          |\n",
       "| acc                                      | 0.3687483405982871                       |                                          |\n",
       "| context_similarity                       | 0.3687483405982871                       |                                          |\n",
       "| start                                    | 9753                                     |                                          |\n",
       "| end                                      | 9759                                     |                                          |\n",
       "| icd10                                    | []                                       |                                          |\n",
       "| ontologies                               | ['20220803_SNOMED_UK_CLINICAL_EXT']      |                                          |\n",
       "| snomed                                   | []                                       |                                          |\n",
       "| id                                       | 613                                      |                                          |\n",
       "| meta_anns (Dict[str, dict])              | 3                                        | 0                                        |"
      ],
      "text/plain": [
       "<IPython.core.display.Markdown object>"
      ]
     },
     "metadata": {},
     "output_type": "display_data"
    },
    {
     "name": "stdout",
     "output_type": "stream",
     "text": [
      "==================== \n",
      "Chemokines Updates_1. Chemokines Effective on Platelet Functions (AnnotationComparisonType.FIRST_HAS) \n",
      "====================\n"
     ]
    },
    {
     "data": {
      "text/markdown": [
       "| Path | First | Second |\n",
       "| ----- | ----- | ----- |\n",
       "| pretty_name                              | Platelet factor 4                        |                                          |\n",
       "| cui                                      | 21289006                                 |                                          |\n",
       "| type_ids                                 | ['91187746']                             |                                          |\n",
       "| types                                    | ['']                                     |                                          |\n",
       "| source_value                             | PF4                                      |                                          |\n",
       "| detected_name                            | pf4                                      |                                          |\n",
       "| acc                                      | 1.0                                      |                                          |\n",
       "| context_similarity                       | 1.0                                      |                                          |\n",
       "| start                                    | 9845                                     |                                          |\n",
       "| end                                      | 9848                                     |                                          |\n",
       "| icd10                                    | []                                       |                                          |\n",
       "| ontologies                               | ['20220803_SNOMED_UK_CLINICAL_EXT']      |                                          |\n",
       "| snomed                                   | []                                       |                                          |\n",
       "| id                                       | 618                                      |                                          |\n",
       "| meta_anns (Dict[str, dict])              | 3                                        | 0                                        |"
      ],
      "text/plain": [
       "<IPython.core.display.Markdown object>"
      ]
     },
     "metadata": {},
     "output_type": "display_data"
    },
    {
     "name": "stdout",
     "output_type": "stream",
     "text": [
      "==================== \n",
      "Chemokines Updates_1. Chemokines Effective on Platelet Functions (AnnotationComparisonType.FIRST_HAS) \n",
      "====================\n"
     ]
    },
    {
     "data": {
      "text/markdown": [
       "| Path | First | Second |\n",
       "| ----- | ----- | ----- |\n",
       "| pretty_name                              | Platelet factor 4                        |                                          |\n",
       "| cui                                      | 21289006                                 |                                          |\n",
       "| type_ids                                 | ['91187746']                             |                                          |\n",
       "| types                                    | ['']                                     |                                          |\n",
       "| source_value                             | PF4                                      |                                          |\n",
       "| detected_name                            | pf4                                      |                                          |\n",
       "| acc                                      | 1.0                                      |                                          |\n",
       "| context_similarity                       | 1.0                                      |                                          |\n",
       "| start                                    | 9913                                     |                                          |\n",
       "| end                                      | 9916                                     |                                          |\n",
       "| icd10                                    | []                                       |                                          |\n",
       "| ontologies                               | ['20220803_SNOMED_UK_CLINICAL_EXT']      |                                          |\n",
       "| snomed                                   | []                                       |                                          |\n",
       "| id                                       | 623                                      |                                          |\n",
       "| meta_anns (Dict[str, dict])              | 3                                        | 0                                        |"
      ],
      "text/plain": [
       "<IPython.core.display.Markdown object>"
      ]
     },
     "metadata": {},
     "output_type": "display_data"
    },
    {
     "name": "stdout",
     "output_type": "stream",
     "text": [
      "==================== \n",
      "Chemokines Updates_1. Chemokines Effective on Platelet Functions (AnnotationComparisonType.FIRST_HAS) \n",
      "====================\n"
     ]
    },
    {
     "data": {
      "text/markdown": [
       "| Path | First | Second |\n",
       "| ----- | ----- | ----- |\n",
       "| pretty_name                              | Platelet factor 4                        |                                          |\n",
       "| cui                                      | 21289006                                 |                                          |\n",
       "| type_ids                                 | ['91187746']                             |                                          |\n",
       "| types                                    | ['']                                     |                                          |\n",
       "| source_value                             | PF4                                      |                                          |\n",
       "| detected_name                            | pf4                                      |                                          |\n",
       "| acc                                      | 1.0                                      |                                          |\n",
       "| context_similarity                       | 1.0                                      |                                          |\n",
       "| start                                    | 10022                                    |                                          |\n",
       "| end                                      | 10025                                    |                                          |\n",
       "| icd10                                    | []                                       |                                          |\n",
       "| ontologies                               | ['20220803_SNOMED_UK_CLINICAL_EXT']      |                                          |\n",
       "| snomed                                   | []                                       |                                          |\n",
       "| id                                       | 629                                      |                                          |\n",
       "| meta_anns (Dict[str, dict])              | 3                                        | 0                                        |"
      ],
      "text/plain": [
       "<IPython.core.display.Markdown object>"
      ]
     },
     "metadata": {},
     "output_type": "display_data"
    },
    {
     "name": "stdout",
     "output_type": "stream",
     "text": [
      "==================== \n",
      "Chemokines Updates_1. Chemokines Effective on Platelet Functions (AnnotationComparisonType.SAME_SPAN_DIFF_CONCEPT) \n",
      "====================\n"
     ]
    },
    {
     "data": {
      "text/markdown": [
       "| Path | First | Second |\n",
       "| ----- | ----- | ----- |\n",
       "| pretty_name                              | Extents                                  | Extending                                |\n",
       "| cui                                      | 255590007                                | 66211004                                 |\n",
       "| type_ids                                 | ['7882689']                              | ['7882689']                              |\n",
       "| types                                    | ['']                                     | ['qualifier value']                      |\n",
       "| source_value                             | extent                                   | extent                                   |\n",
       "| detected_name                            | extent                                   | extent                                   |\n",
       "| acc                                      | 0.8765767200720073                       | 0.99                                     |\n",
       "| context_similarity                       | 0.8765767200720073                       | 0.99                                     |\n",
       "| start                                    | 10043                                    | 10043                                    |\n",
       "| end                                      | 10049                                    | 10049                                    |\n",
       "| icd10                                    | []                                       | []                                       |\n",
       "| ontologies                               | ['20220803_SNOMED_UK_CLINICAL_EXT']      | ['SNOMED-CT']                            |\n",
       "| snomed                                   | []                                       | []                                       |\n",
       "| id                                       | 631                                      | 607                                      |\n",
       "| meta_anns (Dict[str, dict])              | 3                                        | 0                                        |"
      ],
      "text/plain": [
       "<IPython.core.display.Markdown object>"
      ]
     },
     "metadata": {},
     "output_type": "display_data"
    },
    {
     "name": "stdout",
     "output_type": "stream",
     "text": [
      "==================== \n",
      "Chemokines Updates_1. Chemokines Effective on Platelet Functions (AnnotationComparisonType.SAME_PARENT) \n",
      "====================\n"
     ]
    },
    {
     "data": {
      "text/markdown": [
       "| Path | First | Second |\n",
       "| ----- | ----- | ----- |\n",
       "| pretty_name                              | Plaque                                   | Senile plaque                            |\n",
       "| cui                                      | 1522000                                  | 38551001                                 |\n",
       "| type_ids                                 | ['33782986']                             | ['33782986']                             |\n",
       "| types                                    | ['']                                     | ['morphologic abnormality']              |\n",
       "| source_value                             | plaques                                  | plaques                                  |\n",
       "| detected_name                            | plaque                                   | plaque                                   |\n",
       "| acc                                      | 0.99                                     | 0.6277477533438716                       |\n",
       "| context_similarity                       | 0.99                                     | 0.6277477533438716                       |\n",
       "| start                                    | 10099                                    | 10099                                    |\n",
       "| end                                      | 10106                                    | 10106                                    |\n",
       "| icd10                                    | []                                       | []                                       |\n",
       "| ontologies                               | ['20220803_SNOMED_UK_CLINICAL_EXT']      | ['SNOMED-CT']                            |\n",
       "| snomed                                   | []                                       | []                                       |\n",
       "| id                                       | 636                                      | 611                                      |\n",
       "| meta_anns (Dict[str, dict])              | 3                                        | 0                                        |"
      ],
      "text/plain": [
       "<IPython.core.display.Markdown object>"
      ]
     },
     "metadata": {},
     "output_type": "display_data"
    },
    {
     "name": "stdout",
     "output_type": "stream",
     "text": [
      "==================== \n",
      "Chemokines Updates_1. Chemokines Effective on Platelet Functions (AnnotationComparisonType.FIRST_HAS) \n",
      "====================\n"
     ]
    },
    {
     "data": {
      "text/markdown": [
       "| Path | First | Second |\n",
       "| ----- | ----- | ----- |\n",
       "| pretty_name                              | Platelet factor 4                        |                                          |\n",
       "| cui                                      | 21289006                                 |                                          |\n",
       "| type_ids                                 | ['91187746']                             |                                          |\n",
       "| types                                    | ['']                                     |                                          |\n",
       "| source_value                             | PF4                                      |                                          |\n",
       "| detected_name                            | pf4                                      |                                          |\n",
       "| acc                                      | 1.0                                      |                                          |\n",
       "| context_similarity                       | 1.0                                      |                                          |\n",
       "| start                                    | 10118                                    |                                          |\n",
       "| end                                      | 10121                                    |                                          |\n",
       "| icd10                                    | []                                       |                                          |\n",
       "| ontologies                               | ['20220803_SNOMED_UK_CLINICAL_EXT']      |                                          |\n",
       "| snomed                                   | []                                       |                                          |\n",
       "| id                                       | 637                                      |                                          |\n",
       "| meta_anns (Dict[str, dict])              | 3                                        | 0                                        |"
      ],
      "text/plain": [
       "<IPython.core.display.Markdown object>"
      ]
     },
     "metadata": {},
     "output_type": "display_data"
    },
    {
     "name": "stdout",
     "output_type": "stream",
     "text": [
      "==================== \n",
      "Chemokines Updates_1. Chemokines Effective on Platelet Functions (AnnotationComparisonType.SECOND_HAS) \n",
      "====================\n"
     ]
    },
    {
     "data": {
      "text/markdown": [
       "| Path | First | Second |\n",
       "| ----- | ----- | ----- |\n",
       "| pretty_name                              |                                          | General metabolic function               |\n",
       "| cui                                      |                                          | 47722004                                 |\n",
       "| type_ids                                 |                                          | ['2680757']                              |\n",
       "| types                                    |                                          | ['observable entity']                    |\n",
       "| source_value                             |                                          | metabolism                               |\n",
       "| detected_name                            |                                          | metabolism                               |\n",
       "| acc                                      |                                          | 1.0                                      |\n",
       "| context_similarity                       |                                          | 1.0                                      |\n",
       "| start                                    |                                          | 10141                                    |\n",
       "| end                                      |                                          | 10151                                    |\n",
       "| icd10                                    |                                          | []                                       |\n",
       "| ontologies                               |                                          | ['SNOMED-CT']                            |\n",
       "| snomed                                   |                                          | []                                       |\n",
       "| id                                       |                                          | 614                                      |\n",
       "| meta_anns (Dict[str, dict])              | 0                                        | 0                                        |"
      ],
      "text/plain": [
       "<IPython.core.display.Markdown object>"
      ]
     },
     "metadata": {},
     "output_type": "display_data"
    },
    {
     "name": "stdout",
     "output_type": "stream",
     "text": [
      "==================== \n",
      "Chemokines Updates_1. Chemokines Effective on Platelet Functions (AnnotationComparisonType.FIRST_HAS) \n",
      "====================\n"
     ]
    },
    {
     "data": {
      "text/markdown": [
       "| Path | First | Second |\n",
       "| ----- | ----- | ----- |\n",
       "| pretty_name                              | Lipid                                    |                                          |\n",
       "| cui                                      | 70106000                                 |                                          |\n",
       "| type_ids                                 | ['91187746']                             |                                          |\n",
       "| types                                    | ['']                                     |                                          |\n",
       "| source_value                             | lipids                                   |                                          |\n",
       "| detected_name                            | lipid                                    |                                          |\n",
       "| acc                                      | 0.9186394363831492                       |                                          |\n",
       "| context_similarity                       | 0.9186394363831492                       |                                          |\n",
       "| start                                    | 10167                                    |                                          |\n",
       "| end                                      | 10173                                    |                                          |\n",
       "| icd10                                    | []                                       |                                          |\n",
       "| ontologies                               | ['20220803_SNOMED_UK_CLINICAL_EXT']      |                                          |\n",
       "| snomed                                   | []                                       |                                          |\n",
       "| id                                       | 640                                      |                                          |\n",
       "| meta_anns (Dict[str, dict])              | 3                                        | 0                                        |"
      ],
      "text/plain": [
       "<IPython.core.display.Markdown object>"
      ]
     },
     "metadata": {},
     "output_type": "display_data"
    },
    {
     "name": "stdout",
     "output_type": "stream",
     "text": [
      "==================== \n",
      "Chemokines Updates_1. Chemokines Effective on Platelet Functions (AnnotationComparisonType.SAME_PARENT) \n",
      "====================\n"
     ]
    },
    {
     "data": {
      "text/markdown": [
       "| Path | First | Second |\n",
       "| ----- | ----- | ----- |\n",
       "| pretty_name                              | Low density lipoprotein cholesterol      | Low density lipoprotein                  |\n",
       "| cui                                      | 102739008                                | 22244007                                 |\n",
       "| type_ids                                 | ['91187746']                             | ['91187746']                             |\n",
       "| types                                    | ['']                                     | ['substance']                            |\n",
       "| source_value                             | LDL                                      | LDL                                      |\n",
       "| detected_name                            | ldl                                      | ldl                                      |\n",
       "| acc                                      | 0.6555378914778189                       | 0.99                                     |\n",
       "| context_similarity                       | 0.6555378914778189                       | 0.99                                     |\n",
       "| start                                    | 10222                                    | 10222                                    |\n",
       "| end                                      | 10225                                    | 10225                                    |\n",
       "| icd10                                    | []                                       | []                                       |\n",
       "| ontologies                               | ['20220803_SNOMED_UK_CLINICAL_EXT']      | ['SNOMED-CT']                            |\n",
       "| snomed                                   | []                                       | []                                       |\n",
       "| id                                       | 648                                      | 623                                      |\n",
       "| meta_anns (Dict[str, dict])              | 3                                        | 0                                        |"
      ],
      "text/plain": [
       "<IPython.core.display.Markdown object>"
      ]
     },
     "metadata": {},
     "output_type": "display_data"
    },
    {
     "name": "stdout",
     "output_type": "stream",
     "text": [
      "==================== \n",
      "Chemokines Updates_1. Chemokines Effective on Platelet Functions (AnnotationComparisonType.SAME_PARENT) \n",
      "====================\n"
     ]
    },
    {
     "data": {
      "text/markdown": [
       "| Path | First | Second |\n",
       "| ----- | ----- | ----- |\n",
       "| pretty_name                              | Low density lipoprotein cholesterol      | Low density lipoprotein                  |\n",
       "| cui                                      | 102739008                                | 22244007                                 |\n",
       "| type_ids                                 | ['91187746']                             | ['91187746']                             |\n",
       "| types                                    | ['']                                     | ['substance']                            |\n",
       "| source_value                             | LDL                                      | LDL                                      |\n",
       "| detected_name                            | ldl                                      | ldl                                      |\n",
       "| acc                                      | 0.6078777604446203                       | 0.99                                     |\n",
       "| context_similarity                       | 0.6078777604446203                       | 0.99                                     |\n",
       "| start                                    | 10246                                    | 10246                                    |\n",
       "| end                                      | 10249                                    | 10249                                    |\n",
       "| icd10                                    | []                                       | []                                       |\n",
       "| ontologies                               | ['20220803_SNOMED_UK_CLINICAL_EXT']      | ['SNOMED-CT']                            |\n",
       "| snomed                                   | []                                       | []                                       |\n",
       "| id                                       | 650                                      | 625                                      |\n",
       "| meta_anns (Dict[str, dict])              | 3                                        | 0                                        |"
      ],
      "text/plain": [
       "<IPython.core.display.Markdown object>"
      ]
     },
     "metadata": {},
     "output_type": "display_data"
    },
    {
     "name": "stdout",
     "output_type": "stream",
     "text": [
      "==================== \n",
      "Chemokines Updates_1. Chemokines Effective on Platelet Functions (AnnotationComparisonType.SAME_PARENT) \n",
      "====================\n"
     ]
    },
    {
     "data": {
      "text/markdown": [
       "| Path | First | Second |\n",
       "| ----- | ----- | ----- |\n",
       "| pretty_name                              | Plaque                                   | Senile plaque                            |\n",
       "| cui                                      | 1522000                                  | 38551001                                 |\n",
       "| type_ids                                 | ['33782986']                             | ['33782986']                             |\n",
       "| types                                    | ['']                                     | ['morphologic abnormality']              |\n",
       "| source_value                             | plaque                                   | plaque                                   |\n",
       "| detected_name                            | plaque                                   | plaque                                   |\n",
       "| acc                                      | 0.99                                     | 0.40246964308561933                      |\n",
       "| context_similarity                       | 0.99                                     | 0.40246964308561933                      |\n",
       "| start                                    | 10287                                    | 10287                                    |\n",
       "| end                                      | 10293                                    | 10293                                    |\n",
       "| icd10                                    | []                                       | []                                       |\n",
       "| ontologies                               | ['20220803_SNOMED_UK_CLINICAL_EXT']      | ['SNOMED-CT']                            |\n",
       "| snomed                                   | []                                       | []                                       |\n",
       "| id                                       | 655                                      | 630                                      |\n",
       "| meta_anns (Dict[str, dict])              | 3                                        | 0                                        |"
      ],
      "text/plain": [
       "<IPython.core.display.Markdown object>"
      ]
     },
     "metadata": {},
     "output_type": "display_data"
    },
    {
     "name": "stdout",
     "output_type": "stream",
     "text": [
      "==================== \n",
      "Chemokines Updates_1. Chemokines Effective on Platelet Functions (AnnotationComparisonType.SAME_SPAN_DIFF_CONCEPT) \n",
      "====================\n"
     ]
    },
    {
     "data": {
      "text/markdown": [
       "| Path | First | Second |\n",
       "| ----- | ----- | ----- |\n",
       "| pretty_name                              | Virus                                    | Viral disease                            |\n",
       "| cui                                      | 49872002                                 | 34014006                                 |\n",
       "| type_ids                                 | ['81102976']                             | ['9090192']                              |\n",
       "| types                                    | ['']                                     | ['disorder']                             |\n",
       "| source_value                             | Virus                                    | Virus                                    |\n",
       "| detected_name                            | virus                                    | virus                                    |\n",
       "| acc                                      | 0.5516834368321234                       | 0.6790965278487167                       |\n",
       "| context_similarity                       | 0.5516834368321234                       | 0.6790965278487167                       |\n",
       "| start                                    | 10358                                    | 10358                                    |\n",
       "| end                                      | 10363                                    | 10363                                    |\n",
       "| icd10                                    | []                                       | ['B349', 'B348']                         |\n",
       "| ontologies                               | ['20220803_SNOMED_UK_CLINICAL_EXT']      | ['SNOMED-CT']                            |\n",
       "| snomed                                   | []                                       | []                                       |\n",
       "| id                                       | 657                                      | 632                                      |\n",
       "| meta_anns (Dict[str, dict])              | 3                                        | 0                                        |"
      ],
      "text/plain": [
       "<IPython.core.display.Markdown object>"
      ]
     },
     "metadata": {},
     "output_type": "display_data"
    },
    {
     "name": "stdout",
     "output_type": "stream",
     "text": [
      "==================== \n",
      "Chemokines Updates_1. Chemokines Effective on Platelet Functions (AnnotationComparisonType.FIRST_HAS) \n",
      "====================\n"
     ]
    },
    {
     "data": {
      "text/markdown": [
       "| Path | First | Second |\n",
       "| ----- | ----- | ----- |\n",
       "| pretty_name                              | Anaphylatoxin                            |                                          |\n",
       "| cui                                      | 44369002                                 |                                          |\n",
       "| type_ids                                 | ['91187746']                             |                                          |\n",
       "| types                                    | ['']                                     |                                          |\n",
       "| source_value                             | chemoattractant                          |                                          |\n",
       "| detected_name                            | chemoattractant                          |                                          |\n",
       "| acc                                      | 1.0                                      |                                          |\n",
       "| context_similarity                       | 1.0                                      |                                          |\n",
       "| start                                    | 10432                                    |                                          |\n",
       "| end                                      | 10447                                    |                                          |\n",
       "| icd10                                    | []                                       |                                          |\n",
       "| ontologies                               | ['20220803_SNOMED_UK_CLINICAL_EXT']      |                                          |\n",
       "| snomed                                   | []                                       |                                          |\n",
       "| id                                       | 660                                      |                                          |\n",
       "| meta_anns (Dict[str, dict])              | 3                                        | 0                                        |"
      ],
      "text/plain": [
       "<IPython.core.display.Markdown object>"
      ]
     },
     "metadata": {},
     "output_type": "display_data"
    },
    {
     "name": "stdout",
     "output_type": "stream",
     "text": [
      "==================== \n",
      "Chemokines Updates_1. Chemokines Effective on Platelet Functions (AnnotationComparisonType.OVERLAPP_1ST_LARGER_DIFF_CONCEPT) \n",
      "====================\n"
     ]
    },
    {
     "data": {
      "text/markdown": [
       "| Path | First | Second |\n",
       "| ----- | ----- | ----- |\n",
       "| pretty_name                              | Normal cell                              | Normal                                   |\n",
       "| cui                                      | 118957004                                | 17621005                                 |\n",
       "| type_ids                                 | ['99220404']                             | ['7882689']                              |\n",
       "| types                                    | ['']                                     | ['qualifier value']                      |\n",
       "| source_value                             | normal Tcell                             | normal                                   |\n",
       "| detected_name                            | normal~cell                              | normal                                   |\n",
       "| acc                                      | 0.6729434759174178                       | 0.99                                     |\n",
       "| context_similarity                       | 0.6729434759174178                       | 0.99                                     |\n",
       "| start                                    | 10731                                    | 10731                                    |\n",
       "| end                                      | 10743                                    | 10737                                    |\n",
       "| icd10                                    | []                                       | []                                       |\n",
       "| ontologies                               | ['20220803_SNOMED_UK_CLINICAL_EXT']      | ['SNOMED-CT']                            |\n",
       "| snomed                                   | []                                       | []                                       |\n",
       "| id                                       | 667                                      | 640                                      |\n",
       "| meta_anns (Dict[str, dict])              | 3                                        | 0                                        |"
      ],
      "text/plain": [
       "<IPython.core.display.Markdown object>"
      ]
     },
     "metadata": {},
     "output_type": "display_data"
    },
    {
     "name": "stdout",
     "output_type": "stream",
     "text": [
      "==================== \n",
      "Chemokines Updates_1. Chemokines Effective on Platelet Functions (AnnotationComparisonType.SAME_SPAN_DIFF_CONCEPT) \n",
      "====================\n"
     ]
    },
    {
     "data": {
      "text/markdown": [
       "| Path | First | Second |\n",
       "| ----- | ----- | ----- |\n",
       "| pretty_name                              | Oxygen                                   | Oxygen therapy                           |\n",
       "| cui                                      | 24099007                                 | 57485005                                 |\n",
       "| type_ids                                 | ['91187746']                             | ['28321150']                             |\n",
       "| types                                    | ['']                                     | ['procedure']                            |\n",
       "| source_value                             | oxygen                                   | oxygen                                   |\n",
       "| detected_name                            | oxygen                                   | oxygen                                   |\n",
       "| acc                                      | 0.6338044356719282                       | 0.8633079360378633                       |\n",
       "| context_similarity                       | 0.6338044356719282                       | 0.8633079360378633                       |\n",
       "| start                                    | 10778                                    | 10778                                    |\n",
       "| end                                      | 10784                                    | 10784                                    |\n",
       "| icd10                                    | []                                       | []                                       |\n",
       "| ontologies                               | ['20220803_SNOMED_UK_CLINICAL_EXT']      | ['SNOMED-CT']                            |\n",
       "| snomed                                   | []                                       | []                                       |\n",
       "| id                                       | 670                                      | 642                                      |\n",
       "| meta_anns (Dict[str, dict])              | 3                                        | 0                                        |"
      ],
      "text/plain": [
       "<IPython.core.display.Markdown object>"
      ]
     },
     "metadata": {},
     "output_type": "display_data"
    },
    {
     "name": "stdout",
     "output_type": "stream",
     "text": [
      "==================== \n",
      "Chemokines Updates_1. Chemokines Effective on Platelet Functions (AnnotationComparisonType.SAME_SPAN_DIFF_CONCEPT) \n",
      "====================\n"
     ]
    },
    {
     "data": {
      "text/markdown": [
       "| Path | First | Second |\n",
       "| ----- | ----- | ----- |\n",
       "| pretty_name                              | Cell count                               | Cell structure                           |\n",
       "| cui                                      | 118218001                                | 4421005                                  |\n",
       "| type_ids                                 | ['28321150']                             | ['66527446']                             |\n",
       "| types                                    | ['']                                     | ['cell structure']                       |\n",
       "| source_value                             | cell                                     | cell                                     |\n",
       "| detected_name                            | cell                                     | cell                                     |\n",
       "| acc                                      | 0.7891191722840991                       | 0.99                                     |\n",
       "| context_similarity                       | 0.7891191722840991                       | 0.99                                     |\n",
       "| start                                    | 10834                                    | 10834                                    |\n",
       "| end                                      | 10838                                    | 10838                                    |\n",
       "| icd10                                    | []                                       | []                                       |\n",
       "| ontologies                               | ['20220803_SNOMED_UK_CLINICAL_EXT']      | ['SNOMED-CT']                            |\n",
       "| snomed                                   | []                                       | []                                       |\n",
       "| id                                       | 671                                      | 643                                      |\n",
       "| meta_anns (Dict[str, dict])              | 3                                        | 0                                        |"
      ],
      "text/plain": [
       "<IPython.core.display.Markdown object>"
      ]
     },
     "metadata": {},
     "output_type": "display_data"
    },
    {
     "name": "stdout",
     "output_type": "stream",
     "text": [
      "==================== \n",
      "Chemokines Updates_1. Chemokines Effective on Platelet Functions (AnnotationComparisonType.OVERLAPP_1ST_LARGER_DIFF_CONCEPT) \n",
      "====================\n"
     ]
    },
    {
     "data": {
      "text/markdown": [
       "| Path | First | Second |\n",
       "| ----- | ----- | ----- |\n",
       "| pretty_name                              | Tumor necrosis factor                    | Tumor necrosis                           |\n",
       "| cui                                      | 8612007                                  | 34823008                                 |\n",
       "| type_ids                                 | ['91187746']                             | ['33782986']                             |\n",
       "| types                                    | ['']                                     | ['morphologic abnormality']              |\n",
       "| source_value                             | Tumor necrosis factor-alpha              | Tumor necrosis                           |\n",
       "| detected_name                            | tumor~necrosis~factor~alpha              | tumor~necrosis                           |\n",
       "| acc                                      | 0.7116768890085855                       | 1.0                                      |\n",
       "| context_similarity                       | 0.7116768890085855                       | 1.0                                      |\n",
       "| start                                    | 10901                                    | 10901                                    |\n",
       "| end                                      | 10928                                    | 10915                                    |\n",
       "| icd10                                    | []                                       | []                                       |\n",
       "| ontologies                               | ['20220803_SNOMED_UK_CLINICAL_EXT']      | ['SNOMED-CT']                            |\n",
       "| snomed                                   | []                                       | []                                       |\n",
       "| id                                       | 675                                      | 645                                      |\n",
       "| meta_anns (Dict[str, dict])              | 3                                        | 0                                        |"
      ],
      "text/plain": [
       "<IPython.core.display.Markdown object>"
      ]
     },
     "metadata": {},
     "output_type": "display_data"
    },
    {
     "name": "stdout",
     "output_type": "stream",
     "text": [
      "==================== \n",
      "Chemokines Updates_1. Chemokines Effective on Platelet Functions (AnnotationComparisonType.SECOND_HAS) \n",
      "====================\n"
     ]
    },
    {
     "data": {
      "text/markdown": [
       "| Path | First | Second |\n",
       "| ----- | ----- | ----- |\n",
       "| pretty_name                              |                                          | Greek letter alpha                       |\n",
       "| cui                                      |                                          | 263660008                                |\n",
       "| type_ids                                 |                                          | ['7882689']                              |\n",
       "| types                                    |                                          | ['qualifier value']                      |\n",
       "| source_value                             |                                          | alpha                                    |\n",
       "| detected_name                            |                                          | alpha                                    |\n",
       "| acc                                      |                                          | 1.0                                      |\n",
       "| context_similarity                       |                                          | 1.0                                      |\n",
       "| start                                    |                                          | 10923                                    |\n",
       "| end                                      |                                          | 10928                                    |\n",
       "| icd10                                    |                                          | []                                       |\n",
       "| ontologies                               |                                          | ['SNOMED-CT']                            |\n",
       "| snomed                                   |                                          | []                                       |\n",
       "| id                                       |                                          | 649                                      |\n",
       "| meta_anns (Dict[str, dict])              | 0                                        | 0                                        |"
      ],
      "text/plain": [
       "<IPython.core.display.Markdown object>"
      ]
     },
     "metadata": {},
     "output_type": "display_data"
    }
   ],
   "source": [
    "# we can iterate over annotation pairs.\n",
    "# we may optionally specify the documents we wish to look at\n",
    "# we will specify one document here so as to not generate too much output\n",
    "docs = ['Chemokines Updates_1. Chemokines Effective on Platelet Functions']\n",
    "# by default, this will omit identical annotations\n",
    "# but this can be changed by setting omit_identical=False\n",
    "comparison.show_docs(docs, omit_identical=True)"
   ]
  }
 ],
 "metadata": {
  "kernelspec": {
   "display_name": ".venv3.10.13",
   "language": "python",
   "name": "python3"
  },
  "language_info": {
   "codemirror_mode": {
    "name": "ipython",
    "version": 3
   },
   "file_extension": ".py",
   "mimetype": "text/x-python",
   "name": "python",
   "nbconvert_exporter": "python",
   "pygments_lexer": "ipython3",
   "version": "3.10.13"
  }
 },
 "nbformat": 4,
 "nbformat_minor": 2
}
