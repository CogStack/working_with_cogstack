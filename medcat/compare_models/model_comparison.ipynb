{
 "cells": [
  {
   "cell_type": "code",
   "execution_count": 2,
   "metadata": {},
   "outputs": [],
   "source": [
    "# the two models we wish to compare\n",
    "model_path_1 = \"../../../MedCAT/temp/model_packs/20230227__kch_gstt_trained_model_494c3717f637bb89.zip\"\n",
    "# 30% trained on MIMIC-IV discharge notes\n",
    "model_path_2 = \"../../data/medcat_models/modelpack/SNOMED2024_UK_final_MIMIC_IV_0_3_71e9e367f38c3b25.zip\"\n",
    "# the documents file we'll be looking at\n",
    "documents_file = \"data/some_synthetic_data.csv\""
   ]
  },
  {
   "cell_type": "code",
   "execution_count": 3,
   "metadata": {},
   "outputs": [
    {
     "name": "stderr",
     "output_type": "stream",
     "text": [
      "/Users/martratas/Documents/CogStack/.MedCAT.nosync/working_with_cogstack/venv310/lib/python3.10/site-packages/medcat/cat.py:17: TqdmExperimentalWarning: Using `tqdm.autonotebook.tqdm` in notebook mode. Use `tqdm.tqdm` instead to force console mode (e.g. in jupyter console)\n",
      "  from tqdm.autonotebook import tqdm, trange\n"
     ]
    },
    {
     "name": "stdout",
     "output_type": "stream",
     "text": [
      "Loading [1] ../../../MedCAT/temp/model_packs/20230227__kch_gstt_trained_model_494c3717f637bb89.zip\n"
     ]
    },
    {
     "name": "stderr",
     "output_type": "stream",
     "text": [
      "/Users/martratas/Documents/CogStack/.MedCAT.nosync/working_with_cogstack/venv310/lib/python3.10/site-packages/spacy/util.py:877: UserWarning: [W095] Model 'en_core_web_md' (3.1.0) was trained with spaCy v3.1 and may not be 100% compatible with the current version (3.4.4). If you see errors or degraded performance, download a newer compatible model or retrain your custom model with the current spaCy version. For more details and available updates, run: python -m spacy validate\n",
      "  warnings.warn(warn_msg)\n"
     ]
    },
    {
     "name": "stdout",
     "output_type": "stream",
     "text": [
      "Loading [2] ../../data/medcat_models/modelpack/SNOMED2024_UK_final_MIMIC_IV_0_3_71e9e367f38c3b25.zip\n",
      "Counting [1]\n"
     ]
    },
    {
     "name": "stderr",
     "output_type": "stream",
     "text": [
      "100%|██████████| 60/60 [00:08<00:00,  7.15it/s]\n"
     ]
    },
    {
     "name": "stdout",
     "output_type": "stream",
     "text": [
      "Counting [2]\n"
     ]
    },
    {
     "name": "stderr",
     "output_type": "stream",
     "text": [
      "100%|██████████| 60/60 [00:01<00:00, 34.07it/s]\n"
     ]
    },
    {
     "name": "stdout",
     "output_type": "stream",
     "text": [
      "CDB compare\n"
     ]
    },
    {
     "name": "stderr",
     "output_type": "stream",
     "text": [
      "keys: 100%|██████████| 794151/794151 [00:01<00:00, 569097.42it/s]\n",
      "keys: 100%|██████████| 794151/794151 [00:02<00:00, 319235.36it/s]\n"
     ]
    },
    {
     "name": "stdout",
     "output_type": "stream",
     "text": [
      "Per annotations diff finding\n"
     ]
    },
    {
     "name": "stderr",
     "output_type": "stream",
     "text": [
      "100%|██████████| 60/60 [00:09<00:00,  6.08it/s]\n"
     ]
    }
   ],
   "source": [
    "from compare import get_diffs_for\n",
    "from output import parse_and_show, show_dict_deep\n",
    "\n",
    "cdb_comp, tally1, tally2, ann_diffs = get_diffs_for(model_path_1, model_path_2, documents_file)"
   ]
  },
  {
   "cell_type": "code",
   "execution_count": 4,
   "metadata": {},
   "outputs": [
    {
     "name": "stdout",
     "output_type": "stream",
     "text": [
      "CDB overall differences:\n",
      "names.keys.joint                        \t752042                                  \t                                        \n",
      "names.keys.total                        \t760283                                  \t785910                                  \n",
      "names.keys.not_in_                      \t33868                                   \t8241                                    \n",
      "names.values.joint                      \t2327941                                 \t                                        \n",
      "names.values.unique_in_                 \t752906                                  \t152108                                  \n",
      "names.values.not_in_                    \t170834                                  \t810321                                  \n",
      "names.values.total                      \t3149859                                 \t2510372                                 \n",
      "snames.keys.joint                       \t752042                                  \t                                        \n",
      "snames.keys.total                       \t760283                                  \t785910                                  \n",
      "snames.keys.not_in_                     \t33868                                   \t8241                                    \n",
      "snames.values.joint                     \t5094031                                 \t                                        \n",
      "snames.values.unique_in_                \t1565939                                 \t349022                                  \n",
      "snames.values.not_in_                   \t670099                                  \t2198492                                 \n",
      "snames.values.total                     \t13486640                                \t11958247                                \n",
      "Now tally differences\n",
      "cat_data                                \t5 keys (total 157759471.93299532 in value)\t5 keys (total 73855626.21209049 in value)\n",
      "per_cui_count                           \t621 keys (total 2220 in value)          \t581 keys (total 2121 in value)          \n",
      "per_cui_acc                             \t621 keys (mean 0.9029113037725474 in value)\t581 keys (mean 0.9677542852037998 in value)\n",
      "per_cui_forms                           \t621 keys (mean 2.0 values per key)      \t581 keys (mean 2.0 values per key)      \n",
      "per_type_counts                         \t25 keys (total 2220 in value)           \t24 keys (total 2121 in value)           \n",
      "total_count                             \t25 keys (total 2220 in value)           \t24 keys (total 2121 in value)           \n",
      "Now per-annotation differences:\n",
      "IDENTICAL                               \t1404                                    \t                                        \n",
      "FIRST_HAS                               \t401                                     \t                                        \n",
      "SECOND_HAS                              \t302                                     \t                                        \n",
      "SAME_SPAN_DIFF_CONCEPT                  \t264                                     \t                                        \n",
      "OVERLAPP_1ST_LARGER_DIFF_CONCEPT        \t128                                     \t                                        \n",
      "OVERLAPP_2ND_LARGER_DIFF_CONCEPT        \t14                                      \t                                        \n",
      "OVERLAPP_1ST_LARGER_SAME_CONCEPT        \t9                                       \t                                        \n"
     ]
    }
   ],
   "source": [
    "# show results\n",
    "parse_and_show(cdb_comp, tally1, tally2, ann_diffs)"
   ]
  },
  {
   "cell_type": "code",
   "execution_count": 1,
   "metadata": {},
   "outputs": [
    {
     "ename": "NameError",
     "evalue": "name 'ann_diffs' is not defined",
     "output_type": "error",
     "traceback": [
      "\u001b[0;31m---------------------------------------------------------------------------\u001b[0m",
      "\u001b[0;31mNameError\u001b[0m                                 Traceback (most recent call last)",
      "Cell \u001b[0;32mIn[1], line 3\u001b[0m\n\u001b[1;32m      1\u001b[0m \u001b[38;5;66;03m# you can play with individual parts as well.\u001b[39;00m\n\u001b[1;32m      2\u001b[0m \u001b[38;5;66;03m# for example, isolate a specific document\u001b[39;00m\n\u001b[0;32m----> 3\u001b[0m \u001b[43mann_diffs\u001b[49m\u001b[38;5;241m.\u001b[39mper_doc_results\u001b[38;5;241m.\u001b[39mkeys()\n\u001b[1;32m      5\u001b[0m \u001b[38;5;28;01mfor\u001b[39;00m key \u001b[38;5;129;01min\u001b[39;00m ann_diffs\u001b[38;5;241m.\u001b[39mper_doc_results:\n\u001b[1;32m      6\u001b[0m     \u001b[38;5;28mprint\u001b[39m(\u001b[38;5;124m'\u001b[39m\u001b[38;5;124m=\u001b[39m\u001b[38;5;124m'\u001b[39m\u001b[38;5;241m*\u001b[39m\u001b[38;5;241m20\u001b[39m,\u001b[38;5;124mf\u001b[39m\u001b[38;5;124m'\u001b[39m\u001b[38;5;130;01m\\n\u001b[39;00m\u001b[38;5;132;01m{\u001b[39;00mkey\u001b[38;5;132;01m}\u001b[39;00m\u001b[38;5;124m'\u001b[39m, \u001b[38;5;124mf\u001b[39m\u001b[38;5;124m'\u001b[39m\u001b[38;5;130;01m\\n\u001b[39;00m\u001b[38;5;132;01m{\u001b[39;00m\u001b[38;5;124m\"\u001b[39m\u001b[38;5;124m=\u001b[39m\u001b[38;5;124m\"\u001b[39m\u001b[38;5;241m*\u001b[39m\u001b[38;5;241m20\u001b[39m\u001b[38;5;132;01m}\u001b[39;00m\u001b[38;5;124m'\u001b[39m)\n",
      "\u001b[0;31mNameError\u001b[0m: name 'ann_diffs' is not defined"
     ]
    }
   ],
   "source": [
    "# you can play with individual parts as well.\n",
    "# for example, isolate a specific document\n",
    "ann_diffs.per_doc_results.keys()\n",
    "\n",
    "for key in ann_diffs.per_doc_results:\n",
    "    print('='*20,f'\\n{key}', f'\\n{\"=\"*20}')\n",
    "    show_dict_deep(ann_diffs.per_doc_results[key].nr_of_comparisons)"
   ]
  }
 ],
 "metadata": {
  "kernelspec": {
   "display_name": ".venv3.10.13",
   "language": "python",
   "name": "python3"
  },
  "language_info": {
   "codemirror_mode": {
    "name": "ipython",
    "version": 3
   },
   "file_extension": ".py",
   "mimetype": "text/x-python",
   "name": "python",
   "nbconvert_exporter": "python",
   "pygments_lexer": "ipython3",
   "version": "3.10.13"
  }
 },
 "nbformat": 4,
 "nbformat_minor": 2
}
