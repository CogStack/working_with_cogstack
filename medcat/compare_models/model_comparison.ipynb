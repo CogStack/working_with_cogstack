{
 "cells": [
  {
   "cell_type": "markdown",
   "metadata": {},
   "source": [
    "# This notebook will attempt to show how to compare two models\n",
    "\n",
    "We often arrive in a situation where we've got multiple different models. Yet we're note sure which one we should focus on or start from for a particular task.\n",
    "This notebook aims to introduce some tools that (hopefully) help us do that."
   ]
  },
  {
   "cell_type": "markdown",
   "metadata": {},
   "source": [
    "## Initial input - models and data\n",
    "\n",
    "There are two different workflows this notebook can handle:\n",
    "1. Compare two different model packs\n",
    "  - Provide 2 model pack paths\n",
    "  - Provide a documents file\n",
    "2. Compare model pack with and without supervised training\n",
    "  - Provide 1 model pack path\n",
    "  - Provide a file path to a MedCATtrainer (MCT) export\n",
    "  - Provide a document file\n",
    "\n",
    "The model packs can be either the `.zip` file (which will be automatically unzipped) or the folder.\n",
    "\n",
    "The documents file is expected in a `.csv` format with two columns (`id`, and `text`).\n",
    "\n",
    "The MCT export is expected in the format given by MedCATtrainer.\n",
    "\n",
    "For the two approaches, there is a slightly different internal workflow.\n",
    "But other than ticking the checkbox, the process should be identical to the user."
   ]
  },
  {
   "cell_type": "markdown",
   "metadata": {},
   "source": [
    "### CUI filter settings\n",
    "\n",
    "These are optional.\n",
    "\n",
    "If you wish to filter based on CUIs (i.e only run the comparison for some CUIs), you can do so.\n",
    "You can either list the CUIs (separated by comma) or provide a file that lists them (separated by comma).\n",
    "\n",
    "You can also include the children of the selected CUIs.The default is not to do so.\n",
    "But you can opt to include children of a certain order (i.e `1` means direct children only, `2` means children of children as well, and so on)."
   ]
  },
  {
   "cell_type": "code",
   "execution_count": 1,
   "metadata": {},
   "outputs": [
    {
     "name": "stderr",
     "output_type": "stream",
     "text": [
      "/Users/martratas/Documents/CogStack/.MedCAT.nosync/working_with_cogstack/venv310/lib/python3.10/site-packages/medcat/cat.py:17: TqdmExperimentalWarning: Using `tqdm.autonotebook.tqdm` in notebook mode. Use `tqdm.tqdm` instead to force console mode (e.g. in jupyter console)\n",
      "  from tqdm.autonotebook import tqdm, trange\n"
     ]
    },
    {
     "data": {
      "application/vnd.jupyter.widget-view+json": {
       "model_id": "c9394e14578445b2b7073aedf3f7bf20",
       "version_major": 2,
       "version_minor": 0
      },
      "text/plain": [
       "VBox(children=(VBox(children=(HTML(value='<h2>Models</h2>'), VBox(children=(Label(value='Choose model 1'), Fil…"
      ]
     },
     "metadata": {},
     "output_type": "display_data"
    }
   ],
   "source": [
    "from comp_nbhelper import NBInputter\n",
    "inputs = NBInputter()\n",
    "inputs.show_all()"
   ]
  },
  {
   "cell_type": "markdown",
   "metadata": {},
   "source": [
    "### Running the difference finder\n",
    "\n",
    "Now that we've got the input data, we need to figure out how they work and what their differences are.\n",
    "We use the `get_comparison` method that loads both models, runs `CAT.get_entities` on each document for either model, and then returns some results.\n",
    "\n",
    "These results show describe the difference in the raw CDB (i.e the number of concepts (join and unique), amount of training, and so on), the total differences in the entities extracted (i.e the number of recognitions and forms per CUI) as well as per document differences (i.e the number of identical as well as different entity recognitions found).\n",
    "\n",
    "We will look into the details later."
   ]
  },
  {
   "cell_type": "code",
   "execution_count": 32,
   "metadata": {},
   "outputs": [
    {
     "name": "stdout",
     "output_type": "stream",
     "text": [
      "For models, selected:\n",
      "Model1: /Users/martratas/Documents/CogStack/.MedCAT.nosync/MedCAT/models/20230227__kch_gstt_trained_model_494c3717f637bb89.zip\n",
      "Model2: /Users/martratas/Documents/CogStack/.MedCAT.nosync/MedCAT/models/snomed2024-06-mimic-iv.zip\n",
      "Documents: /Users/martratas/Documents/CogStack/.MedCAT.nosync/working_with_cogstack/medcat/compare_models/data/intechopen_2cols_3.csv\n",
      "For CUI filter, selected:\n",
      "Filter: /Users/martratas/Documents/CogStack/.MedCAT.nosync/working_with_cogstack/medcat/compare_models/data/demo-physio-mobility/cui_filter.csv\n",
      "Children: None\n",
      "Loading [1] /Users/martratas/Documents/CogStack/.MedCAT.nosync/MedCAT/models/20230227__kch_gstt_trained_model_494c3717f637bb89.zip\n"
     ]
    },
    {
     "name": "stderr",
     "output_type": "stream",
     "text": [
      "/Users/martratas/Documents/CogStack/.MedCAT.nosync/working_with_cogstack/venv310/lib/python3.10/site-packages/spacy/util.py:910: UserWarning: [W095] Model 'en_core_web_md' (3.1.0) was trained with spaCy v3.1.0 and may not be 100% compatible with the current version (3.7.5). If you see errors or degraded performance, download a newer compatible model or retrain your custom model with the current spaCy version. For more details and available updates, run: python -m spacy validate\n",
      "  warnings.warn(warn_msg)\n"
     ]
    },
    {
     "name": "stdout",
     "output_type": "stream",
     "text": [
      "Loading [2] /Users/martratas/Documents/CogStack/.MedCAT.nosync/MedCAT/models/snomed2024-06-mimic-iv.zip\n"
     ]
    },
    {
     "name": "stderr",
     "output_type": "stream",
     "text": [
      "/Users/martratas/Documents/CogStack/.MedCAT.nosync/working_with_cogstack/venv310/lib/python3.10/site-packages/spacy/util.py:910: UserWarning: [W095] Model 'en_core_web_md' (3.6.0) was trained with spaCy v3.6.0 and may not be 100% compatible with the current version (3.7.5). If you see errors or degraded performance, download a newer compatible model or retrain your custom model with the current spaCy version. For more details and available updates, run: python -m spacy validate\n",
      "  warnings.warn(warn_msg)\n"
     ]
    },
    {
     "name": "stdout",
     "output_type": "stream",
     "text": [
      "Per annotations diff finding\n",
      "Applying filter to CATs: 139 CUIs\n"
     ]
    },
    {
     "name": "stderr",
     "output_type": "stream",
     "text": [
      "14370it [2:35:53,  1.54it/s]\n"
     ]
    },
    {
     "name": "stdout",
     "output_type": "stream",
     "text": [
      "Counting [1&2]\n"
     ]
    },
    {
     "name": "stderr",
     "output_type": "stream",
     "text": [
      "100%|██████████| 14362/14362 [00:00<00:00, 17272.71it/s]\n"
     ]
    },
    {
     "name": "stdout",
     "output_type": "stream",
     "text": [
      "CDB compare\n"
     ]
    },
    {
     "name": "stderr",
     "output_type": "stream",
     "text": [
      "keys: 100%|██████████| 804513/804513 [00:01<00:00, 437204.92it/s]\n",
      "keys: 100%|██████████| 804513/804513 [00:06<00:00, 118845.07it/s]\n"
     ]
    },
    {
     "name": "stdout",
     "output_type": "stream",
     "text": [
      "CDB overall differences:\n"
     ]
    },
    {
     "data": {
      "text/markdown": [
       "| Path | Value | [Optional] Comparison |\n",
       "| ----- | ----- | ----- |\n",
       "| names.keys.joint                         | 750494                                   |                                          |\n",
       "| names.keys.not_in_                       | 44230                                    | 9789                                     |\n",
       "| names.keys.total                         | 760283                                   | 794724                                   |\n",
       "| names.values.joint                       | 2659786                                  |                                          |\n",
       "| names.values.unique_in_                  | 421061                                   | 251871                                   |\n",
       "| names.values.not_in_                     | 375036                                   | 457386                                   |\n",
       "| names.values.total                       | 3149859                                  | 3067509                                  |\n",
       "| snames.keys.joint                        | 750494                                   |                                          |\n",
       "| snames.keys.not_in_                      | 44230                                    | 9789                                     |\n",
       "| snames.keys.total                        | 760283                                   | 794724                                   |\n",
       "| snames.values.joint                      | 5697138                                  |                                          |\n",
       "| snames.values.unique_in_                 | 962832                                   | 552795                                   |\n",
       "| snames.values.not_in_                    | 1273285                                  | 1291058                                  |\n",
       "| snames.values.total                      | 13486640                                 | 13468867                                 |"
      ],
      "text/plain": [
       "<IPython.core.display.Markdown object>"
      ]
     },
     "metadata": {},
     "output_type": "display_data"
    },
    {
     "name": "stdout",
     "output_type": "stream",
     "text": [
      "Now tally differences\n"
     ]
    },
    {
     "data": {
      "text/markdown": [
       "| Path | First | Second |\n",
       "| ----- | ----- | ----- |\n",
       "| pt2ch (Dict[str, Set])                   | 352226 keys (mean 2.0 values per key)    | 372046 keys (mean 2.0 values per key)    |\n",
       "| cat_data                                 | {'Number of concepts': 760283, 'Number of names': 3080845, 'Number of concepts that received training': 38460, 'Number of seen training examples in total': 153875883, 'Average training examples per concept': 4000.932995319813} | {'Number of concepts': 794724, 'Number of names': 2911657, 'Number of concepts that received training': 62855, 'Number of seen training examples in total': 253418075, 'Average training examples per concept': 4031.788640521836} |\n",
       "| per_cui_count (Dict[str, int])           | 33 keys (total 6285 in value)            | 33 keys (total 6393 in value)            |\n",
       "| per_cui_acc (Dict[str, float])           | 33 keys (mean 0.9250648240405015 in value) | 33 keys (mean 0.950254014404179 in value) |\n",
       "| per_cui_forms (Dict[str, Set])           | 33 keys (mean 2.0 values per key)        | 33 keys (mean 2.0 values per key)        |\n",
       "| per_type_counts (Dict[str, int])         | 9 keys (total 6285 in value)             | 9 keys (total 6393 in value)             |\n",
       "| total_count                              | 6285                                     | 6393                                     |"
      ],
      "text/plain": [
       "<IPython.core.display.Markdown object>"
      ]
     },
     "metadata": {},
     "output_type": "display_data"
    },
    {
     "name": "stdout",
     "output_type": "stream",
     "text": [
      "Now per-annotation differences:\n"
     ]
    },
    {
     "data": {
      "text/markdown": [
       "| Path | Value | [Optional] Comparison |\n",
       "| ----- | ----- | ----- |\n",
       "| IDENTICAL                                | 5283                                     |                                          |\n",
       "| FIRST_HAS                                | 1002                                     |                                          |\n",
       "| SECOND_HAS                               | 1110                                     |                                          |"
      ],
      "text/plain": [
       "<IPython.core.display.Markdown object>"
      ]
     },
     "metadata": {},
     "output_type": "display_data"
    }
   ],
   "source": [
    "\n",
    "comparison = inputs.get_comparison()\n",
    "comparison.show_all()"
   ]
  },
  {
   "cell_type": "markdown",
   "metadata": {},
   "source": [
    "For now, we'll use the common parser/display method to display an overview of the results.\n",
    "We can later look at more granual details as well."
   ]
  },
  {
   "cell_type": "markdown",
   "metadata": {},
   "source": [
    "## More granual details (per document view)\n",
    "\n",
    "The above does not give us all the information we need.\n",
    "For instance, we may also want to compare the performance accross some documents.\n",
    "We can do so as follows."
   ]
  },
  {
   "cell_type": "code",
   "execution_count": 38,
   "metadata": {},
   "outputs": [
    {
     "name": "stdout",
     "output_type": "stream",
     "text": [
      "==================== \n",
      "Chemokines Updates_7. Interleukin-5 and Interleukin-5 Receptor Polymorphism in Asthma \n",
      "====================\n"
     ]
    },
    {
     "data": {
      "text/markdown": [
       "| Path | Value | [Optional] Comparison |\n",
       "| ----- | ----- | ----- |\n",
       "| IDENTICAL                                | 1                                        |                                          |"
      ],
      "text/plain": [
       "<IPython.core.display.Markdown object>"
      ]
     },
     "metadata": {},
     "output_type": "display_data"
    },
    {
     "name": "stdout",
     "output_type": "stream",
     "text": [
      "==================== \n",
      "Cerebral Palsy_4. Neurosurgical Treatment of Cerebral Palsy \n",
      "====================\n"
     ]
    },
    {
     "data": {
      "text/markdown": [
       "| Path | Value | [Optional] Comparison |\n",
       "| ----- | ----- | ----- |\n",
       "| IDENTICAL                                | 4                                        |                                          |"
      ],
      "text/plain": [
       "<IPython.core.display.Markdown object>"
      ]
     },
     "metadata": {},
     "output_type": "display_data"
    },
    {
     "name": "stdout",
     "output_type": "stream",
     "text": [
      "==================== \n",
      "Endothelial Dysfunction_2. An Overview of Gene Variants of Endothelin-1: A Critical Regulator of Endothelial Dysfunction \n",
      "====================\n"
     ]
    },
    {
     "data": {
      "text/markdown": [
       "| Path | Value | [Optional] Comparison |\n",
       "| ----- | ----- | ----- |\n",
       "| IDENTICAL                                | 1                                        |                                          |"
      ],
      "text/plain": [
       "<IPython.core.display.Markdown object>"
      ]
     },
     "metadata": {},
     "output_type": "display_data"
    },
    {
     "name": "stdout",
     "output_type": "stream",
     "text": [
      "==================== \n",
      "Endothelial Dysfunction_3. Genetic Markers of Endothelial Dysfunction \n",
      "====================\n"
     ]
    },
    {
     "data": {
      "text/markdown": [
       "| Path | Value | [Optional] Comparison |\n",
       "| ----- | ----- | ----- |\n",
       "| IDENTICAL                                | 1                                        |                                          |"
      ],
      "text/plain": [
       "<IPython.core.display.Markdown object>"
      ]
     },
     "metadata": {},
     "output_type": "display_data"
    },
    {
     "name": "stdout",
     "output_type": "stream",
     "text": [
      "==================== \n",
      "Advances in Skeletal Muscle Health and Disease_4. Duchenne Muscular Dystrophy: Clinical and Therapeutic Approach \n",
      "====================\n"
     ]
    },
    {
     "data": {
      "text/markdown": [
       "| Path | Value | [Optional] Comparison |\n",
       "| ----- | ----- | ----- |\n",
       "| IDENTICAL                                | 5                                        |                                          |"
      ],
      "text/plain": [
       "<IPython.core.display.Markdown object>"
      ]
     },
     "metadata": {},
     "output_type": "display_data"
    },
    {
     "name": "stdout",
     "output_type": "stream",
     "text": [
      "==================== \n",
      "Topics in Trauma Surgery_2. Appropriate Protective Measures for the Prevention of Animal-related Goring Injuries \n",
      "====================\n"
     ]
    },
    {
     "data": {
      "text/markdown": [
       "| Path | Value | [Optional] Comparison |\n",
       "| ----- | ----- | ----- |\n",
       "| IDENTICAL                                | 4                                        |                                          |"
      ],
      "text/plain": [
       "<IPython.core.display.Markdown object>"
      ]
     },
     "metadata": {},
     "output_type": "display_data"
    },
    {
     "name": "stdout",
     "output_type": "stream",
     "text": [
      "==================== \n",
      "Topics in Trauma Surgery_5. OCD of the Knee in Adolescents \n",
      "====================\n"
     ]
    },
    {
     "data": {
      "text/markdown": [
       "| Path | Value | [Optional] Comparison |\n",
       "| ----- | ----- | ----- |\n",
       "| IDENTICAL                                | 1                                        |                                          |"
      ],
      "text/plain": [
       "<IPython.core.display.Markdown object>"
      ]
     },
     "metadata": {},
     "output_type": "display_data"
    },
    {
     "name": "stdout",
     "output_type": "stream",
     "text": [
      "==================== \n",
      "Recent Updates on Multiple Myeloma_6. Management of Renal Failure in Multiple Myeloma \n",
      "====================\n"
     ]
    },
    {
     "data": {
      "text/markdown": [
       "| Path | Value | [Optional] Comparison |\n",
       "| ----- | ----- | ----- |\n",
       "| IDENTICAL                                | 1                                        |                                          |"
      ],
      "text/plain": [
       "<IPython.core.display.Markdown object>"
      ]
     },
     "metadata": {},
     "output_type": "display_data"
    },
    {
     "name": "stdout",
     "output_type": "stream",
     "text": [
      "==================== \n",
      "Immune Checkpoint Inhibitors_5. Immune Checkpoint Inhibitors in Hodgkin Lymphoma and Non-Hodgkin Lymphoma \n",
      "====================\n"
     ]
    },
    {
     "data": {
      "text/markdown": [
       "| Path | Value | [Optional] Comparison |\n",
       "| ----- | ----- | ----- |\n",
       "| IDENTICAL                                | 2                                        |                                          |"
      ],
      "text/plain": [
       "<IPython.core.display.Markdown object>"
      ]
     },
     "metadata": {},
     "output_type": "display_data"
    },
    {
     "name": "stdout",
     "output_type": "stream",
     "text": [
      "==================== \n",
      "Immune Checkpoint Inhibitors_8. Recent Developments in Application of Multiparametric Flow Cytometry in CAR-T Immunotherapy \n",
      "====================\n"
     ]
    },
    {
     "data": {
      "text/markdown": [
       "| Path | Value | [Optional] Comparison |\n",
       "| ----- | ----- | ----- |\n",
       "| FIRST_HAS                                | 1                                        |                                          |"
      ],
      "text/plain": [
       "<IPython.core.display.Markdown object>"
      ]
     },
     "metadata": {},
     "output_type": "display_data"
    }
   ],
   "source": [
    "# you can play with individual parts as well.\n",
    "# for example, isolate a specific document\n",
    "comparison.show_per_document(limit=10)"
   ]
  },
  {
   "cell_type": "markdown",
   "metadata": {},
   "source": [
    "# Saving annotation output to CSV file\n",
    "You can also save the annotation output to a .csv file. That file inclues the following columns:\n",
    "```\n",
    "doc_id  text    ann1    ann2\n",
    "```\n",
    "where `doc_id` refers to the ID of the document in question, `text` is the relevant text around the specific annotation, `ann1` is the annotation json for model 1 (if present), and `ann2` is the annotation json for model 2 (if present).\n",
    "\n",
    "*Note:* One of the annotations may not be present. This is the case if one of the models did not annotate that specific span."
   ]
  },
  {
   "cell_type": "code",
   "execution_count": 20,
   "metadata": {},
   "outputs": [],
   "source": [
    "comparison.diffs_to_csv(\"23vs24_annotations_2.csv\")"
   ]
  },
  {
   "cell_type": "markdown",
   "metadata": {},
   "source": [
    "## More granual details (per cui view)\n",
    "\n",
    "We may also want to look at how we did for a specific CUI.\n",
    "This is how we can do that."
   ]
  },
  {
   "cell_type": "code",
   "execution_count": 43,
   "metadata": {},
   "outputs": [
    {
     "name": "stdout",
     "output_type": "stream",
     "text": [
      "CUIs in 1 (33): dict_keys(['371153006', '1149222004', '282884000', '1912002', '249902000', '223600005', '273302005', '160689007', '8510008', '229799001', '261001000', '165232002', '183376001', '229798009', '307439001', '229797004', '161903000', '72042002', '273469003', '25711000087100', '129041007', '257301003', '160685001', '718360006', '45850009', '160734000', '31031000119102', '718705001', '24029004', '302043000', '225602000', '282971008', '282966001'])\n",
      "CUIs in 2 (33): dict_keys(['371153006', '1149222004', '282884000', '1912002', '249902000', '223600005', '160689007', '8510008', '229799001', '261001000', '183376001', '165232002', '229798009', '307439001', '229797004', '161903000', '45850009', '72042002', '273302005', '273469003', '25711000087100', '129041007', '257301003', '160685001', '718360006', '160734000', '31031000119102', '718705001', '24029004', '302043000', '225602000', '282971008', '282966001'])\n",
      "JOINT 33 : {'223600005', '229798009', '31031000119102', '25711000087100', '273302005', '282884000', '1149222004', '225602000', '257301003', '8510008', '307439001', '160734000', '718705001', '1912002', '183376001', '229799001', '273469003', '249902000', '229797004', '129041007', '302043000', '72042002', '718360006', '45850009', '371153006', '160689007', '161903000', '282971008', '282966001', '24029004', '160685001', '165232002', '261001000'}\n",
      "CUI 223600005\n"
     ]
    },
    {
     "data": {
      "text/markdown": [
       "| Path | First | Second |\n",
       "| ----- | ----- | ----- |\n",
       "| name                                     | India                                    | India                                    |\n",
       "| count                                    | 1394                                     | 1377                                     |\n",
       "| acc                                      | 0.9973064050984463                       | 1.0                                      |\n",
       "| forms                                    | 3                                        | 2                                        |"
      ],
      "text/plain": [
       "<IPython.core.display.Markdown object>"
      ]
     },
     "metadata": {},
     "output_type": "display_data"
    },
    {
     "name": "stdout",
     "output_type": "stream",
     "text": [
      "CUI 229798009\n"
     ]
    },
    {
     "data": {
      "text/markdown": [
       "| Path | First | Second |\n",
       "| ----- | ----- | ----- |\n",
       "| name                                     | Three times daily (and 3 children)       | Three times daily (and 4 children)       |\n",
       "| count                                    | 82                                       | 49                                       |\n",
       "| acc                                      | 1.0                                      | 1.0                                      |\n",
       "| forms                                    | 4                                        | 2                                        |"
      ],
      "text/plain": [
       "<IPython.core.display.Markdown object>"
      ]
     },
     "metadata": {},
     "output_type": "display_data"
    },
    {
     "name": "stdout",
     "output_type": "stream",
     "text": [
      "CUI 31031000119102\n"
     ]
    },
    {
     "data": {
      "text/markdown": [
       "| Path | First | Second |\n",
       "| ----- | ----- | ----- |\n",
       "| name                                     | Physical deconditioning                  | Physical deconditioning                  |\n",
       "| count                                    | 6                                        | 6                                        |\n",
       "| acc                                      | 1.0                                      | 1.0                                      |\n",
       "| forms                                    | 1                                        | 1                                        |"
      ],
      "text/plain": [
       "<IPython.core.display.Markdown object>"
      ]
     },
     "metadata": {},
     "output_type": "display_data"
    },
    {
     "name": "stdout",
     "output_type": "stream",
     "text": [
      "CUI 25711000087100\n"
     ]
    },
    {
     "data": {
      "text/markdown": [
       "| Path | First | Second |\n",
       "| ----- | ----- | ----- |\n",
       "| name                                     | Assisted living facility                 | Assisted living facility                 |\n",
       "| count                                    | 4                                        | 4                                        |\n",
       "| acc                                      | 1.0                                      | 1.0                                      |\n",
       "| forms                                    | 1                                        | 1                                        |"
      ],
      "text/plain": [
       "<IPython.core.display.Markdown object>"
      ]
     },
     "metadata": {},
     "output_type": "display_data"
    },
    {
     "name": "stdout",
     "output_type": "stream",
     "text": [
      "CUI 273302005\n"
     ]
    },
    {
     "data": {
      "text/markdown": [
       "| Path | First | Second |\n",
       "| ----- | ----- | ----- |\n",
       "| name                                     | Barthel index (Barthel United Kingdom index of activities of daily living, Modified Barthel index of activities of daily living) | Barthel index (Modified Barthel index of activities of daily living, Barthel United Kingdom index of activities of daily living) |\n",
       "| count                                    | 116                                      | 13                                       |\n",
       "| acc                                      | 0.48484750522355524                      | 1.0                                      |\n",
       "| forms                                    | 2                                        | 1                                        |"
      ],
      "text/plain": [
       "<IPython.core.display.Markdown object>"
      ]
     },
     "metadata": {},
     "output_type": "display_data"
    },
    {
     "name": "stdout",
     "output_type": "stream",
     "text": [
      "CUI 282884000\n"
     ]
    },
    {
     "data": {
      "text/markdown": [
       "| Path | First | Second |\n",
       "| ----- | ----- | ----- |\n",
       "| name                                     | Does stand from sitting (Does stand from sitting on edge of bed) | Does stand from sitting (Does stand from sitting on edge of bed) |\n",
       "| count                                    | 16                                       | 16                                       |\n",
       "| acc                                      | 1.0                                      | 1.0                                      |\n",
       "| forms                                    | 3                                        | 3                                        |"
      ],
      "text/plain": [
       "<IPython.core.display.Markdown object>"
      ]
     },
     "metadata": {},
     "output_type": "display_data"
    },
    {
     "name": "stdout",
     "output_type": "stream",
     "text": [
      "CUI 1149222004\n"
     ]
    },
    {
     "data": {
      "text/markdown": [
       "| Path | First | Second |\n",
       "| ----- | ----- | ----- |\n",
       "| name                                     | Overdose (and 1075 children)             | Overdose (and 1084 children)             |\n",
       "| count                                    | 237                                      | 227                                      |\n",
       "| acc                                      | 0.9795706800607633                       | 1.0                                      |\n",
       "| forms                                    | 2                                        | 1                                        |"
      ],
      "text/plain": [
       "<IPython.core.display.Markdown object>"
      ]
     },
     "metadata": {},
     "output_type": "display_data"
    },
    {
     "name": "stdout",
     "output_type": "stream",
     "text": [
      "CUI 225602000\n"
     ]
    },
    {
     "data": {
      "text/markdown": [
       "| Path | First | Second |\n",
       "| ----- | ----- | ----- |\n",
       "| name                                     | Unable to sit unsupported (Able to sit with support, unable to sit unsupported) | Unable to sit unsupported (Able to sit with support, unable to sit unsupported) |\n",
       "| count                                    | 1                                        | 1                                        |\n",
       "| acc                                      | 1.0                                      | 1.0                                      |\n",
       "| forms                                    | 1                                        | 1                                        |"
      ],
      "text/plain": [
       "<IPython.core.display.Markdown object>"
      ]
     },
     "metadata": {},
     "output_type": "display_data"
    },
    {
     "name": "stdout",
     "output_type": "stream",
     "text": [
      "CUI 257301003\n"
     ]
    },
    {
     "data": {
      "text/markdown": [
       "| Path | First | Second |\n",
       "| ----- | ----- | ----- |\n",
       "| name                                     | K-wire                                   | K-wire (and 21 children)                 |\n",
       "| count                                    | 10                                       | 10                                       |\n",
       "| acc                                      | 1.0                                      | 1.0                                      |\n",
       "| forms                                    | 2                                        | 2                                        |"
      ],
      "text/plain": [
       "<IPython.core.display.Markdown object>"
      ]
     },
     "metadata": {},
     "output_type": "display_data"
    },
    {
     "name": "stdout",
     "output_type": "stream",
     "text": [
      "CUI 8510008\n"
     ]
    },
    {
     "data": {
      "text/markdown": [
       "| Path | First | Second |\n",
       "| ----- | ----- | ----- |\n",
       "| name                                     | Reduced mobility                         | Reduced mobility                         |\n",
       "| count                                    | 28                                       | 27                                       |\n",
       "| acc                                      | 0.8248241140712277                       | 0.72670834838349                         |\n",
       "| forms                                    | 5                                        | 5                                        |"
      ],
      "text/plain": [
       "<IPython.core.display.Markdown object>"
      ]
     },
     "metadata": {},
     "output_type": "display_data"
    },
    {
     "name": "stdout",
     "output_type": "stream",
     "text": [
      "CUI 307439001\n"
     ]
    },
    {
     "data": {
      "text/markdown": [
       "| Path | First | Second |\n",
       "| ----- | ----- | ----- |\n",
       "| name                                     | Four times daily (and 3 children)        | Four times daily (and 4 children)        |\n",
       "| count                                    | 33                                       | 33                                       |\n",
       "| acc                                      | 1.0                                      | 0.8600978040291086                       |\n",
       "| forms                                    | 4                                        | 4                                        |"
      ],
      "text/plain": [
       "<IPython.core.display.Markdown object>"
      ]
     },
     "metadata": {},
     "output_type": "display_data"
    },
    {
     "name": "stdout",
     "output_type": "stream",
     "text": [
      "CUI 160734000\n"
     ]
    },
    {
     "data": {
      "text/markdown": [
       "| Path | First | Second |\n",
       "| ----- | ----- | ----- |\n",
       "| name                                     | Lives in a nursing home                  | Lives in nursing home                    |\n",
       "| count                                    | 5                                        | 5                                        |\n",
       "| acc                                      | 1.0                                      | 1.0                                      |\n",
       "| forms                                    | 2                                        | 2                                        |"
      ],
      "text/plain": [
       "<IPython.core.display.Markdown object>"
      ]
     },
     "metadata": {},
     "output_type": "display_data"
    },
    {
     "name": "stdout",
     "output_type": "stream",
     "text": [
      "CUI 718705001\n"
     ]
    },
    {
     "data": {
      "text/markdown": [
       "| Path | First | Second |\n",
       "| ----- | ----- | ----- |\n",
       "| name                                     | Functionally dependent (and 20 children) | Functionally dependent (and 29 children) |\n",
       "| count                                    | 1                                        | 1                                        |\n",
       "| acc                                      | 1.0                                      | 1.0                                      |\n",
       "| forms                                    | 1                                        | 1                                        |"
      ],
      "text/plain": [
       "<IPython.core.display.Markdown object>"
      ]
     },
     "metadata": {},
     "output_type": "display_data"
    },
    {
     "name": "stdout",
     "output_type": "stream",
     "text": [
      "CUI 1912002\n"
     ]
    },
    {
     "data": {
      "text/markdown": [
       "| Path | First | Second |\n",
       "| ----- | ----- | ----- |\n",
       "| name                                     | Fall (event) (and 80 children)           | Fall (and 112 children)                  |\n",
       "| count                                    | 141                                      | 1173                                     |\n",
       "| acc                                      | 0.5283850094587151                       | 0.7940999134595381                       |\n",
       "| forms                                    | 6                                        | 6                                        |"
      ],
      "text/plain": [
       "<IPython.core.display.Markdown object>"
      ]
     },
     "metadata": {},
     "output_type": "display_data"
    },
    {
     "name": "stdout",
     "output_type": "stream",
     "text": [
      "CUI 183376001\n"
     ]
    },
    {
     "data": {
      "text/markdown": [
       "| Path | First | Second |\n",
       "| ----- | ----- | ----- |\n",
       "| name                                     | Mobilizing                               | Mobilizing                               |\n",
       "| count                                    | 259                                      | 27                                       |\n",
       "| acc                                      | 0.5849852029345775                       | 0.5465187114053693                       |\n",
       "| forms                                    | 8                                        | 4                                        |"
      ],
      "text/plain": [
       "<IPython.core.display.Markdown object>"
      ]
     },
     "metadata": {},
     "output_type": "display_data"
    },
    {
     "name": "stdout",
     "output_type": "stream",
     "text": [
      "CUI 229799001\n"
     ]
    },
    {
     "data": {
      "text/markdown": [
       "| Path | First | Second |\n",
       "| ----- | ----- | ----- |\n",
       "| name                                     | Twice a day (and 4 children)             | Twice a day (and 6 children)             |\n",
       "| count                                    | 655                                      | 277                                      |\n",
       "| acc                                      | 0.7491845039123373                       | 0.938731518947015                        |\n",
       "| forms                                    | 7                                        | 6                                        |"
      ],
      "text/plain": [
       "<IPython.core.display.Markdown object>"
      ]
     },
     "metadata": {},
     "output_type": "display_data"
    },
    {
     "name": "stdout",
     "output_type": "stream",
     "text": [
      "CUI 273469003\n"
     ]
    },
    {
     "data": {
      "text/markdown": [
       "| Path | First | Second |\n",
       "| ----- | ----- | ----- |\n",
       "| name                                     | Functional independence measure          | Functional independence measure          |\n",
       "| count                                    | 8                                        | 8                                        |\n",
       "| acc                                      | 1.0                                      | 1.0                                      |\n",
       "| forms                                    | 1                                        | 1                                        |"
      ],
      "text/plain": [
       "<IPython.core.display.Markdown object>"
      ]
     },
     "metadata": {},
     "output_type": "display_data"
    },
    {
     "name": "stdout",
     "output_type": "stream",
     "text": [
      "CUI 249902000\n"
     ]
    },
    {
     "data": {
      "text/markdown": [
       "| Path | First | Second |\n",
       "| ----- | ----- | ----- |\n",
       "| name                                     | Difficulty standing                      | Difficulty standing (Astasia-abasia, Dissociative astasia-abasia) |\n",
       "| count                                    | 5                                        | 5                                        |\n",
       "| acc                                      | 1.0                                      | 1.0                                      |\n",
       "| forms                                    | 2                                        | 2                                        |"
      ],
      "text/plain": [
       "<IPython.core.display.Markdown object>"
      ]
     },
     "metadata": {},
     "output_type": "display_data"
    },
    {
     "name": "stdout",
     "output_type": "stream",
     "text": [
      "CUI 229797004\n"
     ]
    },
    {
     "data": {
      "text/markdown": [
       "| Path | First | Second |\n",
       "| ----- | ----- | ----- |\n",
       "| name                                     | Once daily (Once a day, in the evening, Once a day, at bedtime) | Once daily (Once a day, in the evening, Once a day, at bedtime) |\n",
       "| count                                    | 117                                      | 117                                      |\n",
       "| acc                                      | 1.0                                      | 1.0                                      |\n",
       "| forms                                    | 3                                        | 3                                        |"
      ],
      "text/plain": [
       "<IPython.core.display.Markdown object>"
      ]
     },
     "metadata": {},
     "output_type": "display_data"
    },
    {
     "name": "stdout",
     "output_type": "stream",
     "text": [
      "CUI 129041007\n"
     ]
    },
    {
     "data": {
      "text/markdown": [
       "| Path | First | Second |\n",
       "| ----- | ----- | ----- |\n",
       "| name                                     | Independent bathing                      | Independent bathing                      |\n",
       "| count                                    | 1                                        | 1                                        |\n",
       "| acc                                      | 1.0                                      | 1.0                                      |\n",
       "| forms                                    | 1                                        | 1                                        |"
      ],
      "text/plain": [
       "<IPython.core.display.Markdown object>"
      ]
     },
     "metadata": {},
     "output_type": "display_data"
    },
    {
     "name": "stdout",
     "output_type": "stream",
     "text": [
      "CUI 302043000\n"
     ]
    },
    {
     "data": {
      "text/markdown": [
       "| Path | First | Second |\n",
       "| ----- | ----- | ----- |\n",
       "| name                                     | Unable to mobilize (and 29 children)     | Unable to mobilize (and 35 children)     |\n",
       "| count                                    | 1                                        | 1                                        |\n",
       "| acc                                      | 1.0                                      | 1.0                                      |\n",
       "| forms                                    | 1                                        | 1                                        |"
      ],
      "text/plain": [
       "<IPython.core.display.Markdown object>"
      ]
     },
     "metadata": {},
     "output_type": "display_data"
    },
    {
     "name": "stdout",
     "output_type": "stream",
     "text": [
      "CUI 72042002\n"
     ]
    },
    {
     "data": {
      "text/markdown": [
       "| Path | First | Second |\n",
       "| ----- | ----- | ----- |\n",
       "| name                                     | Incontinence of feces (and 16 children)  | Incontinence of feces (and 22 children)  |\n",
       "| count                                    | 160                                      | 160                                      |\n",
       "| acc                                      | 0.9983109712644286                       | 0.999875                                 |\n",
       "| forms                                    | 12                                       | 12                                       |"
      ],
      "text/plain": [
       "<IPython.core.display.Markdown object>"
      ]
     },
     "metadata": {},
     "output_type": "display_data"
    },
    {
     "name": "stdout",
     "output_type": "stream",
     "text": [
      "CUI 718360006\n"
     ]
    },
    {
     "data": {
      "text/markdown": [
       "| Path | First | Second |\n",
       "| ----- | ----- | ----- |\n",
       "| name                                     | Functionally independent                 | Functionally independent                 |\n",
       "| count                                    | 9                                        | 9                                        |\n",
       "| acc                                      | 1.0                                      | 1.0                                      |\n",
       "| forms                                    | 1                                        | 1                                        |"
      ],
      "text/plain": [
       "<IPython.core.display.Markdown object>"
      ]
     },
     "metadata": {},
     "output_type": "display_data"
    },
    {
     "name": "stdout",
     "output_type": "stream",
     "text": [
      "CUI 45850009\n"
     ]
    },
    {
     "data": {
      "text/markdown": [
       "| Path | First | Second |\n",
       "| ----- | ----- | ----- |\n",
       "| name                                     | Continent of urine (Bladder: fully continent) | Continent of urine                       |\n",
       "| count                                    | 1                                        | 19                                       |\n",
       "| acc                                      | 0.6176311321701055                       | 0.6859683035181096                       |\n",
       "| forms                                    | 1                                        | 3                                        |"
      ],
      "text/plain": [
       "<IPython.core.display.Markdown object>"
      ]
     },
     "metadata": {},
     "output_type": "display_data"
    },
    {
     "name": "stdout",
     "output_type": "stream",
     "text": [
      "CUI 371153006\n"
     ]
    },
    {
     "data": {
      "text/markdown": [
       "| Path | First | Second |\n",
       "| ----- | ----- | ----- |\n",
       "| name                                     | Independent                              | Independent (and 30 children)            |\n",
       "| count                                    | 2318                                     | 2328                                     |\n",
       "| acc                                      | 1.0                                      | 3.0                                      |\n",
       "| forms                                    | 1                                        | 3                                        |"
      ],
      "text/plain": [
       "<IPython.core.display.Markdown object>"
      ]
     },
     "metadata": {},
     "output_type": "display_data"
    },
    {
     "name": "stdout",
     "output_type": "stream",
     "text": [
      "CUI 160689007\n"
     ]
    },
    {
     "data": {
      "text/markdown": [
       "| Path | First | Second |\n",
       "| ----- | ----- | ----- |\n",
       "| name                                     | Housebound (Temporarily housebound)      | Housebound (Temporarily housebound)      |\n",
       "| count                                    | 2                                        | 2                                        |\n",
       "| acc                                      | 1.0                                      | 1.0                                      |\n",
       "| forms                                    | 1                                        | 1                                        |"
      ],
      "text/plain": [
       "<IPython.core.display.Markdown object>"
      ]
     },
     "metadata": {},
     "output_type": "display_data"
    },
    {
     "name": "stdout",
     "output_type": "stream",
     "text": [
      "CUI 161903000\n"
     ]
    },
    {
     "data": {
      "text/markdown": [
       "| Path | First | Second |\n",
       "| ----- | ----- | ----- |\n",
       "| name                                     | Unable to stand                          | Unable to stand                          |\n",
       "| count                                    | 4                                        | 4                                        |\n",
       "| acc                                      | 1.0                                      | 1.0                                      |\n",
       "| forms                                    | 2                                        | 2                                        |"
      ],
      "text/plain": [
       "<IPython.core.display.Markdown object>"
      ]
     },
     "metadata": {},
     "output_type": "display_data"
    },
    {
     "name": "stdout",
     "output_type": "stream",
     "text": [
      "CUI 282971008\n"
     ]
    },
    {
     "data": {
      "text/markdown": [
       "| Path | First | Second |\n",
       "| ----- | ----- | ----- |\n",
       "| name                                     | Able to stand                            | Able to stand                            |\n",
       "| count                                    | 2                                        | 2                                        |\n",
       "| acc                                      | 1.0                                      | 1.0                                      |\n",
       "| forms                                    | 1                                        | 1                                        |"
      ],
      "text/plain": [
       "<IPython.core.display.Markdown object>"
      ]
     },
     "metadata": {},
     "output_type": "display_data"
    },
    {
     "name": "stdout",
     "output_type": "stream",
     "text": [
      "CUI 282966001\n"
     ]
    },
    {
     "data": {
      "text/markdown": [
       "| Path | First | Second |\n",
       "| ----- | ----- | ----- |\n",
       "| name                                     | Unable to sit (and 3 children)           | Unable to sit (and 3 children)           |\n",
       "| count                                    | 2                                        | 2                                        |\n",
       "| acc                                      | 2.0                                      | 2.0                                      |\n",
       "| forms                                    | 2                                        | 2                                        |"
      ],
      "text/plain": [
       "<IPython.core.display.Markdown object>"
      ]
     },
     "metadata": {},
     "output_type": "display_data"
    },
    {
     "name": "stdout",
     "output_type": "stream",
     "text": [
      "CUI 24029004\n"
     ]
    },
    {
     "data": {
      "text/markdown": [
       "| Path | First | Second |\n",
       "| ----- | ----- | ----- |\n",
       "| name                                     | Bowels: fully continent                  | Bowels: fully continent                  |\n",
       "| count                                    | 9                                        | 9                                        |\n",
       "| acc                                      | 1.0                                      | 1.0                                      |\n",
       "| forms                                    | 2                                        | 2                                        |"
      ],
      "text/plain": [
       "<IPython.core.display.Markdown object>"
      ]
     },
     "metadata": {},
     "output_type": "display_data"
    },
    {
     "name": "stdout",
     "output_type": "stream",
     "text": [
      "CUI 160685001\n"
     ]
    },
    {
     "data": {
      "text/markdown": [
       "| Path | First | Second |\n",
       "| ----- | ----- | ----- |\n",
       "| name                                     | Bed-ridden                               | Bed-ridden                               |\n",
       "| count                                    | 9                                        | 9                                        |\n",
       "| acc                                      | 1.0                                      | 1.0                                      |\n",
       "| forms                                    | 3                                        | 3                                        |"
      ],
      "text/plain": [
       "<IPython.core.display.Markdown object>"
      ]
     },
     "metadata": {},
     "output_type": "display_data"
    },
    {
     "name": "stdout",
     "output_type": "stream",
     "text": [
      "CUI 165232002\n"
     ]
    },
    {
     "data": {
      "text/markdown": [
       "| Path | First | Second |\n",
       "| ----- | ----- | ----- |\n",
       "| name                                     | Urinary incontinence (and 23 children)   | Urinary incontinence (and 36 children)   |\n",
       "| count                                    | 403                                      | 231                                      |\n",
       "| acc                                      | 0.9986527591730276                       | 1.0                                      |\n",
       "| forms                                    | 9                                        | 7                                        |"
      ],
      "text/plain": [
       "<IPython.core.display.Markdown object>"
      ]
     },
     "metadata": {},
     "output_type": "display_data"
    },
    {
     "name": "stdout",
     "output_type": "stream",
     "text": [
      "CUI 261001000\n"
     ]
    },
    {
     "data": {
      "text/markdown": [
       "| Path | First | Second |\n",
       "| ----- | ----- | ----- |\n",
       "| name                                     | Continent                                | Continent                                |\n",
       "| count                                    | 247                                      | 251                                      |\n",
       "| acc                                      | 0.7634409099693621                       | 0.8063828755952787                       |\n",
       "| forms                                    | 1                                        | 1                                        |"
      ],
      "text/plain": [
       "<IPython.core.display.Markdown object>"
      ]
     },
     "metadata": {},
     "output_type": "display_data"
    }
   ],
   "source": [
    "# cui = '37151006'  # Erythromelalgia\n",
    "# cui = '25064002'  # headache\n",
    "cuis_1 = comparison.tally1.per_cui_count.keys()\n",
    "cuis_2 = comparison.tally2.per_cui_count.keys()\n",
    "joint_cuis = set(cuis_1) & set(cuis_2)\n",
    "print(f\"CUIs in 1 ({len(cuis_1)}):\", cuis_1)\n",
    "print(f\"CUIs in 2 ({len(cuis_2)}):\", cuis_2)\n",
    "print(\"JOINT\", len(joint_cuis), \":\", joint_cuis)\n",
    "for cui in joint_cuis:\n",
    "    print(\"CUI\", cui)\n",
    "    try:\n",
    "        comparison.compare_for_cui(cui)\n",
    "    except KeyError as e:\n",
    "        print(\"ERROR\", e)"
   ]
  },
  {
   "cell_type": "markdown",
   "metadata": {},
   "source": [
    "## More granual details (per annotation view)\n",
    "Sometimes we may want to look at things on a per annotation basis as well.\n",
    "That is, we want to look at some annotations and compare them between the two models."
   ]
  },
  {
   "cell_type": "code",
   "execution_count": 45,
   "metadata": {},
   "outputs": [
    {
     "name": "stdout",
     "output_type": "stream",
     "text": [
      "==================== \n",
      "Chemokines Updates_7. Interleukin-5 and Interleukin-5 Receptor Polymorphism in Asthma (AnnotationComparisonType.IDENTICAL) \n",
      "====================\n"
     ]
    },
    {
     "data": {
      "text/markdown": [
       "| Path | First | Second |\n",
       "| ----- | ----- | ----- |\n",
       "| pretty_name                              | Independent                              | Independent                              |\n",
       "| cui                                      | 371153006                                | 371153006                                |\n",
       "| type_ids                                 | ['7882689']                              | ['7882689']                              |\n",
       "| types                                    | ['']                                     | ['qualifier value']                      |\n",
       "| source_value                             | independent                              | independent                              |\n",
       "| detected_name                            | independent                              | independent                              |\n",
       "| acc                                      | 1.0                                      | 1.0                                      |\n",
       "| context_similarity                       | 1.0                                      | 1.0                                      |\n",
       "| start                                    | 2204                                     | 2204                                     |\n",
       "| end                                      | 2215                                     | 2215                                     |\n",
       "| icd10                                    | []                                       | []                                       |\n",
       "| ontologies                               | ['20220803_SNOMED_UK_CLINICAL_EXT']      | ['SNOMED-CT']                            |\n",
       "| snomed                                   | []                                       | []                                       |\n",
       "| id                                       | 175                                      | 171                                      |\n",
       "| meta_anns (Dict[str, dict])              | 3                                        | 0                                        |"
      ],
      "text/plain": [
       "<IPython.core.display.Markdown object>"
      ]
     },
     "metadata": {},
     "output_type": "display_data"
    },
    {
     "name": "stdout",
     "output_type": "stream",
     "text": [
      "==================== \n",
      "Chemokines Updates_7. Interleukin-5 and Interleukin-5 Receptor Polymorphism in Asthma (AnnotationComparisonType.IDENTICAL) \n",
      "====================\n"
     ]
    },
    {
     "data": {
      "text/markdown": [
       "| Path | First | Second |\n",
       "| ----- | ----- | ----- |\n",
       "| pretty_name                              | Independent                              | Independent                              |\n",
       "| cui                                      | 371153006                                | 371153006                                |\n",
       "| type_ids                                 | ['7882689']                              | ['7882689']                              |\n",
       "| types                                    | ['']                                     | ['qualifier value']                      |\n",
       "| source_value                             | independent                              | independent                              |\n",
       "| detected_name                            | independent                              | independent                              |\n",
       "| acc                                      | 1.0                                      | 1.0                                      |\n",
       "| context_similarity                       | 1.0                                      | 1.0                                      |\n",
       "| start                                    | 2204                                     | 2204                                     |\n",
       "| end                                      | 2215                                     | 2215                                     |\n",
       "| icd10                                    | []                                       | []                                       |\n",
       "| ontologies                               | ['20220803_SNOMED_UK_CLINICAL_EXT']      | ['SNOMED-CT']                            |\n",
       "| snomed                                   | []                                       | []                                       |\n",
       "| id                                       | 175                                      | 171                                      |\n",
       "| meta_anns (Dict[str, dict])              | 3                                        | 0                                        |"
      ],
      "text/plain": [
       "<IPython.core.display.Markdown object>"
      ]
     },
     "metadata": {},
     "output_type": "display_data"
    }
   ],
   "source": [
    "# we can iterate over annotation pairs.\n",
    "# we may optionally specify the documents we wish to look at\n",
    "# we will specify one document here so as to not generate too much output\n",
    "all_docs = list(comparison.ann_diffs.per_doc_results.keys())\n",
    "docs = all_docs[:10]  # just 10 for now\n",
    "# by default, this will omit identical annotations\n",
    "# but this can be changed by setting omit_identical=False\n",
    "comparison.show_docs(docs, omit_identical=False)"
   ]
  }
 ],
 "metadata": {
  "kernelspec": {
   "display_name": ".venv3.10.13",
   "language": "python",
   "name": "python3"
  },
  "language_info": {
   "codemirror_mode": {
    "name": "ipython",
    "version": 3
   },
   "file_extension": ".py",
   "mimetype": "text/x-python",
   "name": "python",
   "nbconvert_exporter": "python",
   "pygments_lexer": "ipython3",
   "version": "3.10.13"
  }
 },
 "nbformat": 4,
 "nbformat_minor": 2
}
