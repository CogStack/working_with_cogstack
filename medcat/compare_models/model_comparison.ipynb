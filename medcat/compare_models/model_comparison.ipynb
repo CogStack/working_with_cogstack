{
 "cells": [
  {
   "cell_type": "markdown",
   "metadata": {},
   "source": [
    "# This notebook will attempt to show how to compare two models\n",
    "\n",
    "We often arrive in a situation where we've got multiple different models. Yet we're note sure which one we should focus on or start from for a particular task.\n",
    "This notebook aims to introduce some tools that (hopefully) help us do that."
   ]
  },
  {
   "cell_type": "markdown",
   "metadata": {},
   "source": [
    "## Initial input - models and data\n",
    "\n",
    "There are two different workflows this notebook can handle:\n",
    "1. Compare two different model packs\n",
    "  - Provide 2 model pack paths\n",
    "  - Provide a documents file\n",
    "2. Compare model pack with and without supervised training\n",
    "  - Provide 1 model pack path\n",
    "  - Provide a file path to a MedCATtrainer (MCT) export\n",
    "  - Provide a document file\n",
    "\n",
    "The model packs can be either the `.zip` file (which will be automatically unzipped) or the folder.\n",
    "\n",
    "The documents file is expected in a `.csv` format with two columns (`id`, and `text`).\n",
    "\n",
    "The MCT export is expected in the format given by MedCATtrainer.\n",
    "\n",
    "For the two approaches, there is a slightly different internal workflow.\n",
    "But other than ticking the checkbox, the process should be identical to the user."
   ]
  },
  {
   "cell_type": "code",
   "execution_count": 9,
   "metadata": {},
   "outputs": [
    {
     "data": {
      "application/vnd.jupyter.widget-view+json": {
       "model_id": "af259b92622d4fd2b04ab64549e17715",
       "version_major": 2,
       "version_minor": 0
      },
      "text/plain": [
       "FileChooser(path='/Users/martratas/Documents/CogStack/.MedCAT.nosync/working_with_cogstack/models/modelpack', …"
      ]
     },
     "metadata": {},
     "output_type": "display_data"
    },
    {
     "data": {
      "application/vnd.jupyter.widget-view+json": {
       "model_id": "c9edb3221d464cb7a2968d42595188fa",
       "version_major": 2,
       "version_minor": 0
      },
      "text/plain": [
       "FileChooser(path='/Users/martratas/Documents/CogStack/.MedCAT.nosync/working_with_cogstack/models/modelpack', …"
      ]
     },
     "metadata": {},
     "output_type": "display_data"
    },
    {
     "data": {
      "application/vnd.jupyter.widget-view+json": {
       "model_id": "75fd5d8c615149ff8bc94f0fdacde303",
       "version_major": 2,
       "version_minor": 0
      },
      "text/plain": [
       "FileChooser(path='/Users/martratas/Documents/CogStack/.MedCAT.nosync/working_with_cogstack/medcat/compare_mode…"
      ]
     },
     "metadata": {},
     "output_type": "display_data"
    }
   ],
   "source": [
    "from ipyfilechooser import FileChooser\n",
    "from ipywidgets import widgets\n",
    "import os\n",
    "_def_path = '../../models/modelpack'\n",
    "_def_path = _def_path if os.path.exists(_def_path) else '.'\n",
    "model1_chooser = FileChooser(_def_path)\n",
    "model2_chooser = FileChooser(_def_path)\n",
    "documents_chooser = FileChooser(\".\")\n",
    "display(model1_chooser)\n",
    "display(model2_chooser)\n",
    "display(documents_chooser)\n",
    "ckbox = widgets.Checkbox(description=\"MCT export compare\")"
   ]
  },
  {
   "cell_type": "markdown",
   "metadata": {},
   "source": [
    "### CUI filter settings\n",
    "\n",
    "These are optional.\n",
    "\n",
    "If you wish to filter based on CUIs (i.e only run the comparison for some CUIs), you can do so.\n",
    "You can either list the CUIs (separated by comma) or provide a file that lists them (separated by comma).\n",
    "\n",
    "You can also include the children of the selected CUIs.The default is not to do so.\n",
    "But you can opt to include children of a certain order (i.e `1` means direct children only, `2` meand children of children as well, and so on)."
   ]
  },
  {
   "cell_type": "code",
   "execution_count": 22,
   "metadata": {},
   "outputs": [
    {
     "data": {
      "application/vnd.jupyter.widget-view+json": {
       "model_id": "59dd2ef908544289b722f01df6bb2cd3",
       "version_major": 2,
       "version_minor": 0
      },
      "text/plain": [
       "FileChooser(path='/Users/martratas/Documents/CogStack/.MedCAT.nosync/working_with_cogstack/medcat/compare_mode…"
      ]
     },
     "metadata": {},
     "output_type": "display_data"
    },
    {
     "data": {
      "application/vnd.jupyter.widget-view+json": {
       "model_id": "94b9caa5b32548bc8d0a64a36ebcff6b",
       "version_major": 2,
       "version_minor": 0
      },
      "text/plain": [
       "Textarea(value='', description='CUI list')"
      ]
     },
     "metadata": {},
     "output_type": "display_data"
    },
    {
     "data": {
      "application/vnd.jupyter.widget-view+json": {
       "model_id": "6e7cbc6e4b4d4b05b9eb9c731811afc1",
       "version_major": 2,
       "version_minor": 0
      },
      "text/plain": [
       "IntText(value=-1, description='Children')"
      ]
     },
     "metadata": {},
     "output_type": "display_data"
    }
   ],
   "source": [
    "from ipywidgets import widgets\n",
    "cui_filter_chooser = FileChooser(\".\", description=\"The CUI filter file\")\n",
    "cui_filter_box = widgets.Textarea(description=\"CUI list\")\n",
    "cui_children = widgets.IntText(description=\"Children\", value=-1)\n",
    "display(cui_filter_chooser)\n",
    "display(cui_filter_box)\n",
    "display(cui_children)"
   ]
  },
  {
   "cell_type": "code",
   "execution_count": 30,
   "metadata": {},
   "outputs": [
    {
     "name": "stdout",
     "output_type": "stream",
     "text": [
      "For models, selected:\n",
      "Model1: /Users/martratas/Documents/CogStack/.MedCAT.nosync/working_with_cogstack/models/modelpack/KCH2024_snomed_no_enrichment.zip\n",
      "Model2: /Users/martratas/Documents/CogStack/.MedCAT.nosync/working_with_cogstack/models/modelpack/SNOMED2024_UK_FINAL_0c0de303b6dc0020.zip\n",
      "Documents: /Users/martratas/Documents/CogStack/.MedCAT.nosync/working_with_cogstack/medcat/compare_models/data/some_synthetic_data.csv\n",
      "For CUI filter, selected:\n",
      "Filter: None\n",
      "Children: None\n"
     ]
    }
   ],
   "source": [
    "model_path_1 = model1_chooser.selected\n",
    "model_path_2 = model2_chooser.selected\n",
    "documents_file = documents_chooser.selected\n",
    "is_mct_export_compare = ckbox.value\n",
    "if not is_mct_export_compare:\n",
    "    print(f\"For models, selected:\\nModel1: {model_path_1}\\nModel2: {model_path_2}\"\n",
    "          f\"\\nDocuments: {documents_file}\")\n",
    "else:\n",
    "    print(f\"Selected:\\nModel: {model_path_1}\\nMCT export: {model_path_2}\"\n",
    "          f\"\\nDocuments: {documents_file}\")\n",
    "# CUI filter\n",
    "cui_filter = None\n",
    "filter_children = None\n",
    "if cui_filter_chooser.selected:\n",
    "    cui_filter = cui_filter_chooser.selected\n",
    "elif cui_filter_box.value:\n",
    "    cui_filter = cui_filter_box.value\n",
    "if cui_children.value and cui_children.value > 0:\n",
    "    filter_children = cui_children.value\n",
    "print(f\"For CUI filter, selected:\\nFilter: {cui_filter}\\nChildren: {filter_children}\")"
   ]
  },
  {
   "cell_type": "markdown",
   "metadata": {},
   "source": [
    "### Running the difference finder\n",
    "\n",
    "Now that we've got the input data, we need to figure out how they work and what their differences are.\n",
    "We use the `get_diffs_for` method that loads both models, runs `CAT.get_entities` on each document for either model, and then returns some results.\n",
    "\n",
    "These results show describe the difference in the raw CDB (i.e the number of concepts (join and unique), amount of training, and so on), the total differences in the entities extracted (i.e the number of recognitions and forms per CUI) as well as per document differences (i.e the number of identical as well as different entity recognitions found).\n",
    "\n",
    "We will look into the details later."
   ]
  },
  {
   "cell_type": "code",
   "execution_count": 31,
   "metadata": {},
   "outputs": [
    {
     "name": "stdout",
     "output_type": "stream",
     "text": [
      "Loading [1] ../../../MedCAT/temp/model_packs/20230227__kch_gstt_trained_model_494c3717f637bb89.zip\n"
     ]
    },
    {
     "name": "stderr",
     "output_type": "stream",
     "text": [
      "/Users/martratas/Documents/CogStack/.MedCAT.nosync/working_with_cogstack/venv310/lib/python3.10/site-packages/spacy/util.py:877: UserWarning: [W095] Model 'en_core_web_md' (3.1.0) was trained with spaCy v3.1 and may not be 100% compatible with the current version (3.4.4). If you see errors or degraded performance, download a newer compatible model or retrain your custom model with the current spaCy version. For more details and available updates, run: python -m spacy validate\n",
      "  warnings.warn(warn_msg)\n"
     ]
    },
    {
     "name": "stdout",
     "output_type": "stream",
     "text": [
      "Loading [2] ../../../MedCAT/temp/model_packs/snomed2024_kch_trained_d4092ab9f5360973.zip\n",
      "Per annotations diff finding\n"
     ]
    },
    {
     "name": "stderr",
     "output_type": "stream",
     "text": [
      "100%|██████████| 60/60 [00:09<00:00,  6.53it/s]\n"
     ]
    },
    {
     "name": "stdout",
     "output_type": "stream",
     "text": [
      "Counting [1&2]\n"
     ]
    },
    {
     "name": "stderr",
     "output_type": "stream",
     "text": [
      "100%|██████████| 60/60 [00:00<00:00, 10632.40it/s]\n"
     ]
    },
    {
     "name": "stdout",
     "output_type": "stream",
     "text": [
      "CDB compare\n"
     ]
    },
    {
     "name": "stderr",
     "output_type": "stream",
     "text": [
      "keys: 100%|██████████| 794151/794151 [00:01<00:00, 557600.58it/s]\n",
      "keys: 100%|██████████| 794151/794151 [00:02<00:00, 308384.42it/s]\n"
     ]
    }
   ],
   "source": [
    "from compare import get_diffs_for\n",
    "from output import parse_and_show, show_dict_deep, compare_dicts\n",
    "\n",
    "cdb_comp, tally1, tally2, ann_diffs = get_diffs_for(model_path_1, model_path_2, documents_file, cui_filter=cui_filter, include_children_in_filter=filter_children,\n",
    "                                                    supervised_train_comparison_model=is_mct_export_compare)"
   ]
  },
  {
   "cell_type": "markdown",
   "metadata": {},
   "source": [
    "For now, we'll use the common parser/display method to dispaly an overview of the results.\n",
    "We can later look at more granual details as well."
   ]
  },
  {
   "cell_type": "code",
   "execution_count": 3,
   "metadata": {},
   "outputs": [
    {
     "name": "stdout",
     "output_type": "stream",
     "text": [
      "CDB overall differences:\n"
     ]
    },
    {
     "data": {
      "text/markdown": [
       "| Path | Value | [Optional] Comparison |\n",
       "| ----- | ----- | ----- |\n",
       "| names.keys.joint                         | 752042                                   |                                          |\n",
       "| names.keys.total                         | 760283                                   | 785910                                   |\n",
       "| names.keys.not_in_                       | 33868                                    | 8241                                     |\n",
       "| names.values.joint                       | 2327941                                  |                                          |\n",
       "| names.values.total                       | 3149859                                  | 2510372                                  |\n",
       "| names.values.unique_in_                  | 752906                                   | 152108                                   |\n",
       "| names.values.not_in_                     | 170834                                   | 810321                                   |\n",
       "| snames.keys.joint                        | 752042                                   |                                          |\n",
       "| snames.keys.total                        | 760283                                   | 785910                                   |\n",
       "| snames.keys.not_in_                      | 33868                                    | 8241                                     |\n",
       "| snames.values.joint                      | 5094031                                  |                                          |\n",
       "| snames.values.total                      | 13486640                                 | 11958247                                 |\n",
       "| snames.values.unique_in_                 | 1565939                                  | 349022                                   |\n",
       "| snames.values.not_in_                    | 670099                                   | 2198492                                  |"
      ],
      "text/plain": [
       "<IPython.core.display.Markdown object>"
      ]
     },
     "metadata": {},
     "output_type": "display_data"
    },
    {
     "name": "stdout",
     "output_type": "stream",
     "text": [
      "Now tally differences\n"
     ]
    },
    {
     "data": {
      "text/markdown": [
       "| Path | First | Second |\n",
       "| ----- | ----- | ----- |\n",
       "| pt2ch (Dict[str, Set])                   | 352226 keys (mean 2.0 values per key)    | 147466 keys (mean 2.0 values per key)    |\n",
       "| cat_data                                 | {'Number of concepts': 760283, 'Number of names': 3080845, 'Number of concepts that received training': 38460, 'Number of seen training examples in total': 153875883, 'Average training examples per concept': 4000.932995319813} | {'Number of concepts': 785910, 'Number of names': 2480049, 'Number of concepts that received training': 373727, 'Number of seen training examples in total': 1474910653, 'Average training examples per concept': 3946.492099848285} |\n",
       "| per_cui_count (Dict[str, int])           | 621 keys (total 2220 in value)           | 584 keys (total 2162 in value)           |\n",
       "| per_cui_acc (Dict[str, float])           | 621 keys (mean 0.9029113037725474 in value) | 584 keys (mean 0.963999005716541 in value) |\n",
       "| per_cui_forms (Dict[str, Set])           | 621 keys (mean 2.0 values per key)       | 584 keys (mean 2.0 values per key)       |\n",
       "| per_type_counts (Dict[str, int])         | 25 keys (total 2220 in value)            | 24 keys (total 2162 in value)            |\n",
       "| total_count                              | 2220                                     | 2162                                     |"
      ],
      "text/plain": [
       "<IPython.core.display.Markdown object>"
      ]
     },
     "metadata": {},
     "output_type": "display_data"
    },
    {
     "name": "stdout",
     "output_type": "stream",
     "text": [
      "Now per-annotation differences:\n"
     ]
    },
    {
     "data": {
      "text/markdown": [
       "| Path | Value | [Optional] Comparison |\n",
       "| ----- | ----- | ----- |\n",
       "| IDENTICAL                                | 1406                                     |                                          |\n",
       "| FIRST_HAS                                | 419                                      |                                          |\n",
       "| SECOND_HAS                               | 361                                      |                                          |\n",
       "| SAME_SPAN_DIFF_CONCEPT                   | 183                                      |                                          |\n",
       "| SAME_GRANDPARENT                         | 1                                        |                                          |\n",
       "| OVERLAPP_1ST_LARGER_DIFF_CONCEPT         | 129                                      |                                          |\n",
       "| SAME_SPAN_CONCEPT_NOT_IN_2ND             | 18                                       |                                          |\n",
       "| SAME_PARENT                              | 38                                       |                                          |\n",
       "| OVERLAPP_2ND_LARGER_DIFF_CONCEPT         | 14                                       |                                          |\n",
       "| OVERLAPP_1ST_LARGER_SAME_CONCEPT         | 9                                        |                                          |\n",
       "| SAME_SPAN_CONCEPT_NOT_IN_1ST             | 3                                        |                                          |"
      ],
      "text/plain": [
       "<IPython.core.display.Markdown object>"
      ]
     },
     "metadata": {},
     "output_type": "display_data"
    }
   ],
   "source": [
    "# show results\n",
    "parse_and_show(cdb_comp, tally1, tally2, ann_diffs)"
   ]
  },
  {
   "cell_type": "markdown",
   "metadata": {},
   "source": [
    "## More granual details (per document view)\n",
    "\n",
    "The above does not give us all the information we need.\n",
    "For instance, we may also want to compare the performance accross some documents.\n",
    "We can do so as follows."
   ]
  },
  {
   "cell_type": "code",
   "execution_count": 4,
   "metadata": {},
   "outputs": [
    {
     "name": "stdout",
     "output_type": "stream",
     "text": [
      "==================== \n",
      "doc_0 \n",
      "====================\n"
     ]
    },
    {
     "data": {
      "text/markdown": [
       "| Path | Value | [Optional] Comparison |\n",
       "| ----- | ----- | ----- |\n",
       "| IDENTICAL                                | 41                                       |                                          |\n",
       "| FIRST_HAS                                | 6                                        |                                          |\n",
       "| SECOND_HAS                               | 6                                        |                                          |\n",
       "| SAME_SPAN_DIFF_CONCEPT                   | 3                                        |                                          |\n",
       "| SAME_GRANDPARENT                         | 1                                        |                                          |\n",
       "| OVERLAPP_1ST_LARGER_DIFF_CONCEPT         | 4                                        |                                          |"
      ],
      "text/plain": [
       "<IPython.core.display.Markdown object>"
      ]
     },
     "metadata": {},
     "output_type": "display_data"
    },
    {
     "name": "stdout",
     "output_type": "stream",
     "text": [
      "==================== \n",
      "doc_1 \n",
      "====================\n"
     ]
    },
    {
     "data": {
      "text/markdown": [
       "| Path | Value | [Optional] Comparison |\n",
       "| ----- | ----- | ----- |\n",
       "| IDENTICAL                                | 28                                       |                                          |\n",
       "| FIRST_HAS                                | 10                                       |                                          |\n",
       "| SECOND_HAS                               | 5                                        |                                          |\n",
       "| SAME_SPAN_CONCEPT_NOT_IN_2ND             | 1                                        |                                          |\n",
       "| OVERLAPP_1ST_LARGER_DIFF_CONCEPT         | 3                                        |                                          |\n",
       "| SAME_SPAN_DIFF_CONCEPT                   | 3                                        |                                          |\n",
       "| SAME_PARENT                              | 2                                        |                                          |\n",
       "| OVERLAPP_2ND_LARGER_DIFF_CONCEPT         | 1                                        |                                          |"
      ],
      "text/plain": [
       "<IPython.core.display.Markdown object>"
      ]
     },
     "metadata": {},
     "output_type": "display_data"
    },
    {
     "name": "stdout",
     "output_type": "stream",
     "text": [
      "==================== \n",
      "doc_2 \n",
      "====================\n"
     ]
    },
    {
     "data": {
      "text/markdown": [
       "| Path | Value | [Optional] Comparison |\n",
       "| ----- | ----- | ----- |\n",
       "| IDENTICAL                                | 33                                       |                                          |\n",
       "| FIRST_HAS                                | 6                                        |                                          |\n",
       "| SECOND_HAS                               | 6                                        |                                          |\n",
       "| OVERLAPP_1ST_LARGER_DIFF_CONCEPT         | 2                                        |                                          |\n",
       "| SAME_SPAN_DIFF_CONCEPT                   | 2                                        |                                          |\n",
       "| SAME_PARENT                              | 1                                        |                                          |"
      ],
      "text/plain": [
       "<IPython.core.display.Markdown object>"
      ]
     },
     "metadata": {},
     "output_type": "display_data"
    },
    {
     "name": "stdout",
     "output_type": "stream",
     "text": [
      "==================== \n",
      "doc_3 \n",
      "====================\n"
     ]
    },
    {
     "data": {
      "text/markdown": [
       "| Path | Value | [Optional] Comparison |\n",
       "| ----- | ----- | ----- |\n",
       "| IDENTICAL                                | 26                                       |                                          |\n",
       "| FIRST_HAS                                | 5                                        |                                          |\n",
       "| OVERLAPP_1ST_LARGER_SAME_CONCEPT         | 2                                        |                                          |\n",
       "| SECOND_HAS                               | 10                                       |                                          |\n",
       "| SAME_SPAN_CONCEPT_NOT_IN_2ND             | 1                                        |                                          |\n",
       "| SAME_SPAN_DIFF_CONCEPT                   | 10                                       |                                          |\n",
       "| OVERLAPP_1ST_LARGER_DIFF_CONCEPT         | 3                                        |                                          |"
      ],
      "text/plain": [
       "<IPython.core.display.Markdown object>"
      ]
     },
     "metadata": {},
     "output_type": "display_data"
    },
    {
     "name": "stdout",
     "output_type": "stream",
     "text": [
      "==================== \n",
      "doc_4 \n",
      "====================\n"
     ]
    },
    {
     "data": {
      "text/markdown": [
       "| Path | Value | [Optional] Comparison |\n",
       "| ----- | ----- | ----- |\n",
       "| IDENTICAL                                | 25                                       |                                          |\n",
       "| FIRST_HAS                                | 6                                        |                                          |\n",
       "| OVERLAPP_1ST_LARGER_SAME_CONCEPT         | 1                                        |                                          |\n",
       "| SECOND_HAS                               | 6                                        |                                          |\n",
       "| SAME_SPAN_CONCEPT_NOT_IN_2ND             | 1                                        |                                          |\n",
       "| SAME_SPAN_CONCEPT_NOT_IN_1ST             | 1                                        |                                          |\n",
       "| SAME_SPAN_DIFF_CONCEPT                   | 2                                        |                                          |\n",
       "| OVERLAPP_1ST_LARGER_DIFF_CONCEPT         | 3                                        |                                          |"
      ],
      "text/plain": [
       "<IPython.core.display.Markdown object>"
      ]
     },
     "metadata": {},
     "output_type": "display_data"
    },
    {
     "name": "stdout",
     "output_type": "stream",
     "text": [
      "==================== \n",
      "doc_5 \n",
      "====================\n"
     ]
    },
    {
     "data": {
      "text/markdown": [
       "| Path | Value | [Optional] Comparison |\n",
       "| ----- | ----- | ----- |\n",
       "| IDENTICAL                                | 29                                       |                                          |\n",
       "| FIRST_HAS                                | 6                                        |                                          |\n",
       "| SECOND_HAS                               | 6                                        |                                          |\n",
       "| OVERLAPP_2ND_LARGER_DIFF_CONCEPT         | 1                                        |                                          |\n",
       "| OVERLAPP_1ST_LARGER_DIFF_CONCEPT         | 1                                        |                                          |\n",
       "| SAME_SPAN_DIFF_CONCEPT                   | 2                                        |                                          |"
      ],
      "text/plain": [
       "<IPython.core.display.Markdown object>"
      ]
     },
     "metadata": {},
     "output_type": "display_data"
    },
    {
     "name": "stdout",
     "output_type": "stream",
     "text": [
      "==================== \n",
      "doc_6 \n",
      "====================\n"
     ]
    },
    {
     "data": {
      "text/markdown": [
       "| Path | Value | [Optional] Comparison |\n",
       "| ----- | ----- | ----- |\n",
       "| IDENTICAL                                | 28                                       |                                          |\n",
       "| FIRST_HAS                                | 9                                        |                                          |\n",
       "| SECOND_HAS                               | 6                                        |                                          |\n",
       "| SAME_SPAN_DIFF_CONCEPT                   | 2                                        |                                          |\n",
       "| SAME_SPAN_CONCEPT_NOT_IN_2ND             | 1                                        |                                          |\n",
       "| SAME_PARENT                              | 1                                        |                                          |\n",
       "| OVERLAPP_1ST_LARGER_DIFF_CONCEPT         | 1                                        |                                          |"
      ],
      "text/plain": [
       "<IPython.core.display.Markdown object>"
      ]
     },
     "metadata": {},
     "output_type": "display_data"
    },
    {
     "name": "stdout",
     "output_type": "stream",
     "text": [
      "==================== \n",
      "doc_7 \n",
      "====================\n"
     ]
    },
    {
     "data": {
      "text/markdown": [
       "| Path | Value | [Optional] Comparison |\n",
       "| ----- | ----- | ----- |\n",
       "| IDENTICAL                                | 28                                       |                                          |\n",
       "| FIRST_HAS                                | 7                                        |                                          |\n",
       "| OVERLAPP_1ST_LARGER_SAME_CONCEPT         | 1                                        |                                          |\n",
       "| SECOND_HAS                               | 4                                        |                                          |\n",
       "| SAME_SPAN_CONCEPT_NOT_IN_2ND             | 1                                        |                                          |\n",
       "| OVERLAPP_1ST_LARGER_DIFF_CONCEPT         | 1                                        |                                          |\n",
       "| SAME_SPAN_DIFF_CONCEPT                   | 2                                        |                                          |\n",
       "| OVERLAPP_2ND_LARGER_DIFF_CONCEPT         | 1                                        |                                          |"
      ],
      "text/plain": [
       "<IPython.core.display.Markdown object>"
      ]
     },
     "metadata": {},
     "output_type": "display_data"
    },
    {
     "name": "stdout",
     "output_type": "stream",
     "text": [
      "==================== \n",
      "doc_8 \n",
      "====================\n"
     ]
    },
    {
     "data": {
      "text/markdown": [
       "| Path | Value | [Optional] Comparison |\n",
       "| ----- | ----- | ----- |\n",
       "| IDENTICAL                                | 24                                       |                                          |\n",
       "| FIRST_HAS                                | 6                                        |                                          |\n",
       "| SECOND_HAS                               | 7                                        |                                          |\n",
       "| OVERLAPP_1ST_LARGER_DIFF_CONCEPT         | 2                                        |                                          |\n",
       "| SAME_SPAN_DIFF_CONCEPT                   | 3                                        |                                          |"
      ],
      "text/plain": [
       "<IPython.core.display.Markdown object>"
      ]
     },
     "metadata": {},
     "output_type": "display_data"
    },
    {
     "name": "stdout",
     "output_type": "stream",
     "text": [
      "==================== \n",
      "doc_9 \n",
      "====================\n"
     ]
    },
    {
     "data": {
      "text/markdown": [
       "| Path | Value | [Optional] Comparison |\n",
       "| ----- | ----- | ----- |\n",
       "| IDENTICAL                                | 12                                       |                                          |\n",
       "| FIRST_HAS                                | 4                                        |                                          |\n",
       "| SECOND_HAS                               | 6                                        |                                          |\n",
       "| SAME_SPAN_DIFF_CONCEPT                   | 1                                        |                                          |"
      ],
      "text/plain": [
       "<IPython.core.display.Markdown object>"
      ]
     },
     "metadata": {},
     "output_type": "display_data"
    }
   ],
   "source": [
    "# you can play with individual parts as well.\n",
    "# for example, isolate a specific document\n",
    "ann_diffs.per_doc_results.keys()\n",
    "\n",
    "for key in list(ann_diffs.per_doc_results.keys())[0:10]:\n",
    "    print('='*20,f'\\n{key}', f'\\n{\"=\"*20}')\n",
    "    show_dict_deep(ann_diffs.per_doc_results[key].nr_of_comparisons)"
   ]
  },
  {
   "cell_type": "markdown",
   "metadata": {},
   "source": [
    "# Saving annotation output to CSV file\n",
    "You can also save the annotation output to a .csv file. That file inclues the following columns:\n",
    "```\n",
    "doc_id  text    ann1    ann2\n",
    "```\n",
    "where `doc_id` refers to the ID of the document in question, `text` is the relevant text around the specific annotation, `ann1` is the annotation json for model 1 (if present), and `ann2` is the annotation json for model 2 (if present).\n",
    "\n",
    "*Note:* One of the annotations may not be present. This is the case if one of the models did not annotate that specific span."
   ]
  },
  {
   "cell_type": "code",
   "execution_count": 5,
   "metadata": {},
   "outputs": [],
   "source": [
    "ann_diffs.to_csv(\"23vs24_annotations.csv\")"
   ]
  },
  {
   "cell_type": "markdown",
   "metadata": {},
   "source": [
    "## More granual details (per cui view)\n",
    "\n",
    "We may also want to look at how we did for a specific CUI.\n",
    "This is how we can do that."
   ]
  },
  {
   "cell_type": "code",
   "execution_count": 6,
   "metadata": {},
   "outputs": [
    {
     "data": {
      "text/markdown": [
       "| Path | First | Second |\n",
       "| ----- | ----- | ----- |\n",
       "| name                                     | Headache (and 76 children)               | Headache (and 96 children)               |\n",
       "| count                                    | 12                                       | 18                                       |\n",
       "| acc                                      | 3.0                                      | 3.0                                      |\n",
       "| forms                                    | 3                                        | 3                                        |"
      ],
      "text/plain": [
       "<IPython.core.display.Markdown object>"
      ]
     },
     "metadata": {},
     "output_type": "display_data"
    }
   ],
   "source": [
    "# cui = '37151006'  # Erythromelalgia\n",
    "cui = '25064002'  # headache\n",
    "per_cui1 = tally1.get_for_cui(cui, include_children=2)\n",
    "per_cui2 = tally2.get_for_cui(cui, include_children=2)\n",
    "compare_dicts(per_cui1, per_cui2)"
   ]
  },
  {
   "cell_type": "markdown",
   "metadata": {},
   "source": [
    "## More granual details (per annotation view)\n",
    "Sometimes we may want to look at things on a per annotation basis as well.\n",
    "That is, we want to look at some annotations and compare them between the two models."
   ]
  },
  {
   "cell_type": "code",
   "execution_count": 7,
   "metadata": {},
   "outputs": [
    {
     "name": "stdout",
     "output_type": "stream",
     "text": [
      "==================== \n",
      "doc_2 (AnnotationComparisonType.FIRST_HAS) \n",
      "====================\n"
     ]
    },
    {
     "data": {
      "text/markdown": [
       "| Path | First | Second |\n",
       "| ----- | ----- | ----- |\n",
       "| pretty_name                              | Genus Quercus                            |                                          |\n",
       "| cui                                      | 53347009                                 |                                          |\n",
       "| type_ids                                 | ['81102976']                             |                                          |\n",
       "| types                                    | ['']                                     |                                          |\n",
       "| source_value                             | Oak                                      |                                          |\n",
       "| detected_name                            | oak                                      |                                          |\n",
       "| acc                                      | 0.6368384509248382                       |                                          |\n",
       "| context_similarity                       | 0.6368384509248382                       |                                          |\n",
       "| start                                    | 43                                       |                                          |\n",
       "| end                                      | 46                                       |                                          |\n",
       "| icd10                                    | []                                       |                                          |\n",
       "| ontologies                               | ['20220803_SNOMED_UK_CLINICAL_EXT']      |                                          |\n",
       "| snomed                                   | []                                       |                                          |\n",
       "| id                                       | 3                                        |                                          |\n",
       "| meta_anns (Dict[str, dict])              | 3                                        | 0                                        |\n",
       "| start-raw                                | 43                                       |                                          |\n",
       "| end-raw                                  | 46                                       |                                          |"
      ],
      "text/plain": [
       "<IPython.core.display.Markdown object>"
      ]
     },
     "metadata": {},
     "output_type": "display_data"
    },
    {
     "name": "stdout",
     "output_type": "stream",
     "text": [
      "==================== \n",
      "doc_2 (AnnotationComparisonType.FIRST_HAS) \n",
      "====================\n"
     ]
    },
    {
     "data": {
      "text/markdown": [
       "| Path | First | Second |\n",
       "| ----- | ----- | ----- |\n",
       "| pretty_name                              | Milliliter                               |                                          |\n",
       "| cui                                      | 258773002                                |                                          |\n",
       "| type_ids                                 | ['7882689']                              |                                          |\n",
       "| types                                    | ['']                                     |                                          |\n",
       "| source_value                             | CC                                       |                                          |\n",
       "| detected_name                            | cc                                       |                                          |\n",
       "| acc                                      | 0.5504460208011586                       |                                          |\n",
       "| context_similarity                       | 0.5504460208011586                       |                                          |\n",
       "| start                                    | 68                                       |                                          |\n",
       "| end                                      | 70                                       |                                          |\n",
       "| icd10                                    | []                                       |                                          |\n",
       "| ontologies                               | ['20220803_SNOMED_UK_CLINICAL_EXT']      |                                          |\n",
       "| snomed                                   | []                                       |                                          |\n",
       "| id                                       | 5                                        |                                          |\n",
       "| meta_anns (Dict[str, dict])              | 3                                        | 0                                        |\n",
       "| start-raw                                | 68                                       |                                          |\n",
       "| end-raw                                  | 70                                       |                                          |"
      ],
      "text/plain": [
       "<IPython.core.display.Markdown object>"
      ]
     },
     "metadata": {},
     "output_type": "display_data"
    },
    {
     "name": "stdout",
     "output_type": "stream",
     "text": [
      "==================== \n",
      "doc_2 (AnnotationComparisonType.SECOND_HAS) \n",
      "====================\n"
     ]
    },
    {
     "data": {
      "text/markdown": [
       "| Path | First | Second |\n",
       "| ----- | ----- | ----- |\n",
       "| pretty_name                              |                                          | Acute bronchitis                         |\n",
       "| cui                                      |                                          | 10509002                                 |\n",
       "| type_ids                                 |                                          | ['9090192']                              |\n",
       "| types                                    |                                          | ['disorder']                             |\n",
       "| source_value                             |                                          | Acute bronchitis                         |\n",
       "| detected_name                            |                                          | acute~bronchitis                         |\n",
       "| acc                                      |                                          | 1.0                                      |\n",
       "| context_similarity                       |                                          | 1.0                                      |\n",
       "| start                                    |                                          | 72                                       |\n",
       "| end                                      |                                          | 88                                       |\n",
       "| icd10                                    |                                          | ['J205', 'J206', 'J208', 'J202', 'J207', 'J200', 'J201', 'J700', 'J209', 'J203', 'J204', 'J680'] |\n",
       "| ontologies                               |                                          | ['SNOMED-CT']                            |\n",
       "| snomed                                   |                                          | []                                       |\n",
       "| id                                       |                                          | 6                                        |\n",
       "| meta_anns (Dict[str, dict])              | 0                                        | 0                                        |\n",
       "| start-raw                                |                                          | 72                                       |\n",
       "| end-raw                                  |                                          | 88                                       |"
      ],
      "text/plain": [
       "<IPython.core.display.Markdown object>"
      ]
     },
     "metadata": {},
     "output_type": "display_data"
    },
    {
     "name": "stdout",
     "output_type": "stream",
     "text": [
      "==================== \n",
      "doc_2 (AnnotationComparisonType.FIRST_HAS) \n",
      "====================\n"
     ]
    },
    {
     "data": {
      "text/markdown": [
       "| Path | First | Second |\n",
       "| ----- | ----- | ----- |\n",
       "| pretty_name                              | History of (contextual qualifier)        |                                          |\n",
       "| cui                                      | 392521001                                |                                          |\n",
       "| type_ids                                 | ['7882689']                              |                                          |\n",
       "| types                                    | ['']                                     |                                          |\n",
       "| source_value                             | HX                                       |                                          |\n",
       "| detected_name                            | hx                                       |                                          |\n",
       "| acc                                      | 1.0                                      |                                          |\n",
       "| context_similarity                       | 1.0                                      |                                          |\n",
       "| start                                    | 90                                       |                                          |\n",
       "| end                                      | 92                                       |                                          |\n",
       "| icd10                                    | []                                       |                                          |\n",
       "| ontologies                               | ['20220803_SNOMED_UK_CLINICAL_EXT']      |                                          |\n",
       "| snomed                                   | []                                       |                                          |\n",
       "| id                                       | 9                                        |                                          |\n",
       "| meta_anns (Dict[str, dict])              | 3                                        | 0                                        |\n",
       "| start-raw                                | 90                                       |                                          |\n",
       "| end-raw                                  | 92                                       |                                          |"
      ],
      "text/plain": [
       "<IPython.core.display.Markdown object>"
      ]
     },
     "metadata": {},
     "output_type": "display_data"
    },
    {
     "name": "stdout",
     "output_type": "stream",
     "text": [
      "==================== \n",
      "doc_2 (AnnotationComparisonType.SECOND_HAS) \n",
      "====================\n"
     ]
    },
    {
     "data": {
      "text/markdown": [
       "| Path | First | Second |\n",
       "| ----- | ----- | ----- |\n",
       "| pretty_name                              |                                          | year                                     |\n",
       "| cui                                      |                                          | 258707000                                |\n",
       "| type_ids                                 |                                          | ['7882689']                              |\n",
       "| types                                    |                                          | ['qualifier value']                      |\n",
       "| source_value                             |                                          | year                                     |\n",
       "| detected_name                            |                                          | year                                     |\n",
       "| acc                                      |                                          | 0.99                                     |\n",
       "| context_similarity                       |                                          | 0.99                                     |\n",
       "| start                                    |                                          | 114                                      |\n",
       "| end                                      |                                          | 118                                      |\n",
       "| icd10                                    |                                          | []                                       |\n",
       "| ontologies                               |                                          | ['SNOMED-CT']                            |\n",
       "| snomed                                   |                                          | []                                       |\n",
       "| id                                       |                                          | 9                                        |\n",
       "| meta_anns (Dict[str, dict])              | 0                                        | 0                                        |\n",
       "| start-raw                                |                                          | 114                                      |\n",
       "| end-raw                                  |                                          | 118                                      |"
      ],
      "text/plain": [
       "<IPython.core.display.Markdown object>"
      ]
     },
     "metadata": {},
     "output_type": "display_data"
    },
    {
     "name": "stdout",
     "output_type": "stream",
     "text": [
      "==================== \n",
      "doc_2 (AnnotationComparisonType.SECOND_HAS) \n",
      "====================\n"
     ]
    },
    {
     "data": {
      "text/markdown": [
       "| Path | First | Second |\n",
       "| ----- | ----- | ----- |\n",
       "| pretty_name                              |                                          | Old episode                              |\n",
       "| cui                                      |                                          | 272131007                                |\n",
       "| type_ids                                 |                                          | ['7882689']                              |\n",
       "| types                                    |                                          | ['qualifier value']                      |\n",
       "| source_value                             |                                          | old                                      |\n",
       "| detected_name                            |                                          | old                                      |\n",
       "| acc                                      |                                          | 0.9644956622075471                       |\n",
       "| context_similarity                       |                                          | 0.9644956622075471                       |\n",
       "| start                                    |                                          | 119                                      |\n",
       "| end                                      |                                          | 122                                      |\n",
       "| icd10                                    |                                          | []                                       |\n",
       "| ontologies                               |                                          | ['SNOMED-CT']                            |\n",
       "| snomed                                   |                                          | []                                       |\n",
       "| id                                       |                                          | 10                                       |\n",
       "| meta_anns (Dict[str, dict])              | 0                                        | 0                                        |\n",
       "| start-raw                                |                                          | 119                                      |\n",
       "| end-raw                                  |                                          | 122                                      |"
      ],
      "text/plain": [
       "<IPython.core.display.Markdown object>"
      ]
     },
     "metadata": {},
     "output_type": "display_data"
    },
    {
     "name": "stdout",
     "output_type": "stream",
     "text": [
      "==================== \n",
      "doc_2 (AnnotationComparisonType.SECOND_HAS) \n",
      "====================\n"
     ]
    },
    {
     "data": {
      "text/markdown": [
       "| Path | First | Second |\n",
       "| ----- | ----- | ----- |\n",
       "| pretty_name                              |                                          | Male                                     |\n",
       "| cui                                      |                                          | 248153007                                |\n",
       "| type_ids                                 |                                          | ['67667581']                             |\n",
       "| types                                    |                                          | ['finding']                              |\n",
       "| source_value                             |                                          | male                                     |\n",
       "| detected_name                            |                                          | male                                     |\n",
       "| acc                                      |                                          | 0.99                                     |\n",
       "| context_similarity                       |                                          | 0.99                                     |\n",
       "| start                                    |                                          | 123                                      |\n",
       "| end                                      |                                          | 127                                      |\n",
       "| icd10                                    |                                          | ['#NC']                                  |\n",
       "| ontologies                               |                                          | ['SNOMED-CT']                            |\n",
       "| snomed                                   |                                          | []                                       |\n",
       "| id                                       |                                          | 11                                       |\n",
       "| meta_anns (Dict[str, dict])              | 0                                        | 0                                        |\n",
       "| start-raw                                |                                          | 123                                      |\n",
       "| end-raw                                  |                                          | 127                                      |"
      ],
      "text/plain": [
       "<IPython.core.display.Markdown object>"
      ]
     },
     "metadata": {},
     "output_type": "display_data"
    },
    {
     "name": "stdout",
     "output_type": "stream",
     "text": [
      "==================== \n",
      "doc_2 (AnnotationComparisonType.FIRST_HAS) \n",
      "====================\n"
     ]
    },
    {
     "data": {
      "text/markdown": [
       "| Path | First | Second |\n",
       "| ----- | ----- | ----- |\n",
       "| pretty_name                              | Presentation                             |                                          |\n",
       "| cui                                      | 246105001                                |                                          |\n",
       "| type_ids                                 | ['43039974']                             |                                          |\n",
       "| types                                    | ['']                                     |                                          |\n",
       "| source_value                             | presents                                 |                                          |\n",
       "| detected_name                            | present                                  |                                          |\n",
       "| acc                                      | 0.4530222896013254                       |                                          |\n",
       "| context_similarity                       | 0.4530222896013254                       |                                          |\n",
       "| start                                    | 132                                      |                                          |\n",
       "| end                                      | 140                                      |                                          |\n",
       "| icd10                                    | []                                       |                                          |\n",
       "| ontologies                               | ['20220803_SNOMED_UK_CLINICAL_EXT']      |                                          |\n",
       "| snomed                                   | []                                       |                                          |\n",
       "| id                                       | 15                                       |                                          |\n",
       "| meta_anns (Dict[str, dict])              | 3                                        | 0                                        |\n",
       "| start-raw                                | 132                                      |                                          |\n",
       "| end-raw                                  | 140                                      |                                          |"
      ],
      "text/plain": [
       "<IPython.core.display.Markdown object>"
      ]
     },
     "metadata": {},
     "output_type": "display_data"
    },
    {
     "name": "stdout",
     "output_type": "stream",
     "text": [
      "==================== \n",
      "doc_2 (AnnotationComparisonType.SECOND_HAS) \n",
      "====================\n"
     ]
    },
    {
     "data": {
      "text/markdown": [
       "| Path | First | Second |\n",
       "| ----- | ----- | ----- |\n",
       "| pretty_name                              |                                          | Report                                   |\n",
       "| cui                                      |                                          | 229059009                                |\n",
       "| type_ids                                 |                                          | ['90170645']                             |\n",
       "| types                                    |                                          | ['record artifact']                      |\n",
       "| source_value                             |                                          | reports                                  |\n",
       "| detected_name                            |                                          | report                                   |\n",
       "| acc                                      |                                          | 1.0                                      |\n",
       "| context_similarity                       |                                          | 1.0                                      |\n",
       "| start                                    |                                          | 179                                      |\n",
       "| end                                      |                                          | 186                                      |\n",
       "| icd10                                    |                                          | []                                       |\n",
       "| ontologies                               |                                          | ['SNOMED-CT']                            |\n",
       "| snomed                                   |                                          | []                                       |\n",
       "| id                                       |                                          | 15                                       |\n",
       "| meta_anns (Dict[str, dict])              | 0                                        | 0                                        |\n",
       "| start-raw                                |                                          | 179                                      |\n",
       "| end-raw                                  |                                          | 186                                      |"
      ],
      "text/plain": [
       "<IPython.core.display.Markdown object>"
      ]
     },
     "metadata": {},
     "output_type": "display_data"
    },
    {
     "name": "stdout",
     "output_type": "stream",
     "text": [
      "==================== \n",
      "doc_2 (AnnotationComparisonType.OVERLAPP_1ST_LARGER_DIFF_CONCEPT) \n",
      "====================\n"
     ]
    },
    {
     "data": {
      "text/markdown": [
       "| Path | First | Second |\n",
       "| ----- | ----- | ----- |\n",
       "| pretty_name                              | Productive cough                         | Cough                                    |\n",
       "| cui                                      | 28743005                                 | 49727002                                 |\n",
       "| type_ids                                 | ['67667581']                             | ['67667581']                             |\n",
       "| types                                    | ['']                                     | ['finding']                              |\n",
       "| source_value                             | cough productive                         | cough                                    |\n",
       "| detected_name                            | cough~productive                         | cough                                    |\n",
       "| acc                                      | 1.0                                      | 1.0                                      |\n",
       "| context_similarity                       | 1.0                                      | 1.0                                      |\n",
       "| start                                    | 189                                      | 189                                      |\n",
       "| end                                      | 205                                      | 194                                      |\n",
       "| icd10                                    | ['R05']                                  | ['R05X', 'J410', 'J111', 'F453', 'R042'] |\n",
       "| ontologies                               | ['20220803_SNOMED_UK_CLINICAL_EXT']      | ['SNOMED-CT']                            |\n",
       "| snomed                                   | []                                       | []                                       |\n",
       "| id                                       | 21                                       | 16                                       |\n",
       "| meta_anns (Dict[str, dict])              | 3                                        | 0                                        |\n",
       "| start-raw                                | 189                                      | 189                                      |\n",
       "| end-raw                                  | 205                                      | 194                                      |"
      ],
      "text/plain": [
       "<IPython.core.display.Markdown object>"
      ]
     },
     "metadata": {},
     "output_type": "display_data"
    },
    {
     "name": "stdout",
     "output_type": "stream",
     "text": [
      "==================== \n",
      "doc_2 (AnnotationComparisonType.SAME_SPAN_DIFF_CONCEPT) \n",
      "====================\n"
     ]
    },
    {
     "data": {
      "text/markdown": [
       "| Path | First | Second |\n",
       "| ----- | ----- | ----- |\n",
       "| pretty_name                              | In the past                              | Past                                     |\n",
       "| cui                                      | 410513005                                | 716861000000108                          |\n",
       "| type_ids                                 | ['7882689']                              | ['90170645']                             |\n",
       "| types                                    | ['']                                     | ['record artifact']                      |\n",
       "| source_value                             | past                                     | past                                     |\n",
       "| detected_name                            | past                                     | past                                     |\n",
       "| acc                                      | 0.915658888260423                        | 0.99                                     |\n",
       "| context_similarity                       | 0.915658888260423                        | 0.99                                     |\n",
       "| start                                    | 200                                      | 200                                      |\n",
       "| end                                      | 204                                      | 204                                      |\n",
       "| icd10                                    | []                                       | []                                       |\n",
       "| ontologies                               | ['20220803_SNOMED_UK_CLINICAL_EXT']      | ['SNOMED-CT']                            |\n",
       "| snomed                                   | []                                       | []                                       |\n",
       "| id                                       | 31                                       | 26                                       |\n",
       "| meta_anns (Dict[str, dict])              | 3                                        | 0                                        |\n",
       "| start-raw                                | 278                                      | 278                                      |\n",
       "| end-raw                                  | 282                                      | 282                                      |"
      ],
      "text/plain": [
       "<IPython.core.display.Markdown object>"
      ]
     },
     "metadata": {},
     "output_type": "display_data"
    },
    {
     "name": "stdout",
     "output_type": "stream",
     "text": [
      "==================== \n",
      "doc_2 (AnnotationComparisonType.FIRST_HAS) \n",
      "====================\n"
     ]
    },
    {
     "data": {
      "text/markdown": [
       "| Path | First | Second |\n",
       "| ----- | ----- | ----- |\n",
       "| pretty_name                              | Mitral valve regurgitation               |                                          |\n",
       "| cui                                      | 48724000                                 |                                          |\n",
       "| type_ids                                 | ['9090192']                              |                                          |\n",
       "| types                                    | ['']                                     |                                          |\n",
       "| source_value                             | Mr                                       |                                          |\n",
       "| detected_name                            | mr                                       |                                          |\n",
       "| acc                                      | 0.3131859075574164                       |                                          |\n",
       "| context_similarity                       | 0.3131859075574164                       |                                          |\n",
       "| start                                    | 200                                      |                                          |\n",
       "| end                                      | 202                                      |                                          |\n",
       "| icd10                                    | ['I34.0']                                |                                          |\n",
       "| ontologies                               | ['20220803_SNOMED_UK_CLINICAL_EXT']      |                                          |\n",
       "| snomed                                   | []                                       |                                          |\n",
       "| id                                       | 36                                       |                                          |\n",
       "| meta_anns (Dict[str, dict])              | 3                                        | 0                                        |\n",
       "| start-raw                                | 341                                      |                                          |\n",
       "| end-raw                                  | 343                                      |                                          |"
      ],
      "text/plain": [
       "<IPython.core.display.Markdown object>"
      ]
     },
     "metadata": {},
     "output_type": "display_data"
    },
    {
     "name": "stdout",
     "output_type": "stream",
     "text": [
      "==================== \n",
      "doc_2 (AnnotationComparisonType.SECOND_HAS) \n",
      "====================\n"
     ]
    },
    {
     "data": {
      "text/markdown": [
       "| Path | First | Second |\n",
       "| ----- | ----- | ----- |\n",
       "| pretty_name                              |                                          | Medical                                  |\n",
       "| cui                                      |                                          | 74188005                                 |\n",
       "| type_ids                                 |                                          | ['7882689']                              |\n",
       "| types                                    |                                          | ['qualifier value']                      |\n",
       "| source_value                             |                                          | medical                                  |\n",
       "| detected_name                            |                                          | medical                                  |\n",
       "| acc                                      |                                          | 1.0                                      |\n",
       "| context_similarity                       |                                          | 1.0                                      |\n",
       "| start                                    |                                          | 200                                      |\n",
       "| end                                      |                                          | 207                                      |\n",
       "| icd10                                    |                                          | []                                       |\n",
       "| ontologies                               |                                          | ['SNOMED-CT']                            |\n",
       "| snomed                                   |                                          | []                                       |\n",
       "| id                                       |                                          | 31                                       |\n",
       "| meta_anns (Dict[str, dict])              | 0                                        | 0                                        |\n",
       "| start-raw                                |                                          | 360                                      |\n",
       "| end-raw                                  |                                          | 367                                      |"
      ],
      "text/plain": [
       "<IPython.core.display.Markdown object>"
      ]
     },
     "metadata": {},
     "output_type": "display_data"
    },
    {
     "name": "stdout",
     "output_type": "stream",
     "text": [
      "==================== \n",
      "doc_2 (AnnotationComparisonType.FIRST_HAS) \n",
      "====================\n"
     ]
    },
    {
     "data": {
      "text/markdown": [
       "| Path | First | Second |\n",
       "| ----- | ----- | ----- |\n",
       "| pretty_name                              | Respiratory rate                         |                                          |\n",
       "| cui                                      | 86290005                                 |                                          |\n",
       "| type_ids                                 | ['2680757']                              |                                          |\n",
       "| types                                    | ['']                                     |                                          |\n",
       "| source_value                             | respiratory                              |                                          |\n",
       "| detected_name                            | respiratory                              |                                          |\n",
       "| acc                                      | 0.370196740030693                        |                                          |\n",
       "| context_similarity                       | 0.370196740030693                        |                                          |\n",
       "| start                                    | 200                                      |                                          |\n",
       "| end                                      | 211                                      |                                          |\n",
       "| icd10                                    | []                                       |                                          |\n",
       "| ontologies                               | ['20220803_SNOMED_UK_CLINICAL_EXT']      |                                          |\n",
       "| snomed                                   | []                                       |                                          |\n",
       "| id                                       | 50                                       |                                          |\n",
       "| meta_anns (Dict[str, dict])              | 3                                        | 0                                        |\n",
       "| start-raw                                | 497                                      |                                          |\n",
       "| end-raw                                  | 508                                      |                                          |"
      ],
      "text/plain": [
       "<IPython.core.display.Markdown object>"
      ]
     },
     "metadata": {},
     "output_type": "display_data"
    },
    {
     "name": "stdout",
     "output_type": "stream",
     "text": [
      "==================== \n",
      "doc_2 (AnnotationComparisonType.SAME_SPAN_DIFF_CONCEPT) \n",
      "====================\n"
     ]
    },
    {
     "data": {
      "text/markdown": [
       "| Path | First | Second |\n",
       "| ----- | ----- | ----- |\n",
       "| pretty_name                              | Disease                                  | Condition                                |\n",
       "| cui                                      | 64572001                                 | 260905004                                |\n",
       "| type_ids                                 | ['9090192']                              | ['43039974']                             |\n",
       "| types                                    | ['']                                     | ['attribute']                            |\n",
       "| source_value                             | conditions                               | conditions                               |\n",
       "| detected_name                            | condition                                | condition                                |\n",
       "| acc                                      | 0.5839914477394028                       | 1.0                                      |\n",
       "| context_similarity                       | 0.5839914477394028                       | 1.0                                      |\n",
       "| start                                    | 200                                      | 200                                      |\n",
       "| end                                      | 210                                      | 210                                      |\n",
       "| icd10                                    | ['']                                     | []                                       |\n",
       "| ontologies                               | ['20220803_SNOMED_UK_CLINICAL_EXT']      | ['SNOMED-CT']                            |\n",
       "| snomed                                   | []                                       | []                                       |\n",
       "| id                                       | 51                                       | 44                                       |\n",
       "| meta_anns (Dict[str, dict])              | 3                                        | 0                                        |\n",
       "| start-raw                                | 509                                      | 509                                      |\n",
       "| end-raw                                  | 519                                      | 519                                      |"
      ],
      "text/plain": [
       "<IPython.core.display.Markdown object>"
      ]
     },
     "metadata": {},
     "output_type": "display_data"
    },
    {
     "name": "stdout",
     "output_type": "stream",
     "text": [
      "==================== \n",
      "doc_2 (AnnotationComparisonType.OVERLAPP_1ST_LARGER_DIFF_CONCEPT) \n",
      "====================\n"
     ]
    },
    {
     "data": {
      "text/markdown": [
       "| Path | First | Second |\n",
       "| ----- | ----- | ----- |\n",
       "| pretty_name                              | Alcoholic beverage intake                | Substance with alcohol structure         |\n",
       "| cui                                      | 897148007                                | 53041004                                 |\n",
       "| type_ids                                 | ['2680757']                              | ['91187746']                             |\n",
       "| types                                    | ['']                                     | ['substance']                            |\n",
       "| source_value                             | alcohol consumption                      | alcohol                                  |\n",
       "| detected_name                            | alcohol~consumption                      | alcohol                                  |\n",
       "| acc                                      | 1.0                                      | 1.0                                      |\n",
       "| context_similarity                       | 1.0                                      | 1.0                                      |\n",
       "| start                                    | 200                                      | 200                                      |\n",
       "| end                                      | 219                                      | 207                                      |\n",
       "| icd10                                    | []                                       | []                                       |\n",
       "| ontologies                               | ['20220803_SNOMED_UK_CLINICAL_EXT']      | ['SNOMED-CT']                            |\n",
       "| snomed                                   | []                                       | []                                       |\n",
       "| id                                       | 64                                       | 55                                       |\n",
       "| meta_anns (Dict[str, dict])              | 3                                        | 0                                        |\n",
       "| start-raw                                | 596                                      | 596                                      |\n",
       "| end-raw                                  | 615                                      | 603                                      |"
      ],
      "text/plain": [
       "<IPython.core.display.Markdown object>"
      ]
     },
     "metadata": {},
     "output_type": "display_data"
    },
    {
     "name": "stdout",
     "output_type": "stream",
     "text": [
      "==================== \n",
      "doc_2 (AnnotationComparisonType.SAME_PARENT) \n",
      "====================\n"
     ]
    },
    {
     "data": {
      "text/markdown": [
       "| Path | First | Second |\n",
       "| ----- | ----- | ----- |\n",
       "| pretty_name                              | Physical examination procedure           | Examination - action                     |\n",
       "| cui                                      | 5880005                                  | 302199004                                |\n",
       "| type_ids                                 | ['28321150']                             | ['7882689']                              |\n",
       "| types                                    | ['']                                     | ['qualifier value']                      |\n",
       "| source_value                             | examination                              | examination                              |\n",
       "| detected_name                            | examination                              | examination                              |\n",
       "| acc                                      | 0.99                                     | 1.0                                      |\n",
       "| context_similarity                       | 0.99                                     | 1.0                                      |\n",
       "| start                                    | 200                                      | 200                                      |\n",
       "| end                                      | 211                                      | 211                                      |\n",
       "| icd10                                    | []                                       | []                                       |\n",
       "| ontologies                               | ['20220803_SNOMED_UK_CLINICAL_EXT']      | ['SNOMED-CT']                            |\n",
       "| snomed                                   | []                                       | []                                       |\n",
       "| id                                       | 66                                       | 57                                       |\n",
       "| meta_anns (Dict[str, dict])              | 3                                        | 0                                        |\n",
       "| start-raw                                | 628                                      | 628                                      |\n",
       "| end-raw                                  | 639                                      | 639                                      |"
      ],
      "text/plain": [
       "<IPython.core.display.Markdown object>"
      ]
     },
     "metadata": {},
     "output_type": "display_data"
    }
   ],
   "source": [
    "# we can iterate over annotation pairs.\n",
    "# we may optionally specify the documents we wish to look at\n",
    "# we will specify one document here so as to not generate too much output\n",
    "docs = ['doc_2']\n",
    "# by default, this will omit identical annotations\n",
    "# but this can be changed by setting omit_identical=False\n",
    "for doc_name, pair in ann_diffs.iter_ann_pairs(docs=docs, omit_identical=True):\n",
    "    print('='*20,f'\\n{doc_name} ({pair.comparison_type})', f'\\n{\"=\"*20}')\n",
    "    # NOTE: if only one of the two has an annotation, the other one will be None\n",
    "    #       the following will deal with that automatically, though\n",
    "    compare_dicts(pair.one, pair.two)"
   ]
  }
 ],
 "metadata": {
  "kernelspec": {
   "display_name": ".venv3.10.13",
   "language": "python",
   "name": "python3"
  },
  "language_info": {
   "codemirror_mode": {
    "name": "ipython",
    "version": 3
   },
   "file_extension": ".py",
   "mimetype": "text/x-python",
   "name": "python",
   "nbconvert_exporter": "python",
   "pygments_lexer": "ipython3",
   "version": "3.10.13"
  }
 },
 "nbformat": 4,
 "nbformat_minor": 2
}
