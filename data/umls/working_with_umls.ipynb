{
 "cells": [
  {
   "cell_type": "markdown",
   "metadata": {},
   "source": [
    "# Working with UMLS\n",
    "\n",
    "This scripts will walk you through how to:\n",
    "1) Download a specific version of UMLS\n",
    "\n",
    "2) Process the MRCONSO.RFF.ZIP files to a pandas df whcih you can then manipulate\n",
    "\n",
    "__Note:__ Keep in mind that the UMLS file sets are very large!"
   ]
  },
  {
   "cell_type": "markdown",
   "metadata": {},
   "source": [
    "## Part 1: Downloading UMLS"
   ]
  },
  {
   "cell_type": "code",
   "execution_count": null,
   "metadata": {
    "collapsed": true
   },
   "outputs": [],
   "source": [
    "import os\n",
    "from umls_downloader import download_umls"
   ]
  },
  {
   "cell_type": "code",
   "execution_count": null,
   "metadata": {},
   "outputs": [],
   "source": [
    "# Get this from https://uts.nlm.nih.gov/uts/edit-profile\n",
    "api_key = ''\n",
    "version = '2022AA' # Change this to the UMLS version that you require"
   ]
  },
  {
   "cell_type": "code",
   "execution_count": null,
   "metadata": {},
   "outputs": [],
   "source": [
    "path = download_umls(version=version, api_key=api_key)\n",
    "print(path) # This is where the UMLS files are now saved"
   ]
  },
  {
   "cell_type": "markdown",
   "metadata": {},
   "source": [
    "## Part 2: Working with UMLS\n",
    "\n",
    "The part of UMLS that we require is stored in the MRCONSO.RFF files. The file layout is as follows:\n",
    "\n",
    "__Concept Names and Sources (File = MRCONSO.RRF)__\n",
    "\n",
    "|Col.|Description|\n",
    "|---|---|\n",
    "|CUI|\tUnique identifier for concept|\n",
    "|LAT|\tLanguage of term|\n",
    "|TS|\tTerm status|\n",
    "|LUI|\tUnique identifier for term|\n",
    "|STT|\tString type|\n",
    "|SUI|\tUnique identifier for string|\n",
    "|ISPREF|\tAtom status - preferred (Y) or not (N) for this string within this concept|\n",
    "|AUI|\tUnique identifier for atom - variable length field, 8 or 9 characters|\n",
    "|SAUI|\tSource asserted atom identifier [optional]|\n",
    "|SCUI|\tSource asserted concept identifier [optional]|\n",
    "|SDUI|\tSource asserted descriptor identifier [optional]|\n",
    "|SAB|\tAbbreviated source name (SAB). Maximum field length is 20 alphanumeric characters. Two source abbreviations are assigned: Root Source Abbreviation (RSAB) — short form, no version information, for example, AI/RHEUM, 1993, has an RSAB of \"AIR\" Versioned Source Abbreviation (VSAB) — includes version information, for example, AI/RHEUM, 1993, has an VSAB of \"AIR93\" Official source names, RSABs, and VSABs are included on the UMLS Source Vocabulary Documentation page.\n",
    "|TTY|\tAbbreviation for term type in source vocabulary, for example PN (Metathesaurus Preferred Name) or CD (Clinical Drug). Possible values are listed on the Abbreviations Used in Data Elements page.|\n",
    "CODE|\tMost useful source asserted identifier (if the source vocabulary has more than one identifier), or a Metathesaurus-generated source entry identifier (if the source vocabulary has none)|\n",
    "|STR|\tString|\n",
    "|SRL|\tSource restriction level|\n",
    "|SUPPRESS|\tSuppressible flag. Values = O, E, Y, or N O: All obsolete content, whether they are obsolesced by the source or by NLM. These will include all atoms having obsolete TTYs, and other atoms becoming obsolete that have not acquired an obsolete TTY (e.g. RxNorm SCDs no longer associated with current drugs, LNC atoms derived from obsolete LNC concepts). E: Non-obsolete content marked suppressible by an editor. These do not have a suppressible SAB/TTY combination. Y: Non-obsolete content deemed suppressible during inversion. These can be determined by a specific SAB/TTY combination explicitly listed in MRRANK. N: None of the above. Default suppressibility as determined by NLM (i.e., no changes at the Suppressibility tab in MetamorphoSys) should be used by most users, but may not be suitable in some specialized applications. See the MetamorphoSys Help page for information on how to change the SAB/TTY suppressibility to suit your requirements. NLM strongly recommends that users not alter editor-assigned suppressibility, and MetamorphoSys cannot be used for this purpose.|\n",
    "|CVF|\tContent View Flag. Bit field used to flag rows included in Content View. This field is a varchar field to maximize the number of bits available for use.|"
   ]
  },
  {
   "cell_type": "code",
   "execution_count": null,
   "metadata": {},
   "outputs": [],
   "source": [
    "import zipfile\n",
    "import pandas as pd"
   ]
  },
  {
   "cell_type": "code",
   "execution_count": null,
   "metadata": {},
   "outputs": [],
   "source": [
    "umls_rows = []\n",
    "with zipfile.ZipFile(path) as zip_file:\n",
    "    with zip_file.open(\"MRCONSO.RRF\", mode=\"r\") as file:\n",
    "        for line in file:\n",
    "            umls_rows.append(line.decode('UTF-8').split('|')[:-1])"
   ]
  },
  {
   "cell_type": "code",
   "execution_count": null,
   "metadata": {},
   "outputs": [],
   "source": [
    "columns = [\n",
    "    \"CUI\",\n",
    "    \"LAT\",\n",
    "    \"TS\",\n",
    "    \"LUI\",\n",
    "    \"STT\",\n",
    "    \"SUI\",\n",
    "    \"ISPREF\",\n",
    "    \"AUI\",\n",
    "    \"SAUI\",\n",
    "    \"SCUI\",\n",
    "    \"SDUI\",\n",
    "    \"SAB\",\n",
    "    \"TTY\",\n",
    "    \"CODE\",\n",
    "    \"STR\",\n",
    "    \"SRL\",\n",
    "    \"SUPPRESS\",\n",
    "    \"CVF\",   \n",
    "]"
   ]
  },
  {
   "cell_type": "code",
   "execution_count": null,
   "metadata": {},
   "outputs": [],
   "source": [
    "umls_df = pd.DataFrame(columns=columns, data=umls_rows)"
   ]
  },
  {
   "cell_type": "code",
   "execution_count": null,
   "metadata": {},
   "outputs": [],
   "source": [
    "umls_df.head()"
   ]
  },
  {
   "cell_type": "markdown",
   "metadata": {},
   "source": [
    "Free free to now manipulate the dataframe as you would like!"
   ]
  },
  {
   "cell_type": "code",
   "execution_count": null,
   "metadata": {},
   "outputs": [],
   "source": []
  }
 ],
 "metadata": {
  "kernelspec": {
   "display_name": "Python 3",
   "language": "python",
   "name": "python3"
  },
  "language_info": {
   "codemirror_mode": {
    "name": "ipython",
    "version": 3
   },
   "file_extension": ".py",
   "mimetype": "text/x-python",
   "name": "python",
   "nbconvert_exporter": "python",
   "pygments_lexer": "ipython3",
   "version": "3.8.2"
  }
 },
 "nbformat": 4,
 "nbformat_minor": 1
}
